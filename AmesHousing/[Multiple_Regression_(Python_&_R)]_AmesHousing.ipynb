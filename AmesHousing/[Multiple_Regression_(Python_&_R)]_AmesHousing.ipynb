{
  "nbformat": 4,
  "nbformat_minor": 0,
  "metadata": {
    "colab": {
      "provenance": [],
      "include_colab_link": true
    },
    "kernelspec": {
      "display_name": "Python 3",
      "language": "python",
      "name": "python3"
    },
    "language_info": {
      "codemirror_mode": {
        "name": "ipython",
        "version": 3
      },
      "file_extension": ".py",
      "mimetype": "text/x-python",
      "name": "python",
      "nbconvert_exporter": "python",
      "pygments_lexer": "ipython3",
      "version": "3.8.5"
    }
  },
  "cells": [
    {
      "cell_type": "markdown",
      "metadata": {
        "id": "view-in-github",
        "colab_type": "text"
      },
      "source": [
        "<a href=\"https://colab.research.google.com/github/ashaykargaonkar/Projects/blob/main/AmesHousing/%5BMultiple_Regression_(Python_%26_R)%5D_AmesHousing.ipynb\" target=\"_parent\"><img src=\"https://colab.research.google.com/assets/colab-badge.svg\" alt=\"Open In Colab\"/></a>"
      ]
    },
    {
      "cell_type": "code",
      "metadata": {
        "id": "mTsJipu2gCBC"
      },
      "source": [
        "import numpy as np\n",
        "import matplotlib.pyplot as plt\n",
        "import pandas as pd"
      ],
      "execution_count": null,
      "outputs": []
    },
    {
      "cell_type": "code",
      "metadata": {
        "colab": {
          "base_uri": "https://localhost:8080/"
        },
        "id": "-KQeNDhegCBC",
        "outputId": "3fd66f53-d9cc-4a56-dfd8-d56e74f9f257"
      },
      "source": [
        "train = pd.read_csv('train.csv')\n",
        "train.shape"
      ],
      "execution_count": null,
      "outputs": [
        {
          "output_type": "execute_result",
          "data": {
            "text/plain": [
              "(1460, 81)"
            ]
          },
          "metadata": {},
          "execution_count": 2
        }
      ]
    },
    {
      "cell_type": "code",
      "source": [
        "#X = dataset.drop(['SalePrice'], axis=1)\n",
        "#y = dataset['SalePrice']"
      ],
      "metadata": {
        "id": "72jKzhlApkik"
      },
      "execution_count": null,
      "outputs": []
    },
    {
      "cell_type": "code",
      "source": [
        "X = train"
      ],
      "metadata": {
        "id": "pqiuB0IZJxmu"
      },
      "execution_count": null,
      "outputs": []
    },
    {
      "cell_type": "markdown",
      "source": [
        "***Processing Id variable***"
      ],
      "metadata": {
        "id": "asgbk9PevSOd"
      }
    },
    {
      "cell_type": "code",
      "source": [
        "X = X.drop(columns='Id')"
      ],
      "metadata": {
        "id": "f9eRIizvvN5Y"
      },
      "execution_count": null,
      "outputs": []
    },
    {
      "cell_type": "markdown",
      "metadata": {
        "id": "uQ2EwD_pgCBD"
      },
      "source": [
        "***Processing MSSubClass variable***\n",
        "\n",
        "MSSubClass: Identifies the type of dwelling involved in the sale.\n",
        "\n",
        "        20\t1-STORY 1946 & NEWER ALL STYLES                               (Type1)\n",
        "        30\t1-STORY 1945 & OLDER                                          (Type2)\n",
        "        40\t1-STORY W/FINISHED ATTIC ALL AGES                             (Type3)\n",
        "        45\t1-1/2 STORY - UNFINISHED ALL AGES                             (Type4)\n",
        "        50\t1-1/2 STORY FINISHED ALL AGES                                 (Type5)\n",
        "        60\t2-STORY 1946 & NEWER                                          (Type6)\n",
        "        70\t2-STORY 1945 & OLDER                                          (Type7)\n",
        "        75\t2-1/2 STORY ALL AGES                                          (Type8)\n",
        "        80\tSPLIT OR MULTI-LEVEL                                          (Type9)\n",
        "        85\tSPLIT FOYER                                                   (Type10)\n",
        "        90\tDUPLEX - ALL STYLES AND AGES                                  (Type11)\n",
        "       120\t1-STORY PUD (Planned Unit Development) - 1946 & NEWER         (Type12)\n",
        "       150\t1-1/2 STORY PUD - ALL AGES                                    (Type13)\n",
        "       160\t2-STORY PUD - 1946 & NEWER                                    (Type14)\n",
        "       180\tPUD - MULTILEVEL - INCL SPLIT LEV/FOYER                       (Type15)\n",
        "       190\t2 FAMILY CONVERSION - ALL STYLES AND AGES                     (Type16)"
      ]
    },
    {
      "cell_type": "code",
      "source": [
        "print(X.MSSubClass.unique())"
      ],
      "metadata": {
        "colab": {
          "base_uri": "https://localhost:8080/"
        },
        "id": "Mjalt2ZJvOW_",
        "outputId": "ec14107e-da93-4c71-bb17-125ea23df9a3"
      },
      "execution_count": null,
      "outputs": [
        {
          "output_type": "stream",
          "name": "stdout",
          "text": [
            "[ 60  20  70  50 190  45  90 120  30  85  80 160  75 180  40]\n"
          ]
        }
      ]
    },
    {
      "cell_type": "code",
      "source": [
        "sum(X.MSSubClass.isna())"
      ],
      "metadata": {
        "colab": {
          "base_uri": "https://localhost:8080/"
        },
        "id": "tEhjG66cvOd-",
        "outputId": "b024b672-3cd3-4faf-ae2c-2933f08d5d92"
      },
      "execution_count": null,
      "outputs": [
        {
          "output_type": "execute_result",
          "data": {
            "text/plain": [
              "0"
            ]
          },
          "metadata": {},
          "execution_count": 7
        }
      ]
    },
    {
      "cell_type": "code",
      "source": [
        "X['MSSubClass'] = X['MSSubClass'].astype(str)"
      ],
      "metadata": {
        "id": "a8WRxLcOvOgn"
      },
      "execution_count": null,
      "outputs": []
    },
    {
      "cell_type": "code",
      "metadata": {
        "id": "B3a3fa10gCBE"
      },
      "source": [
        "#Renaming the different MSSubClasses appropriately\n",
        "\n",
        "X['MSSubClass'] = X['MSSubClass'].replace(['20'],'Type1')\n",
        "X['MSSubClass'] = X['MSSubClass'].replace(['30'],'Type2')\n",
        "X['MSSubClass'] = X['MSSubClass'].replace(['40'],'Type3')\n",
        "X['MSSubClass'] = X['MSSubClass'].replace(['45'],'Type4')\n",
        "X['MSSubClass'] = X['MSSubClass'].replace(['50'],'Type5')\n",
        "X['MSSubClass'] = X['MSSubClass'].replace(['60'],'Type6')\n",
        "X['MSSubClass'] = X['MSSubClass'].replace(['70'],'Type7')\n",
        "X['MSSubClass'] = X['MSSubClass'].replace(['75'],'Type8')\n",
        "X['MSSubClass'] = X['MSSubClass'].replace(['80'],'Type9')\n",
        "X['MSSubClass'] = X['MSSubClass'].replace(['85'],'Type10')\n",
        "X['MSSubClass'] = X['MSSubClass'].replace(['90'],'Type11')\n",
        "X['MSSubClass'] = X['MSSubClass'].replace(['120'],'Type12')\n",
        "X['MSSubClass'] = X['MSSubClass'].replace(['150'],'Type13')\n",
        "X['MSSubClass'] = X['MSSubClass'].replace(['160'],'Type14')\n",
        "X['MSSubClass'] = X['MSSubClass'].replace(['180'],'Type15')\n",
        "X['MSSubClass'] = X['MSSubClass'].replace(['190'],'Type16')"
      ],
      "execution_count": null,
      "outputs": []
    },
    {
      "cell_type": "code",
      "source": [
        "print(X.MSSubClass.unique())"
      ],
      "metadata": {
        "colab": {
          "base_uri": "https://localhost:8080/"
        },
        "id": "NUIzjg89vOjX",
        "outputId": "9c7b0858-eab9-49db-da8f-20df02e16501"
      },
      "execution_count": null,
      "outputs": [
        {
          "output_type": "stream",
          "name": "stdout",
          "text": [
            "['Type6' 'Type1' 'Type7' 'Type5' 'Type16' 'Type4' 'Type11' 'Type12'\n",
            " 'Type2' 'Type10' 'Type9' 'Type14' 'Type8' 'Type15' 'Type3']\n"
          ]
        }
      ]
    },
    {
      "cell_type": "code",
      "source": [
        "X = pd.get_dummies(X, columns=['MSSubClass'])\n",
        "X"
      ],
      "metadata": {
        "colab": {
          "base_uri": "https://localhost:8080/",
          "height": 487
        },
        "id": "fQEDnQx8wv0c",
        "outputId": "5166638a-436e-4dc8-9ede-a2316be32f26"
      },
      "execution_count": null,
      "outputs": [
        {
          "output_type": "execute_result",
          "data": {
            "text/plain": [
              "     MSZoning  LotFrontage  LotArea Street Alley LotShape LandContour  \\\n",
              "0          RL         65.0     8450   Pave   NaN      Reg         Lvl   \n",
              "1          RL         80.0     9600   Pave   NaN      Reg         Lvl   \n",
              "2          RL         68.0    11250   Pave   NaN      IR1         Lvl   \n",
              "3          RL         60.0     9550   Pave   NaN      IR1         Lvl   \n",
              "4          RL         84.0    14260   Pave   NaN      IR1         Lvl   \n",
              "...       ...          ...      ...    ...   ...      ...         ...   \n",
              "1455       RL         62.0     7917   Pave   NaN      Reg         Lvl   \n",
              "1456       RL         85.0    13175   Pave   NaN      Reg         Lvl   \n",
              "1457       RL         66.0     9042   Pave   NaN      Reg         Lvl   \n",
              "1458       RL         68.0     9717   Pave   NaN      Reg         Lvl   \n",
              "1459       RL         75.0     9937   Pave   NaN      Reg         Lvl   \n",
              "\n",
              "     Utilities LotConfig LandSlope  ... MSSubClass_Type15 MSSubClass_Type16  \\\n",
              "0       AllPub    Inside       Gtl  ...                 0                 0   \n",
              "1       AllPub       FR2       Gtl  ...                 0                 0   \n",
              "2       AllPub    Inside       Gtl  ...                 0                 0   \n",
              "3       AllPub    Corner       Gtl  ...                 0                 0   \n",
              "4       AllPub       FR2       Gtl  ...                 0                 0   \n",
              "...        ...       ...       ...  ...               ...               ...   \n",
              "1455    AllPub    Inside       Gtl  ...                 0                 0   \n",
              "1456    AllPub    Inside       Gtl  ...                 0                 0   \n",
              "1457    AllPub    Inside       Gtl  ...                 0                 0   \n",
              "1458    AllPub    Inside       Gtl  ...                 0                 0   \n",
              "1459    AllPub    Inside       Gtl  ...                 0                 0   \n",
              "\n",
              "     MSSubClass_Type2 MSSubClass_Type3 MSSubClass_Type4  MSSubClass_Type5  \\\n",
              "0                   0                0                0                 0   \n",
              "1                   0                0                0                 0   \n",
              "2                   0                0                0                 0   \n",
              "3                   0                0                0                 0   \n",
              "4                   0                0                0                 0   \n",
              "...               ...              ...              ...               ...   \n",
              "1455                0                0                0                 0   \n",
              "1456                0                0                0                 0   \n",
              "1457                0                0                0                 0   \n",
              "1458                0                0                0                 0   \n",
              "1459                0                0                0                 0   \n",
              "\n",
              "      MSSubClass_Type6  MSSubClass_Type7  MSSubClass_Type8 MSSubClass_Type9  \n",
              "0                    1                 0                 0                0  \n",
              "1                    0                 0                 0                0  \n",
              "2                    1                 0                 0                0  \n",
              "3                    0                 1                 0                0  \n",
              "4                    1                 0                 0                0  \n",
              "...                ...               ...               ...              ...  \n",
              "1455                 1                 0                 0                0  \n",
              "1456                 0                 0                 0                0  \n",
              "1457                 0                 1                 0                0  \n",
              "1458                 0                 0                 0                0  \n",
              "1459                 0                 0                 0                0  \n",
              "\n",
              "[1460 rows x 94 columns]"
            ],
            "text/html": [
              "\n",
              "  <div id=\"df-d462a8aa-6858-47b9-ac65-4fbbe38ead7a\">\n",
              "    <div class=\"colab-df-container\">\n",
              "      <div>\n",
              "<style scoped>\n",
              "    .dataframe tbody tr th:only-of-type {\n",
              "        vertical-align: middle;\n",
              "    }\n",
              "\n",
              "    .dataframe tbody tr th {\n",
              "        vertical-align: top;\n",
              "    }\n",
              "\n",
              "    .dataframe thead th {\n",
              "        text-align: right;\n",
              "    }\n",
              "</style>\n",
              "<table border=\"1\" class=\"dataframe\">\n",
              "  <thead>\n",
              "    <tr style=\"text-align: right;\">\n",
              "      <th></th>\n",
              "      <th>MSZoning</th>\n",
              "      <th>LotFrontage</th>\n",
              "      <th>LotArea</th>\n",
              "      <th>Street</th>\n",
              "      <th>Alley</th>\n",
              "      <th>LotShape</th>\n",
              "      <th>LandContour</th>\n",
              "      <th>Utilities</th>\n",
              "      <th>LotConfig</th>\n",
              "      <th>LandSlope</th>\n",
              "      <th>...</th>\n",
              "      <th>MSSubClass_Type15</th>\n",
              "      <th>MSSubClass_Type16</th>\n",
              "      <th>MSSubClass_Type2</th>\n",
              "      <th>MSSubClass_Type3</th>\n",
              "      <th>MSSubClass_Type4</th>\n",
              "      <th>MSSubClass_Type5</th>\n",
              "      <th>MSSubClass_Type6</th>\n",
              "      <th>MSSubClass_Type7</th>\n",
              "      <th>MSSubClass_Type8</th>\n",
              "      <th>MSSubClass_Type9</th>\n",
              "    </tr>\n",
              "  </thead>\n",
              "  <tbody>\n",
              "    <tr>\n",
              "      <th>0</th>\n",
              "      <td>RL</td>\n",
              "      <td>65.0</td>\n",
              "      <td>8450</td>\n",
              "      <td>Pave</td>\n",
              "      <td>NaN</td>\n",
              "      <td>Reg</td>\n",
              "      <td>Lvl</td>\n",
              "      <td>AllPub</td>\n",
              "      <td>Inside</td>\n",
              "      <td>Gtl</td>\n",
              "      <td>...</td>\n",
              "      <td>0</td>\n",
              "      <td>0</td>\n",
              "      <td>0</td>\n",
              "      <td>0</td>\n",
              "      <td>0</td>\n",
              "      <td>0</td>\n",
              "      <td>1</td>\n",
              "      <td>0</td>\n",
              "      <td>0</td>\n",
              "      <td>0</td>\n",
              "    </tr>\n",
              "    <tr>\n",
              "      <th>1</th>\n",
              "      <td>RL</td>\n",
              "      <td>80.0</td>\n",
              "      <td>9600</td>\n",
              "      <td>Pave</td>\n",
              "      <td>NaN</td>\n",
              "      <td>Reg</td>\n",
              "      <td>Lvl</td>\n",
              "      <td>AllPub</td>\n",
              "      <td>FR2</td>\n",
              "      <td>Gtl</td>\n",
              "      <td>...</td>\n",
              "      <td>0</td>\n",
              "      <td>0</td>\n",
              "      <td>0</td>\n",
              "      <td>0</td>\n",
              "      <td>0</td>\n",
              "      <td>0</td>\n",
              "      <td>0</td>\n",
              "      <td>0</td>\n",
              "      <td>0</td>\n",
              "      <td>0</td>\n",
              "    </tr>\n",
              "    <tr>\n",
              "      <th>2</th>\n",
              "      <td>RL</td>\n",
              "      <td>68.0</td>\n",
              "      <td>11250</td>\n",
              "      <td>Pave</td>\n",
              "      <td>NaN</td>\n",
              "      <td>IR1</td>\n",
              "      <td>Lvl</td>\n",
              "      <td>AllPub</td>\n",
              "      <td>Inside</td>\n",
              "      <td>Gtl</td>\n",
              "      <td>...</td>\n",
              "      <td>0</td>\n",
              "      <td>0</td>\n",
              "      <td>0</td>\n",
              "      <td>0</td>\n",
              "      <td>0</td>\n",
              "      <td>0</td>\n",
              "      <td>1</td>\n",
              "      <td>0</td>\n",
              "      <td>0</td>\n",
              "      <td>0</td>\n",
              "    </tr>\n",
              "    <tr>\n",
              "      <th>3</th>\n",
              "      <td>RL</td>\n",
              "      <td>60.0</td>\n",
              "      <td>9550</td>\n",
              "      <td>Pave</td>\n",
              "      <td>NaN</td>\n",
              "      <td>IR1</td>\n",
              "      <td>Lvl</td>\n",
              "      <td>AllPub</td>\n",
              "      <td>Corner</td>\n",
              "      <td>Gtl</td>\n",
              "      <td>...</td>\n",
              "      <td>0</td>\n",
              "      <td>0</td>\n",
              "      <td>0</td>\n",
              "      <td>0</td>\n",
              "      <td>0</td>\n",
              "      <td>0</td>\n",
              "      <td>0</td>\n",
              "      <td>1</td>\n",
              "      <td>0</td>\n",
              "      <td>0</td>\n",
              "    </tr>\n",
              "    <tr>\n",
              "      <th>4</th>\n",
              "      <td>RL</td>\n",
              "      <td>84.0</td>\n",
              "      <td>14260</td>\n",
              "      <td>Pave</td>\n",
              "      <td>NaN</td>\n",
              "      <td>IR1</td>\n",
              "      <td>Lvl</td>\n",
              "      <td>AllPub</td>\n",
              "      <td>FR2</td>\n",
              "      <td>Gtl</td>\n",
              "      <td>...</td>\n",
              "      <td>0</td>\n",
              "      <td>0</td>\n",
              "      <td>0</td>\n",
              "      <td>0</td>\n",
              "      <td>0</td>\n",
              "      <td>0</td>\n",
              "      <td>1</td>\n",
              "      <td>0</td>\n",
              "      <td>0</td>\n",
              "      <td>0</td>\n",
              "    </tr>\n",
              "    <tr>\n",
              "      <th>...</th>\n",
              "      <td>...</td>\n",
              "      <td>...</td>\n",
              "      <td>...</td>\n",
              "      <td>...</td>\n",
              "      <td>...</td>\n",
              "      <td>...</td>\n",
              "      <td>...</td>\n",
              "      <td>...</td>\n",
              "      <td>...</td>\n",
              "      <td>...</td>\n",
              "      <td>...</td>\n",
              "      <td>...</td>\n",
              "      <td>...</td>\n",
              "      <td>...</td>\n",
              "      <td>...</td>\n",
              "      <td>...</td>\n",
              "      <td>...</td>\n",
              "      <td>...</td>\n",
              "      <td>...</td>\n",
              "      <td>...</td>\n",
              "      <td>...</td>\n",
              "    </tr>\n",
              "    <tr>\n",
              "      <th>1455</th>\n",
              "      <td>RL</td>\n",
              "      <td>62.0</td>\n",
              "      <td>7917</td>\n",
              "      <td>Pave</td>\n",
              "      <td>NaN</td>\n",
              "      <td>Reg</td>\n",
              "      <td>Lvl</td>\n",
              "      <td>AllPub</td>\n",
              "      <td>Inside</td>\n",
              "      <td>Gtl</td>\n",
              "      <td>...</td>\n",
              "      <td>0</td>\n",
              "      <td>0</td>\n",
              "      <td>0</td>\n",
              "      <td>0</td>\n",
              "      <td>0</td>\n",
              "      <td>0</td>\n",
              "      <td>1</td>\n",
              "      <td>0</td>\n",
              "      <td>0</td>\n",
              "      <td>0</td>\n",
              "    </tr>\n",
              "    <tr>\n",
              "      <th>1456</th>\n",
              "      <td>RL</td>\n",
              "      <td>85.0</td>\n",
              "      <td>13175</td>\n",
              "      <td>Pave</td>\n",
              "      <td>NaN</td>\n",
              "      <td>Reg</td>\n",
              "      <td>Lvl</td>\n",
              "      <td>AllPub</td>\n",
              "      <td>Inside</td>\n",
              "      <td>Gtl</td>\n",
              "      <td>...</td>\n",
              "      <td>0</td>\n",
              "      <td>0</td>\n",
              "      <td>0</td>\n",
              "      <td>0</td>\n",
              "      <td>0</td>\n",
              "      <td>0</td>\n",
              "      <td>0</td>\n",
              "      <td>0</td>\n",
              "      <td>0</td>\n",
              "      <td>0</td>\n",
              "    </tr>\n",
              "    <tr>\n",
              "      <th>1457</th>\n",
              "      <td>RL</td>\n",
              "      <td>66.0</td>\n",
              "      <td>9042</td>\n",
              "      <td>Pave</td>\n",
              "      <td>NaN</td>\n",
              "      <td>Reg</td>\n",
              "      <td>Lvl</td>\n",
              "      <td>AllPub</td>\n",
              "      <td>Inside</td>\n",
              "      <td>Gtl</td>\n",
              "      <td>...</td>\n",
              "      <td>0</td>\n",
              "      <td>0</td>\n",
              "      <td>0</td>\n",
              "      <td>0</td>\n",
              "      <td>0</td>\n",
              "      <td>0</td>\n",
              "      <td>0</td>\n",
              "      <td>1</td>\n",
              "      <td>0</td>\n",
              "      <td>0</td>\n",
              "    </tr>\n",
              "    <tr>\n",
              "      <th>1458</th>\n",
              "      <td>RL</td>\n",
              "      <td>68.0</td>\n",
              "      <td>9717</td>\n",
              "      <td>Pave</td>\n",
              "      <td>NaN</td>\n",
              "      <td>Reg</td>\n",
              "      <td>Lvl</td>\n",
              "      <td>AllPub</td>\n",
              "      <td>Inside</td>\n",
              "      <td>Gtl</td>\n",
              "      <td>...</td>\n",
              "      <td>0</td>\n",
              "      <td>0</td>\n",
              "      <td>0</td>\n",
              "      <td>0</td>\n",
              "      <td>0</td>\n",
              "      <td>0</td>\n",
              "      <td>0</td>\n",
              "      <td>0</td>\n",
              "      <td>0</td>\n",
              "      <td>0</td>\n",
              "    </tr>\n",
              "    <tr>\n",
              "      <th>1459</th>\n",
              "      <td>RL</td>\n",
              "      <td>75.0</td>\n",
              "      <td>9937</td>\n",
              "      <td>Pave</td>\n",
              "      <td>NaN</td>\n",
              "      <td>Reg</td>\n",
              "      <td>Lvl</td>\n",
              "      <td>AllPub</td>\n",
              "      <td>Inside</td>\n",
              "      <td>Gtl</td>\n",
              "      <td>...</td>\n",
              "      <td>0</td>\n",
              "      <td>0</td>\n",
              "      <td>0</td>\n",
              "      <td>0</td>\n",
              "      <td>0</td>\n",
              "      <td>0</td>\n",
              "      <td>0</td>\n",
              "      <td>0</td>\n",
              "      <td>0</td>\n",
              "      <td>0</td>\n",
              "    </tr>\n",
              "  </tbody>\n",
              "</table>\n",
              "<p>1460 rows × 94 columns</p>\n",
              "</div>\n",
              "      <button class=\"colab-df-convert\" onclick=\"convertToInteractive('df-d462a8aa-6858-47b9-ac65-4fbbe38ead7a')\"\n",
              "              title=\"Convert this dataframe to an interactive table.\"\n",
              "              style=\"display:none;\">\n",
              "        \n",
              "  <svg xmlns=\"http://www.w3.org/2000/svg\" height=\"24px\"viewBox=\"0 0 24 24\"\n",
              "       width=\"24px\">\n",
              "    <path d=\"M0 0h24v24H0V0z\" fill=\"none\"/>\n",
              "    <path d=\"M18.56 5.44l.94 2.06.94-2.06 2.06-.94-2.06-.94-.94-2.06-.94 2.06-2.06.94zm-11 1L8.5 8.5l.94-2.06 2.06-.94-2.06-.94L8.5 2.5l-.94 2.06-2.06.94zm10 10l.94 2.06.94-2.06 2.06-.94-2.06-.94-.94-2.06-.94 2.06-2.06.94z\"/><path d=\"M17.41 7.96l-1.37-1.37c-.4-.4-.92-.59-1.43-.59-.52 0-1.04.2-1.43.59L10.3 9.45l-7.72 7.72c-.78.78-.78 2.05 0 2.83L4 21.41c.39.39.9.59 1.41.59.51 0 1.02-.2 1.41-.59l7.78-7.78 2.81-2.81c.8-.78.8-2.07 0-2.86zM5.41 20L4 18.59l7.72-7.72 1.47 1.35L5.41 20z\"/>\n",
              "  </svg>\n",
              "      </button>\n",
              "      \n",
              "  <style>\n",
              "    .colab-df-container {\n",
              "      display:flex;\n",
              "      flex-wrap:wrap;\n",
              "      gap: 12px;\n",
              "    }\n",
              "\n",
              "    .colab-df-convert {\n",
              "      background-color: #E8F0FE;\n",
              "      border: none;\n",
              "      border-radius: 50%;\n",
              "      cursor: pointer;\n",
              "      display: none;\n",
              "      fill: #1967D2;\n",
              "      height: 32px;\n",
              "      padding: 0 0 0 0;\n",
              "      width: 32px;\n",
              "    }\n",
              "\n",
              "    .colab-df-convert:hover {\n",
              "      background-color: #E2EBFA;\n",
              "      box-shadow: 0px 1px 2px rgba(60, 64, 67, 0.3), 0px 1px 3px 1px rgba(60, 64, 67, 0.15);\n",
              "      fill: #174EA6;\n",
              "    }\n",
              "\n",
              "    [theme=dark] .colab-df-convert {\n",
              "      background-color: #3B4455;\n",
              "      fill: #D2E3FC;\n",
              "    }\n",
              "\n",
              "    [theme=dark] .colab-df-convert:hover {\n",
              "      background-color: #434B5C;\n",
              "      box-shadow: 0px 1px 3px 1px rgba(0, 0, 0, 0.15);\n",
              "      filter: drop-shadow(0px 1px 2px rgba(0, 0, 0, 0.3));\n",
              "      fill: #FFFFFF;\n",
              "    }\n",
              "  </style>\n",
              "\n",
              "      <script>\n",
              "        const buttonEl =\n",
              "          document.querySelector('#df-d462a8aa-6858-47b9-ac65-4fbbe38ead7a button.colab-df-convert');\n",
              "        buttonEl.style.display =\n",
              "          google.colab.kernel.accessAllowed ? 'block' : 'none';\n",
              "\n",
              "        async function convertToInteractive(key) {\n",
              "          const element = document.querySelector('#df-d462a8aa-6858-47b9-ac65-4fbbe38ead7a');\n",
              "          const dataTable =\n",
              "            await google.colab.kernel.invokeFunction('convertToInteractive',\n",
              "                                                     [key], {});\n",
              "          if (!dataTable) return;\n",
              "\n",
              "          const docLinkHtml = 'Like what you see? Visit the ' +\n",
              "            '<a target=\"_blank\" href=https://colab.research.google.com/notebooks/data_table.ipynb>data table notebook</a>'\n",
              "            + ' to learn more about interactive tables.';\n",
              "          element.innerHTML = '';\n",
              "          dataTable['output_type'] = 'display_data';\n",
              "          await google.colab.output.renderOutput(dataTable, element);\n",
              "          const docLink = document.createElement('div');\n",
              "          docLink.innerHTML = docLinkHtml;\n",
              "          element.appendChild(docLink);\n",
              "        }\n",
              "      </script>\n",
              "    </div>\n",
              "  </div>\n",
              "  "
            ]
          },
          "metadata": {},
          "execution_count": 11
        }
      ]
    },
    {
      "cell_type": "markdown",
      "source": [
        "***Processing MSZoning variable***"
      ],
      "metadata": {
        "id": "SeBAekurOiwu"
      }
    },
    {
      "cell_type": "code",
      "source": [
        "X.MSZoning.unique()"
      ],
      "metadata": {
        "colab": {
          "base_uri": "https://localhost:8080/"
        },
        "id": "xIAEf9X4wv6D",
        "outputId": "22e2b394-89a6-4c36-8062-c8267962fd8a"
      },
      "execution_count": null,
      "outputs": [
        {
          "output_type": "execute_result",
          "data": {
            "text/plain": [
              "array(['RL', 'RM', 'C (all)', 'FV', 'RH'], dtype=object)"
            ]
          },
          "metadata": {},
          "execution_count": 12
        }
      ]
    },
    {
      "cell_type": "code",
      "source": [
        "X = pd.get_dummies(X, columns=['MSZoning'])"
      ],
      "metadata": {
        "id": "tsZbgpUEwv89"
      },
      "execution_count": null,
      "outputs": []
    },
    {
      "cell_type": "markdown",
      "source": [
        "***Processing LotFrontage variable***"
      ],
      "metadata": {
        "id": "7uq60huTPS2g"
      }
    },
    {
      "cell_type": "code",
      "source": [
        "X.LotFrontage"
      ],
      "metadata": {
        "colab": {
          "base_uri": "https://localhost:8080/"
        },
        "id": "aOqcsNOqPiI3",
        "outputId": "0743a2d1-c6e2-458a-9b2f-42f4a7beddf9"
      },
      "execution_count": null,
      "outputs": [
        {
          "output_type": "execute_result",
          "data": {
            "text/plain": [
              "0       65.0\n",
              "1       80.0\n",
              "2       68.0\n",
              "3       60.0\n",
              "4       84.0\n",
              "        ... \n",
              "1455    62.0\n",
              "1456    85.0\n",
              "1457    66.0\n",
              "1458    68.0\n",
              "1459    75.0\n",
              "Name: LotFrontage, Length: 1460, dtype: float64"
            ]
          },
          "metadata": {},
          "execution_count": 14
        }
      ]
    },
    {
      "cell_type": "code",
      "source": [
        "sum(X.LotFrontage.isna())"
      ],
      "metadata": {
        "colab": {
          "base_uri": "https://localhost:8080/"
        },
        "id": "1NR7qw0kPAw_",
        "outputId": "4f02bfd4-60fa-4c8b-ae02-43536d7cf51b"
      },
      "execution_count": null,
      "outputs": [
        {
          "output_type": "execute_result",
          "data": {
            "text/plain": [
              "259"
            ]
          },
          "metadata": {},
          "execution_count": 15
        }
      ]
    },
    {
      "cell_type": "code",
      "source": [
        "X.LotFrontage = X.LotFrontage.fillna(X.LotFrontage.mean())\n",
        "X.LotFrontage"
      ],
      "metadata": {
        "colab": {
          "base_uri": "https://localhost:8080/"
        },
        "id": "oQ8ALfUawv_k",
        "outputId": "33c66202-df0e-4c41-ed85-3e7cd84b38e0"
      },
      "execution_count": null,
      "outputs": [
        {
          "output_type": "execute_result",
          "data": {
            "text/plain": [
              "0       65.0\n",
              "1       80.0\n",
              "2       68.0\n",
              "3       60.0\n",
              "4       84.0\n",
              "        ... \n",
              "1455    62.0\n",
              "1456    85.0\n",
              "1457    66.0\n",
              "1458    68.0\n",
              "1459    75.0\n",
              "Name: LotFrontage, Length: 1460, dtype: float64"
            ]
          },
          "metadata": {},
          "execution_count": 16
        }
      ]
    },
    {
      "cell_type": "code",
      "source": [
        "X['LotFrontage'] = X['LotFrontage'].astype(int)"
      ],
      "metadata": {
        "id": "0oyC4fmIT-4J"
      },
      "execution_count": null,
      "outputs": []
    },
    {
      "cell_type": "markdown",
      "source": [
        "***Processing LotArea variable***"
      ],
      "metadata": {
        "id": "w8-BVX-OToGw"
      }
    },
    {
      "cell_type": "code",
      "source": [
        "print(X.LotArea)"
      ],
      "metadata": {
        "colab": {
          "base_uri": "https://localhost:8080/"
        },
        "id": "3cn4JXmlwwFQ",
        "outputId": "dd985a83-0e93-4c6c-fe23-e9b86decabcf"
      },
      "execution_count": null,
      "outputs": [
        {
          "output_type": "stream",
          "name": "stdout",
          "text": [
            "0        8450\n",
            "1        9600\n",
            "2       11250\n",
            "3        9550\n",
            "4       14260\n",
            "        ...  \n",
            "1455     7917\n",
            "1456    13175\n",
            "1457     9042\n",
            "1458     9717\n",
            "1459     9937\n",
            "Name: LotArea, Length: 1460, dtype: int64\n"
          ]
        }
      ]
    },
    {
      "cell_type": "markdown",
      "source": [
        "***Processing Street variable***"
      ],
      "metadata": {
        "id": "hTH8frxtUFwC"
      }
    },
    {
      "cell_type": "code",
      "source": [
        "print(X.Street.unique())"
      ],
      "metadata": {
        "colab": {
          "base_uri": "https://localhost:8080/"
        },
        "id": "uClNZwYgTtOn",
        "outputId": "ddbb12b2-a59a-4385-b014-69ac8a7c99be"
      },
      "execution_count": null,
      "outputs": [
        {
          "output_type": "stream",
          "name": "stdout",
          "text": [
            "['Pave' 'Grvl']\n"
          ]
        }
      ]
    },
    {
      "cell_type": "code",
      "source": [
        "X = pd.get_dummies(X, columns=['Street'])"
      ],
      "metadata": {
        "id": "ooYCvOyGTtTx"
      },
      "execution_count": null,
      "outputs": []
    },
    {
      "cell_type": "markdown",
      "source": [
        "***Processing Alley variable***"
      ],
      "metadata": {
        "id": "Ebjtrh5MVI2V"
      }
    },
    {
      "cell_type": "code",
      "source": [
        "print(X.Alley.unique())"
      ],
      "metadata": {
        "colab": {
          "base_uri": "https://localhost:8080/"
        },
        "id": "LJxwIo1_TtWD",
        "outputId": "615ee48e-be29-444e-b5b3-05fa2786cb2c"
      },
      "execution_count": null,
      "outputs": [
        {
          "output_type": "stream",
          "name": "stdout",
          "text": [
            "[nan 'Grvl' 'Pave']\n"
          ]
        }
      ]
    },
    {
      "cell_type": "code",
      "source": [
        "X.Alley = X.Alley.replace(np.nan, 'None')"
      ],
      "metadata": {
        "id": "NnkCUVp3VLF2"
      },
      "execution_count": null,
      "outputs": []
    },
    {
      "cell_type": "code",
      "source": [
        "X['Alley'] = X['Alley'].astype(str)\n",
        "X = pd.get_dummies(X, columns=['Alley'])"
      ],
      "metadata": {
        "id": "ELaoDiDGVLLY"
      },
      "execution_count": null,
      "outputs": []
    },
    {
      "cell_type": "markdown",
      "source": [
        "***Processing LotShape variable***"
      ],
      "metadata": {
        "id": "HIjRcSpRZool"
      }
    },
    {
      "cell_type": "code",
      "source": [
        "print(X.LotShape.unique())\n",
        "sum(X.LotShape.isna())"
      ],
      "metadata": {
        "colab": {
          "base_uri": "https://localhost:8080/"
        },
        "id": "MLKZLHXEVLSC",
        "outputId": "94b591bc-c03e-4e4a-8f66-53b0e209dd8d"
      },
      "execution_count": null,
      "outputs": [
        {
          "output_type": "stream",
          "name": "stdout",
          "text": [
            "['Reg' 'IR1' 'IR2' 'IR3']\n"
          ]
        },
        {
          "output_type": "execute_result",
          "data": {
            "text/plain": [
              "0"
            ]
          },
          "metadata": {},
          "execution_count": 24
        }
      ]
    },
    {
      "cell_type": "code",
      "source": [
        "X['LotShape'] = X['LotShape'].astype(str)\n",
        "X = pd.get_dummies(X, columns=['LotShape'])"
      ],
      "metadata": {
        "id": "vCGOp-lnVLUu"
      },
      "execution_count": null,
      "outputs": []
    },
    {
      "cell_type": "markdown",
      "source": [
        "***Processing LandContour variable***"
      ],
      "metadata": {
        "id": "keV9XrkbbavG"
      }
    },
    {
      "cell_type": "code",
      "source": [
        "print(X.LandContour.unique())"
      ],
      "metadata": {
        "colab": {
          "base_uri": "https://localhost:8080/"
        },
        "id": "S70dRnYEbZ-6",
        "outputId": "be937bf7-032e-451c-81f5-8ff14ebc8fe7"
      },
      "execution_count": null,
      "outputs": [
        {
          "output_type": "stream",
          "name": "stdout",
          "text": [
            "['Lvl' 'Bnk' 'Low' 'HLS']\n"
          ]
        }
      ]
    },
    {
      "cell_type": "code",
      "source": [
        "X['LandContour'] = X['LandContour'].astype(str)\n",
        "X = pd.get_dummies(X, columns=['LandContour'])"
      ],
      "metadata": {
        "id": "OsFbBpPAacA4"
      },
      "execution_count": null,
      "outputs": []
    },
    {
      "cell_type": "markdown",
      "source": [
        "***Processing Utilities variable***"
      ],
      "metadata": {
        "id": "yUGGblIydqwf"
      }
    },
    {
      "cell_type": "code",
      "source": [
        "print(X.Utilities.unique())"
      ],
      "metadata": {
        "colab": {
          "base_uri": "https://localhost:8080/"
        },
        "id": "s4Haz0oZacGY",
        "outputId": "64f7cced-eadb-44bd-acb5-7208559bf268"
      },
      "execution_count": null,
      "outputs": [
        {
          "output_type": "stream",
          "name": "stdout",
          "text": [
            "['AllPub' 'NoSeWa']\n"
          ]
        }
      ]
    },
    {
      "cell_type": "code",
      "source": [
        "sum(X.Utilities.isna())"
      ],
      "metadata": {
        "colab": {
          "base_uri": "https://localhost:8080/"
        },
        "id": "nRGJiogCacIx",
        "outputId": "ec4e8e95-840e-4143-986a-b4495d817214"
      },
      "execution_count": null,
      "outputs": [
        {
          "output_type": "execute_result",
          "data": {
            "text/plain": [
              "0"
            ]
          },
          "metadata": {},
          "execution_count": 29
        }
      ]
    },
    {
      "cell_type": "code",
      "source": [
        "X['Utilities'] = X['Utilities'].astype(str)\n",
        "X = pd.get_dummies(X, columns=['Utilities'])"
      ],
      "metadata": {
        "id": "eTm8kFRhacLi"
      },
      "execution_count": null,
      "outputs": []
    },
    {
      "cell_type": "markdown",
      "source": [
        "***Processing LotConfig variable***"
      ],
      "metadata": {
        "id": "TB1KTVrgePYc"
      }
    },
    {
      "cell_type": "code",
      "source": [
        "print(X.LotConfig.unique())"
      ],
      "metadata": {
        "colab": {
          "base_uri": "https://localhost:8080/"
        },
        "id": "g8cHt5UkacN0",
        "outputId": "5e813e8e-e3f6-4665-bc1e-d63dd8df48c3"
      },
      "execution_count": null,
      "outputs": [
        {
          "output_type": "stream",
          "name": "stdout",
          "text": [
            "['Inside' 'FR2' 'Corner' 'CulDSac' 'FR3']\n"
          ]
        }
      ]
    },
    {
      "cell_type": "code",
      "source": [
        "sum(X.LotConfig.isna())"
      ],
      "metadata": {
        "colab": {
          "base_uri": "https://localhost:8080/"
        },
        "id": "qq_hZj20acQl",
        "outputId": "d89a1459-baa2-41c6-edf3-f4ea1cc1e71d"
      },
      "execution_count": null,
      "outputs": [
        {
          "output_type": "execute_result",
          "data": {
            "text/plain": [
              "0"
            ]
          },
          "metadata": {},
          "execution_count": 32
        }
      ]
    },
    {
      "cell_type": "code",
      "source": [
        "X['LotConfig'] = X['LotConfig'].astype(str)\n",
        "X = pd.get_dummies(X, columns=['LotConfig'])"
      ],
      "metadata": {
        "id": "sG-vNMWpacUK"
      },
      "execution_count": null,
      "outputs": []
    },
    {
      "cell_type": "markdown",
      "source": [
        "***Processing LandSlope variable***"
      ],
      "metadata": {
        "id": "NzlWYUVzeoDN"
      }
    },
    {
      "cell_type": "code",
      "source": [
        "print(X.LandSlope.unique())"
      ],
      "metadata": {
        "colab": {
          "base_uri": "https://localhost:8080/"
        },
        "id": "ve6q7RwXVLXd",
        "outputId": "d08456de-9499-4f11-b100-f5a0ee70ae17"
      },
      "execution_count": null,
      "outputs": [
        {
          "output_type": "stream",
          "name": "stdout",
          "text": [
            "['Gtl' 'Mod' 'Sev']\n"
          ]
        }
      ]
    },
    {
      "cell_type": "code",
      "source": [
        "sum(X.LandSlope.isna())"
      ],
      "metadata": {
        "colab": {
          "base_uri": "https://localhost:8080/"
        },
        "id": "Uq4XRxhmVLZy",
        "outputId": "1e99e9b8-ef1f-4961-f9d4-d1e6cbef029d"
      },
      "execution_count": null,
      "outputs": [
        {
          "output_type": "execute_result",
          "data": {
            "text/plain": [
              "0"
            ]
          },
          "metadata": {},
          "execution_count": 35
        }
      ]
    },
    {
      "cell_type": "code",
      "source": [
        "X['LandSlope'] = X['LandSlope'].astype(str)\n",
        "X = pd.get_dummies(X, columns=['LandSlope'])"
      ],
      "metadata": {
        "id": "GGskU5rwvOmQ"
      },
      "execution_count": null,
      "outputs": []
    },
    {
      "cell_type": "markdown",
      "source": [
        "***Processing Neighborhood variable***"
      ],
      "metadata": {
        "id": "O_6EB2t3gyuN"
      }
    },
    {
      "cell_type": "code",
      "source": [
        "print(X.Neighborhood.unique())"
      ],
      "metadata": {
        "colab": {
          "base_uri": "https://localhost:8080/"
        },
        "id": "vqkPp9KuexQn",
        "outputId": "24b60b53-3f9d-4d85-9d68-ca78cfddd767"
      },
      "execution_count": null,
      "outputs": [
        {
          "output_type": "stream",
          "name": "stdout",
          "text": [
            "['CollgCr' 'Veenker' 'Crawfor' 'NoRidge' 'Mitchel' 'Somerst' 'NWAmes'\n",
            " 'OldTown' 'BrkSide' 'Sawyer' 'NridgHt' 'NAmes' 'SawyerW' 'IDOTRR'\n",
            " 'MeadowV' 'Edwards' 'Timber' 'Gilbert' 'StoneBr' 'ClearCr' 'NPkVill'\n",
            " 'Blmngtn' 'BrDale' 'SWISU' 'Blueste']\n"
          ]
        }
      ]
    },
    {
      "cell_type": "code",
      "source": [
        "sum(X.Neighborhood.isna())"
      ],
      "metadata": {
        "colab": {
          "base_uri": "https://localhost:8080/"
        },
        "id": "DLUvo9HsexTb",
        "outputId": "28df13d8-8352-404d-eb4f-87200af500fc"
      },
      "execution_count": null,
      "outputs": [
        {
          "output_type": "execute_result",
          "data": {
            "text/plain": [
              "0"
            ]
          },
          "metadata": {},
          "execution_count": 38
        }
      ]
    },
    {
      "cell_type": "code",
      "source": [
        "X['Neighborhood'] = X['Neighborhood'].astype(str)\n",
        "X = pd.get_dummies(X, columns=['Neighborhood'])"
      ],
      "metadata": {
        "id": "jXlB6-94exV6"
      },
      "execution_count": null,
      "outputs": []
    },
    {
      "cell_type": "markdown",
      "source": [
        "***Processing Condition1 variable***"
      ],
      "metadata": {
        "id": "L_N9z6ethVDx"
      }
    },
    {
      "cell_type": "code",
      "source": [
        "print(X.Condition1.unique())"
      ],
      "metadata": {
        "colab": {
          "base_uri": "https://localhost:8080/"
        },
        "id": "b1RuUg1VexYt",
        "outputId": "a235bdd3-75c2-4a27-c02b-a89c65d3def1"
      },
      "execution_count": null,
      "outputs": [
        {
          "output_type": "stream",
          "name": "stdout",
          "text": [
            "['Norm' 'Feedr' 'PosN' 'Artery' 'RRAe' 'RRNn' 'RRAn' 'PosA' 'RRNe']\n"
          ]
        }
      ]
    },
    {
      "cell_type": "code",
      "source": [
        "sum(X.Condition1.isna())"
      ],
      "metadata": {
        "colab": {
          "base_uri": "https://localhost:8080/"
        },
        "id": "_QKj5HAIexbT",
        "outputId": "08c64d0d-0ac7-4bee-b8a9-60f78127bd4e"
      },
      "execution_count": null,
      "outputs": [
        {
          "output_type": "execute_result",
          "data": {
            "text/plain": [
              "0"
            ]
          },
          "metadata": {},
          "execution_count": 41
        }
      ]
    },
    {
      "cell_type": "code",
      "source": [
        "X['Condition1'] = X['Condition1'].astype(str)\n",
        "X = pd.get_dummies(X, columns=['Condition1'])"
      ],
      "metadata": {
        "id": "1OCONa-5exdu"
      },
      "execution_count": null,
      "outputs": []
    },
    {
      "cell_type": "markdown",
      "source": [
        "***Processing Condition2 variable***"
      ],
      "metadata": {
        "id": "SCExLe9mh6_L"
      }
    },
    {
      "cell_type": "code",
      "source": [
        "print(X.Condition2.unique())"
      ],
      "metadata": {
        "colab": {
          "base_uri": "https://localhost:8080/"
        },
        "id": "7WbtsyxZexgL",
        "outputId": "c8e8094e-da8a-440c-c8d5-68caba45ebf6"
      },
      "execution_count": null,
      "outputs": [
        {
          "output_type": "stream",
          "name": "stdout",
          "text": [
            "['Norm' 'Artery' 'RRNn' 'Feedr' 'PosN' 'PosA' 'RRAn' 'RRAe']\n"
          ]
        }
      ]
    },
    {
      "cell_type": "code",
      "source": [
        "sum(X.Condition2.isna())"
      ],
      "metadata": {
        "colab": {
          "base_uri": "https://localhost:8080/"
        },
        "id": "a1fZyhWQexih",
        "outputId": "7f592385-5e33-48a3-b88c-9407e3333426"
      },
      "execution_count": null,
      "outputs": [
        {
          "output_type": "execute_result",
          "data": {
            "text/plain": [
              "0"
            ]
          },
          "metadata": {},
          "execution_count": 44
        }
      ]
    },
    {
      "cell_type": "code",
      "source": [
        "X['Condition2'] = X['Condition2'].astype(str)\n",
        "X = pd.get_dummies(X, columns=['Condition2'])"
      ],
      "metadata": {
        "id": "WC6Tntmqexk4"
      },
      "execution_count": null,
      "outputs": []
    },
    {
      "cell_type": "markdown",
      "source": [
        "***Processing BldgType variable***"
      ],
      "metadata": {
        "id": "NBU7ADJviL6L"
      }
    },
    {
      "cell_type": "code",
      "source": [
        "print(X.BldgType.unique())"
      ],
      "metadata": {
        "colab": {
          "base_uri": "https://localhost:8080/"
        },
        "id": "jbfK9OWWexoz",
        "outputId": "6561ff14-f903-467e-89a3-ba621ab32392"
      },
      "execution_count": null,
      "outputs": [
        {
          "output_type": "stream",
          "name": "stdout",
          "text": [
            "['1Fam' '2fmCon' 'Duplex' 'TwnhsE' 'Twnhs']\n"
          ]
        }
      ]
    },
    {
      "cell_type": "code",
      "source": [
        "sum(X.BldgType.isna())"
      ],
      "metadata": {
        "colab": {
          "base_uri": "https://localhost:8080/"
        },
        "id": "6dWZghxeexrp",
        "outputId": "199f1294-1a65-48dd-b4f1-605ab3d39177"
      },
      "execution_count": null,
      "outputs": [
        {
          "output_type": "execute_result",
          "data": {
            "text/plain": [
              "0"
            ]
          },
          "metadata": {},
          "execution_count": 47
        }
      ]
    },
    {
      "cell_type": "code",
      "source": [
        "X['BldgType'] = X['BldgType'].astype(str)\n",
        "X = pd.get_dummies(X, columns=['BldgType'])"
      ],
      "metadata": {
        "id": "y6dIdXT4exzY"
      },
      "execution_count": null,
      "outputs": []
    },
    {
      "cell_type": "markdown",
      "source": [
        "***Processing HouseStyle variable***"
      ],
      "metadata": {
        "id": "5KzVqiqHiwH1"
      }
    },
    {
      "cell_type": "code",
      "source": [
        "print(X.HouseStyle.unique())"
      ],
      "metadata": {
        "colab": {
          "base_uri": "https://localhost:8080/"
        },
        "id": "jPkp-8lGipQD",
        "outputId": "18ea8f79-5a31-4416-9c81-385fd770a666"
      },
      "execution_count": null,
      "outputs": [
        {
          "output_type": "stream",
          "name": "stdout",
          "text": [
            "['2Story' '1Story' '1.5Fin' '1.5Unf' 'SFoyer' 'SLvl' '2.5Unf' '2.5Fin']\n"
          ]
        }
      ]
    },
    {
      "cell_type": "code",
      "source": [
        "sum(X.HouseStyle.isna())"
      ],
      "metadata": {
        "colab": {
          "base_uri": "https://localhost:8080/"
        },
        "id": "iDNmQs1JipSr",
        "outputId": "af127676-7420-4bce-d137-1909f75d5782"
      },
      "execution_count": null,
      "outputs": [
        {
          "output_type": "execute_result",
          "data": {
            "text/plain": [
              "0"
            ]
          },
          "metadata": {},
          "execution_count": 50
        }
      ]
    },
    {
      "cell_type": "code",
      "source": [
        "X['HouseStyle'] = X['HouseStyle'].astype(str)\n",
        "X = pd.get_dummies(X, columns=['HouseStyle'])"
      ],
      "metadata": {
        "id": "NV3ffJB1ipVM"
      },
      "execution_count": null,
      "outputs": []
    },
    {
      "cell_type": "markdown",
      "source": [
        "***Processing OverallQual variable***"
      ],
      "metadata": {
        "id": "hYmTFggPjKS5"
      }
    },
    {
      "cell_type": "code",
      "source": [
        "X.OverallQual"
      ],
      "metadata": {
        "colab": {
          "base_uri": "https://localhost:8080/"
        },
        "id": "AD9_Ee29ipaW",
        "outputId": "1cfb7413-70e4-478a-bc61-832ccd1725be"
      },
      "execution_count": null,
      "outputs": [
        {
          "output_type": "execute_result",
          "data": {
            "text/plain": [
              "0       7\n",
              "1       6\n",
              "2       7\n",
              "3       7\n",
              "4       8\n",
              "       ..\n",
              "1455    6\n",
              "1456    6\n",
              "1457    7\n",
              "1458    5\n",
              "1459    5\n",
              "Name: OverallQual, Length: 1460, dtype: int64"
            ]
          },
          "metadata": {},
          "execution_count": 52
        }
      ]
    },
    {
      "cell_type": "code",
      "source": [
        "sum(X.OverallQual.isna())"
      ],
      "metadata": {
        "colab": {
          "base_uri": "https://localhost:8080/"
        },
        "id": "L0R-u_vLipcz",
        "outputId": "839243d2-0d43-4520-f417-483fd0749380"
      },
      "execution_count": null,
      "outputs": [
        {
          "output_type": "execute_result",
          "data": {
            "text/plain": [
              "0"
            ]
          },
          "metadata": {},
          "execution_count": 53
        }
      ]
    },
    {
      "cell_type": "markdown",
      "source": [
        "***Processing OverallCond variable***"
      ],
      "metadata": {
        "id": "aBS5YTQ2js36"
      }
    },
    {
      "cell_type": "code",
      "source": [
        "X.OverallCond"
      ],
      "metadata": {
        "colab": {
          "base_uri": "https://localhost:8080/"
        },
        "id": "RSLfnn-Qiphp",
        "outputId": "457d6098-d183-4abc-9421-9f860ddfde54"
      },
      "execution_count": null,
      "outputs": [
        {
          "output_type": "execute_result",
          "data": {
            "text/plain": [
              "0       5\n",
              "1       8\n",
              "2       5\n",
              "3       5\n",
              "4       5\n",
              "       ..\n",
              "1455    5\n",
              "1456    6\n",
              "1457    9\n",
              "1458    6\n",
              "1459    6\n",
              "Name: OverallCond, Length: 1460, dtype: int64"
            ]
          },
          "metadata": {},
          "execution_count": 54
        }
      ]
    },
    {
      "cell_type": "code",
      "source": [
        "sum(X.OverallCond.isna())"
      ],
      "metadata": {
        "colab": {
          "base_uri": "https://localhost:8080/"
        },
        "id": "i1JeIxaAipkU",
        "outputId": "ecce4660-1738-4def-9ba9-66f4afbfc3b5"
      },
      "execution_count": null,
      "outputs": [
        {
          "output_type": "execute_result",
          "data": {
            "text/plain": [
              "0"
            ]
          },
          "metadata": {},
          "execution_count": 55
        }
      ]
    },
    {
      "cell_type": "markdown",
      "source": [
        "***Processing YearBuilt variable***"
      ],
      "metadata": {
        "id": "cxsMc1HLj80i"
      }
    },
    {
      "cell_type": "code",
      "source": [
        "X.YearBuilt"
      ],
      "metadata": {
        "colab": {
          "base_uri": "https://localhost:8080/"
        },
        "id": "eUjWFFkyipmh",
        "outputId": "e4bc01d2-8943-4dd5-a619-a35f09dc29ef"
      },
      "execution_count": null,
      "outputs": [
        {
          "output_type": "execute_result",
          "data": {
            "text/plain": [
              "0       2003\n",
              "1       1976\n",
              "2       2001\n",
              "3       1915\n",
              "4       2000\n",
              "        ... \n",
              "1455    1999\n",
              "1456    1978\n",
              "1457    1941\n",
              "1458    1950\n",
              "1459    1965\n",
              "Name: YearBuilt, Length: 1460, dtype: int64"
            ]
          },
          "metadata": {},
          "execution_count": 56
        }
      ]
    },
    {
      "cell_type": "code",
      "source": [
        "sum(X.YearBuilt.isna())"
      ],
      "metadata": {
        "colab": {
          "base_uri": "https://localhost:8080/"
        },
        "id": "Q4ZTpvViipo7",
        "outputId": "cb314f59-4d21-41cd-84ab-5c1bff70454c"
      },
      "execution_count": null,
      "outputs": [
        {
          "output_type": "execute_result",
          "data": {
            "text/plain": [
              "0"
            ]
          },
          "metadata": {},
          "execution_count": 57
        }
      ]
    },
    {
      "cell_type": "markdown",
      "source": [
        "***Processing YearRemodAdd variable***"
      ],
      "metadata": {
        "id": "ZPpmJz-wkjpu"
      }
    },
    {
      "cell_type": "code",
      "source": [
        "X.YearRemodAdd"
      ],
      "metadata": {
        "colab": {
          "base_uri": "https://localhost:8080/"
        },
        "id": "Jnx6y64Qipt0",
        "outputId": "fcc04b81-9468-484f-aaac-13880d3e62af"
      },
      "execution_count": null,
      "outputs": [
        {
          "output_type": "execute_result",
          "data": {
            "text/plain": [
              "0       2003\n",
              "1       1976\n",
              "2       2002\n",
              "3       1970\n",
              "4       2000\n",
              "        ... \n",
              "1455    2000\n",
              "1456    1988\n",
              "1457    2006\n",
              "1458    1996\n",
              "1459    1965\n",
              "Name: YearRemodAdd, Length: 1460, dtype: int64"
            ]
          },
          "metadata": {},
          "execution_count": 58
        }
      ]
    },
    {
      "cell_type": "code",
      "source": [
        "sum(X.YearRemodAdd.isna())"
      ],
      "metadata": {
        "colab": {
          "base_uri": "https://localhost:8080/"
        },
        "id": "M7AnsmDqipwC",
        "outputId": "6252236c-3b02-405f-d1bd-3871adb3e300"
      },
      "execution_count": null,
      "outputs": [
        {
          "output_type": "execute_result",
          "data": {
            "text/plain": [
              "0"
            ]
          },
          "metadata": {},
          "execution_count": 59
        }
      ]
    },
    {
      "cell_type": "code",
      "source": [],
      "metadata": {
        "id": "w04v_D5cipys"
      },
      "execution_count": null,
      "outputs": []
    },
    {
      "cell_type": "markdown",
      "source": [
        "***Processing RoofStyle variable***"
      ],
      "metadata": {
        "id": "6DYYXTKVP63w"
      }
    },
    {
      "cell_type": "code",
      "source": [
        "X.RoofStyle"
      ],
      "metadata": {
        "colab": {
          "base_uri": "https://localhost:8080/"
        },
        "id": "mbkwaUlDPfoA",
        "outputId": "649bf190-3df3-4b57-b248-e33f0ed511a8"
      },
      "execution_count": null,
      "outputs": [
        {
          "output_type": "execute_result",
          "data": {
            "text/plain": [
              "0       Gable\n",
              "1       Gable\n",
              "2       Gable\n",
              "3       Gable\n",
              "4       Gable\n",
              "        ...  \n",
              "1455    Gable\n",
              "1456    Gable\n",
              "1457    Gable\n",
              "1458      Hip\n",
              "1459    Gable\n",
              "Name: RoofStyle, Length: 1460, dtype: object"
            ]
          },
          "metadata": {},
          "execution_count": 60
        }
      ]
    },
    {
      "cell_type": "code",
      "source": [
        "sum(X.RoofStyle.isna())"
      ],
      "metadata": {
        "colab": {
          "base_uri": "https://localhost:8080/"
        },
        "id": "wkgnai5OPfrH",
        "outputId": "f55903ab-3389-4354-9d56-d1d774f4a0cd"
      },
      "execution_count": null,
      "outputs": [
        {
          "output_type": "execute_result",
          "data": {
            "text/plain": [
              "0"
            ]
          },
          "metadata": {},
          "execution_count": 61
        }
      ]
    },
    {
      "cell_type": "code",
      "source": [
        "X.RoofStyle.unique()"
      ],
      "metadata": {
        "colab": {
          "base_uri": "https://localhost:8080/"
        },
        "id": "GLs3AWLIPft4",
        "outputId": "0604550c-8165-4237-a1c5-d102fc675142"
      },
      "execution_count": null,
      "outputs": [
        {
          "output_type": "execute_result",
          "data": {
            "text/plain": [
              "array(['Gable', 'Hip', 'Gambrel', 'Mansard', 'Flat', 'Shed'], dtype=object)"
            ]
          },
          "metadata": {},
          "execution_count": 62
        }
      ]
    },
    {
      "cell_type": "code",
      "source": [
        "X['RoofStyle'] = X['RoofStyle'].astype(str)\n",
        "X = pd.get_dummies(X, columns=['RoofStyle'])"
      ],
      "metadata": {
        "id": "3G-DnYbUPfwk"
      },
      "execution_count": null,
      "outputs": []
    },
    {
      "cell_type": "markdown",
      "source": [
        "***Processing RoofMatl variable***"
      ],
      "metadata": {
        "id": "6W_TdMjCRG2f"
      }
    },
    {
      "cell_type": "code",
      "source": [
        "X.RoofMatl"
      ],
      "metadata": {
        "colab": {
          "base_uri": "https://localhost:8080/"
        },
        "id": "lxY8R5dnPfzL",
        "outputId": "093b8a1d-0be4-4fd1-8eb2-de1da3cdec02"
      },
      "execution_count": null,
      "outputs": [
        {
          "output_type": "execute_result",
          "data": {
            "text/plain": [
              "0       CompShg\n",
              "1       CompShg\n",
              "2       CompShg\n",
              "3       CompShg\n",
              "4       CompShg\n",
              "         ...   \n",
              "1455    CompShg\n",
              "1456    CompShg\n",
              "1457    CompShg\n",
              "1458    CompShg\n",
              "1459    CompShg\n",
              "Name: RoofMatl, Length: 1460, dtype: object"
            ]
          },
          "metadata": {},
          "execution_count": 64
        }
      ]
    },
    {
      "cell_type": "code",
      "source": [
        "sum(X.RoofMatl.isna())"
      ],
      "metadata": {
        "colab": {
          "base_uri": "https://localhost:8080/"
        },
        "id": "dnyj8cDWPf1y",
        "outputId": "99ebd433-3fc2-4811-ef46-9b289192de9f"
      },
      "execution_count": null,
      "outputs": [
        {
          "output_type": "execute_result",
          "data": {
            "text/plain": [
              "0"
            ]
          },
          "metadata": {},
          "execution_count": 65
        }
      ]
    },
    {
      "cell_type": "code",
      "source": [
        "X.RoofMatl.unique()"
      ],
      "metadata": {
        "colab": {
          "base_uri": "https://localhost:8080/"
        },
        "id": "-8VWuc92Pf4d",
        "outputId": "61cbd43c-91b7-4a64-dbb1-d6432e59b708"
      },
      "execution_count": null,
      "outputs": [
        {
          "output_type": "execute_result",
          "data": {
            "text/plain": [
              "array(['CompShg', 'WdShngl', 'Metal', 'WdShake', 'Membran', 'Tar&Grv',\n",
              "       'Roll', 'ClyTile'], dtype=object)"
            ]
          },
          "metadata": {},
          "execution_count": 66
        }
      ]
    },
    {
      "cell_type": "code",
      "source": [
        "X['RoofMatl'] = X['RoofMatl'].astype(str)\n",
        "X = pd.get_dummies(X, columns=['RoofMatl'])"
      ],
      "metadata": {
        "id": "eJn6SneePf7W"
      },
      "execution_count": null,
      "outputs": []
    },
    {
      "cell_type": "markdown",
      "source": [
        "***Processing Exterior1st variable***"
      ],
      "metadata": {
        "id": "dZt4pysvR3rJ"
      }
    },
    {
      "cell_type": "code",
      "source": [
        "X.Exterior1st"
      ],
      "metadata": {
        "colab": {
          "base_uri": "https://localhost:8080/"
        },
        "id": "0-81EuEnPgEw",
        "outputId": "8cf6d2b8-43ef-40d6-f91c-a9d19374d42a"
      },
      "execution_count": null,
      "outputs": [
        {
          "output_type": "execute_result",
          "data": {
            "text/plain": [
              "0       VinylSd\n",
              "1       MetalSd\n",
              "2       VinylSd\n",
              "3       Wd Sdng\n",
              "4       VinylSd\n",
              "         ...   \n",
              "1455    VinylSd\n",
              "1456    Plywood\n",
              "1457    CemntBd\n",
              "1458    MetalSd\n",
              "1459    HdBoard\n",
              "Name: Exterior1st, Length: 1460, dtype: object"
            ]
          },
          "metadata": {},
          "execution_count": 68
        }
      ]
    },
    {
      "cell_type": "code",
      "source": [
        "sum(X.Exterior1st.isna())"
      ],
      "metadata": {
        "colab": {
          "base_uri": "https://localhost:8080/"
        },
        "id": "wn9jq-fOPgHy",
        "outputId": "a4769c67-57f2-4707-8ad8-10ed7d8b3524"
      },
      "execution_count": null,
      "outputs": [
        {
          "output_type": "execute_result",
          "data": {
            "text/plain": [
              "0"
            ]
          },
          "metadata": {},
          "execution_count": 69
        }
      ]
    },
    {
      "cell_type": "code",
      "source": [
        "X.Exterior1st.unique()"
      ],
      "metadata": {
        "colab": {
          "base_uri": "https://localhost:8080/"
        },
        "id": "9PFoUX4NPgKD",
        "outputId": "3cb99bd1-d134-42ac-82a3-ede12fc6fee5"
      },
      "execution_count": null,
      "outputs": [
        {
          "output_type": "execute_result",
          "data": {
            "text/plain": [
              "array(['VinylSd', 'MetalSd', 'Wd Sdng', 'HdBoard', 'BrkFace', 'WdShing',\n",
              "       'CemntBd', 'Plywood', 'AsbShng', 'Stucco', 'BrkComm', 'AsphShn',\n",
              "       'Stone', 'ImStucc', 'CBlock'], dtype=object)"
            ]
          },
          "metadata": {},
          "execution_count": 70
        }
      ]
    },
    {
      "cell_type": "code",
      "source": [
        "X['Exterior1st'] = X['Exterior1st'].astype(str)\n",
        "X = pd.get_dummies(X, columns=['Exterior1st'])"
      ],
      "metadata": {
        "id": "PNJX3Bf4PgM2"
      },
      "execution_count": null,
      "outputs": []
    },
    {
      "cell_type": "markdown",
      "source": [
        "***Processing Exterior2nd variable***"
      ],
      "metadata": {
        "id": "swrlGvkvSiYF"
      }
    },
    {
      "cell_type": "code",
      "source": [
        "X.Exterior2nd"
      ],
      "metadata": {
        "colab": {
          "base_uri": "https://localhost:8080/"
        },
        "id": "iX8D1vUFPgQ_",
        "outputId": "40245d6f-3675-4790-f8c2-8b754fa929a9"
      },
      "execution_count": null,
      "outputs": [
        {
          "output_type": "execute_result",
          "data": {
            "text/plain": [
              "0       VinylSd\n",
              "1       MetalSd\n",
              "2       VinylSd\n",
              "3       Wd Shng\n",
              "4       VinylSd\n",
              "         ...   \n",
              "1455    VinylSd\n",
              "1456    Plywood\n",
              "1457    CmentBd\n",
              "1458    MetalSd\n",
              "1459    HdBoard\n",
              "Name: Exterior2nd, Length: 1460, dtype: object"
            ]
          },
          "metadata": {},
          "execution_count": 72
        }
      ]
    },
    {
      "cell_type": "code",
      "source": [
        "sum(X.Exterior2nd.isna())"
      ],
      "metadata": {
        "colab": {
          "base_uri": "https://localhost:8080/"
        },
        "id": "KwMyJ2NtPgT4",
        "outputId": "ef89105b-c441-420e-a941-b98cb2a39f01"
      },
      "execution_count": null,
      "outputs": [
        {
          "output_type": "execute_result",
          "data": {
            "text/plain": [
              "0"
            ]
          },
          "metadata": {},
          "execution_count": 73
        }
      ]
    },
    {
      "cell_type": "code",
      "source": [
        "X.Exterior2nd.unique()"
      ],
      "metadata": {
        "colab": {
          "base_uri": "https://localhost:8080/"
        },
        "id": "9TSI58MdPgWu",
        "outputId": "31e7be2a-7052-48c9-a7b2-b7edad1b9547"
      },
      "execution_count": null,
      "outputs": [
        {
          "output_type": "execute_result",
          "data": {
            "text/plain": [
              "array(['VinylSd', 'MetalSd', 'Wd Shng', 'HdBoard', 'Plywood', 'Wd Sdng',\n",
              "       'CmentBd', 'BrkFace', 'Stucco', 'AsbShng', 'Brk Cmn', 'ImStucc',\n",
              "       'AsphShn', 'Stone', 'Other', 'CBlock'], dtype=object)"
            ]
          },
          "metadata": {},
          "execution_count": 74
        }
      ]
    },
    {
      "cell_type": "code",
      "source": [
        "X['Exterior2nd'] = X['Exterior2nd'].astype(str)\n",
        "X = pd.get_dummies(X, columns=['Exterior2nd'])"
      ],
      "metadata": {
        "id": "iY4rMn9pPgZH"
      },
      "execution_count": null,
      "outputs": []
    },
    {
      "cell_type": "markdown",
      "source": [
        "***Processing MasVnrType variable***"
      ],
      "metadata": {
        "id": "wnyzdKsOTKD-"
      }
    },
    {
      "cell_type": "code",
      "source": [
        "X.MasVnrType"
      ],
      "metadata": {
        "colab": {
          "base_uri": "https://localhost:8080/"
        },
        "id": "6Yh1Q8TFPgec",
        "outputId": "8200141c-cf05-48cb-d9f6-26b0ca5c9d88"
      },
      "execution_count": null,
      "outputs": [
        {
          "output_type": "execute_result",
          "data": {
            "text/plain": [
              "0       BrkFace\n",
              "1          None\n",
              "2       BrkFace\n",
              "3          None\n",
              "4       BrkFace\n",
              "         ...   \n",
              "1455       None\n",
              "1456      Stone\n",
              "1457       None\n",
              "1458       None\n",
              "1459       None\n",
              "Name: MasVnrType, Length: 1460, dtype: object"
            ]
          },
          "metadata": {},
          "execution_count": 76
        }
      ]
    },
    {
      "cell_type": "code",
      "source": [
        "sum(X.MasVnrType.isna())"
      ],
      "metadata": {
        "colab": {
          "base_uri": "https://localhost:8080/"
        },
        "id": "_Ae2ugXaPghS",
        "outputId": "ba9ee132-6f83-464c-cd71-830c9f963dfb"
      },
      "execution_count": null,
      "outputs": [
        {
          "output_type": "execute_result",
          "data": {
            "text/plain": [
              "8"
            ]
          },
          "metadata": {},
          "execution_count": 77
        }
      ]
    },
    {
      "cell_type": "code",
      "source": [
        "X = X.dropna(subset=['MasVnrType'])"
      ],
      "metadata": {
        "id": "G0br0ZfjPgj3"
      },
      "execution_count": null,
      "outputs": []
    },
    {
      "cell_type": "code",
      "source": [
        "X.MasVnrType.unique()"
      ],
      "metadata": {
        "colab": {
          "base_uri": "https://localhost:8080/"
        },
        "id": "128efb8gPgms",
        "outputId": "88994021-8f22-49d7-bf3e-f51afee7fa64"
      },
      "execution_count": null,
      "outputs": [
        {
          "output_type": "execute_result",
          "data": {
            "text/plain": [
              "array(['BrkFace', 'None', 'Stone', 'BrkCmn'], dtype=object)"
            ]
          },
          "metadata": {},
          "execution_count": 79
        }
      ]
    },
    {
      "cell_type": "code",
      "source": [
        "X['MasVnrType'] = X['MasVnrType'].astype(str)\n",
        "X = pd.get_dummies(X, columns=['MasVnrType'])"
      ],
      "metadata": {
        "id": "pDTuFITrPgpA"
      },
      "execution_count": null,
      "outputs": []
    },
    {
      "cell_type": "code",
      "source": [
        "X"
      ],
      "metadata": {
        "colab": {
          "base_uri": "https://localhost:8080/",
          "height": 505
        },
        "id": "kAv_HKc7Vftd",
        "outputId": "f2bf497c-f4ad-434c-9b08-604c879da88c"
      },
      "execution_count": null,
      "outputs": [
        {
          "output_type": "execute_result",
          "data": {
            "text/plain": [
              "      LotFrontage  LotArea  OverallQual  OverallCond  YearBuilt  YearRemodAdd  \\\n",
              "0              65     8450            7            5       2003          2003   \n",
              "1              80     9600            6            8       1976          1976   \n",
              "2              68    11250            7            5       2001          2002   \n",
              "3              60     9550            7            5       1915          1970   \n",
              "4              84    14260            8            5       2000          2000   \n",
              "...           ...      ...          ...          ...        ...           ...   \n",
              "1455           62     7917            6            5       1999          2000   \n",
              "1456           85    13175            6            6       1978          1988   \n",
              "1457           66     9042            7            9       1941          2006   \n",
              "1458           68     9717            5            6       1950          1996   \n",
              "1459           75     9937            5            6       1965          1965   \n",
              "\n",
              "      MasVnrArea ExterQual ExterCond Foundation  ... Exterior2nd_Plywood  \\\n",
              "0          196.0        Gd        TA      PConc  ...                   0   \n",
              "1            0.0        TA        TA     CBlock  ...                   0   \n",
              "2          162.0        Gd        TA      PConc  ...                   0   \n",
              "3            0.0        TA        TA     BrkTil  ...                   0   \n",
              "4          350.0        Gd        TA      PConc  ...                   0   \n",
              "...          ...       ...       ...        ...  ...                 ...   \n",
              "1455         0.0        TA        TA      PConc  ...                   0   \n",
              "1456       119.0        TA        TA     CBlock  ...                   1   \n",
              "1457         0.0        Ex        Gd      Stone  ...                   0   \n",
              "1458         0.0        TA        TA     CBlock  ...                   0   \n",
              "1459         0.0        Gd        TA     CBlock  ...                   0   \n",
              "\n",
              "     Exterior2nd_Stone Exterior2nd_Stucco Exterior2nd_VinylSd  \\\n",
              "0                    0                  0                   1   \n",
              "1                    0                  0                   0   \n",
              "2                    0                  0                   1   \n",
              "3                    0                  0                   0   \n",
              "4                    0                  0                   1   \n",
              "...                ...                ...                 ...   \n",
              "1455                 0                  0                   1   \n",
              "1456                 0                  0                   0   \n",
              "1457                 0                  0                   0   \n",
              "1458                 0                  0                   0   \n",
              "1459                 0                  0                   0   \n",
              "\n",
              "      Exterior2nd_Wd Sdng Exterior2nd_Wd Shng  MasVnrType_BrkCmn  \\\n",
              "0                       0                   0                  0   \n",
              "1                       0                   0                  0   \n",
              "2                       0                   0                  0   \n",
              "3                       0                   1                  0   \n",
              "4                       0                   0                  0   \n",
              "...                   ...                 ...                ...   \n",
              "1455                    0                   0                  0   \n",
              "1456                    0                   0                  0   \n",
              "1457                    0                   0                  0   \n",
              "1458                    0                   0                  0   \n",
              "1459                    0                   0                  0   \n",
              "\n",
              "      MasVnrType_BrkFace  MasVnrType_None MasVnrType_Stone  \n",
              "0                      1                0                0  \n",
              "1                      0                1                0  \n",
              "2                      1                0                0  \n",
              "3                      0                1                0  \n",
              "4                      1                0                0  \n",
              "...                  ...              ...              ...  \n",
              "1455                   0                1                0  \n",
              "1456                   0                0                1  \n",
              "1457                   0                1                0  \n",
              "1458                   0                1                0  \n",
              "1459                   0                1                0  \n",
              "\n",
              "[1452 rows x 208 columns]"
            ],
            "text/html": [
              "\n",
              "  <div id=\"df-b3818dcc-6fbd-49d7-bbb3-9dacf9631955\">\n",
              "    <div class=\"colab-df-container\">\n",
              "      <div>\n",
              "<style scoped>\n",
              "    .dataframe tbody tr th:only-of-type {\n",
              "        vertical-align: middle;\n",
              "    }\n",
              "\n",
              "    .dataframe tbody tr th {\n",
              "        vertical-align: top;\n",
              "    }\n",
              "\n",
              "    .dataframe thead th {\n",
              "        text-align: right;\n",
              "    }\n",
              "</style>\n",
              "<table border=\"1\" class=\"dataframe\">\n",
              "  <thead>\n",
              "    <tr style=\"text-align: right;\">\n",
              "      <th></th>\n",
              "      <th>LotFrontage</th>\n",
              "      <th>LotArea</th>\n",
              "      <th>OverallQual</th>\n",
              "      <th>OverallCond</th>\n",
              "      <th>YearBuilt</th>\n",
              "      <th>YearRemodAdd</th>\n",
              "      <th>MasVnrArea</th>\n",
              "      <th>ExterQual</th>\n",
              "      <th>ExterCond</th>\n",
              "      <th>Foundation</th>\n",
              "      <th>...</th>\n",
              "      <th>Exterior2nd_Plywood</th>\n",
              "      <th>Exterior2nd_Stone</th>\n",
              "      <th>Exterior2nd_Stucco</th>\n",
              "      <th>Exterior2nd_VinylSd</th>\n",
              "      <th>Exterior2nd_Wd Sdng</th>\n",
              "      <th>Exterior2nd_Wd Shng</th>\n",
              "      <th>MasVnrType_BrkCmn</th>\n",
              "      <th>MasVnrType_BrkFace</th>\n",
              "      <th>MasVnrType_None</th>\n",
              "      <th>MasVnrType_Stone</th>\n",
              "    </tr>\n",
              "  </thead>\n",
              "  <tbody>\n",
              "    <tr>\n",
              "      <th>0</th>\n",
              "      <td>65</td>\n",
              "      <td>8450</td>\n",
              "      <td>7</td>\n",
              "      <td>5</td>\n",
              "      <td>2003</td>\n",
              "      <td>2003</td>\n",
              "      <td>196.0</td>\n",
              "      <td>Gd</td>\n",
              "      <td>TA</td>\n",
              "      <td>PConc</td>\n",
              "      <td>...</td>\n",
              "      <td>0</td>\n",
              "      <td>0</td>\n",
              "      <td>0</td>\n",
              "      <td>1</td>\n",
              "      <td>0</td>\n",
              "      <td>0</td>\n",
              "      <td>0</td>\n",
              "      <td>1</td>\n",
              "      <td>0</td>\n",
              "      <td>0</td>\n",
              "    </tr>\n",
              "    <tr>\n",
              "      <th>1</th>\n",
              "      <td>80</td>\n",
              "      <td>9600</td>\n",
              "      <td>6</td>\n",
              "      <td>8</td>\n",
              "      <td>1976</td>\n",
              "      <td>1976</td>\n",
              "      <td>0.0</td>\n",
              "      <td>TA</td>\n",
              "      <td>TA</td>\n",
              "      <td>CBlock</td>\n",
              "      <td>...</td>\n",
              "      <td>0</td>\n",
              "      <td>0</td>\n",
              "      <td>0</td>\n",
              "      <td>0</td>\n",
              "      <td>0</td>\n",
              "      <td>0</td>\n",
              "      <td>0</td>\n",
              "      <td>0</td>\n",
              "      <td>1</td>\n",
              "      <td>0</td>\n",
              "    </tr>\n",
              "    <tr>\n",
              "      <th>2</th>\n",
              "      <td>68</td>\n",
              "      <td>11250</td>\n",
              "      <td>7</td>\n",
              "      <td>5</td>\n",
              "      <td>2001</td>\n",
              "      <td>2002</td>\n",
              "      <td>162.0</td>\n",
              "      <td>Gd</td>\n",
              "      <td>TA</td>\n",
              "      <td>PConc</td>\n",
              "      <td>...</td>\n",
              "      <td>0</td>\n",
              "      <td>0</td>\n",
              "      <td>0</td>\n",
              "      <td>1</td>\n",
              "      <td>0</td>\n",
              "      <td>0</td>\n",
              "      <td>0</td>\n",
              "      <td>1</td>\n",
              "      <td>0</td>\n",
              "      <td>0</td>\n",
              "    </tr>\n",
              "    <tr>\n",
              "      <th>3</th>\n",
              "      <td>60</td>\n",
              "      <td>9550</td>\n",
              "      <td>7</td>\n",
              "      <td>5</td>\n",
              "      <td>1915</td>\n",
              "      <td>1970</td>\n",
              "      <td>0.0</td>\n",
              "      <td>TA</td>\n",
              "      <td>TA</td>\n",
              "      <td>BrkTil</td>\n",
              "      <td>...</td>\n",
              "      <td>0</td>\n",
              "      <td>0</td>\n",
              "      <td>0</td>\n",
              "      <td>0</td>\n",
              "      <td>0</td>\n",
              "      <td>1</td>\n",
              "      <td>0</td>\n",
              "      <td>0</td>\n",
              "      <td>1</td>\n",
              "      <td>0</td>\n",
              "    </tr>\n",
              "    <tr>\n",
              "      <th>4</th>\n",
              "      <td>84</td>\n",
              "      <td>14260</td>\n",
              "      <td>8</td>\n",
              "      <td>5</td>\n",
              "      <td>2000</td>\n",
              "      <td>2000</td>\n",
              "      <td>350.0</td>\n",
              "      <td>Gd</td>\n",
              "      <td>TA</td>\n",
              "      <td>PConc</td>\n",
              "      <td>...</td>\n",
              "      <td>0</td>\n",
              "      <td>0</td>\n",
              "      <td>0</td>\n",
              "      <td>1</td>\n",
              "      <td>0</td>\n",
              "      <td>0</td>\n",
              "      <td>0</td>\n",
              "      <td>1</td>\n",
              "      <td>0</td>\n",
              "      <td>0</td>\n",
              "    </tr>\n",
              "    <tr>\n",
              "      <th>...</th>\n",
              "      <td>...</td>\n",
              "      <td>...</td>\n",
              "      <td>...</td>\n",
              "      <td>...</td>\n",
              "      <td>...</td>\n",
              "      <td>...</td>\n",
              "      <td>...</td>\n",
              "      <td>...</td>\n",
              "      <td>...</td>\n",
              "      <td>...</td>\n",
              "      <td>...</td>\n",
              "      <td>...</td>\n",
              "      <td>...</td>\n",
              "      <td>...</td>\n",
              "      <td>...</td>\n",
              "      <td>...</td>\n",
              "      <td>...</td>\n",
              "      <td>...</td>\n",
              "      <td>...</td>\n",
              "      <td>...</td>\n",
              "      <td>...</td>\n",
              "    </tr>\n",
              "    <tr>\n",
              "      <th>1455</th>\n",
              "      <td>62</td>\n",
              "      <td>7917</td>\n",
              "      <td>6</td>\n",
              "      <td>5</td>\n",
              "      <td>1999</td>\n",
              "      <td>2000</td>\n",
              "      <td>0.0</td>\n",
              "      <td>TA</td>\n",
              "      <td>TA</td>\n",
              "      <td>PConc</td>\n",
              "      <td>...</td>\n",
              "      <td>0</td>\n",
              "      <td>0</td>\n",
              "      <td>0</td>\n",
              "      <td>1</td>\n",
              "      <td>0</td>\n",
              "      <td>0</td>\n",
              "      <td>0</td>\n",
              "      <td>0</td>\n",
              "      <td>1</td>\n",
              "      <td>0</td>\n",
              "    </tr>\n",
              "    <tr>\n",
              "      <th>1456</th>\n",
              "      <td>85</td>\n",
              "      <td>13175</td>\n",
              "      <td>6</td>\n",
              "      <td>6</td>\n",
              "      <td>1978</td>\n",
              "      <td>1988</td>\n",
              "      <td>119.0</td>\n",
              "      <td>TA</td>\n",
              "      <td>TA</td>\n",
              "      <td>CBlock</td>\n",
              "      <td>...</td>\n",
              "      <td>1</td>\n",
              "      <td>0</td>\n",
              "      <td>0</td>\n",
              "      <td>0</td>\n",
              "      <td>0</td>\n",
              "      <td>0</td>\n",
              "      <td>0</td>\n",
              "      <td>0</td>\n",
              "      <td>0</td>\n",
              "      <td>1</td>\n",
              "    </tr>\n",
              "    <tr>\n",
              "      <th>1457</th>\n",
              "      <td>66</td>\n",
              "      <td>9042</td>\n",
              "      <td>7</td>\n",
              "      <td>9</td>\n",
              "      <td>1941</td>\n",
              "      <td>2006</td>\n",
              "      <td>0.0</td>\n",
              "      <td>Ex</td>\n",
              "      <td>Gd</td>\n",
              "      <td>Stone</td>\n",
              "      <td>...</td>\n",
              "      <td>0</td>\n",
              "      <td>0</td>\n",
              "      <td>0</td>\n",
              "      <td>0</td>\n",
              "      <td>0</td>\n",
              "      <td>0</td>\n",
              "      <td>0</td>\n",
              "      <td>0</td>\n",
              "      <td>1</td>\n",
              "      <td>0</td>\n",
              "    </tr>\n",
              "    <tr>\n",
              "      <th>1458</th>\n",
              "      <td>68</td>\n",
              "      <td>9717</td>\n",
              "      <td>5</td>\n",
              "      <td>6</td>\n",
              "      <td>1950</td>\n",
              "      <td>1996</td>\n",
              "      <td>0.0</td>\n",
              "      <td>TA</td>\n",
              "      <td>TA</td>\n",
              "      <td>CBlock</td>\n",
              "      <td>...</td>\n",
              "      <td>0</td>\n",
              "      <td>0</td>\n",
              "      <td>0</td>\n",
              "      <td>0</td>\n",
              "      <td>0</td>\n",
              "      <td>0</td>\n",
              "      <td>0</td>\n",
              "      <td>0</td>\n",
              "      <td>1</td>\n",
              "      <td>0</td>\n",
              "    </tr>\n",
              "    <tr>\n",
              "      <th>1459</th>\n",
              "      <td>75</td>\n",
              "      <td>9937</td>\n",
              "      <td>5</td>\n",
              "      <td>6</td>\n",
              "      <td>1965</td>\n",
              "      <td>1965</td>\n",
              "      <td>0.0</td>\n",
              "      <td>Gd</td>\n",
              "      <td>TA</td>\n",
              "      <td>CBlock</td>\n",
              "      <td>...</td>\n",
              "      <td>0</td>\n",
              "      <td>0</td>\n",
              "      <td>0</td>\n",
              "      <td>0</td>\n",
              "      <td>0</td>\n",
              "      <td>0</td>\n",
              "      <td>0</td>\n",
              "      <td>0</td>\n",
              "      <td>1</td>\n",
              "      <td>0</td>\n",
              "    </tr>\n",
              "  </tbody>\n",
              "</table>\n",
              "<p>1452 rows × 208 columns</p>\n",
              "</div>\n",
              "      <button class=\"colab-df-convert\" onclick=\"convertToInteractive('df-b3818dcc-6fbd-49d7-bbb3-9dacf9631955')\"\n",
              "              title=\"Convert this dataframe to an interactive table.\"\n",
              "              style=\"display:none;\">\n",
              "        \n",
              "  <svg xmlns=\"http://www.w3.org/2000/svg\" height=\"24px\"viewBox=\"0 0 24 24\"\n",
              "       width=\"24px\">\n",
              "    <path d=\"M0 0h24v24H0V0z\" fill=\"none\"/>\n",
              "    <path d=\"M18.56 5.44l.94 2.06.94-2.06 2.06-.94-2.06-.94-.94-2.06-.94 2.06-2.06.94zm-11 1L8.5 8.5l.94-2.06 2.06-.94-2.06-.94L8.5 2.5l-.94 2.06-2.06.94zm10 10l.94 2.06.94-2.06 2.06-.94-2.06-.94-.94-2.06-.94 2.06-2.06.94z\"/><path d=\"M17.41 7.96l-1.37-1.37c-.4-.4-.92-.59-1.43-.59-.52 0-1.04.2-1.43.59L10.3 9.45l-7.72 7.72c-.78.78-.78 2.05 0 2.83L4 21.41c.39.39.9.59 1.41.59.51 0 1.02-.2 1.41-.59l7.78-7.78 2.81-2.81c.8-.78.8-2.07 0-2.86zM5.41 20L4 18.59l7.72-7.72 1.47 1.35L5.41 20z\"/>\n",
              "  </svg>\n",
              "      </button>\n",
              "      \n",
              "  <style>\n",
              "    .colab-df-container {\n",
              "      display:flex;\n",
              "      flex-wrap:wrap;\n",
              "      gap: 12px;\n",
              "    }\n",
              "\n",
              "    .colab-df-convert {\n",
              "      background-color: #E8F0FE;\n",
              "      border: none;\n",
              "      border-radius: 50%;\n",
              "      cursor: pointer;\n",
              "      display: none;\n",
              "      fill: #1967D2;\n",
              "      height: 32px;\n",
              "      padding: 0 0 0 0;\n",
              "      width: 32px;\n",
              "    }\n",
              "\n",
              "    .colab-df-convert:hover {\n",
              "      background-color: #E2EBFA;\n",
              "      box-shadow: 0px 1px 2px rgba(60, 64, 67, 0.3), 0px 1px 3px 1px rgba(60, 64, 67, 0.15);\n",
              "      fill: #174EA6;\n",
              "    }\n",
              "\n",
              "    [theme=dark] .colab-df-convert {\n",
              "      background-color: #3B4455;\n",
              "      fill: #D2E3FC;\n",
              "    }\n",
              "\n",
              "    [theme=dark] .colab-df-convert:hover {\n",
              "      background-color: #434B5C;\n",
              "      box-shadow: 0px 1px 3px 1px rgba(0, 0, 0, 0.15);\n",
              "      filter: drop-shadow(0px 1px 2px rgba(0, 0, 0, 0.3));\n",
              "      fill: #FFFFFF;\n",
              "    }\n",
              "  </style>\n",
              "\n",
              "      <script>\n",
              "        const buttonEl =\n",
              "          document.querySelector('#df-b3818dcc-6fbd-49d7-bbb3-9dacf9631955 button.colab-df-convert');\n",
              "        buttonEl.style.display =\n",
              "          google.colab.kernel.accessAllowed ? 'block' : 'none';\n",
              "\n",
              "        async function convertToInteractive(key) {\n",
              "          const element = document.querySelector('#df-b3818dcc-6fbd-49d7-bbb3-9dacf9631955');\n",
              "          const dataTable =\n",
              "            await google.colab.kernel.invokeFunction('convertToInteractive',\n",
              "                                                     [key], {});\n",
              "          if (!dataTable) return;\n",
              "\n",
              "          const docLinkHtml = 'Like what you see? Visit the ' +\n",
              "            '<a target=\"_blank\" href=https://colab.research.google.com/notebooks/data_table.ipynb>data table notebook</a>'\n",
              "            + ' to learn more about interactive tables.';\n",
              "          element.innerHTML = '';\n",
              "          dataTable['output_type'] = 'display_data';\n",
              "          await google.colab.output.renderOutput(dataTable, element);\n",
              "          const docLink = document.createElement('div');\n",
              "          docLink.innerHTML = docLinkHtml;\n",
              "          element.appendChild(docLink);\n",
              "        }\n",
              "      </script>\n",
              "    </div>\n",
              "  </div>\n",
              "  "
            ]
          },
          "metadata": {},
          "execution_count": 81
        }
      ]
    },
    {
      "cell_type": "markdown",
      "source": [
        "***Processing MasVnrArea variable***"
      ],
      "metadata": {
        "id": "GDKqi9nCVYJa"
      }
    },
    {
      "cell_type": "code",
      "source": [
        "X.MasVnrArea"
      ],
      "metadata": {
        "colab": {
          "base_uri": "https://localhost:8080/"
        },
        "id": "aEwJmiudip09",
        "outputId": "391acd8b-ebba-40ba-cfb3-7983fe60e974"
      },
      "execution_count": null,
      "outputs": [
        {
          "output_type": "execute_result",
          "data": {
            "text/plain": [
              "0       196.0\n",
              "1         0.0\n",
              "2       162.0\n",
              "3         0.0\n",
              "4       350.0\n",
              "        ...  \n",
              "1455      0.0\n",
              "1456    119.0\n",
              "1457      0.0\n",
              "1458      0.0\n",
              "1459      0.0\n",
              "Name: MasVnrArea, Length: 1452, dtype: float64"
            ]
          },
          "metadata": {},
          "execution_count": 82
        }
      ]
    },
    {
      "cell_type": "code",
      "source": [
        "X['MasVnrArea'] = X['MasVnrArea'].astype(int)"
      ],
      "metadata": {
        "id": "tCbqTbPuVTso"
      },
      "execution_count": null,
      "outputs": []
    },
    {
      "cell_type": "code",
      "source": [],
      "metadata": {
        "id": "OoqQd7-VXScu"
      },
      "execution_count": null,
      "outputs": []
    },
    {
      "cell_type": "markdown",
      "source": [
        "***Processing ExterQual variable***"
      ],
      "metadata": {
        "id": "srOUwOYGXPBT"
      }
    },
    {
      "cell_type": "code",
      "source": [
        "X.ExterQual"
      ],
      "metadata": {
        "colab": {
          "base_uri": "https://localhost:8080/"
        },
        "id": "mZax7eFfVTwz",
        "outputId": "01331a7c-796b-4000-8240-26f6e9391c99"
      },
      "execution_count": null,
      "outputs": [
        {
          "output_type": "execute_result",
          "data": {
            "text/plain": [
              "0       Gd\n",
              "1       TA\n",
              "2       Gd\n",
              "3       TA\n",
              "4       Gd\n",
              "        ..\n",
              "1455    TA\n",
              "1456    TA\n",
              "1457    Ex\n",
              "1458    TA\n",
              "1459    Gd\n",
              "Name: ExterQual, Length: 1452, dtype: object"
            ]
          },
          "metadata": {},
          "execution_count": 84
        }
      ]
    },
    {
      "cell_type": "code",
      "source": [
        "sum(X.ExterQual.isna())"
      ],
      "metadata": {
        "colab": {
          "base_uri": "https://localhost:8080/"
        },
        "id": "6saivzhzVT7k",
        "outputId": "4c9f9fd4-bf3e-4268-ad17-48ee1ff2b2de"
      },
      "execution_count": null,
      "outputs": [
        {
          "output_type": "execute_result",
          "data": {
            "text/plain": [
              "0"
            ]
          },
          "metadata": {},
          "execution_count": 85
        }
      ]
    },
    {
      "cell_type": "code",
      "source": [
        "X.ExterQual.unique()"
      ],
      "metadata": {
        "colab": {
          "base_uri": "https://localhost:8080/"
        },
        "id": "w5__7iRlVUA3",
        "outputId": "c9965e33-155f-432c-8373-548eb0bc26bb"
      },
      "execution_count": null,
      "outputs": [
        {
          "output_type": "execute_result",
          "data": {
            "text/plain": [
              "array(['Gd', 'TA', 'Ex', 'Fa'], dtype=object)"
            ]
          },
          "metadata": {},
          "execution_count": 86
        }
      ]
    },
    {
      "cell_type": "code",
      "source": [
        "X['ExterQual'] = X['ExterQual'].astype(str)\n",
        "X = pd.get_dummies(X, columns=['ExterQual'])"
      ],
      "metadata": {
        "id": "Bb_vdLphVUEi"
      },
      "execution_count": null,
      "outputs": []
    },
    {
      "cell_type": "markdown",
      "source": [
        "***Processing ExterCond variable***"
      ],
      "metadata": {
        "id": "KjoLmGolX6O9"
      }
    },
    {
      "cell_type": "code",
      "source": [
        "X.ExterCond"
      ],
      "metadata": {
        "colab": {
          "base_uri": "https://localhost:8080/"
        },
        "id": "IEOi_NKEVUIh",
        "outputId": "f98f337f-1bdf-43ba-b316-ca58638fe9f4"
      },
      "execution_count": null,
      "outputs": [
        {
          "output_type": "execute_result",
          "data": {
            "text/plain": [
              "0       TA\n",
              "1       TA\n",
              "2       TA\n",
              "3       TA\n",
              "4       TA\n",
              "        ..\n",
              "1455    TA\n",
              "1456    TA\n",
              "1457    Gd\n",
              "1458    TA\n",
              "1459    TA\n",
              "Name: ExterCond, Length: 1452, dtype: object"
            ]
          },
          "metadata": {},
          "execution_count": 88
        }
      ]
    },
    {
      "cell_type": "code",
      "source": [
        "sum(X.ExterCond.isna())"
      ],
      "metadata": {
        "colab": {
          "base_uri": "https://localhost:8080/"
        },
        "id": "-3P4ecudYGL4",
        "outputId": "2e518178-279f-449c-b322-49b249596577"
      },
      "execution_count": null,
      "outputs": [
        {
          "output_type": "execute_result",
          "data": {
            "text/plain": [
              "0"
            ]
          },
          "metadata": {},
          "execution_count": 89
        }
      ]
    },
    {
      "cell_type": "code",
      "source": [
        "X.ExterCond.unique()"
      ],
      "metadata": {
        "colab": {
          "base_uri": "https://localhost:8080/"
        },
        "id": "g3nJoDfuVUMc",
        "outputId": "14cde8e8-f924-4d6c-d4b2-e300a5456fea"
      },
      "execution_count": null,
      "outputs": [
        {
          "output_type": "execute_result",
          "data": {
            "text/plain": [
              "array(['TA', 'Gd', 'Fa', 'Po', 'Ex'], dtype=object)"
            ]
          },
          "metadata": {},
          "execution_count": 90
        }
      ]
    },
    {
      "cell_type": "code",
      "source": [
        "X['ExterCond'] = X['ExterCond'].astype(str)\n",
        "X = pd.get_dummies(X, columns=['ExterCond'])"
      ],
      "metadata": {
        "id": "j8b03XIDVUQH"
      },
      "execution_count": null,
      "outputs": []
    },
    {
      "cell_type": "code",
      "source": [
        "X"
      ],
      "metadata": {
        "colab": {
          "base_uri": "https://localhost:8080/",
          "height": 487
        },
        "id": "Pg14D_U7VUaw",
        "outputId": "23f3f132-485a-4427-8c22-510236a0ad72"
      },
      "execution_count": null,
      "outputs": [
        {
          "output_type": "execute_result",
          "data": {
            "text/plain": [
              "      LotFrontage  LotArea  OverallQual  OverallCond  YearBuilt  YearRemodAdd  \\\n",
              "0              65     8450            7            5       2003          2003   \n",
              "1              80     9600            6            8       1976          1976   \n",
              "2              68    11250            7            5       2001          2002   \n",
              "3              60     9550            7            5       1915          1970   \n",
              "4              84    14260            8            5       2000          2000   \n",
              "...           ...      ...          ...          ...        ...           ...   \n",
              "1455           62     7917            6            5       1999          2000   \n",
              "1456           85    13175            6            6       1978          1988   \n",
              "1457           66     9042            7            9       1941          2006   \n",
              "1458           68     9717            5            6       1950          1996   \n",
              "1459           75     9937            5            6       1965          1965   \n",
              "\n",
              "      MasVnrArea Foundation BsmtQual BsmtCond  ... MasVnrType_Stone  \\\n",
              "0            196      PConc       Gd       TA  ...                0   \n",
              "1              0     CBlock       Gd       TA  ...                0   \n",
              "2            162      PConc       Gd       TA  ...                0   \n",
              "3              0     BrkTil       TA       Gd  ...                0   \n",
              "4            350      PConc       Gd       TA  ...                0   \n",
              "...          ...        ...      ...      ...  ...              ...   \n",
              "1455           0      PConc       Gd       TA  ...                0   \n",
              "1456         119     CBlock       Gd       TA  ...                1   \n",
              "1457           0      Stone       TA       Gd  ...                0   \n",
              "1458           0     CBlock       TA       TA  ...                0   \n",
              "1459           0     CBlock       TA       TA  ...                0   \n",
              "\n",
              "     ExterQual_Ex  ExterQual_Fa ExterQual_Gd  ExterQual_TA  ExterCond_Ex  \\\n",
              "0               0             0            1             0             0   \n",
              "1               0             0            0             1             0   \n",
              "2               0             0            1             0             0   \n",
              "3               0             0            0             1             0   \n",
              "4               0             0            1             0             0   \n",
              "...           ...           ...          ...           ...           ...   \n",
              "1455            0             0            0             1             0   \n",
              "1456            0             0            0             1             0   \n",
              "1457            1             0            0             0             0   \n",
              "1458            0             0            0             1             0   \n",
              "1459            0             0            1             0             0   \n",
              "\n",
              "      ExterCond_Fa ExterCond_Gd ExterCond_Po ExterCond_TA  \n",
              "0                0            0            0            1  \n",
              "1                0            0            0            1  \n",
              "2                0            0            0            1  \n",
              "3                0            0            0            1  \n",
              "4                0            0            0            1  \n",
              "...            ...          ...          ...          ...  \n",
              "1455             0            0            0            1  \n",
              "1456             0            0            0            1  \n",
              "1457             0            1            0            0  \n",
              "1458             0            0            0            1  \n",
              "1459             0            0            0            1  \n",
              "\n",
              "[1452 rows x 215 columns]"
            ],
            "text/html": [
              "\n",
              "  <div id=\"df-51d71515-6122-447e-84be-ecf7a9689fc1\">\n",
              "    <div class=\"colab-df-container\">\n",
              "      <div>\n",
              "<style scoped>\n",
              "    .dataframe tbody tr th:only-of-type {\n",
              "        vertical-align: middle;\n",
              "    }\n",
              "\n",
              "    .dataframe tbody tr th {\n",
              "        vertical-align: top;\n",
              "    }\n",
              "\n",
              "    .dataframe thead th {\n",
              "        text-align: right;\n",
              "    }\n",
              "</style>\n",
              "<table border=\"1\" class=\"dataframe\">\n",
              "  <thead>\n",
              "    <tr style=\"text-align: right;\">\n",
              "      <th></th>\n",
              "      <th>LotFrontage</th>\n",
              "      <th>LotArea</th>\n",
              "      <th>OverallQual</th>\n",
              "      <th>OverallCond</th>\n",
              "      <th>YearBuilt</th>\n",
              "      <th>YearRemodAdd</th>\n",
              "      <th>MasVnrArea</th>\n",
              "      <th>Foundation</th>\n",
              "      <th>BsmtQual</th>\n",
              "      <th>BsmtCond</th>\n",
              "      <th>...</th>\n",
              "      <th>MasVnrType_Stone</th>\n",
              "      <th>ExterQual_Ex</th>\n",
              "      <th>ExterQual_Fa</th>\n",
              "      <th>ExterQual_Gd</th>\n",
              "      <th>ExterQual_TA</th>\n",
              "      <th>ExterCond_Ex</th>\n",
              "      <th>ExterCond_Fa</th>\n",
              "      <th>ExterCond_Gd</th>\n",
              "      <th>ExterCond_Po</th>\n",
              "      <th>ExterCond_TA</th>\n",
              "    </tr>\n",
              "  </thead>\n",
              "  <tbody>\n",
              "    <tr>\n",
              "      <th>0</th>\n",
              "      <td>65</td>\n",
              "      <td>8450</td>\n",
              "      <td>7</td>\n",
              "      <td>5</td>\n",
              "      <td>2003</td>\n",
              "      <td>2003</td>\n",
              "      <td>196</td>\n",
              "      <td>PConc</td>\n",
              "      <td>Gd</td>\n",
              "      <td>TA</td>\n",
              "      <td>...</td>\n",
              "      <td>0</td>\n",
              "      <td>0</td>\n",
              "      <td>0</td>\n",
              "      <td>1</td>\n",
              "      <td>0</td>\n",
              "      <td>0</td>\n",
              "      <td>0</td>\n",
              "      <td>0</td>\n",
              "      <td>0</td>\n",
              "      <td>1</td>\n",
              "    </tr>\n",
              "    <tr>\n",
              "      <th>1</th>\n",
              "      <td>80</td>\n",
              "      <td>9600</td>\n",
              "      <td>6</td>\n",
              "      <td>8</td>\n",
              "      <td>1976</td>\n",
              "      <td>1976</td>\n",
              "      <td>0</td>\n",
              "      <td>CBlock</td>\n",
              "      <td>Gd</td>\n",
              "      <td>TA</td>\n",
              "      <td>...</td>\n",
              "      <td>0</td>\n",
              "      <td>0</td>\n",
              "      <td>0</td>\n",
              "      <td>0</td>\n",
              "      <td>1</td>\n",
              "      <td>0</td>\n",
              "      <td>0</td>\n",
              "      <td>0</td>\n",
              "      <td>0</td>\n",
              "      <td>1</td>\n",
              "    </tr>\n",
              "    <tr>\n",
              "      <th>2</th>\n",
              "      <td>68</td>\n",
              "      <td>11250</td>\n",
              "      <td>7</td>\n",
              "      <td>5</td>\n",
              "      <td>2001</td>\n",
              "      <td>2002</td>\n",
              "      <td>162</td>\n",
              "      <td>PConc</td>\n",
              "      <td>Gd</td>\n",
              "      <td>TA</td>\n",
              "      <td>...</td>\n",
              "      <td>0</td>\n",
              "      <td>0</td>\n",
              "      <td>0</td>\n",
              "      <td>1</td>\n",
              "      <td>0</td>\n",
              "      <td>0</td>\n",
              "      <td>0</td>\n",
              "      <td>0</td>\n",
              "      <td>0</td>\n",
              "      <td>1</td>\n",
              "    </tr>\n",
              "    <tr>\n",
              "      <th>3</th>\n",
              "      <td>60</td>\n",
              "      <td>9550</td>\n",
              "      <td>7</td>\n",
              "      <td>5</td>\n",
              "      <td>1915</td>\n",
              "      <td>1970</td>\n",
              "      <td>0</td>\n",
              "      <td>BrkTil</td>\n",
              "      <td>TA</td>\n",
              "      <td>Gd</td>\n",
              "      <td>...</td>\n",
              "      <td>0</td>\n",
              "      <td>0</td>\n",
              "      <td>0</td>\n",
              "      <td>0</td>\n",
              "      <td>1</td>\n",
              "      <td>0</td>\n",
              "      <td>0</td>\n",
              "      <td>0</td>\n",
              "      <td>0</td>\n",
              "      <td>1</td>\n",
              "    </tr>\n",
              "    <tr>\n",
              "      <th>4</th>\n",
              "      <td>84</td>\n",
              "      <td>14260</td>\n",
              "      <td>8</td>\n",
              "      <td>5</td>\n",
              "      <td>2000</td>\n",
              "      <td>2000</td>\n",
              "      <td>350</td>\n",
              "      <td>PConc</td>\n",
              "      <td>Gd</td>\n",
              "      <td>TA</td>\n",
              "      <td>...</td>\n",
              "      <td>0</td>\n",
              "      <td>0</td>\n",
              "      <td>0</td>\n",
              "      <td>1</td>\n",
              "      <td>0</td>\n",
              "      <td>0</td>\n",
              "      <td>0</td>\n",
              "      <td>0</td>\n",
              "      <td>0</td>\n",
              "      <td>1</td>\n",
              "    </tr>\n",
              "    <tr>\n",
              "      <th>...</th>\n",
              "      <td>...</td>\n",
              "      <td>...</td>\n",
              "      <td>...</td>\n",
              "      <td>...</td>\n",
              "      <td>...</td>\n",
              "      <td>...</td>\n",
              "      <td>...</td>\n",
              "      <td>...</td>\n",
              "      <td>...</td>\n",
              "      <td>...</td>\n",
              "      <td>...</td>\n",
              "      <td>...</td>\n",
              "      <td>...</td>\n",
              "      <td>...</td>\n",
              "      <td>...</td>\n",
              "      <td>...</td>\n",
              "      <td>...</td>\n",
              "      <td>...</td>\n",
              "      <td>...</td>\n",
              "      <td>...</td>\n",
              "      <td>...</td>\n",
              "    </tr>\n",
              "    <tr>\n",
              "      <th>1455</th>\n",
              "      <td>62</td>\n",
              "      <td>7917</td>\n",
              "      <td>6</td>\n",
              "      <td>5</td>\n",
              "      <td>1999</td>\n",
              "      <td>2000</td>\n",
              "      <td>0</td>\n",
              "      <td>PConc</td>\n",
              "      <td>Gd</td>\n",
              "      <td>TA</td>\n",
              "      <td>...</td>\n",
              "      <td>0</td>\n",
              "      <td>0</td>\n",
              "      <td>0</td>\n",
              "      <td>0</td>\n",
              "      <td>1</td>\n",
              "      <td>0</td>\n",
              "      <td>0</td>\n",
              "      <td>0</td>\n",
              "      <td>0</td>\n",
              "      <td>1</td>\n",
              "    </tr>\n",
              "    <tr>\n",
              "      <th>1456</th>\n",
              "      <td>85</td>\n",
              "      <td>13175</td>\n",
              "      <td>6</td>\n",
              "      <td>6</td>\n",
              "      <td>1978</td>\n",
              "      <td>1988</td>\n",
              "      <td>119</td>\n",
              "      <td>CBlock</td>\n",
              "      <td>Gd</td>\n",
              "      <td>TA</td>\n",
              "      <td>...</td>\n",
              "      <td>1</td>\n",
              "      <td>0</td>\n",
              "      <td>0</td>\n",
              "      <td>0</td>\n",
              "      <td>1</td>\n",
              "      <td>0</td>\n",
              "      <td>0</td>\n",
              "      <td>0</td>\n",
              "      <td>0</td>\n",
              "      <td>1</td>\n",
              "    </tr>\n",
              "    <tr>\n",
              "      <th>1457</th>\n",
              "      <td>66</td>\n",
              "      <td>9042</td>\n",
              "      <td>7</td>\n",
              "      <td>9</td>\n",
              "      <td>1941</td>\n",
              "      <td>2006</td>\n",
              "      <td>0</td>\n",
              "      <td>Stone</td>\n",
              "      <td>TA</td>\n",
              "      <td>Gd</td>\n",
              "      <td>...</td>\n",
              "      <td>0</td>\n",
              "      <td>1</td>\n",
              "      <td>0</td>\n",
              "      <td>0</td>\n",
              "      <td>0</td>\n",
              "      <td>0</td>\n",
              "      <td>0</td>\n",
              "      <td>1</td>\n",
              "      <td>0</td>\n",
              "      <td>0</td>\n",
              "    </tr>\n",
              "    <tr>\n",
              "      <th>1458</th>\n",
              "      <td>68</td>\n",
              "      <td>9717</td>\n",
              "      <td>5</td>\n",
              "      <td>6</td>\n",
              "      <td>1950</td>\n",
              "      <td>1996</td>\n",
              "      <td>0</td>\n",
              "      <td>CBlock</td>\n",
              "      <td>TA</td>\n",
              "      <td>TA</td>\n",
              "      <td>...</td>\n",
              "      <td>0</td>\n",
              "      <td>0</td>\n",
              "      <td>0</td>\n",
              "      <td>0</td>\n",
              "      <td>1</td>\n",
              "      <td>0</td>\n",
              "      <td>0</td>\n",
              "      <td>0</td>\n",
              "      <td>0</td>\n",
              "      <td>1</td>\n",
              "    </tr>\n",
              "    <tr>\n",
              "      <th>1459</th>\n",
              "      <td>75</td>\n",
              "      <td>9937</td>\n",
              "      <td>5</td>\n",
              "      <td>6</td>\n",
              "      <td>1965</td>\n",
              "      <td>1965</td>\n",
              "      <td>0</td>\n",
              "      <td>CBlock</td>\n",
              "      <td>TA</td>\n",
              "      <td>TA</td>\n",
              "      <td>...</td>\n",
              "      <td>0</td>\n",
              "      <td>0</td>\n",
              "      <td>0</td>\n",
              "      <td>1</td>\n",
              "      <td>0</td>\n",
              "      <td>0</td>\n",
              "      <td>0</td>\n",
              "      <td>0</td>\n",
              "      <td>0</td>\n",
              "      <td>1</td>\n",
              "    </tr>\n",
              "  </tbody>\n",
              "</table>\n",
              "<p>1452 rows × 215 columns</p>\n",
              "</div>\n",
              "      <button class=\"colab-df-convert\" onclick=\"convertToInteractive('df-51d71515-6122-447e-84be-ecf7a9689fc1')\"\n",
              "              title=\"Convert this dataframe to an interactive table.\"\n",
              "              style=\"display:none;\">\n",
              "        \n",
              "  <svg xmlns=\"http://www.w3.org/2000/svg\" height=\"24px\"viewBox=\"0 0 24 24\"\n",
              "       width=\"24px\">\n",
              "    <path d=\"M0 0h24v24H0V0z\" fill=\"none\"/>\n",
              "    <path d=\"M18.56 5.44l.94 2.06.94-2.06 2.06-.94-2.06-.94-.94-2.06-.94 2.06-2.06.94zm-11 1L8.5 8.5l.94-2.06 2.06-.94-2.06-.94L8.5 2.5l-.94 2.06-2.06.94zm10 10l.94 2.06.94-2.06 2.06-.94-2.06-.94-.94-2.06-.94 2.06-2.06.94z\"/><path d=\"M17.41 7.96l-1.37-1.37c-.4-.4-.92-.59-1.43-.59-.52 0-1.04.2-1.43.59L10.3 9.45l-7.72 7.72c-.78.78-.78 2.05 0 2.83L4 21.41c.39.39.9.59 1.41.59.51 0 1.02-.2 1.41-.59l7.78-7.78 2.81-2.81c.8-.78.8-2.07 0-2.86zM5.41 20L4 18.59l7.72-7.72 1.47 1.35L5.41 20z\"/>\n",
              "  </svg>\n",
              "      </button>\n",
              "      \n",
              "  <style>\n",
              "    .colab-df-container {\n",
              "      display:flex;\n",
              "      flex-wrap:wrap;\n",
              "      gap: 12px;\n",
              "    }\n",
              "\n",
              "    .colab-df-convert {\n",
              "      background-color: #E8F0FE;\n",
              "      border: none;\n",
              "      border-radius: 50%;\n",
              "      cursor: pointer;\n",
              "      display: none;\n",
              "      fill: #1967D2;\n",
              "      height: 32px;\n",
              "      padding: 0 0 0 0;\n",
              "      width: 32px;\n",
              "    }\n",
              "\n",
              "    .colab-df-convert:hover {\n",
              "      background-color: #E2EBFA;\n",
              "      box-shadow: 0px 1px 2px rgba(60, 64, 67, 0.3), 0px 1px 3px 1px rgba(60, 64, 67, 0.15);\n",
              "      fill: #174EA6;\n",
              "    }\n",
              "\n",
              "    [theme=dark] .colab-df-convert {\n",
              "      background-color: #3B4455;\n",
              "      fill: #D2E3FC;\n",
              "    }\n",
              "\n",
              "    [theme=dark] .colab-df-convert:hover {\n",
              "      background-color: #434B5C;\n",
              "      box-shadow: 0px 1px 3px 1px rgba(0, 0, 0, 0.15);\n",
              "      filter: drop-shadow(0px 1px 2px rgba(0, 0, 0, 0.3));\n",
              "      fill: #FFFFFF;\n",
              "    }\n",
              "  </style>\n",
              "\n",
              "      <script>\n",
              "        const buttonEl =\n",
              "          document.querySelector('#df-51d71515-6122-447e-84be-ecf7a9689fc1 button.colab-df-convert');\n",
              "        buttonEl.style.display =\n",
              "          google.colab.kernel.accessAllowed ? 'block' : 'none';\n",
              "\n",
              "        async function convertToInteractive(key) {\n",
              "          const element = document.querySelector('#df-51d71515-6122-447e-84be-ecf7a9689fc1');\n",
              "          const dataTable =\n",
              "            await google.colab.kernel.invokeFunction('convertToInteractive',\n",
              "                                                     [key], {});\n",
              "          if (!dataTable) return;\n",
              "\n",
              "          const docLinkHtml = 'Like what you see? Visit the ' +\n",
              "            '<a target=\"_blank\" href=https://colab.research.google.com/notebooks/data_table.ipynb>data table notebook</a>'\n",
              "            + ' to learn more about interactive tables.';\n",
              "          element.innerHTML = '';\n",
              "          dataTable['output_type'] = 'display_data';\n",
              "          await google.colab.output.renderOutput(dataTable, element);\n",
              "          const docLink = document.createElement('div');\n",
              "          docLink.innerHTML = docLinkHtml;\n",
              "          element.appendChild(docLink);\n",
              "        }\n",
              "      </script>\n",
              "    </div>\n",
              "  </div>\n",
              "  "
            ]
          },
          "metadata": {},
          "execution_count": 92
        }
      ]
    },
    {
      "cell_type": "markdown",
      "source": [
        "***Processing Foundation variable***"
      ],
      "metadata": {
        "id": "3ZTWO1ZkZPt2"
      }
    },
    {
      "cell_type": "code",
      "source": [
        "X.Foundation"
      ],
      "metadata": {
        "colab": {
          "base_uri": "https://localhost:8080/"
        },
        "id": "5oNGYjYZVUra",
        "outputId": "89aac813-2662-4df7-92d7-6c0727ecc335"
      },
      "execution_count": null,
      "outputs": [
        {
          "output_type": "execute_result",
          "data": {
            "text/plain": [
              "0        PConc\n",
              "1       CBlock\n",
              "2        PConc\n",
              "3       BrkTil\n",
              "4        PConc\n",
              "         ...  \n",
              "1455     PConc\n",
              "1456    CBlock\n",
              "1457     Stone\n",
              "1458    CBlock\n",
              "1459    CBlock\n",
              "Name: Foundation, Length: 1452, dtype: object"
            ]
          },
          "metadata": {},
          "execution_count": 93
        }
      ]
    },
    {
      "cell_type": "code",
      "source": [
        "sum(X.Foundation.isna())"
      ],
      "metadata": {
        "colab": {
          "base_uri": "https://localhost:8080/"
        },
        "id": "_5JUCKr8VUue",
        "outputId": "d5530472-1b4d-4b53-be1a-bd5355a4984b"
      },
      "execution_count": null,
      "outputs": [
        {
          "output_type": "execute_result",
          "data": {
            "text/plain": [
              "0"
            ]
          },
          "metadata": {},
          "execution_count": 94
        }
      ]
    },
    {
      "cell_type": "code",
      "source": [
        "X.Foundation.unique()"
      ],
      "metadata": {
        "colab": {
          "base_uri": "https://localhost:8080/"
        },
        "id": "VB3INyIfVUxp",
        "outputId": "64c7dca6-116a-4b0f-9b4b-7bd900094c36"
      },
      "execution_count": null,
      "outputs": [
        {
          "output_type": "execute_result",
          "data": {
            "text/plain": [
              "array(['PConc', 'CBlock', 'BrkTil', 'Wood', 'Slab', 'Stone'], dtype=object)"
            ]
          },
          "metadata": {},
          "execution_count": 95
        }
      ]
    },
    {
      "cell_type": "code",
      "source": [
        "X['Foundation'] = X['Foundation'].astype(str)\n",
        "X = pd.get_dummies(X, columns=['Foundation'])"
      ],
      "metadata": {
        "id": "SW2W9nCfVU0c"
      },
      "execution_count": null,
      "outputs": []
    },
    {
      "cell_type": "markdown",
      "source": [
        "***Processing BsmtQual variable***"
      ],
      "metadata": {
        "id": "WZkM8TGNaCL8"
      }
    },
    {
      "cell_type": "code",
      "source": [
        "X.BsmtQual"
      ],
      "metadata": {
        "colab": {
          "base_uri": "https://localhost:8080/"
        },
        "id": "0iQrrKwHVU3c",
        "outputId": "189a191e-e7ac-404c-9f9e-25fcb78f92d8"
      },
      "execution_count": null,
      "outputs": [
        {
          "output_type": "execute_result",
          "data": {
            "text/plain": [
              "0       Gd\n",
              "1       Gd\n",
              "2       Gd\n",
              "3       TA\n",
              "4       Gd\n",
              "        ..\n",
              "1455    Gd\n",
              "1456    Gd\n",
              "1457    TA\n",
              "1458    TA\n",
              "1459    TA\n",
              "Name: BsmtQual, Length: 1452, dtype: object"
            ]
          },
          "metadata": {},
          "execution_count": 97
        }
      ]
    },
    {
      "cell_type": "code",
      "source": [
        "sum(X.BsmtQual.isna())"
      ],
      "metadata": {
        "colab": {
          "base_uri": "https://localhost:8080/"
        },
        "id": "7FDmlsT4aWr8",
        "outputId": "388e6b71-c710-48d8-85ad-80cef7229da1"
      },
      "execution_count": null,
      "outputs": [
        {
          "output_type": "execute_result",
          "data": {
            "text/plain": [
              "37"
            ]
          },
          "metadata": {},
          "execution_count": 98
        }
      ]
    },
    {
      "cell_type": "code",
      "source": [
        "X = X.dropna(subset=['BsmtQual'])"
      ],
      "metadata": {
        "id": "MxZSBeVDaWyI"
      },
      "execution_count": null,
      "outputs": []
    },
    {
      "cell_type": "code",
      "source": [
        "X.BsmtQual.unique()"
      ],
      "metadata": {
        "colab": {
          "base_uri": "https://localhost:8080/"
        },
        "id": "YXULxapaaWvI",
        "outputId": "d2fd7e4d-36d0-4aeb-a58b-17214620e7fa"
      },
      "execution_count": null,
      "outputs": [
        {
          "output_type": "execute_result",
          "data": {
            "text/plain": [
              "array(['Gd', 'TA', 'Ex', 'Fa'], dtype=object)"
            ]
          },
          "metadata": {},
          "execution_count": 100
        }
      ]
    },
    {
      "cell_type": "code",
      "source": [
        "X['BsmtQual'] = X['BsmtQual'].astype(str)\n",
        "X = pd.get_dummies(X, columns=['BsmtQual'])"
      ],
      "metadata": {
        "id": "F54A6IIlaW0z"
      },
      "execution_count": null,
      "outputs": []
    },
    {
      "cell_type": "markdown",
      "source": [
        " ***Processing BsmtCond variable***"
      ],
      "metadata": {
        "id": "nA6NzRN4bK-2"
      }
    },
    {
      "cell_type": "code",
      "source": [
        "X.BsmtCond"
      ],
      "metadata": {
        "colab": {
          "base_uri": "https://localhost:8080/"
        },
        "id": "vRZRwUYqaW6V",
        "outputId": "d3751792-0963-457e-fa88-1c278de7bc3c"
      },
      "execution_count": null,
      "outputs": [
        {
          "output_type": "execute_result",
          "data": {
            "text/plain": [
              "0       TA\n",
              "1       TA\n",
              "2       TA\n",
              "3       Gd\n",
              "4       TA\n",
              "        ..\n",
              "1455    TA\n",
              "1456    TA\n",
              "1457    Gd\n",
              "1458    TA\n",
              "1459    TA\n",
              "Name: BsmtCond, Length: 1415, dtype: object"
            ]
          },
          "metadata": {},
          "execution_count": 102
        }
      ]
    },
    {
      "cell_type": "code",
      "source": [
        "sum(X.BsmtCond.isna())"
      ],
      "metadata": {
        "colab": {
          "base_uri": "https://localhost:8080/"
        },
        "id": "TrG8dGduaW9T",
        "outputId": "40caebff-7017-4418-f7a3-f1177bc2b98d"
      },
      "execution_count": null,
      "outputs": [
        {
          "output_type": "execute_result",
          "data": {
            "text/plain": [
              "0"
            ]
          },
          "metadata": {},
          "execution_count": 103
        }
      ]
    },
    {
      "cell_type": "code",
      "source": [
        "X.BsmtCond.unique()"
      ],
      "metadata": {
        "colab": {
          "base_uri": "https://localhost:8080/"
        },
        "id": "39-JXBzLaW_1",
        "outputId": "d792429b-ed5f-45cd-eeee-5a0713839109"
      },
      "execution_count": null,
      "outputs": [
        {
          "output_type": "execute_result",
          "data": {
            "text/plain": [
              "array(['TA', 'Gd', 'Fa', 'Po'], dtype=object)"
            ]
          },
          "metadata": {},
          "execution_count": 104
        }
      ]
    },
    {
      "cell_type": "code",
      "source": [
        "X['BsmtCond'] = X['BsmtCond'].astype(str)\n",
        "X = pd.get_dummies(X, columns=['BsmtCond'])"
      ],
      "metadata": {
        "id": "I7_2kl3faXCv"
      },
      "execution_count": null,
      "outputs": []
    },
    {
      "cell_type": "code",
      "source": [],
      "metadata": {
        "id": "nEP-YGUxaXRi"
      },
      "execution_count": null,
      "outputs": []
    },
    {
      "cell_type": "code",
      "source": [],
      "metadata": {
        "id": "Z7sLrLjNaXUe"
      },
      "execution_count": null,
      "outputs": []
    },
    {
      "cell_type": "markdown",
      "source": [
        "***Processing BsmtExposure variable***"
      ],
      "metadata": {
        "id": "QT-NHA4-n6Hp"
      }
    },
    {
      "cell_type": "code",
      "source": [
        "X.BsmtExposure"
      ],
      "metadata": {
        "colab": {
          "base_uri": "https://localhost:8080/"
        },
        "id": "N5ZYZXTlaXXg",
        "outputId": "49448fa8-1498-4979-c864-29a5b75afb3c"
      },
      "execution_count": null,
      "outputs": [
        {
          "output_type": "execute_result",
          "data": {
            "text/plain": [
              "0       No\n",
              "1       Gd\n",
              "2       Mn\n",
              "3       No\n",
              "4       Av\n",
              "        ..\n",
              "1455    No\n",
              "1456    No\n",
              "1457    No\n",
              "1458    Mn\n",
              "1459    No\n",
              "Name: BsmtExposure, Length: 1415, dtype: object"
            ]
          },
          "metadata": {},
          "execution_count": 106
        }
      ]
    },
    {
      "cell_type": "code",
      "source": [
        "X = X.dropna(subset=['BsmtExposure'])"
      ],
      "metadata": {
        "id": "jARgq2XGVU_Q"
      },
      "execution_count": null,
      "outputs": []
    },
    {
      "cell_type": "code",
      "source": [
        "sum(X.BsmtExposure.isna())"
      ],
      "metadata": {
        "colab": {
          "base_uri": "https://localhost:8080/"
        },
        "id": "jfVPS3VWVU57",
        "outputId": "7d4f7f68-868d-43fa-e899-c5a0413978dd"
      },
      "execution_count": null,
      "outputs": [
        {
          "output_type": "execute_result",
          "data": {
            "text/plain": [
              "0"
            ]
          },
          "metadata": {},
          "execution_count": 108
        }
      ]
    },
    {
      "cell_type": "code",
      "source": [
        "X.BsmtExposure.unique()"
      ],
      "metadata": {
        "colab": {
          "base_uri": "https://localhost:8080/"
        },
        "id": "pVWE9Mi_VU8z",
        "outputId": "98c124fd-b685-48cb-f067-fff93521e4b7"
      },
      "execution_count": null,
      "outputs": [
        {
          "output_type": "execute_result",
          "data": {
            "text/plain": [
              "array(['No', 'Gd', 'Mn', 'Av'], dtype=object)"
            ]
          },
          "metadata": {},
          "execution_count": 109
        }
      ]
    },
    {
      "cell_type": "code",
      "source": [
        "X['BsmtExposure'] = X['BsmtExposure'].astype(str)\n",
        "X = pd.get_dummies(X, columns=['BsmtExposure'])"
      ],
      "metadata": {
        "id": "EQ14wAT5ip5E"
      },
      "execution_count": null,
      "outputs": []
    },
    {
      "cell_type": "markdown",
      "source": [
        "***Processing BsmtFinType1 variable***"
      ],
      "metadata": {
        "id": "bC8Fm70YoqoV"
      }
    },
    {
      "cell_type": "code",
      "source": [
        "X.BsmtFinType1"
      ],
      "metadata": {
        "colab": {
          "base_uri": "https://localhost:8080/"
        },
        "id": "6za6AKnRip8N",
        "outputId": "0498f97c-c613-4717-9208-d0501b4ee275"
      },
      "execution_count": null,
      "outputs": [
        {
          "output_type": "execute_result",
          "data": {
            "text/plain": [
              "0       GLQ\n",
              "1       ALQ\n",
              "2       GLQ\n",
              "3       ALQ\n",
              "4       GLQ\n",
              "       ... \n",
              "1455    Unf\n",
              "1456    ALQ\n",
              "1457    GLQ\n",
              "1458    GLQ\n",
              "1459    BLQ\n",
              "Name: BsmtFinType1, Length: 1414, dtype: object"
            ]
          },
          "metadata": {},
          "execution_count": 111
        }
      ]
    },
    {
      "cell_type": "code",
      "source": [
        "sum(X.BsmtFinType1.isna())"
      ],
      "metadata": {
        "colab": {
          "base_uri": "https://localhost:8080/"
        },
        "id": "4XgIzUXJoXOK",
        "outputId": "47cf3c82-90d7-45d6-fba6-2c1915580434"
      },
      "execution_count": null,
      "outputs": [
        {
          "output_type": "execute_result",
          "data": {
            "text/plain": [
              "0"
            ]
          },
          "metadata": {},
          "execution_count": 112
        }
      ]
    },
    {
      "cell_type": "code",
      "source": [
        "X.BsmtFinType1.unique()"
      ],
      "metadata": {
        "colab": {
          "base_uri": "https://localhost:8080/"
        },
        "id": "wlHuGrUVoXSq",
        "outputId": "2fecf689-253d-492d-86f9-06d3b2e66346"
      },
      "execution_count": null,
      "outputs": [
        {
          "output_type": "execute_result",
          "data": {
            "text/plain": [
              "array(['GLQ', 'ALQ', 'Unf', 'Rec', 'BLQ', 'LwQ'], dtype=object)"
            ]
          },
          "metadata": {},
          "execution_count": 113
        }
      ]
    },
    {
      "cell_type": "code",
      "source": [
        "X['BsmtFinType1'] = X['BsmtFinType1'].astype(str)\n",
        "X = pd.get_dummies(X, columns=['BsmtFinType1'])"
      ],
      "metadata": {
        "id": "PsrMHxmuoXWM"
      },
      "execution_count": null,
      "outputs": []
    },
    {
      "cell_type": "code",
      "source": [],
      "metadata": {
        "id": "aSorqRaQoXcE"
      },
      "execution_count": null,
      "outputs": []
    },
    {
      "cell_type": "markdown",
      "source": [
        "***Processing BsmtFinSF1 variable***"
      ],
      "metadata": {
        "id": "Gb_mXJnWpdiT"
      }
    },
    {
      "cell_type": "code",
      "source": [
        "X.BsmtFinSF1"
      ],
      "metadata": {
        "colab": {
          "base_uri": "https://localhost:8080/"
        },
        "id": "maj-uc94oXZX",
        "outputId": "420cd95a-f16d-4e3e-babc-f9d232bb9f12"
      },
      "execution_count": null,
      "outputs": [
        {
          "output_type": "execute_result",
          "data": {
            "text/plain": [
              "0       706\n",
              "1       978\n",
              "2       486\n",
              "3       216\n",
              "4       655\n",
              "       ... \n",
              "1455      0\n",
              "1456    790\n",
              "1457    275\n",
              "1458     49\n",
              "1459    830\n",
              "Name: BsmtFinSF1, Length: 1414, dtype: int64"
            ]
          },
          "metadata": {},
          "execution_count": 115
        }
      ]
    },
    {
      "cell_type": "code",
      "source": [
        "sum(X.BsmtFinSF1.isna())"
      ],
      "metadata": {
        "colab": {
          "base_uri": "https://localhost:8080/"
        },
        "id": "Z8vrkiMBoXey",
        "outputId": "e019a575-fc29-4af7-b71b-f43693bd66b4"
      },
      "execution_count": null,
      "outputs": [
        {
          "output_type": "execute_result",
          "data": {
            "text/plain": [
              "0"
            ]
          },
          "metadata": {},
          "execution_count": 116
        }
      ]
    },
    {
      "cell_type": "markdown",
      "source": [
        "***Processing BsmtFinType2 variable***"
      ],
      "metadata": {
        "id": "laWvH8bdpvp5"
      }
    },
    {
      "cell_type": "code",
      "source": [
        "X.BsmtFinType2"
      ],
      "metadata": {
        "colab": {
          "base_uri": "https://localhost:8080/"
        },
        "id": "NKQHoM38oXh-",
        "outputId": "0217519f-aca1-464e-f4d2-4d452c0a0e1f"
      },
      "execution_count": null,
      "outputs": [
        {
          "output_type": "execute_result",
          "data": {
            "text/plain": [
              "0       Unf\n",
              "1       Unf\n",
              "2       Unf\n",
              "3       Unf\n",
              "4       Unf\n",
              "       ... \n",
              "1455    Unf\n",
              "1456    Rec\n",
              "1457    Unf\n",
              "1458    Rec\n",
              "1459    LwQ\n",
              "Name: BsmtFinType2, Length: 1414, dtype: object"
            ]
          },
          "metadata": {},
          "execution_count": 117
        }
      ]
    },
    {
      "cell_type": "code",
      "source": [
        "X = X.dropna(subset=['BsmtFinType2'])"
      ],
      "metadata": {
        "id": "gbIryJzGoXoo"
      },
      "execution_count": null,
      "outputs": []
    },
    {
      "cell_type": "code",
      "source": [
        "sum(X.BsmtFinType2.isna())"
      ],
      "metadata": {
        "colab": {
          "base_uri": "https://localhost:8080/"
        },
        "id": "ff5y4icBoXlc",
        "outputId": "6c42e182-3abe-41a1-9675-204d28521054"
      },
      "execution_count": null,
      "outputs": [
        {
          "output_type": "execute_result",
          "data": {
            "text/plain": [
              "0"
            ]
          },
          "metadata": {},
          "execution_count": 119
        }
      ]
    },
    {
      "cell_type": "code",
      "source": [
        "X.BsmtFinType2.unique()"
      ],
      "metadata": {
        "colab": {
          "base_uri": "https://localhost:8080/"
        },
        "id": "VeG9nIrwqHRn",
        "outputId": "3da08019-5402-4874-86b5-beb94151b962"
      },
      "execution_count": null,
      "outputs": [
        {
          "output_type": "execute_result",
          "data": {
            "text/plain": [
              "array(['Unf', 'BLQ', 'ALQ', 'Rec', 'LwQ', 'GLQ'], dtype=object)"
            ]
          },
          "metadata": {},
          "execution_count": 120
        }
      ]
    },
    {
      "cell_type": "code",
      "source": [
        "X['BsmtFinType2'] = X['BsmtFinType2'].astype(str)\n",
        "X = pd.get_dummies(X, columns=['BsmtFinType2'])"
      ],
      "metadata": {
        "id": "Z4jdcUVcoXrY"
      },
      "execution_count": null,
      "outputs": []
    },
    {
      "cell_type": "markdown",
      "source": [
        "***Processing BsmtFinSF2 variable***"
      ],
      "metadata": {
        "id": "xzeWDUU8qfn3"
      }
    },
    {
      "cell_type": "code",
      "source": [
        "X.BsmtFinSF2"
      ],
      "metadata": {
        "colab": {
          "base_uri": "https://localhost:8080/"
        },
        "id": "Rvikp26GoXt9",
        "outputId": "e815ce3c-53dd-4cd5-808c-08101f5e6416"
      },
      "execution_count": null,
      "outputs": [
        {
          "output_type": "execute_result",
          "data": {
            "text/plain": [
              "0          0\n",
              "1          0\n",
              "2          0\n",
              "3          0\n",
              "4          0\n",
              "        ... \n",
              "1455       0\n",
              "1456     163\n",
              "1457       0\n",
              "1458    1029\n",
              "1459     290\n",
              "Name: BsmtFinSF2, Length: 1413, dtype: int64"
            ]
          },
          "metadata": {},
          "execution_count": 122
        }
      ]
    },
    {
      "cell_type": "code",
      "source": [
        "sum(X.BsmtFinSF2.isna())"
      ],
      "metadata": {
        "colab": {
          "base_uri": "https://localhost:8080/"
        },
        "id": "JsL-G0aWoXws",
        "outputId": "a35edcc0-7ca3-452a-bed3-ce46f1ce3132"
      },
      "execution_count": null,
      "outputs": [
        {
          "output_type": "execute_result",
          "data": {
            "text/plain": [
              "0"
            ]
          },
          "metadata": {},
          "execution_count": 123
        }
      ]
    },
    {
      "cell_type": "code",
      "source": [],
      "metadata": {
        "id": "ICJD2srOqmqK"
      },
      "execution_count": null,
      "outputs": []
    },
    {
      "cell_type": "markdown",
      "source": [
        "***Processing BsmtUnfSF variable***"
      ],
      "metadata": {
        "id": "gH6PEvJ7rC9F"
      }
    },
    {
      "cell_type": "code",
      "source": [
        "X.BsmtUnfSF"
      ],
      "metadata": {
        "colab": {
          "base_uri": "https://localhost:8080/"
        },
        "id": "UB75sUb_qmtd",
        "outputId": "be8e44ba-98e3-4112-c2d8-6a85aa0292bd"
      },
      "execution_count": null,
      "outputs": [
        {
          "output_type": "execute_result",
          "data": {
            "text/plain": [
              "0       150\n",
              "1       284\n",
              "2       434\n",
              "3       540\n",
              "4       490\n",
              "       ... \n",
              "1455    953\n",
              "1456    589\n",
              "1457    877\n",
              "1458      0\n",
              "1459    136\n",
              "Name: BsmtUnfSF, Length: 1413, dtype: int64"
            ]
          },
          "metadata": {},
          "execution_count": 124
        }
      ]
    },
    {
      "cell_type": "code",
      "source": [
        "sum(X.BsmtUnfSF.isna())"
      ],
      "metadata": {
        "colab": {
          "base_uri": "https://localhost:8080/"
        },
        "id": "YcAaOqwVqmwk",
        "outputId": "06de02c9-d7c2-42c1-df81-6ce369605198"
      },
      "execution_count": null,
      "outputs": [
        {
          "output_type": "execute_result",
          "data": {
            "text/plain": [
              "0"
            ]
          },
          "metadata": {},
          "execution_count": 125
        }
      ]
    },
    {
      "cell_type": "markdown",
      "source": [
        "***Processing TotalBsmtSF variable***"
      ],
      "metadata": {
        "id": "ILxsOvWYrajr"
      }
    },
    {
      "cell_type": "code",
      "source": [
        "X.TotalBsmtSF"
      ],
      "metadata": {
        "colab": {
          "base_uri": "https://localhost:8080/"
        },
        "id": "-BV6UV-Mqm-b",
        "outputId": "78b3ad50-ac31-480e-97fc-05d153c9d661"
      },
      "execution_count": null,
      "outputs": [
        {
          "output_type": "execute_result",
          "data": {
            "text/plain": [
              "0        856\n",
              "1       1262\n",
              "2        920\n",
              "3        756\n",
              "4       1145\n",
              "        ... \n",
              "1455     953\n",
              "1456    1542\n",
              "1457    1152\n",
              "1458    1078\n",
              "1459    1256\n",
              "Name: TotalBsmtSF, Length: 1413, dtype: int64"
            ]
          },
          "metadata": {},
          "execution_count": 126
        }
      ]
    },
    {
      "cell_type": "code",
      "source": [
        "sum(X.TotalBsmtSF.isna())"
      ],
      "metadata": {
        "colab": {
          "base_uri": "https://localhost:8080/"
        },
        "id": "gKCxDxMiqm3G",
        "outputId": "dd05cb60-fbcd-4b0d-8ee0-209381d3f5b1"
      },
      "execution_count": null,
      "outputs": [
        {
          "output_type": "execute_result",
          "data": {
            "text/plain": [
              "0"
            ]
          },
          "metadata": {},
          "execution_count": 127
        }
      ]
    },
    {
      "cell_type": "markdown",
      "source": [
        "***Processing Heating variable***"
      ],
      "metadata": {
        "id": "R4EUDs3zrtmt"
      }
    },
    {
      "cell_type": "code",
      "source": [
        "X.Heating"
      ],
      "metadata": {
        "colab": {
          "base_uri": "https://localhost:8080/"
        },
        "id": "2hSZtDCCqnBU",
        "outputId": "25118797-2dea-489f-fde1-3ed3366477c4"
      },
      "execution_count": null,
      "outputs": [
        {
          "output_type": "execute_result",
          "data": {
            "text/plain": [
              "0       GasA\n",
              "1       GasA\n",
              "2       GasA\n",
              "3       GasA\n",
              "4       GasA\n",
              "        ... \n",
              "1455    GasA\n",
              "1456    GasA\n",
              "1457    GasA\n",
              "1458    GasA\n",
              "1459    GasA\n",
              "Name: Heating, Length: 1413, dtype: object"
            ]
          },
          "metadata": {},
          "execution_count": 128
        }
      ]
    },
    {
      "cell_type": "code",
      "source": [
        "sum(X.Heating.isna())"
      ],
      "metadata": {
        "colab": {
          "base_uri": "https://localhost:8080/"
        },
        "id": "fBCsdcD2qnEs",
        "outputId": "59d5887a-5976-49e7-dccf-78dd024734aa"
      },
      "execution_count": null,
      "outputs": [
        {
          "output_type": "execute_result",
          "data": {
            "text/plain": [
              "0"
            ]
          },
          "metadata": {},
          "execution_count": 129
        }
      ]
    },
    {
      "cell_type": "code",
      "source": [
        "X.Heating.unique()"
      ],
      "metadata": {
        "colab": {
          "base_uri": "https://localhost:8080/"
        },
        "id": "MMUBoUfWqnHx",
        "outputId": "92d4192a-6a09-4c0b-fb66-b30f739e38e4"
      },
      "execution_count": null,
      "outputs": [
        {
          "output_type": "execute_result",
          "data": {
            "text/plain": [
              "array(['GasA', 'GasW', 'Grav', 'OthW'], dtype=object)"
            ]
          },
          "metadata": {},
          "execution_count": 130
        }
      ]
    },
    {
      "cell_type": "code",
      "source": [
        "X['Heating'] = X['Heating'].astype(str)\n",
        "X = pd.get_dummies(X, columns=['Heating'])"
      ],
      "metadata": {
        "id": "HRfugF_FqnKu"
      },
      "execution_count": null,
      "outputs": []
    },
    {
      "cell_type": "markdown",
      "source": [
        "***Processing HeatingQC variable***"
      ],
      "metadata": {
        "id": "_0DWW7zHsV0Z"
      }
    },
    {
      "cell_type": "code",
      "source": [
        "X.HeatingQC"
      ],
      "metadata": {
        "colab": {
          "base_uri": "https://localhost:8080/"
        },
        "id": "SU3raLUJqnQy",
        "outputId": "66c19eba-4648-4a35-e042-83cb1a706740"
      },
      "execution_count": null,
      "outputs": [
        {
          "output_type": "execute_result",
          "data": {
            "text/plain": [
              "0       Ex\n",
              "1       Ex\n",
              "2       Ex\n",
              "3       Gd\n",
              "4       Ex\n",
              "        ..\n",
              "1455    Ex\n",
              "1456    TA\n",
              "1457    Ex\n",
              "1458    Gd\n",
              "1459    Gd\n",
              "Name: HeatingQC, Length: 1413, dtype: object"
            ]
          },
          "metadata": {},
          "execution_count": 132
        }
      ]
    },
    {
      "cell_type": "code",
      "source": [
        "sum(X.HeatingQC.isna())"
      ],
      "metadata": {
        "colab": {
          "base_uri": "https://localhost:8080/"
        },
        "id": "sjAAVbDbqnNz",
        "outputId": "8bc82000-9eed-414e-e78c-16457ab386e8"
      },
      "execution_count": null,
      "outputs": [
        {
          "output_type": "execute_result",
          "data": {
            "text/plain": [
              "0"
            ]
          },
          "metadata": {},
          "execution_count": 133
        }
      ]
    },
    {
      "cell_type": "code",
      "source": [
        "X['HeatingQC'] = X['HeatingQC'].astype(str)\n",
        "X = pd.get_dummies(X, columns=['HeatingQC'])"
      ],
      "metadata": {
        "id": "vHayszjaqnTr"
      },
      "execution_count": null,
      "outputs": []
    },
    {
      "cell_type": "markdown",
      "source": [
        "***Processing CentralAir variable***"
      ],
      "metadata": {
        "id": "urS_bAoHsxLS"
      }
    },
    {
      "cell_type": "code",
      "source": [
        "X.CentralAir"
      ],
      "metadata": {
        "colab": {
          "base_uri": "https://localhost:8080/"
        },
        "id": "58bju7tcqnWn",
        "outputId": "667371af-78dc-4be1-f3d1-c8d3a5421fda"
      },
      "execution_count": null,
      "outputs": [
        {
          "output_type": "execute_result",
          "data": {
            "text/plain": [
              "0       Y\n",
              "1       Y\n",
              "2       Y\n",
              "3       Y\n",
              "4       Y\n",
              "       ..\n",
              "1455    Y\n",
              "1456    Y\n",
              "1457    Y\n",
              "1458    Y\n",
              "1459    Y\n",
              "Name: CentralAir, Length: 1413, dtype: object"
            ]
          },
          "metadata": {},
          "execution_count": 135
        }
      ]
    },
    {
      "cell_type": "code",
      "source": [
        "X.CentralAir.unique()"
      ],
      "metadata": {
        "colab": {
          "base_uri": "https://localhost:8080/"
        },
        "id": "DuahK3Cvsubo",
        "outputId": "93476a4c-653f-469c-8761-f051f65c7068"
      },
      "execution_count": null,
      "outputs": [
        {
          "output_type": "execute_result",
          "data": {
            "text/plain": [
              "array(['Y', 'N'], dtype=object)"
            ]
          },
          "metadata": {},
          "execution_count": 136
        }
      ]
    },
    {
      "cell_type": "code",
      "source": [
        "sum(X.CentralAir.isna())"
      ],
      "metadata": {
        "colab": {
          "base_uri": "https://localhost:8080/"
        },
        "id": "VLwLp47Psueq",
        "outputId": "7131c549-bbe2-49cd-a638-435e3c561110"
      },
      "execution_count": null,
      "outputs": [
        {
          "output_type": "execute_result",
          "data": {
            "text/plain": [
              "0"
            ]
          },
          "metadata": {},
          "execution_count": 137
        }
      ]
    },
    {
      "cell_type": "code",
      "source": [
        "X['CentralAir'] = X['CentralAir'].astype(str)\n",
        "X = pd.get_dummies(X, columns=['CentralAir'])"
      ],
      "metadata": {
        "id": "gZ_Hg3a-suiM"
      },
      "execution_count": null,
      "outputs": []
    },
    {
      "cell_type": "code",
      "source": [],
      "metadata": {
        "id": "x36yxtdlsulc"
      },
      "execution_count": null,
      "outputs": []
    },
    {
      "cell_type": "markdown",
      "source": [
        "***Processing Electrical variable***"
      ],
      "metadata": {
        "id": "LCHqH1EHzZNW"
      }
    },
    {
      "cell_type": "code",
      "source": [
        "X.Electrical"
      ],
      "metadata": {
        "colab": {
          "base_uri": "https://localhost:8080/"
        },
        "id": "zXocMzh3suok",
        "outputId": "13e4a7f5-5e6a-46d2-dce2-c1e4bcb283a3"
      },
      "execution_count": null,
      "outputs": [
        {
          "output_type": "execute_result",
          "data": {
            "text/plain": [
              "0       SBrkr\n",
              "1       SBrkr\n",
              "2       SBrkr\n",
              "3       SBrkr\n",
              "4       SBrkr\n",
              "        ...  \n",
              "1455    SBrkr\n",
              "1456    SBrkr\n",
              "1457    SBrkr\n",
              "1458    FuseA\n",
              "1459    SBrkr\n",
              "Name: Electrical, Length: 1413, dtype: object"
            ]
          },
          "metadata": {},
          "execution_count": 139
        }
      ]
    },
    {
      "cell_type": "code",
      "source": [
        "X.Electrical.unique()"
      ],
      "metadata": {
        "colab": {
          "base_uri": "https://localhost:8080/"
        },
        "id": "FobGtS7asurl",
        "outputId": "853c71b3-9187-4b1a-fa6f-49b69826f575"
      },
      "execution_count": null,
      "outputs": [
        {
          "output_type": "execute_result",
          "data": {
            "text/plain": [
              "array(['SBrkr', 'FuseF', 'FuseA', 'FuseP', 'Mix', nan], dtype=object)"
            ]
          },
          "metadata": {},
          "execution_count": 140
        }
      ]
    },
    {
      "cell_type": "code",
      "source": [
        "X = X.dropna(subset=['Electrical'])"
      ],
      "metadata": {
        "id": "fnGiSTRisuxT"
      },
      "execution_count": null,
      "outputs": []
    },
    {
      "cell_type": "code",
      "source": [
        "sum(X.Electrical.isna())"
      ],
      "metadata": {
        "colab": {
          "base_uri": "https://localhost:8080/"
        },
        "id": "2T4FdLYlsuug",
        "outputId": "730d7db4-de67-4c08-b664-01d5391e85d3"
      },
      "execution_count": null,
      "outputs": [
        {
          "output_type": "execute_result",
          "data": {
            "text/plain": [
              "0"
            ]
          },
          "metadata": {},
          "execution_count": 142
        }
      ]
    },
    {
      "cell_type": "code",
      "source": [
        "X['Electrical'] = X['Electrical'].astype(str)\n",
        "X = pd.get_dummies(X, columns=['Electrical'])"
      ],
      "metadata": {
        "id": "hxdBNpkVsu0z"
      },
      "execution_count": null,
      "outputs": []
    },
    {
      "cell_type": "markdown",
      "source": [
        "***Processing 1stFlrSF variable***"
      ],
      "metadata": {
        "id": "UakOPmLw0Q8q"
      }
    },
    {
      "cell_type": "code",
      "source": [
        "X.rename(columns = {'1stFlrSF':'FirstFlrSF'}, inplace = True)"
      ],
      "metadata": {
        "id": "tawZWheKsu3x"
      },
      "execution_count": null,
      "outputs": []
    },
    {
      "cell_type": "code",
      "source": [
        "X.FirstFlrSF"
      ],
      "metadata": {
        "colab": {
          "base_uri": "https://localhost:8080/"
        },
        "id": "2fGF2HStsu6x",
        "outputId": "d1b1b5b3-08b7-4937-8ee1-2f6dca8ccbf6"
      },
      "execution_count": null,
      "outputs": [
        {
          "output_type": "execute_result",
          "data": {
            "text/plain": [
              "0        856\n",
              "1       1262\n",
              "2        920\n",
              "3        961\n",
              "4       1145\n",
              "        ... \n",
              "1455     953\n",
              "1456    2073\n",
              "1457    1188\n",
              "1458    1078\n",
              "1459    1256\n",
              "Name: FirstFlrSF, Length: 1412, dtype: int64"
            ]
          },
          "metadata": {},
          "execution_count": 145
        }
      ]
    },
    {
      "cell_type": "code",
      "source": [
        "sum(X.FirstFlrSF.isna())"
      ],
      "metadata": {
        "colab": {
          "base_uri": "https://localhost:8080/"
        },
        "id": "Z4nD3XTrsu-O",
        "outputId": "d65c1ec7-d2f9-441b-97df-5fab8dba7d93"
      },
      "execution_count": null,
      "outputs": [
        {
          "output_type": "execute_result",
          "data": {
            "text/plain": [
              "0"
            ]
          },
          "metadata": {},
          "execution_count": 146
        }
      ]
    },
    {
      "cell_type": "code",
      "source": [],
      "metadata": {
        "id": "P7ESkCyA0B4P"
      },
      "execution_count": null,
      "outputs": []
    },
    {
      "cell_type": "markdown",
      "source": [
        "***Processing 2ndFlrSF variable***"
      ],
      "metadata": {
        "id": "k9tRAm2j1UJV"
      }
    },
    {
      "cell_type": "code",
      "source": [
        "X.rename(columns = {'2ndFlrSF':'SecondFlrSF'}, inplace = True)"
      ],
      "metadata": {
        "id": "JBRMnfC91Y1A"
      },
      "execution_count": null,
      "outputs": []
    },
    {
      "cell_type": "code",
      "source": [
        "X.SecondFlrSF"
      ],
      "metadata": {
        "colab": {
          "base_uri": "https://localhost:8080/"
        },
        "id": "W9yVbGtw0B9Y",
        "outputId": "4f1c21bf-4e8d-4baf-cfac-d83c6362d11f"
      },
      "execution_count": null,
      "outputs": [
        {
          "output_type": "execute_result",
          "data": {
            "text/plain": [
              "0        854\n",
              "1          0\n",
              "2        866\n",
              "3        756\n",
              "4       1053\n",
              "        ... \n",
              "1455     694\n",
              "1456       0\n",
              "1457    1152\n",
              "1458       0\n",
              "1459       0\n",
              "Name: SecondFlrSF, Length: 1412, dtype: int64"
            ]
          },
          "metadata": {},
          "execution_count": 148
        }
      ]
    },
    {
      "cell_type": "code",
      "source": [
        "sum(X.SecondFlrSF.isna())"
      ],
      "metadata": {
        "colab": {
          "base_uri": "https://localhost:8080/"
        },
        "id": "scXGf6SR0CA1",
        "outputId": "ebbc0cb8-4479-430b-feb2-1650908e0913"
      },
      "execution_count": null,
      "outputs": [
        {
          "output_type": "execute_result",
          "data": {
            "text/plain": [
              "0"
            ]
          },
          "metadata": {},
          "execution_count": 149
        }
      ]
    },
    {
      "cell_type": "markdown",
      "source": [
        "***Processing LowQualFinSF variable***"
      ],
      "metadata": {
        "id": "y7dDkDLx1upd"
      }
    },
    {
      "cell_type": "code",
      "source": [
        "X.LowQualFinSF"
      ],
      "metadata": {
        "colab": {
          "base_uri": "https://localhost:8080/"
        },
        "id": "Hry7_rVJ0CH7",
        "outputId": "66e8683c-efa6-4778-b67a-e67745791cd6"
      },
      "execution_count": null,
      "outputs": [
        {
          "output_type": "execute_result",
          "data": {
            "text/plain": [
              "0       0\n",
              "1       0\n",
              "2       0\n",
              "3       0\n",
              "4       0\n",
              "       ..\n",
              "1455    0\n",
              "1456    0\n",
              "1457    0\n",
              "1458    0\n",
              "1459    0\n",
              "Name: LowQualFinSF, Length: 1412, dtype: int64"
            ]
          },
          "metadata": {},
          "execution_count": 150
        }
      ]
    },
    {
      "cell_type": "code",
      "source": [
        "sum(X.LowQualFinSF.isna())"
      ],
      "metadata": {
        "colab": {
          "base_uri": "https://localhost:8080/"
        },
        "id": "ffjXXs7e0CEn",
        "outputId": "43d2e4da-cc19-46f3-ce2b-f777cfbe51a0"
      },
      "execution_count": null,
      "outputs": [
        {
          "output_type": "execute_result",
          "data": {
            "text/plain": [
              "0"
            ]
          },
          "metadata": {},
          "execution_count": 151
        }
      ]
    },
    {
      "cell_type": "markdown",
      "source": [
        "***Processing GrLivArea variable***"
      ],
      "metadata": {
        "id": "hktDwz2p1_EX"
      }
    },
    {
      "cell_type": "code",
      "source": [
        "X.GrLivArea"
      ],
      "metadata": {
        "colab": {
          "base_uri": "https://localhost:8080/"
        },
        "id": "_U7WxBMn0CLf",
        "outputId": "f7587f94-eb34-47f9-e158-8634b7a0e6f8"
      },
      "execution_count": null,
      "outputs": [
        {
          "output_type": "execute_result",
          "data": {
            "text/plain": [
              "0       1710\n",
              "1       1262\n",
              "2       1786\n",
              "3       1717\n",
              "4       2198\n",
              "        ... \n",
              "1455    1647\n",
              "1456    2073\n",
              "1457    2340\n",
              "1458    1078\n",
              "1459    1256\n",
              "Name: GrLivArea, Length: 1412, dtype: int64"
            ]
          },
          "metadata": {},
          "execution_count": 152
        }
      ]
    },
    {
      "cell_type": "code",
      "source": [
        "sum(X.GrLivArea.isna())"
      ],
      "metadata": {
        "colab": {
          "base_uri": "https://localhost:8080/"
        },
        "id": "-x9ZAgAR0COk",
        "outputId": "b4e49cbf-5d9d-4f9b-dc1e-58d0f83c7d35"
      },
      "execution_count": null,
      "outputs": [
        {
          "output_type": "execute_result",
          "data": {
            "text/plain": [
              "0"
            ]
          },
          "metadata": {},
          "execution_count": 153
        }
      ]
    },
    {
      "cell_type": "markdown",
      "source": [
        "***Processing BsmtFullBath variable***"
      ],
      "metadata": {
        "id": "1IyYWejG2SD_"
      }
    },
    {
      "cell_type": "code",
      "source": [
        "X.BsmtFullBath"
      ],
      "metadata": {
        "colab": {
          "base_uri": "https://localhost:8080/"
        },
        "id": "DHRvMaoM0CVJ",
        "outputId": "95dc9da9-007e-458b-e6af-f7f18adad557"
      },
      "execution_count": null,
      "outputs": [
        {
          "output_type": "execute_result",
          "data": {
            "text/plain": [
              "0       1\n",
              "1       0\n",
              "2       1\n",
              "3       1\n",
              "4       1\n",
              "       ..\n",
              "1455    0\n",
              "1456    1\n",
              "1457    0\n",
              "1458    1\n",
              "1459    1\n",
              "Name: BsmtFullBath, Length: 1412, dtype: int64"
            ]
          },
          "metadata": {},
          "execution_count": 154
        }
      ]
    },
    {
      "cell_type": "code",
      "source": [
        "sum(X.BsmtFullBath.isna())"
      ],
      "metadata": {
        "colab": {
          "base_uri": "https://localhost:8080/"
        },
        "id": "KwWCI3Pg0CSD",
        "outputId": "301f838d-4443-4002-a179-30953c292298"
      },
      "execution_count": null,
      "outputs": [
        {
          "output_type": "execute_result",
          "data": {
            "text/plain": [
              "0"
            ]
          },
          "metadata": {},
          "execution_count": 155
        }
      ]
    },
    {
      "cell_type": "code",
      "source": [
        "X.BsmtFullBath.unique()"
      ],
      "metadata": {
        "colab": {
          "base_uri": "https://localhost:8080/"
        },
        "id": "S7E10rtO0CYq",
        "outputId": "26b8aa0d-5460-4ef4-8e8d-d5d364e3c980"
      },
      "execution_count": null,
      "outputs": [
        {
          "output_type": "execute_result",
          "data": {
            "text/plain": [
              "array([1, 0, 2, 3])"
            ]
          },
          "metadata": {},
          "execution_count": 156
        }
      ]
    },
    {
      "cell_type": "code",
      "source": [
        "X['BsmtFullBath'] = X['BsmtFullBath'].astype(str)\n",
        "X = pd.get_dummies(X, columns=['BsmtFullBath'])"
      ],
      "metadata": {
        "id": "jiTYPYWr0Cbu"
      },
      "execution_count": null,
      "outputs": []
    },
    {
      "cell_type": "code",
      "source": [],
      "metadata": {
        "id": "kUBkKiik0Cet"
      },
      "execution_count": null,
      "outputs": []
    },
    {
      "cell_type": "markdown",
      "source": [
        "***Processing FullBath variable***"
      ],
      "metadata": {
        "id": "SxqXECyK2z31"
      }
    },
    {
      "cell_type": "code",
      "source": [
        "X.FullBath"
      ],
      "metadata": {
        "colab": {
          "base_uri": "https://localhost:8080/"
        },
        "id": "g_g6-WoP0CiZ",
        "outputId": "ac515702-26b5-4488-eea1-0881cbf89fa9"
      },
      "execution_count": null,
      "outputs": [
        {
          "output_type": "execute_result",
          "data": {
            "text/plain": [
              "0       2\n",
              "1       2\n",
              "2       2\n",
              "3       1\n",
              "4       2\n",
              "       ..\n",
              "1455    2\n",
              "1456    2\n",
              "1457    2\n",
              "1458    1\n",
              "1459    1\n",
              "Name: FullBath, Length: 1412, dtype: int64"
            ]
          },
          "metadata": {},
          "execution_count": 158
        }
      ]
    },
    {
      "cell_type": "code",
      "source": [
        "sum(X.FullBath.isna())"
      ],
      "metadata": {
        "colab": {
          "base_uri": "https://localhost:8080/"
        },
        "id": "b8RRpZmp0Clc",
        "outputId": "0dd33cb9-a61c-496b-fabd-94d54ae44f97"
      },
      "execution_count": null,
      "outputs": [
        {
          "output_type": "execute_result",
          "data": {
            "text/plain": [
              "0"
            ]
          },
          "metadata": {},
          "execution_count": 159
        }
      ]
    },
    {
      "cell_type": "code",
      "source": [
        "X.FullBath.unique()"
      ],
      "metadata": {
        "colab": {
          "base_uri": "https://localhost:8080/"
        },
        "id": "-T9pDZWN0Cpg",
        "outputId": "54021e00-8ef5-48aa-c70d-ed07b37637fb"
      },
      "execution_count": null,
      "outputs": [
        {
          "output_type": "execute_result",
          "data": {
            "text/plain": [
              "array([2, 1, 3, 0])"
            ]
          },
          "metadata": {},
          "execution_count": 160
        }
      ]
    },
    {
      "cell_type": "code",
      "source": [
        "X['FullBath'] = X['FullBath'].astype(str)\n",
        "X = pd.get_dummies(X, columns=['FullBath'])"
      ],
      "metadata": {
        "id": "7EWxu76R0Cs_"
      },
      "execution_count": null,
      "outputs": []
    },
    {
      "cell_type": "markdown",
      "source": [
        "***Processing BsmtHalfBath variable***"
      ],
      "metadata": {
        "id": "k0QQ9OXY3lBg"
      }
    },
    {
      "cell_type": "code",
      "source": [
        "X.BsmtHalfBath"
      ],
      "metadata": {
        "colab": {
          "base_uri": "https://localhost:8080/"
        },
        "id": "97SVKu6T0Cwq",
        "outputId": "f9c94a53-33ea-4d2c-ae08-5dd9b155a836"
      },
      "execution_count": null,
      "outputs": [
        {
          "output_type": "execute_result",
          "data": {
            "text/plain": [
              "0       0\n",
              "1       1\n",
              "2       0\n",
              "3       0\n",
              "4       0\n",
              "       ..\n",
              "1455    0\n",
              "1456    0\n",
              "1457    0\n",
              "1458    0\n",
              "1459    0\n",
              "Name: BsmtHalfBath, Length: 1412, dtype: int64"
            ]
          },
          "metadata": {},
          "execution_count": 162
        }
      ]
    },
    {
      "cell_type": "code",
      "source": [
        "sum(X.BsmtHalfBath.isna())"
      ],
      "metadata": {
        "colab": {
          "base_uri": "https://localhost:8080/"
        },
        "id": "-urUnFXC0Cz3",
        "outputId": "496431f1-1e44-45c7-8e3b-234608548dbe"
      },
      "execution_count": null,
      "outputs": [
        {
          "output_type": "execute_result",
          "data": {
            "text/plain": [
              "0"
            ]
          },
          "metadata": {},
          "execution_count": 163
        }
      ]
    },
    {
      "cell_type": "code",
      "source": [
        "X.BsmtHalfBath.unique()"
      ],
      "metadata": {
        "colab": {
          "base_uri": "https://localhost:8080/"
        },
        "id": "HORjAgnm0C2_",
        "outputId": "3f528611-4d73-47de-bc89-5e23b6b60e9c"
      },
      "execution_count": null,
      "outputs": [
        {
          "output_type": "execute_result",
          "data": {
            "text/plain": [
              "array([0, 1, 2])"
            ]
          },
          "metadata": {},
          "execution_count": 164
        }
      ]
    },
    {
      "cell_type": "code",
      "source": [
        "X['BsmtHalfBath'] = X['BsmtHalfBath'].astype(str)\n",
        "X = pd.get_dummies(X, columns=['BsmtHalfBath'])"
      ],
      "metadata": {
        "id": "xIhdU-bC0C6F"
      },
      "execution_count": null,
      "outputs": []
    },
    {
      "cell_type": "markdown",
      "source": [
        "***Processing HalfBath variable***"
      ],
      "metadata": {
        "id": "GMeHOWGm4F6Y"
      }
    },
    {
      "cell_type": "code",
      "source": [
        "X.HalfBath"
      ],
      "metadata": {
        "colab": {
          "base_uri": "https://localhost:8080/"
        },
        "id": "m7AuO5prqnfq",
        "outputId": "8a02f66a-e080-4c02-a5a2-69964a575135"
      },
      "execution_count": null,
      "outputs": [
        {
          "output_type": "execute_result",
          "data": {
            "text/plain": [
              "0       1\n",
              "1       0\n",
              "2       1\n",
              "3       0\n",
              "4       1\n",
              "       ..\n",
              "1455    1\n",
              "1456    0\n",
              "1457    0\n",
              "1458    0\n",
              "1459    1\n",
              "Name: HalfBath, Length: 1412, dtype: int64"
            ]
          },
          "metadata": {},
          "execution_count": 166
        }
      ]
    },
    {
      "cell_type": "code",
      "source": [
        "sum(X.HalfBath.isna())"
      ],
      "metadata": {
        "colab": {
          "base_uri": "https://localhost:8080/"
        },
        "id": "uOI5aTnFqnaC",
        "outputId": "7722a512-d72d-44f8-d756-eaab0d28da2b"
      },
      "execution_count": null,
      "outputs": [
        {
          "output_type": "execute_result",
          "data": {
            "text/plain": [
              "0"
            ]
          },
          "metadata": {},
          "execution_count": 167
        }
      ]
    },
    {
      "cell_type": "code",
      "source": [
        "X.HalfBath.unique()"
      ],
      "metadata": {
        "colab": {
          "base_uri": "https://localhost:8080/"
        },
        "id": "0dPXZaVJqnc5",
        "outputId": "31f3f041-0d5b-40d3-e7c5-695b54bdbe78"
      },
      "execution_count": null,
      "outputs": [
        {
          "output_type": "execute_result",
          "data": {
            "text/plain": [
              "array([1, 0, 2])"
            ]
          },
          "metadata": {},
          "execution_count": 168
        }
      ]
    },
    {
      "cell_type": "code",
      "source": [
        "X['HalfBath'] = X['HalfBath'].astype(str)\n",
        "X = pd.get_dummies(X, columns=['HalfBath'])"
      ],
      "metadata": {
        "id": "i4eJFCsHqnif"
      },
      "execution_count": null,
      "outputs": []
    },
    {
      "cell_type": "markdown",
      "source": [
        "***Processing BedroomAbvGr variable***"
      ],
      "metadata": {
        "id": "E3Ic7TIS4jIu"
      }
    },
    {
      "cell_type": "code",
      "source": [
        "X.BedroomAbvGr"
      ],
      "metadata": {
        "colab": {
          "base_uri": "https://localhost:8080/"
        },
        "id": "x6cIJXsKqnr2",
        "outputId": "cec9694b-44fe-4aa1-b83c-1672b07f657b"
      },
      "execution_count": null,
      "outputs": [
        {
          "output_type": "execute_result",
          "data": {
            "text/plain": [
              "0       3\n",
              "1       3\n",
              "2       3\n",
              "3       3\n",
              "4       4\n",
              "       ..\n",
              "1455    3\n",
              "1456    3\n",
              "1457    4\n",
              "1458    2\n",
              "1459    3\n",
              "Name: BedroomAbvGr, Length: 1412, dtype: int64"
            ]
          },
          "metadata": {},
          "execution_count": 170
        }
      ]
    },
    {
      "cell_type": "code",
      "source": [
        "sum(X.BedroomAbvGr.isna())"
      ],
      "metadata": {
        "colab": {
          "base_uri": "https://localhost:8080/"
        },
        "id": "Dh8Vd9k0qnli",
        "outputId": "ff924cb0-9034-4bf1-85c5-6508c5ff1ba1"
      },
      "execution_count": null,
      "outputs": [
        {
          "output_type": "execute_result",
          "data": {
            "text/plain": [
              "0"
            ]
          },
          "metadata": {},
          "execution_count": 171
        }
      ]
    },
    {
      "cell_type": "code",
      "source": [
        "X.BedroomAbvGr.unique()"
      ],
      "metadata": {
        "colab": {
          "base_uri": "https://localhost:8080/"
        },
        "id": "nPM7f4ZRqno9",
        "outputId": "0e761273-9d9c-48bb-ecbc-ccf6947c3d44"
      },
      "execution_count": null,
      "outputs": [
        {
          "output_type": "execute_result",
          "data": {
            "text/plain": [
              "array([3, 4, 1, 2, 0, 5, 6, 8])"
            ]
          },
          "metadata": {},
          "execution_count": 172
        }
      ]
    },
    {
      "cell_type": "code",
      "source": [
        "X['BedroomAbvGr'] = X['BedroomAbvGr'].astype(str)\n",
        "X = pd.get_dummies(X, columns=['BedroomAbvGr'])"
      ],
      "metadata": {
        "id": "lA6Nliycqnu2"
      },
      "execution_count": null,
      "outputs": []
    },
    {
      "cell_type": "markdown",
      "source": [
        "***Processing KitchenAbvGr variable***"
      ],
      "metadata": {
        "id": "oS-lmW3T49jv"
      }
    },
    {
      "cell_type": "code",
      "source": [
        "X.KitchenAbvGr"
      ],
      "metadata": {
        "colab": {
          "base_uri": "https://localhost:8080/"
        },
        "id": "WM5q6yHuqn4V",
        "outputId": "e06d3b2b-83c8-43c6-a085-60848da61c76"
      },
      "execution_count": null,
      "outputs": [
        {
          "output_type": "execute_result",
          "data": {
            "text/plain": [
              "0       1\n",
              "1       1\n",
              "2       1\n",
              "3       1\n",
              "4       1\n",
              "       ..\n",
              "1455    1\n",
              "1456    1\n",
              "1457    1\n",
              "1458    1\n",
              "1459    1\n",
              "Name: KitchenAbvGr, Length: 1412, dtype: int64"
            ]
          },
          "metadata": {},
          "execution_count": 174
        }
      ]
    },
    {
      "cell_type": "code",
      "source": [
        "sum(X.KitchenAbvGr.isna())"
      ],
      "metadata": {
        "colab": {
          "base_uri": "https://localhost:8080/"
        },
        "id": "0qmbSpf2qnx4",
        "outputId": "0e2ef22b-4518-4199-a3d5-c404a78f9c05"
      },
      "execution_count": null,
      "outputs": [
        {
          "output_type": "execute_result",
          "data": {
            "text/plain": [
              "0"
            ]
          },
          "metadata": {},
          "execution_count": 175
        }
      ]
    },
    {
      "cell_type": "code",
      "source": [
        "X.KitchenAbvGr.unique()"
      ],
      "metadata": {
        "colab": {
          "base_uri": "https://localhost:8080/"
        },
        "id": "DLTk-KfWqn0z",
        "outputId": "f9957bcf-a68c-4487-ca17-788afa0dec5d"
      },
      "execution_count": null,
      "outputs": [
        {
          "output_type": "execute_result",
          "data": {
            "text/plain": [
              "array([1, 2, 3, 0])"
            ]
          },
          "metadata": {},
          "execution_count": 176
        }
      ]
    },
    {
      "cell_type": "code",
      "source": [
        "X['KitchenAbvGr'] = X['KitchenAbvGr'].astype(str)\n",
        "X = pd.get_dummies(X, columns=['KitchenAbvGr'])"
      ],
      "metadata": {
        "id": "2tvpVAd-qn7P"
      },
      "execution_count": null,
      "outputs": []
    },
    {
      "cell_type": "markdown",
      "source": [
        "***Processing KitchenQual variable***"
      ],
      "metadata": {
        "id": "HeBXLUor8S3I"
      }
    },
    {
      "cell_type": "code",
      "source": [
        "X.KitchenQual"
      ],
      "metadata": {
        "colab": {
          "base_uri": "https://localhost:8080/"
        },
        "id": "mhsowzcXqoES",
        "outputId": "7b062ec9-fa3e-4073-f2c0-4d407795f0a1"
      },
      "execution_count": null,
      "outputs": [
        {
          "output_type": "execute_result",
          "data": {
            "text/plain": [
              "0       Gd\n",
              "1       TA\n",
              "2       Gd\n",
              "3       Gd\n",
              "4       Gd\n",
              "        ..\n",
              "1455    TA\n",
              "1456    TA\n",
              "1457    Gd\n",
              "1458    Gd\n",
              "1459    TA\n",
              "Name: KitchenQual, Length: 1412, dtype: object"
            ]
          },
          "metadata": {},
          "execution_count": 178
        }
      ]
    },
    {
      "cell_type": "code",
      "source": [
        "sum(X.KitchenQual.isna())"
      ],
      "metadata": {
        "colab": {
          "base_uri": "https://localhost:8080/"
        },
        "id": "gTPSB-_xqn-J",
        "outputId": "b479c735-1b67-497d-a7fa-e717b0b28c46"
      },
      "execution_count": null,
      "outputs": [
        {
          "output_type": "execute_result",
          "data": {
            "text/plain": [
              "0"
            ]
          },
          "metadata": {},
          "execution_count": 179
        }
      ]
    },
    {
      "cell_type": "code",
      "source": [
        "X.KitchenQual.unique()"
      ],
      "metadata": {
        "colab": {
          "base_uri": "https://localhost:8080/"
        },
        "id": "vW8ybt82qoBL",
        "outputId": "06f2e4a9-6b73-4cf6-8d6f-de905f473128"
      },
      "execution_count": null,
      "outputs": [
        {
          "output_type": "execute_result",
          "data": {
            "text/plain": [
              "array(['Gd', 'TA', 'Ex', 'Fa'], dtype=object)"
            ]
          },
          "metadata": {},
          "execution_count": 180
        }
      ]
    },
    {
      "cell_type": "code",
      "source": [
        "X['KitchenQual'] = X['KitchenQual'].astype(str)\n",
        "X = pd.get_dummies(X, columns=['KitchenQual'])"
      ],
      "metadata": {
        "id": "BXVK9kGrqoHr"
      },
      "execution_count": null,
      "outputs": []
    },
    {
      "cell_type": "code",
      "source": [
        "X"
      ],
      "metadata": {
        "id": "1he5siolqoKu",
        "colab": {
          "base_uri": "https://localhost:8080/",
          "height": 487
        },
        "outputId": "24ce3b5c-2863-4ae9-bd9d-59db4e864513"
      },
      "execution_count": null,
      "outputs": [
        {
          "output_type": "execute_result",
          "data": {
            "text/plain": [
              "      LotFrontage  LotArea  OverallQual  OverallCond  YearBuilt  YearRemodAdd  \\\n",
              "0              65     8450            7            5       2003          2003   \n",
              "1              80     9600            6            8       1976          1976   \n",
              "2              68    11250            7            5       2001          2002   \n",
              "3              60     9550            7            5       1915          1970   \n",
              "4              84    14260            8            5       2000          2000   \n",
              "...           ...      ...          ...          ...        ...           ...   \n",
              "1455           62     7917            6            5       1999          2000   \n",
              "1456           85    13175            6            6       1978          1988   \n",
              "1457           66     9042            7            9       1941          2006   \n",
              "1458           68     9717            5            6       1950          1996   \n",
              "1459           75     9937            5            6       1965          1965   \n",
              "\n",
              "      MasVnrArea  BsmtFinSF1  BsmtFinSF2  BsmtUnfSF  ...  BedroomAbvGr_6  \\\n",
              "0            196         706           0        150  ...               0   \n",
              "1              0         978           0        284  ...               0   \n",
              "2            162         486           0        434  ...               0   \n",
              "3              0         216           0        540  ...               0   \n",
              "4            350         655           0        490  ...               0   \n",
              "...          ...         ...         ...        ...  ...             ...   \n",
              "1455           0           0           0        953  ...               0   \n",
              "1456         119         790         163        589  ...               0   \n",
              "1457           0         275           0        877  ...               0   \n",
              "1458           0          49        1029          0  ...               0   \n",
              "1459           0         830         290        136  ...               0   \n",
              "\n",
              "      BedroomAbvGr_8  KitchenAbvGr_0  KitchenAbvGr_1  KitchenAbvGr_2  \\\n",
              "0                  0               0               1               0   \n",
              "1                  0               0               1               0   \n",
              "2                  0               0               1               0   \n",
              "3                  0               0               1               0   \n",
              "4                  0               0               1               0   \n",
              "...              ...             ...             ...             ...   \n",
              "1455               0               0               1               0   \n",
              "1456               0               0               1               0   \n",
              "1457               0               0               1               0   \n",
              "1458               0               0               1               0   \n",
              "1459               0               0               1               0   \n",
              "\n",
              "      KitchenAbvGr_3 KitchenQual_Ex  KitchenQual_Fa KitchenQual_Gd  \\\n",
              "0                  0              0               0              1   \n",
              "1                  0              0               0              0   \n",
              "2                  0              0               0              1   \n",
              "3                  0              0               0              1   \n",
              "4                  0              0               0              1   \n",
              "...              ...            ...             ...            ...   \n",
              "1455               0              0               0              0   \n",
              "1456               0              0               0              0   \n",
              "1457               0              0               0              1   \n",
              "1458               0              0               0              1   \n",
              "1459               0              0               0              0   \n",
              "\n",
              "     KitchenQual_TA  \n",
              "0                 0  \n",
              "1                 1  \n",
              "2                 0  \n",
              "3                 0  \n",
              "4                 0  \n",
              "...             ...  \n",
              "1455              1  \n",
              "1456              1  \n",
              "1457              0  \n",
              "1458              0  \n",
              "1459              1  \n",
              "\n",
              "[1412 rows x 274 columns]"
            ],
            "text/html": [
              "\n",
              "  <div id=\"df-2c5e93fb-4f7e-4359-9f1a-7395360a9e5c\">\n",
              "    <div class=\"colab-df-container\">\n",
              "      <div>\n",
              "<style scoped>\n",
              "    .dataframe tbody tr th:only-of-type {\n",
              "        vertical-align: middle;\n",
              "    }\n",
              "\n",
              "    .dataframe tbody tr th {\n",
              "        vertical-align: top;\n",
              "    }\n",
              "\n",
              "    .dataframe thead th {\n",
              "        text-align: right;\n",
              "    }\n",
              "</style>\n",
              "<table border=\"1\" class=\"dataframe\">\n",
              "  <thead>\n",
              "    <tr style=\"text-align: right;\">\n",
              "      <th></th>\n",
              "      <th>LotFrontage</th>\n",
              "      <th>LotArea</th>\n",
              "      <th>OverallQual</th>\n",
              "      <th>OverallCond</th>\n",
              "      <th>YearBuilt</th>\n",
              "      <th>YearRemodAdd</th>\n",
              "      <th>MasVnrArea</th>\n",
              "      <th>BsmtFinSF1</th>\n",
              "      <th>BsmtFinSF2</th>\n",
              "      <th>BsmtUnfSF</th>\n",
              "      <th>...</th>\n",
              "      <th>BedroomAbvGr_6</th>\n",
              "      <th>BedroomAbvGr_8</th>\n",
              "      <th>KitchenAbvGr_0</th>\n",
              "      <th>KitchenAbvGr_1</th>\n",
              "      <th>KitchenAbvGr_2</th>\n",
              "      <th>KitchenAbvGr_3</th>\n",
              "      <th>KitchenQual_Ex</th>\n",
              "      <th>KitchenQual_Fa</th>\n",
              "      <th>KitchenQual_Gd</th>\n",
              "      <th>KitchenQual_TA</th>\n",
              "    </tr>\n",
              "  </thead>\n",
              "  <tbody>\n",
              "    <tr>\n",
              "      <th>0</th>\n",
              "      <td>65</td>\n",
              "      <td>8450</td>\n",
              "      <td>7</td>\n",
              "      <td>5</td>\n",
              "      <td>2003</td>\n",
              "      <td>2003</td>\n",
              "      <td>196</td>\n",
              "      <td>706</td>\n",
              "      <td>0</td>\n",
              "      <td>150</td>\n",
              "      <td>...</td>\n",
              "      <td>0</td>\n",
              "      <td>0</td>\n",
              "      <td>0</td>\n",
              "      <td>1</td>\n",
              "      <td>0</td>\n",
              "      <td>0</td>\n",
              "      <td>0</td>\n",
              "      <td>0</td>\n",
              "      <td>1</td>\n",
              "      <td>0</td>\n",
              "    </tr>\n",
              "    <tr>\n",
              "      <th>1</th>\n",
              "      <td>80</td>\n",
              "      <td>9600</td>\n",
              "      <td>6</td>\n",
              "      <td>8</td>\n",
              "      <td>1976</td>\n",
              "      <td>1976</td>\n",
              "      <td>0</td>\n",
              "      <td>978</td>\n",
              "      <td>0</td>\n",
              "      <td>284</td>\n",
              "      <td>...</td>\n",
              "      <td>0</td>\n",
              "      <td>0</td>\n",
              "      <td>0</td>\n",
              "      <td>1</td>\n",
              "      <td>0</td>\n",
              "      <td>0</td>\n",
              "      <td>0</td>\n",
              "      <td>0</td>\n",
              "      <td>0</td>\n",
              "      <td>1</td>\n",
              "    </tr>\n",
              "    <tr>\n",
              "      <th>2</th>\n",
              "      <td>68</td>\n",
              "      <td>11250</td>\n",
              "      <td>7</td>\n",
              "      <td>5</td>\n",
              "      <td>2001</td>\n",
              "      <td>2002</td>\n",
              "      <td>162</td>\n",
              "      <td>486</td>\n",
              "      <td>0</td>\n",
              "      <td>434</td>\n",
              "      <td>...</td>\n",
              "      <td>0</td>\n",
              "      <td>0</td>\n",
              "      <td>0</td>\n",
              "      <td>1</td>\n",
              "      <td>0</td>\n",
              "      <td>0</td>\n",
              "      <td>0</td>\n",
              "      <td>0</td>\n",
              "      <td>1</td>\n",
              "      <td>0</td>\n",
              "    </tr>\n",
              "    <tr>\n",
              "      <th>3</th>\n",
              "      <td>60</td>\n",
              "      <td>9550</td>\n",
              "      <td>7</td>\n",
              "      <td>5</td>\n",
              "      <td>1915</td>\n",
              "      <td>1970</td>\n",
              "      <td>0</td>\n",
              "      <td>216</td>\n",
              "      <td>0</td>\n",
              "      <td>540</td>\n",
              "      <td>...</td>\n",
              "      <td>0</td>\n",
              "      <td>0</td>\n",
              "      <td>0</td>\n",
              "      <td>1</td>\n",
              "      <td>0</td>\n",
              "      <td>0</td>\n",
              "      <td>0</td>\n",
              "      <td>0</td>\n",
              "      <td>1</td>\n",
              "      <td>0</td>\n",
              "    </tr>\n",
              "    <tr>\n",
              "      <th>4</th>\n",
              "      <td>84</td>\n",
              "      <td>14260</td>\n",
              "      <td>8</td>\n",
              "      <td>5</td>\n",
              "      <td>2000</td>\n",
              "      <td>2000</td>\n",
              "      <td>350</td>\n",
              "      <td>655</td>\n",
              "      <td>0</td>\n",
              "      <td>490</td>\n",
              "      <td>...</td>\n",
              "      <td>0</td>\n",
              "      <td>0</td>\n",
              "      <td>0</td>\n",
              "      <td>1</td>\n",
              "      <td>0</td>\n",
              "      <td>0</td>\n",
              "      <td>0</td>\n",
              "      <td>0</td>\n",
              "      <td>1</td>\n",
              "      <td>0</td>\n",
              "    </tr>\n",
              "    <tr>\n",
              "      <th>...</th>\n",
              "      <td>...</td>\n",
              "      <td>...</td>\n",
              "      <td>...</td>\n",
              "      <td>...</td>\n",
              "      <td>...</td>\n",
              "      <td>...</td>\n",
              "      <td>...</td>\n",
              "      <td>...</td>\n",
              "      <td>...</td>\n",
              "      <td>...</td>\n",
              "      <td>...</td>\n",
              "      <td>...</td>\n",
              "      <td>...</td>\n",
              "      <td>...</td>\n",
              "      <td>...</td>\n",
              "      <td>...</td>\n",
              "      <td>...</td>\n",
              "      <td>...</td>\n",
              "      <td>...</td>\n",
              "      <td>...</td>\n",
              "      <td>...</td>\n",
              "    </tr>\n",
              "    <tr>\n",
              "      <th>1455</th>\n",
              "      <td>62</td>\n",
              "      <td>7917</td>\n",
              "      <td>6</td>\n",
              "      <td>5</td>\n",
              "      <td>1999</td>\n",
              "      <td>2000</td>\n",
              "      <td>0</td>\n",
              "      <td>0</td>\n",
              "      <td>0</td>\n",
              "      <td>953</td>\n",
              "      <td>...</td>\n",
              "      <td>0</td>\n",
              "      <td>0</td>\n",
              "      <td>0</td>\n",
              "      <td>1</td>\n",
              "      <td>0</td>\n",
              "      <td>0</td>\n",
              "      <td>0</td>\n",
              "      <td>0</td>\n",
              "      <td>0</td>\n",
              "      <td>1</td>\n",
              "    </tr>\n",
              "    <tr>\n",
              "      <th>1456</th>\n",
              "      <td>85</td>\n",
              "      <td>13175</td>\n",
              "      <td>6</td>\n",
              "      <td>6</td>\n",
              "      <td>1978</td>\n",
              "      <td>1988</td>\n",
              "      <td>119</td>\n",
              "      <td>790</td>\n",
              "      <td>163</td>\n",
              "      <td>589</td>\n",
              "      <td>...</td>\n",
              "      <td>0</td>\n",
              "      <td>0</td>\n",
              "      <td>0</td>\n",
              "      <td>1</td>\n",
              "      <td>0</td>\n",
              "      <td>0</td>\n",
              "      <td>0</td>\n",
              "      <td>0</td>\n",
              "      <td>0</td>\n",
              "      <td>1</td>\n",
              "    </tr>\n",
              "    <tr>\n",
              "      <th>1457</th>\n",
              "      <td>66</td>\n",
              "      <td>9042</td>\n",
              "      <td>7</td>\n",
              "      <td>9</td>\n",
              "      <td>1941</td>\n",
              "      <td>2006</td>\n",
              "      <td>0</td>\n",
              "      <td>275</td>\n",
              "      <td>0</td>\n",
              "      <td>877</td>\n",
              "      <td>...</td>\n",
              "      <td>0</td>\n",
              "      <td>0</td>\n",
              "      <td>0</td>\n",
              "      <td>1</td>\n",
              "      <td>0</td>\n",
              "      <td>0</td>\n",
              "      <td>0</td>\n",
              "      <td>0</td>\n",
              "      <td>1</td>\n",
              "      <td>0</td>\n",
              "    </tr>\n",
              "    <tr>\n",
              "      <th>1458</th>\n",
              "      <td>68</td>\n",
              "      <td>9717</td>\n",
              "      <td>5</td>\n",
              "      <td>6</td>\n",
              "      <td>1950</td>\n",
              "      <td>1996</td>\n",
              "      <td>0</td>\n",
              "      <td>49</td>\n",
              "      <td>1029</td>\n",
              "      <td>0</td>\n",
              "      <td>...</td>\n",
              "      <td>0</td>\n",
              "      <td>0</td>\n",
              "      <td>0</td>\n",
              "      <td>1</td>\n",
              "      <td>0</td>\n",
              "      <td>0</td>\n",
              "      <td>0</td>\n",
              "      <td>0</td>\n",
              "      <td>1</td>\n",
              "      <td>0</td>\n",
              "    </tr>\n",
              "    <tr>\n",
              "      <th>1459</th>\n",
              "      <td>75</td>\n",
              "      <td>9937</td>\n",
              "      <td>5</td>\n",
              "      <td>6</td>\n",
              "      <td>1965</td>\n",
              "      <td>1965</td>\n",
              "      <td>0</td>\n",
              "      <td>830</td>\n",
              "      <td>290</td>\n",
              "      <td>136</td>\n",
              "      <td>...</td>\n",
              "      <td>0</td>\n",
              "      <td>0</td>\n",
              "      <td>0</td>\n",
              "      <td>1</td>\n",
              "      <td>0</td>\n",
              "      <td>0</td>\n",
              "      <td>0</td>\n",
              "      <td>0</td>\n",
              "      <td>0</td>\n",
              "      <td>1</td>\n",
              "    </tr>\n",
              "  </tbody>\n",
              "</table>\n",
              "<p>1412 rows × 274 columns</p>\n",
              "</div>\n",
              "      <button class=\"colab-df-convert\" onclick=\"convertToInteractive('df-2c5e93fb-4f7e-4359-9f1a-7395360a9e5c')\"\n",
              "              title=\"Convert this dataframe to an interactive table.\"\n",
              "              style=\"display:none;\">\n",
              "        \n",
              "  <svg xmlns=\"http://www.w3.org/2000/svg\" height=\"24px\"viewBox=\"0 0 24 24\"\n",
              "       width=\"24px\">\n",
              "    <path d=\"M0 0h24v24H0V0z\" fill=\"none\"/>\n",
              "    <path d=\"M18.56 5.44l.94 2.06.94-2.06 2.06-.94-2.06-.94-.94-2.06-.94 2.06-2.06.94zm-11 1L8.5 8.5l.94-2.06 2.06-.94-2.06-.94L8.5 2.5l-.94 2.06-2.06.94zm10 10l.94 2.06.94-2.06 2.06-.94-2.06-.94-.94-2.06-.94 2.06-2.06.94z\"/><path d=\"M17.41 7.96l-1.37-1.37c-.4-.4-.92-.59-1.43-.59-.52 0-1.04.2-1.43.59L10.3 9.45l-7.72 7.72c-.78.78-.78 2.05 0 2.83L4 21.41c.39.39.9.59 1.41.59.51 0 1.02-.2 1.41-.59l7.78-7.78 2.81-2.81c.8-.78.8-2.07 0-2.86zM5.41 20L4 18.59l7.72-7.72 1.47 1.35L5.41 20z\"/>\n",
              "  </svg>\n",
              "      </button>\n",
              "      \n",
              "  <style>\n",
              "    .colab-df-container {\n",
              "      display:flex;\n",
              "      flex-wrap:wrap;\n",
              "      gap: 12px;\n",
              "    }\n",
              "\n",
              "    .colab-df-convert {\n",
              "      background-color: #E8F0FE;\n",
              "      border: none;\n",
              "      border-radius: 50%;\n",
              "      cursor: pointer;\n",
              "      display: none;\n",
              "      fill: #1967D2;\n",
              "      height: 32px;\n",
              "      padding: 0 0 0 0;\n",
              "      width: 32px;\n",
              "    }\n",
              "\n",
              "    .colab-df-convert:hover {\n",
              "      background-color: #E2EBFA;\n",
              "      box-shadow: 0px 1px 2px rgba(60, 64, 67, 0.3), 0px 1px 3px 1px rgba(60, 64, 67, 0.15);\n",
              "      fill: #174EA6;\n",
              "    }\n",
              "\n",
              "    [theme=dark] .colab-df-convert {\n",
              "      background-color: #3B4455;\n",
              "      fill: #D2E3FC;\n",
              "    }\n",
              "\n",
              "    [theme=dark] .colab-df-convert:hover {\n",
              "      background-color: #434B5C;\n",
              "      box-shadow: 0px 1px 3px 1px rgba(0, 0, 0, 0.15);\n",
              "      filter: drop-shadow(0px 1px 2px rgba(0, 0, 0, 0.3));\n",
              "      fill: #FFFFFF;\n",
              "    }\n",
              "  </style>\n",
              "\n",
              "      <script>\n",
              "        const buttonEl =\n",
              "          document.querySelector('#df-2c5e93fb-4f7e-4359-9f1a-7395360a9e5c button.colab-df-convert');\n",
              "        buttonEl.style.display =\n",
              "          google.colab.kernel.accessAllowed ? 'block' : 'none';\n",
              "\n",
              "        async function convertToInteractive(key) {\n",
              "          const element = document.querySelector('#df-2c5e93fb-4f7e-4359-9f1a-7395360a9e5c');\n",
              "          const dataTable =\n",
              "            await google.colab.kernel.invokeFunction('convertToInteractive',\n",
              "                                                     [key], {});\n",
              "          if (!dataTable) return;\n",
              "\n",
              "          const docLinkHtml = 'Like what you see? Visit the ' +\n",
              "            '<a target=\"_blank\" href=https://colab.research.google.com/notebooks/data_table.ipynb>data table notebook</a>'\n",
              "            + ' to learn more about interactive tables.';\n",
              "          element.innerHTML = '';\n",
              "          dataTable['output_type'] = 'display_data';\n",
              "          await google.colab.output.renderOutput(dataTable, element);\n",
              "          const docLink = document.createElement('div');\n",
              "          docLink.innerHTML = docLinkHtml;\n",
              "          element.appendChild(docLink);\n",
              "        }\n",
              "      </script>\n",
              "    </div>\n",
              "  </div>\n",
              "  "
            ]
          },
          "metadata": {},
          "execution_count": 182
        }
      ]
    },
    {
      "cell_type": "code",
      "source": [],
      "metadata": {
        "id": "PjEqHNCO3VC3"
      },
      "execution_count": null,
      "outputs": []
    },
    {
      "cell_type": "markdown",
      "source": [
        "***Processing TotRmsAbvGrd variable***"
      ],
      "metadata": {
        "id": "JMh-QJsd4ND6"
      }
    },
    {
      "cell_type": "code",
      "source": [
        "X.TotRmsAbvGrd"
      ],
      "metadata": {
        "colab": {
          "base_uri": "https://localhost:8080/"
        },
        "id": "SyQ5J0rK3VGc",
        "outputId": "17b7399b-1c15-4144-cbac-1c27a3e3c5a1"
      },
      "execution_count": null,
      "outputs": [
        {
          "output_type": "execute_result",
          "data": {
            "text/plain": [
              "0       8\n",
              "1       6\n",
              "2       6\n",
              "3       7\n",
              "4       9\n",
              "       ..\n",
              "1455    7\n",
              "1456    7\n",
              "1457    9\n",
              "1458    5\n",
              "1459    6\n",
              "Name: TotRmsAbvGrd, Length: 1412, dtype: int64"
            ]
          },
          "metadata": {},
          "execution_count": 183
        }
      ]
    },
    {
      "cell_type": "code",
      "source": [
        "sum(X.TotRmsAbvGrd.isna())"
      ],
      "metadata": {
        "id": "9nZZq9JqqoNu",
        "colab": {
          "base_uri": "https://localhost:8080/"
        },
        "outputId": "bb8a452e-403a-4f33-8472-1b6a4212ebc0"
      },
      "execution_count": null,
      "outputs": [
        {
          "output_type": "execute_result",
          "data": {
            "text/plain": [
              "0"
            ]
          },
          "metadata": {},
          "execution_count": 184
        }
      ]
    },
    {
      "cell_type": "code",
      "source": [],
      "metadata": {
        "id": "2F4daJQLqoQs"
      },
      "execution_count": null,
      "outputs": []
    },
    {
      "cell_type": "markdown",
      "source": [
        "***Processing Functional variable***"
      ],
      "metadata": {
        "id": "OxGliBJF4lK0"
      }
    },
    {
      "cell_type": "code",
      "source": [
        "X.Functional"
      ],
      "metadata": {
        "id": "4Sgg1sReqoTm",
        "colab": {
          "base_uri": "https://localhost:8080/"
        },
        "outputId": "a5c55495-71aa-45b4-f674-6bf91fe638ec"
      },
      "execution_count": null,
      "outputs": [
        {
          "output_type": "execute_result",
          "data": {
            "text/plain": [
              "0        Typ\n",
              "1        Typ\n",
              "2        Typ\n",
              "3        Typ\n",
              "4        Typ\n",
              "        ... \n",
              "1455     Typ\n",
              "1456    Min1\n",
              "1457     Typ\n",
              "1458     Typ\n",
              "1459     Typ\n",
              "Name: Functional, Length: 1412, dtype: object"
            ]
          },
          "metadata": {},
          "execution_count": 185
        }
      ]
    },
    {
      "cell_type": "code",
      "source": [
        "sum(X.Functional.isna())"
      ],
      "metadata": {
        "colab": {
          "base_uri": "https://localhost:8080/"
        },
        "id": "C_CBdYgr3gAf",
        "outputId": "973fcdfb-aae4-48fc-80f1-c76b9532a156"
      },
      "execution_count": null,
      "outputs": [
        {
          "output_type": "execute_result",
          "data": {
            "text/plain": [
              "0"
            ]
          },
          "metadata": {},
          "execution_count": 186
        }
      ]
    },
    {
      "cell_type": "code",
      "source": [
        "X.Functional.unique()"
      ],
      "metadata": {
        "colab": {
          "base_uri": "https://localhost:8080/"
        },
        "id": "v4vnzyO13gF5",
        "outputId": "51868825-ae40-4a6c-ee23-01230587f984"
      },
      "execution_count": null,
      "outputs": [
        {
          "output_type": "execute_result",
          "data": {
            "text/plain": [
              "array(['Typ', 'Min1', 'Maj1', 'Min2', 'Mod', 'Maj2', 'Sev'], dtype=object)"
            ]
          },
          "metadata": {},
          "execution_count": 187
        }
      ]
    },
    {
      "cell_type": "code",
      "source": [
        "X['Functional'] = X['Functional'].astype(str)\n",
        "X = pd.get_dummies(X, columns=['Functional'])"
      ],
      "metadata": {
        "id": "e-fD6Kmg3gDE"
      },
      "execution_count": null,
      "outputs": []
    },
    {
      "cell_type": "code",
      "source": [],
      "metadata": {
        "id": "LRkIDp9a3gIp"
      },
      "execution_count": null,
      "outputs": []
    },
    {
      "cell_type": "markdown",
      "source": [
        "***Processing Fireplaces variable***"
      ],
      "metadata": {
        "id": "bvrbWhyd5OJ1"
      }
    },
    {
      "cell_type": "code",
      "source": [
        "X.Fireplaces"
      ],
      "metadata": {
        "colab": {
          "base_uri": "https://localhost:8080/"
        },
        "id": "IzMGswkq3gLU",
        "outputId": "aed35d62-6bac-4884-ab32-789ae28880b1"
      },
      "execution_count": null,
      "outputs": [
        {
          "output_type": "execute_result",
          "data": {
            "text/plain": [
              "0       0\n",
              "1       1\n",
              "2       1\n",
              "3       1\n",
              "4       1\n",
              "       ..\n",
              "1455    1\n",
              "1456    2\n",
              "1457    2\n",
              "1458    0\n",
              "1459    0\n",
              "Name: Fireplaces, Length: 1412, dtype: int64"
            ]
          },
          "metadata": {},
          "execution_count": 189
        }
      ]
    },
    {
      "cell_type": "code",
      "source": [
        "sum(X.Fireplaces.isna())"
      ],
      "metadata": {
        "colab": {
          "base_uri": "https://localhost:8080/"
        },
        "id": "vi9k3nCE3gN-",
        "outputId": "8bf98e6f-c742-4311-85cc-42c21fc1f2ed"
      },
      "execution_count": null,
      "outputs": [
        {
          "output_type": "execute_result",
          "data": {
            "text/plain": [
              "0"
            ]
          },
          "metadata": {},
          "execution_count": 190
        }
      ]
    },
    {
      "cell_type": "code",
      "source": [
        "X.Fireplaces.unique()"
      ],
      "metadata": {
        "colab": {
          "base_uri": "https://localhost:8080/"
        },
        "id": "vE4X5wAj3gQT",
        "outputId": "01c4217f-7974-435f-c8c5-690eebc8475b"
      },
      "execution_count": null,
      "outputs": [
        {
          "output_type": "execute_result",
          "data": {
            "text/plain": [
              "array([0, 1, 2, 3])"
            ]
          },
          "metadata": {},
          "execution_count": 191
        }
      ]
    },
    {
      "cell_type": "code",
      "source": [
        "X['Fireplaces'] = X['Fireplaces'].astype(str)\n",
        "X = pd.get_dummies(X, columns=['Fireplaces'])"
      ],
      "metadata": {
        "id": "wrQmJLK53gTG"
      },
      "execution_count": null,
      "outputs": []
    },
    {
      "cell_type": "code",
      "source": [],
      "metadata": {
        "id": "douVfud23gV2"
      },
      "execution_count": null,
      "outputs": []
    },
    {
      "cell_type": "markdown",
      "source": [
        "***Processing FireplaceQu variable***"
      ],
      "metadata": {
        "id": "Sr2QmfGX55j-"
      }
    },
    {
      "cell_type": "code",
      "source": [
        "sum(X.FireplaceQu.isna())"
      ],
      "metadata": {
        "colab": {
          "base_uri": "https://localhost:8080/"
        },
        "id": "_MV5ngl33gYO",
        "outputId": "cbc34831-cd66-4dc2-e6c7-7e5d553bcfcc"
      },
      "execution_count": null,
      "outputs": [
        {
          "output_type": "execute_result",
          "data": {
            "text/plain": [
              "657"
            ]
          },
          "metadata": {},
          "execution_count": 193
        }
      ]
    },
    {
      "cell_type": "code",
      "source": [
        "X.FireplaceQu.unique()"
      ],
      "metadata": {
        "colab": {
          "base_uri": "https://localhost:8080/"
        },
        "id": "M7hHeVpR3ga6",
        "outputId": "154ec559-8df2-4e3e-8db6-3297ed55472c"
      },
      "execution_count": null,
      "outputs": [
        {
          "output_type": "execute_result",
          "data": {
            "text/plain": [
              "array([nan, 'TA', 'Gd', 'Fa', 'Ex', 'Po'], dtype=object)"
            ]
          },
          "metadata": {},
          "execution_count": 194
        }
      ]
    },
    {
      "cell_type": "code",
      "source": [
        "X.FireplaceQu.fillna('None', inplace=True)"
      ],
      "metadata": {
        "id": "FOvt7JnnoX5J"
      },
      "execution_count": null,
      "outputs": []
    },
    {
      "cell_type": "code",
      "source": [
        "X.FireplaceQu"
      ],
      "metadata": {
        "colab": {
          "base_uri": "https://localhost:8080/"
        },
        "id": "LXI2LYH13gdV",
        "outputId": "29e70fff-1756-4ea6-f9b2-00961675c3b5"
      },
      "execution_count": null,
      "outputs": [
        {
          "output_type": "execute_result",
          "data": {
            "text/plain": [
              "0       None\n",
              "1         TA\n",
              "2         TA\n",
              "3         Gd\n",
              "4         TA\n",
              "        ... \n",
              "1455      TA\n",
              "1456      TA\n",
              "1457      Gd\n",
              "1458    None\n",
              "1459    None\n",
              "Name: FireplaceQu, Length: 1412, dtype: object"
            ]
          },
          "metadata": {},
          "execution_count": 196
        }
      ]
    },
    {
      "cell_type": "code",
      "source": [
        "X['FireplaceQu'] = X['FireplaceQu'].astype(str)\n",
        "X = pd.get_dummies(X, columns=['FireplaceQu'])"
      ],
      "metadata": {
        "id": "njiNBM0ZoX7z"
      },
      "execution_count": null,
      "outputs": []
    },
    {
      "cell_type": "code",
      "source": [],
      "metadata": {
        "id": "giuN728IoX-h"
      },
      "execution_count": null,
      "outputs": []
    },
    {
      "cell_type": "markdown",
      "source": [
        "***Processing GarageType variable***"
      ],
      "metadata": {
        "id": "YDvHhqgD9GNV"
      }
    },
    {
      "cell_type": "code",
      "source": [
        "X.GarageType"
      ],
      "metadata": {
        "colab": {
          "base_uri": "https://localhost:8080/"
        },
        "id": "N3Osks008Phv",
        "outputId": "75778a26-081f-46ce-ded3-65915fa52663"
      },
      "execution_count": null,
      "outputs": [
        {
          "output_type": "execute_result",
          "data": {
            "text/plain": [
              "0       Attchd\n",
              "1       Attchd\n",
              "2       Attchd\n",
              "3       Detchd\n",
              "4       Attchd\n",
              "         ...  \n",
              "1455    Attchd\n",
              "1456    Attchd\n",
              "1457    Attchd\n",
              "1458    Attchd\n",
              "1459    Attchd\n",
              "Name: GarageType, Length: 1412, dtype: object"
            ]
          },
          "metadata": {},
          "execution_count": 198
        }
      ]
    },
    {
      "cell_type": "code",
      "source": [
        "sum(X.GarageType.isna())"
      ],
      "metadata": {
        "colab": {
          "base_uri": "https://localhost:8080/"
        },
        "id": "Tgp5g-Fe8P0s",
        "outputId": "0f1b108d-3f5a-4c5f-9813-8dbc67424b4f"
      },
      "execution_count": null,
      "outputs": [
        {
          "output_type": "execute_result",
          "data": {
            "text/plain": [
              "74"
            ]
          },
          "metadata": {},
          "execution_count": 199
        }
      ]
    },
    {
      "cell_type": "code",
      "source": [
        "X.GarageType.unique()"
      ],
      "metadata": {
        "colab": {
          "base_uri": "https://localhost:8080/"
        },
        "id": "Gq-MzATC8P6i",
        "outputId": "08c7eaea-65bd-4010-9ed8-9f9191fecab9"
      },
      "execution_count": null,
      "outputs": [
        {
          "output_type": "execute_result",
          "data": {
            "text/plain": [
              "array(['Attchd', 'Detchd', 'BuiltIn', nan, 'CarPort', 'Basment', '2Types'],\n",
              "      dtype=object)"
            ]
          },
          "metadata": {},
          "execution_count": 200
        }
      ]
    },
    {
      "cell_type": "code",
      "source": [
        "X.GarageType.fillna('None', inplace=True)"
      ],
      "metadata": {
        "id": "_pWFssoo8P9n"
      },
      "execution_count": null,
      "outputs": []
    },
    {
      "cell_type": "code",
      "source": [
        "X['GarageType'] = X['GarageType'].astype(str)\n",
        "X = pd.get_dummies(X, columns=['GarageType'])"
      ],
      "metadata": {
        "id": "eQ4cBVJq8QCT"
      },
      "execution_count": null,
      "outputs": []
    },
    {
      "cell_type": "code",
      "source": [],
      "metadata": {
        "id": "2W2UfEaD8QGY"
      },
      "execution_count": null,
      "outputs": []
    },
    {
      "cell_type": "markdown",
      "source": [
        "***Processing GarageYrBlt variable***"
      ],
      "metadata": {
        "id": "NYZLXy7i9mij"
      }
    },
    {
      "cell_type": "code",
      "source": [
        "X.GarageYrBlt"
      ],
      "metadata": {
        "colab": {
          "base_uri": "https://localhost:8080/"
        },
        "id": "uR3I9Gqu8QJE",
        "outputId": "f1a92e2e-9849-44e2-9bbe-59a730c83aa2"
      },
      "execution_count": null,
      "outputs": [
        {
          "output_type": "execute_result",
          "data": {
            "text/plain": [
              "0       2003.0\n",
              "1       1976.0\n",
              "2       2001.0\n",
              "3       1998.0\n",
              "4       2000.0\n",
              "         ...  \n",
              "1455    1999.0\n",
              "1456    1978.0\n",
              "1457    1941.0\n",
              "1458    1950.0\n",
              "1459    1965.0\n",
              "Name: GarageYrBlt, Length: 1412, dtype: float64"
            ]
          },
          "metadata": {},
          "execution_count": 203
        }
      ]
    },
    {
      "cell_type": "code",
      "source": [
        "sum(X.GarageYrBlt.isna())"
      ],
      "metadata": {
        "colab": {
          "base_uri": "https://localhost:8080/"
        },
        "id": "touIXEFX8QMB",
        "outputId": "9ebe9f1c-ecfa-4b81-afb6-e89ee3ed8650"
      },
      "execution_count": null,
      "outputs": [
        {
          "output_type": "execute_result",
          "data": {
            "text/plain": [
              "74"
            ]
          },
          "metadata": {},
          "execution_count": 204
        }
      ]
    },
    {
      "cell_type": "code",
      "source": [
        "X.GarageYrBlt = X.GarageYrBlt.fillna(X.GarageYrBlt.mean())\n",
        "X.GarageYrBlt"
      ],
      "metadata": {
        "colab": {
          "base_uri": "https://localhost:8080/"
        },
        "id": "JasE0P_w8QO2",
        "outputId": "c2411654-5196-408b-ba04-baf4d2c23a80"
      },
      "execution_count": null,
      "outputs": [
        {
          "output_type": "execute_result",
          "data": {
            "text/plain": [
              "0       2003.0\n",
              "1       1976.0\n",
              "2       2001.0\n",
              "3       1998.0\n",
              "4       2000.0\n",
              "         ...  \n",
              "1455    1999.0\n",
              "1456    1978.0\n",
              "1457    1941.0\n",
              "1458    1950.0\n",
              "1459    1965.0\n",
              "Name: GarageYrBlt, Length: 1412, dtype: float64"
            ]
          },
          "metadata": {},
          "execution_count": 205
        }
      ]
    },
    {
      "cell_type": "code",
      "source": [
        "X['GarageYrBlt'] = X['GarageYrBlt'].astype(int)"
      ],
      "metadata": {
        "id": "rS03ydBf8QSc"
      },
      "execution_count": null,
      "outputs": []
    },
    {
      "cell_type": "code",
      "source": [],
      "metadata": {
        "id": "Eh5h09bJ8QWZ"
      },
      "execution_count": null,
      "outputs": []
    },
    {
      "cell_type": "markdown",
      "source": [
        "***Processing GarageFinish variable***"
      ],
      "metadata": {
        "id": "PqHntQxe_Oqv"
      }
    },
    {
      "cell_type": "code",
      "source": [
        "X.GarageFinish"
      ],
      "metadata": {
        "colab": {
          "base_uri": "https://localhost:8080/"
        },
        "id": "uSq1V9xU8QZm",
        "outputId": "1ae8c5ee-7453-4159-bd46-82cdb616e43e"
      },
      "execution_count": null,
      "outputs": [
        {
          "output_type": "execute_result",
          "data": {
            "text/plain": [
              "0       RFn\n",
              "1       RFn\n",
              "2       RFn\n",
              "3       Unf\n",
              "4       RFn\n",
              "       ... \n",
              "1455    RFn\n",
              "1456    Unf\n",
              "1457    RFn\n",
              "1458    Unf\n",
              "1459    Fin\n",
              "Name: GarageFinish, Length: 1412, dtype: object"
            ]
          },
          "metadata": {},
          "execution_count": 207
        }
      ]
    },
    {
      "cell_type": "code",
      "source": [
        "sum(X.GarageFinish.isna())"
      ],
      "metadata": {
        "colab": {
          "base_uri": "https://localhost:8080/"
        },
        "id": "kV0fhVK38Qct",
        "outputId": "f7511689-9f43-465b-9965-180e830d3446"
      },
      "execution_count": null,
      "outputs": [
        {
          "output_type": "execute_result",
          "data": {
            "text/plain": [
              "74"
            ]
          },
          "metadata": {},
          "execution_count": 208
        }
      ]
    },
    {
      "cell_type": "code",
      "source": [
        "X.GarageFinish.unique()"
      ],
      "metadata": {
        "colab": {
          "base_uri": "https://localhost:8080/"
        },
        "id": "LyEPS4Rq8QfV",
        "outputId": "04977781-600d-454e-b3f3-a9957e3ec3b1"
      },
      "execution_count": null,
      "outputs": [
        {
          "output_type": "execute_result",
          "data": {
            "text/plain": [
              "array(['RFn', 'Unf', 'Fin', nan], dtype=object)"
            ]
          },
          "metadata": {},
          "execution_count": 209
        }
      ]
    },
    {
      "cell_type": "code",
      "source": [
        "X.GarageFinish.fillna('None', inplace=True)"
      ],
      "metadata": {
        "id": "gE9n9AN_8Qh6"
      },
      "execution_count": null,
      "outputs": []
    },
    {
      "cell_type": "code",
      "source": [
        "X['GarageFinish'] = X['GarageFinish'].astype(str)\n",
        "X = pd.get_dummies(X, columns=['GarageFinish'])"
      ],
      "metadata": {
        "id": "Wrhssauz_Y-g"
      },
      "execution_count": null,
      "outputs": []
    },
    {
      "cell_type": "code",
      "source": [],
      "metadata": {
        "id": "QYelQsm4_ZBS"
      },
      "execution_count": null,
      "outputs": []
    },
    {
      "cell_type": "markdown",
      "source": [
        "***Processing GarageCars variable***"
      ],
      "metadata": {
        "id": "use2yQT1_4OS"
      }
    },
    {
      "cell_type": "code",
      "source": [
        "X.GarageCars"
      ],
      "metadata": {
        "colab": {
          "base_uri": "https://localhost:8080/"
        },
        "id": "mcQHSSSd_ZEc",
        "outputId": "2ffab0ce-645c-463b-ce40-7fe31716ffac"
      },
      "execution_count": null,
      "outputs": [
        {
          "output_type": "execute_result",
          "data": {
            "text/plain": [
              "0       2\n",
              "1       2\n",
              "2       2\n",
              "3       3\n",
              "4       3\n",
              "       ..\n",
              "1455    2\n",
              "1456    2\n",
              "1457    1\n",
              "1458    1\n",
              "1459    1\n",
              "Name: GarageCars, Length: 1412, dtype: int64"
            ]
          },
          "metadata": {},
          "execution_count": 212
        }
      ]
    },
    {
      "cell_type": "code",
      "source": [
        "sum(X.GarageCars.isna())"
      ],
      "metadata": {
        "colab": {
          "base_uri": "https://localhost:8080/"
        },
        "id": "LTP5vGxB_ZHz",
        "outputId": "18cc95d2-4b24-4dc8-baf7-63f23e608f0f"
      },
      "execution_count": null,
      "outputs": [
        {
          "output_type": "execute_result",
          "data": {
            "text/plain": [
              "0"
            ]
          },
          "metadata": {},
          "execution_count": 213
        }
      ]
    },
    {
      "cell_type": "code",
      "source": [],
      "metadata": {
        "id": "pbGsEUiB_ZOO"
      },
      "execution_count": null,
      "outputs": []
    },
    {
      "cell_type": "markdown",
      "source": [
        "***Processing GarageArea variable***"
      ],
      "metadata": {
        "id": "_t4RiysYALrH"
      }
    },
    {
      "cell_type": "code",
      "source": [
        "X.GarageArea"
      ],
      "metadata": {
        "colab": {
          "base_uri": "https://localhost:8080/"
        },
        "id": "mzxCp3xnAExG",
        "outputId": "2a439099-1604-4f97-e91b-ef7a1ad7f476"
      },
      "execution_count": null,
      "outputs": [
        {
          "output_type": "execute_result",
          "data": {
            "text/plain": [
              "0       548\n",
              "1       460\n",
              "2       608\n",
              "3       642\n",
              "4       836\n",
              "       ... \n",
              "1455    460\n",
              "1456    500\n",
              "1457    252\n",
              "1458    240\n",
              "1459    276\n",
              "Name: GarageArea, Length: 1412, dtype: int64"
            ]
          },
          "metadata": {},
          "execution_count": 214
        }
      ]
    },
    {
      "cell_type": "code",
      "source": [
        "sum(X.GarageArea.isna())"
      ],
      "metadata": {
        "colab": {
          "base_uri": "https://localhost:8080/"
        },
        "id": "uMmbgL0fAE0R",
        "outputId": "68dcbac9-94e8-4f5c-a924-77c2f499b545"
      },
      "execution_count": null,
      "outputs": [
        {
          "output_type": "execute_result",
          "data": {
            "text/plain": [
              "0"
            ]
          },
          "metadata": {},
          "execution_count": 215
        }
      ]
    },
    {
      "cell_type": "code",
      "source": [],
      "metadata": {
        "id": "VzKbGe4lAE3s"
      },
      "execution_count": null,
      "outputs": []
    },
    {
      "cell_type": "markdown",
      "source": [
        "***Processing GarageQual variable***"
      ],
      "metadata": {
        "id": "zOecRIAUAaeI"
      }
    },
    {
      "cell_type": "code",
      "source": [
        "X.GarageQual"
      ],
      "metadata": {
        "colab": {
          "base_uri": "https://localhost:8080/"
        },
        "id": "fvJ7gh_RAE76",
        "outputId": "8dad8fd7-f5e2-4dcd-d2e2-ec3aea9920b8"
      },
      "execution_count": null,
      "outputs": [
        {
          "output_type": "execute_result",
          "data": {
            "text/plain": [
              "0       TA\n",
              "1       TA\n",
              "2       TA\n",
              "3       TA\n",
              "4       TA\n",
              "        ..\n",
              "1455    TA\n",
              "1456    TA\n",
              "1457    TA\n",
              "1458    TA\n",
              "1459    TA\n",
              "Name: GarageQual, Length: 1412, dtype: object"
            ]
          },
          "metadata": {},
          "execution_count": 216
        }
      ]
    },
    {
      "cell_type": "code",
      "source": [
        "sum(X.GarageQual.isna())"
      ],
      "metadata": {
        "colab": {
          "base_uri": "https://localhost:8080/"
        },
        "id": "swy0duHxAXVu",
        "outputId": "5f84c256-91b1-4dce-f1a8-ac761203a968"
      },
      "execution_count": null,
      "outputs": [
        {
          "output_type": "execute_result",
          "data": {
            "text/plain": [
              "74"
            ]
          },
          "metadata": {},
          "execution_count": 217
        }
      ]
    },
    {
      "cell_type": "code",
      "source": [
        "X.GarageQual.unique()"
      ],
      "metadata": {
        "colab": {
          "base_uri": "https://localhost:8080/"
        },
        "id": "D5jlSIeTAXY1",
        "outputId": "58a549df-375c-45b5-95e0-a1ef9fb99b90"
      },
      "execution_count": null,
      "outputs": [
        {
          "output_type": "execute_result",
          "data": {
            "text/plain": [
              "array(['TA', 'Fa', 'Gd', nan, 'Ex', 'Po'], dtype=object)"
            ]
          },
          "metadata": {},
          "execution_count": 218
        }
      ]
    },
    {
      "cell_type": "code",
      "source": [
        "X.GarageQual.fillna('None', inplace=True)"
      ],
      "metadata": {
        "id": "MH6rl2MNAXdz"
      },
      "execution_count": null,
      "outputs": []
    },
    {
      "cell_type": "code",
      "source": [
        "X['GarageQual'] = X['GarageQual'].astype(str)\n",
        "X = pd.get_dummies(X, columns=['GarageQual'])"
      ],
      "metadata": {
        "id": "VeYzsFBHAXhS"
      },
      "execution_count": null,
      "outputs": []
    },
    {
      "cell_type": "code",
      "source": [],
      "metadata": {
        "id": "1jPfiQkcAXlE"
      },
      "execution_count": null,
      "outputs": []
    },
    {
      "cell_type": "markdown",
      "source": [
        "***Processing GarageCond variable***"
      ],
      "metadata": {
        "id": "xxcHVIl6BJ57"
      }
    },
    {
      "cell_type": "code",
      "source": [
        "X.GarageCond"
      ],
      "metadata": {
        "colab": {
          "base_uri": "https://localhost:8080/"
        },
        "id": "0EJIwmPYAXp5",
        "outputId": "545917b7-13cb-4e9d-c08a-3b17c586d01d"
      },
      "execution_count": null,
      "outputs": [
        {
          "output_type": "execute_result",
          "data": {
            "text/plain": [
              "0       TA\n",
              "1       TA\n",
              "2       TA\n",
              "3       TA\n",
              "4       TA\n",
              "        ..\n",
              "1455    TA\n",
              "1456    TA\n",
              "1457    TA\n",
              "1458    TA\n",
              "1459    TA\n",
              "Name: GarageCond, Length: 1412, dtype: object"
            ]
          },
          "metadata": {},
          "execution_count": 221
        }
      ]
    },
    {
      "cell_type": "code",
      "source": [
        "sum(X.GarageCond.isna())"
      ],
      "metadata": {
        "colab": {
          "base_uri": "https://localhost:8080/"
        },
        "id": "WQ5HJWOzAXtX",
        "outputId": "3ce989b8-ea54-4d22-8eb3-b08e53208ee7"
      },
      "execution_count": null,
      "outputs": [
        {
          "output_type": "execute_result",
          "data": {
            "text/plain": [
              "74"
            ]
          },
          "metadata": {},
          "execution_count": 222
        }
      ]
    },
    {
      "cell_type": "code",
      "source": [
        "X.GarageCond.unique()"
      ],
      "metadata": {
        "colab": {
          "base_uri": "https://localhost:8080/"
        },
        "id": "zYnZZOU9AXww",
        "outputId": "a0500925-c012-42f6-87bc-2ba257de8f1c"
      },
      "execution_count": null,
      "outputs": [
        {
          "output_type": "execute_result",
          "data": {
            "text/plain": [
              "array(['TA', 'Fa', 'Gd', nan, 'Po', 'Ex'], dtype=object)"
            ]
          },
          "metadata": {},
          "execution_count": 223
        }
      ]
    },
    {
      "cell_type": "code",
      "source": [
        "X.GarageCond.fillna('None', inplace=True)"
      ],
      "metadata": {
        "id": "mEfHvPplAFAz"
      },
      "execution_count": null,
      "outputs": []
    },
    {
      "cell_type": "code",
      "source": [
        "X['GarageCond'] = X['GarageCond'].astype(str)\n",
        "X = pd.get_dummies(X, columns=['GarageCond'])"
      ],
      "metadata": {
        "id": "bFtelUs2Bkok"
      },
      "execution_count": null,
      "outputs": []
    },
    {
      "cell_type": "code",
      "source": [],
      "metadata": {
        "id": "QUYuel85Bkuz"
      },
      "execution_count": null,
      "outputs": []
    },
    {
      "cell_type": "markdown",
      "source": [
        "***Processing PavedDrive variable***"
      ],
      "metadata": {
        "id": "8lQcERjzCGdZ"
      }
    },
    {
      "cell_type": "code",
      "source": [
        "X.PavedDrive"
      ],
      "metadata": {
        "colab": {
          "base_uri": "https://localhost:8080/"
        },
        "id": "DW_J4ViHBk0K",
        "outputId": "ff05c4e7-d4f7-455f-949a-cefa9dc549b0"
      },
      "execution_count": null,
      "outputs": [
        {
          "output_type": "execute_result",
          "data": {
            "text/plain": [
              "0       Y\n",
              "1       Y\n",
              "2       Y\n",
              "3       Y\n",
              "4       Y\n",
              "       ..\n",
              "1455    Y\n",
              "1456    Y\n",
              "1457    Y\n",
              "1458    Y\n",
              "1459    Y\n",
              "Name: PavedDrive, Length: 1412, dtype: object"
            ]
          },
          "metadata": {},
          "execution_count": 226
        }
      ]
    },
    {
      "cell_type": "code",
      "source": [
        "sum(X.PavedDrive.isna())"
      ],
      "metadata": {
        "colab": {
          "base_uri": "https://localhost:8080/"
        },
        "id": "az72xDzyBk4V",
        "outputId": "f3d6baae-8752-4a7f-acbc-c9ccc8704415"
      },
      "execution_count": null,
      "outputs": [
        {
          "output_type": "execute_result",
          "data": {
            "text/plain": [
              "0"
            ]
          },
          "metadata": {},
          "execution_count": 227
        }
      ]
    },
    {
      "cell_type": "code",
      "source": [
        "X.PavedDrive.unique()"
      ],
      "metadata": {
        "colab": {
          "base_uri": "https://localhost:8080/"
        },
        "id": "oaoGF2FYBk8z",
        "outputId": "e0bae512-f0a8-4f4e-ebde-b784d444a993"
      },
      "execution_count": null,
      "outputs": [
        {
          "output_type": "execute_result",
          "data": {
            "text/plain": [
              "array(['Y', 'N', 'P'], dtype=object)"
            ]
          },
          "metadata": {},
          "execution_count": 228
        }
      ]
    },
    {
      "cell_type": "code",
      "source": [
        "X['PavedDrive'] = X['PavedDrive'].astype(str)\n",
        "X = pd.get_dummies(X, columns=['PavedDrive'])"
      ],
      "metadata": {
        "id": "xBPa42H1BlAh"
      },
      "execution_count": null,
      "outputs": []
    },
    {
      "cell_type": "code",
      "source": [],
      "metadata": {
        "id": "ngdNpVdWBlDz"
      },
      "execution_count": null,
      "outputs": []
    },
    {
      "cell_type": "markdown",
      "source": [
        "***Processing WoodDeckSF variable***"
      ],
      "metadata": {
        "id": "w66G3RTPCjPZ"
      }
    },
    {
      "cell_type": "code",
      "source": [
        "X.WoodDeckSF"
      ],
      "metadata": {
        "colab": {
          "base_uri": "https://localhost:8080/"
        },
        "id": "rzDiLP7XBlK5",
        "outputId": "2a87f850-282e-4211-e0aa-25d8ec9e656d"
      },
      "execution_count": null,
      "outputs": [
        {
          "output_type": "execute_result",
          "data": {
            "text/plain": [
              "0         0\n",
              "1       298\n",
              "2         0\n",
              "3         0\n",
              "4       192\n",
              "       ... \n",
              "1455      0\n",
              "1456    349\n",
              "1457      0\n",
              "1458    366\n",
              "1459    736\n",
              "Name: WoodDeckSF, Length: 1412, dtype: int64"
            ]
          },
          "metadata": {},
          "execution_count": 230
        }
      ]
    },
    {
      "cell_type": "code",
      "source": [
        "sum(X.WoodDeckSF.isna())"
      ],
      "metadata": {
        "colab": {
          "base_uri": "https://localhost:8080/"
        },
        "id": "E2pPRlA5BlHP",
        "outputId": "a1efde11-d180-41f0-a59b-9195124c18cc"
      },
      "execution_count": null,
      "outputs": [
        {
          "output_type": "execute_result",
          "data": {
            "text/plain": [
              "0"
            ]
          },
          "metadata": {},
          "execution_count": 231
        }
      ]
    },
    {
      "cell_type": "code",
      "source": [],
      "metadata": {
        "id": "luVmQB3OBlQG"
      },
      "execution_count": null,
      "outputs": []
    },
    {
      "cell_type": "markdown",
      "source": [
        "***Processing OpenPorchSF variable***"
      ],
      "metadata": {
        "id": "dg8aoNYcCwbg"
      }
    },
    {
      "cell_type": "code",
      "source": [
        "X.OpenPorchSF"
      ],
      "metadata": {
        "colab": {
          "base_uri": "https://localhost:8080/"
        },
        "id": "4EN7Fq2QCuIm",
        "outputId": "9e8afa08-1324-43bb-e5e0-f83e65b609aa"
      },
      "execution_count": null,
      "outputs": [
        {
          "output_type": "execute_result",
          "data": {
            "text/plain": [
              "0       61\n",
              "1        0\n",
              "2       42\n",
              "3       35\n",
              "4       84\n",
              "        ..\n",
              "1455    40\n",
              "1456     0\n",
              "1457    60\n",
              "1458     0\n",
              "1459    68\n",
              "Name: OpenPorchSF, Length: 1412, dtype: int64"
            ]
          },
          "metadata": {},
          "execution_count": 232
        }
      ]
    },
    {
      "cell_type": "code",
      "source": [
        "sum(X.OpenPorchSF.isna())"
      ],
      "metadata": {
        "colab": {
          "base_uri": "https://localhost:8080/"
        },
        "id": "X336mLWMCuMv",
        "outputId": "62997733-1d1a-414e-bc4f-f4dc18371e5a"
      },
      "execution_count": null,
      "outputs": [
        {
          "output_type": "execute_result",
          "data": {
            "text/plain": [
              "0"
            ]
          },
          "metadata": {},
          "execution_count": 233
        }
      ]
    },
    {
      "cell_type": "markdown",
      "source": [
        "***Processing EnclosedPorch variable***"
      ],
      "metadata": {
        "id": "-uRGY-ZCC-dK"
      }
    },
    {
      "cell_type": "code",
      "source": [
        "X.EnclosedPorch"
      ],
      "metadata": {
        "colab": {
          "base_uri": "https://localhost:8080/"
        },
        "id": "hn_aAIgyCuQG",
        "outputId": "4a5d94e5-2578-4687-cced-de4e666926b7"
      },
      "execution_count": null,
      "outputs": [
        {
          "output_type": "execute_result",
          "data": {
            "text/plain": [
              "0         0\n",
              "1         0\n",
              "2         0\n",
              "3       272\n",
              "4         0\n",
              "       ... \n",
              "1455      0\n",
              "1456      0\n",
              "1457      0\n",
              "1458    112\n",
              "1459      0\n",
              "Name: EnclosedPorch, Length: 1412, dtype: int64"
            ]
          },
          "metadata": {},
          "execution_count": 234
        }
      ]
    },
    {
      "cell_type": "code",
      "source": [
        "sum(X.EnclosedPorch.isna())"
      ],
      "metadata": {
        "colab": {
          "base_uri": "https://localhost:8080/"
        },
        "id": "c4wi2hLfCuTu",
        "outputId": "bddecc1c-4fde-49b0-ef9f-fb2805c0a6ec"
      },
      "execution_count": null,
      "outputs": [
        {
          "output_type": "execute_result",
          "data": {
            "text/plain": [
              "0"
            ]
          },
          "metadata": {},
          "execution_count": 235
        }
      ]
    },
    {
      "cell_type": "code",
      "source": [],
      "metadata": {
        "id": "4XPLkPbDCuXC"
      },
      "execution_count": null,
      "outputs": []
    },
    {
      "cell_type": "markdown",
      "source": [
        "***Processing 3SsnPorch variable***"
      ],
      "metadata": {
        "id": "_vcJ9xmIDL1c"
      }
    },
    {
      "cell_type": "code",
      "source": [
        "X.rename(columns = {'3SsnPorch':'ThreeSsnPorch'}, inplace = True)"
      ],
      "metadata": {
        "id": "Qq9bqgFECuaJ"
      },
      "execution_count": null,
      "outputs": []
    },
    {
      "cell_type": "code",
      "source": [
        "X.ThreeSsnPorch"
      ],
      "metadata": {
        "colab": {
          "base_uri": "https://localhost:8080/"
        },
        "id": "dK4mXa3-Cufb",
        "outputId": "7152a28e-2b86-4892-d738-5219881debe0"
      },
      "execution_count": null,
      "outputs": [
        {
          "output_type": "execute_result",
          "data": {
            "text/plain": [
              "0       0\n",
              "1       0\n",
              "2       0\n",
              "3       0\n",
              "4       0\n",
              "       ..\n",
              "1455    0\n",
              "1456    0\n",
              "1457    0\n",
              "1458    0\n",
              "1459    0\n",
              "Name: ThreeSsnPorch, Length: 1412, dtype: int64"
            ]
          },
          "metadata": {},
          "execution_count": 237
        }
      ]
    },
    {
      "cell_type": "code",
      "source": [
        "sum(X.ThreeSsnPorch.isna())"
      ],
      "metadata": {
        "colab": {
          "base_uri": "https://localhost:8080/"
        },
        "id": "-qGa8PBDCujX",
        "outputId": "bfc2266c-0088-490b-c9a5-ca824d5ca52f"
      },
      "execution_count": null,
      "outputs": [
        {
          "output_type": "execute_result",
          "data": {
            "text/plain": [
              "0"
            ]
          },
          "metadata": {},
          "execution_count": 238
        }
      ]
    },
    {
      "cell_type": "markdown",
      "source": [
        "***Processing ScreenPorch variable***"
      ],
      "metadata": {
        "id": "qC6XyjHVEdtQ"
      }
    },
    {
      "cell_type": "code",
      "source": [
        "X.ScreenPorch"
      ],
      "metadata": {
        "colab": {
          "base_uri": "https://localhost:8080/"
        },
        "id": "4_HatsVPCuoE",
        "outputId": "0751729f-4135-4ea3-d375-0b304a166fb2"
      },
      "execution_count": null,
      "outputs": [
        {
          "output_type": "execute_result",
          "data": {
            "text/plain": [
              "0       0\n",
              "1       0\n",
              "2       0\n",
              "3       0\n",
              "4       0\n",
              "       ..\n",
              "1455    0\n",
              "1456    0\n",
              "1457    0\n",
              "1458    0\n",
              "1459    0\n",
              "Name: ScreenPorch, Length: 1412, dtype: int64"
            ]
          },
          "metadata": {},
          "execution_count": 239
        }
      ]
    },
    {
      "cell_type": "code",
      "source": [
        "sum(X.ScreenPorch.isna())"
      ],
      "metadata": {
        "colab": {
          "base_uri": "https://localhost:8080/"
        },
        "id": "ihDcXQWFCurY",
        "outputId": "cd4cfa8c-d6ba-4058-b781-e33e4a67e4c8"
      },
      "execution_count": null,
      "outputs": [
        {
          "output_type": "execute_result",
          "data": {
            "text/plain": [
              "0"
            ]
          },
          "metadata": {},
          "execution_count": 240
        }
      ]
    },
    {
      "cell_type": "code",
      "source": [],
      "metadata": {
        "id": "WYCAV6CSCuup"
      },
      "execution_count": null,
      "outputs": []
    },
    {
      "cell_type": "markdown",
      "source": [
        "***Processing PoolArea variable***"
      ],
      "metadata": {
        "id": "zb-nio2_Ew-U"
      }
    },
    {
      "cell_type": "code",
      "source": [
        "X.PoolArea"
      ],
      "metadata": {
        "colab": {
          "base_uri": "https://localhost:8080/"
        },
        "id": "Tu1NGG76Cuxw",
        "outputId": "a7e93240-b1af-412f-8514-73a755a8814f"
      },
      "execution_count": null,
      "outputs": [
        {
          "output_type": "execute_result",
          "data": {
            "text/plain": [
              "0       0\n",
              "1       0\n",
              "2       0\n",
              "3       0\n",
              "4       0\n",
              "       ..\n",
              "1455    0\n",
              "1456    0\n",
              "1457    0\n",
              "1458    0\n",
              "1459    0\n",
              "Name: PoolArea, Length: 1412, dtype: int64"
            ]
          },
          "metadata": {},
          "execution_count": 241
        }
      ]
    },
    {
      "cell_type": "code",
      "source": [
        "sum(X.PoolArea.isna())"
      ],
      "metadata": {
        "colab": {
          "base_uri": "https://localhost:8080/"
        },
        "id": "8hO3wsxaCu0q",
        "outputId": "14d1f8bb-8ca0-4d24-9d04-ae3e39d0c475"
      },
      "execution_count": null,
      "outputs": [
        {
          "output_type": "execute_result",
          "data": {
            "text/plain": [
              "0"
            ]
          },
          "metadata": {},
          "execution_count": 242
        }
      ]
    },
    {
      "cell_type": "code",
      "source": [],
      "metadata": {
        "id": "RGkBeqZmCu31"
      },
      "execution_count": null,
      "outputs": []
    },
    {
      "cell_type": "markdown",
      "source": [
        "***Processing PoolQC variable***"
      ],
      "metadata": {
        "id": "modyu3oiFDoC"
      }
    },
    {
      "cell_type": "code",
      "source": [
        "X.PoolQC"
      ],
      "metadata": {
        "colab": {
          "base_uri": "https://localhost:8080/"
        },
        "id": "j02fkDq9Cu7l",
        "outputId": "fadc5581-edef-49e0-d385-77be51ebbeaa"
      },
      "execution_count": null,
      "outputs": [
        {
          "output_type": "execute_result",
          "data": {
            "text/plain": [
              "0       NaN\n",
              "1       NaN\n",
              "2       NaN\n",
              "3       NaN\n",
              "4       NaN\n",
              "       ... \n",
              "1455    NaN\n",
              "1456    NaN\n",
              "1457    NaN\n",
              "1458    NaN\n",
              "1459    NaN\n",
              "Name: PoolQC, Length: 1412, dtype: object"
            ]
          },
          "metadata": {},
          "execution_count": 243
        }
      ]
    },
    {
      "cell_type": "code",
      "source": [
        "X.PoolQC.fillna('None', inplace=True)"
      ],
      "metadata": {
        "id": "OaOLvKcBCu-h"
      },
      "execution_count": null,
      "outputs": []
    },
    {
      "cell_type": "code",
      "source": [
        "X.PoolQC.unique()"
      ],
      "metadata": {
        "colab": {
          "base_uri": "https://localhost:8080/"
        },
        "id": "SMxvWr6_CvBm",
        "outputId": "fc2e8eba-c8a8-4c35-81bb-dd5a9710815f"
      },
      "execution_count": null,
      "outputs": [
        {
          "output_type": "execute_result",
          "data": {
            "text/plain": [
              "array(['None', 'Ex', 'Fa', 'Gd'], dtype=object)"
            ]
          },
          "metadata": {},
          "execution_count": 245
        }
      ]
    },
    {
      "cell_type": "code",
      "source": [
        "X['PoolQC'] = X['PoolQC'].astype(str)\n",
        "X = pd.get_dummies(X, columns=['PoolQC'])"
      ],
      "metadata": {
        "id": "jHBeBmXQCvEo"
      },
      "execution_count": null,
      "outputs": []
    },
    {
      "cell_type": "code",
      "source": [],
      "metadata": {
        "id": "wwGtWVQOCvHn"
      },
      "execution_count": null,
      "outputs": []
    },
    {
      "cell_type": "markdown",
      "source": [
        "***Processing Fence variable***"
      ],
      "metadata": {
        "id": "J0Sx3AEBFldq"
      }
    },
    {
      "cell_type": "code",
      "source": [
        "X.Fence"
      ],
      "metadata": {
        "colab": {
          "base_uri": "https://localhost:8080/"
        },
        "id": "FUiPYeCTCvK8",
        "outputId": "9507ab19-6d93-41b3-a357-14804bfae620"
      },
      "execution_count": null,
      "outputs": [
        {
          "output_type": "execute_result",
          "data": {
            "text/plain": [
              "0         NaN\n",
              "1         NaN\n",
              "2         NaN\n",
              "3         NaN\n",
              "4         NaN\n",
              "        ...  \n",
              "1455      NaN\n",
              "1456    MnPrv\n",
              "1457    GdPrv\n",
              "1458      NaN\n",
              "1459      NaN\n",
              "Name: Fence, Length: 1412, dtype: object"
            ]
          },
          "metadata": {},
          "execution_count": 247
        }
      ]
    },
    {
      "cell_type": "code",
      "source": [
        "sum(X.Fence.isna())"
      ],
      "metadata": {
        "colab": {
          "base_uri": "https://localhost:8080/"
        },
        "id": "0ig4ABPvCvPb",
        "outputId": "2be36cd8-f554-449f-91f2-af38419c78d5"
      },
      "execution_count": null,
      "outputs": [
        {
          "output_type": "execute_result",
          "data": {
            "text/plain": [
              "1135"
            ]
          },
          "metadata": {},
          "execution_count": 248
        }
      ]
    },
    {
      "cell_type": "code",
      "source": [
        "X.Fence.fillna('None', inplace=True)"
      ],
      "metadata": {
        "id": "-v-FuWzACvSn"
      },
      "execution_count": null,
      "outputs": []
    },
    {
      "cell_type": "code",
      "source": [
        "X.Fence.unique()"
      ],
      "metadata": {
        "colab": {
          "base_uri": "https://localhost:8080/"
        },
        "id": "sWJBHXJvBlU4",
        "outputId": "92286cfe-1aae-4bb3-a14a-2168411529e8"
      },
      "execution_count": null,
      "outputs": [
        {
          "output_type": "execute_result",
          "data": {
            "text/plain": [
              "array(['None', 'MnPrv', 'GdWo', 'GdPrv', 'MnWw'], dtype=object)"
            ]
          },
          "metadata": {},
          "execution_count": 250
        }
      ]
    },
    {
      "cell_type": "code",
      "source": [
        "X['Fence'] = X['Fence'].astype(str)\n",
        "X = pd.get_dummies(X, columns=['Fence'])"
      ],
      "metadata": {
        "id": "Er5dMpnxBlXz"
      },
      "execution_count": null,
      "outputs": []
    },
    {
      "cell_type": "markdown",
      "source": [
        "***Processing MiscFeature variable***"
      ],
      "metadata": {
        "id": "5eiHV1dwHUko"
      }
    },
    {
      "cell_type": "code",
      "source": [],
      "metadata": {
        "id": "GvffBNq2Gy5y"
      },
      "execution_count": null,
      "outputs": []
    },
    {
      "cell_type": "code",
      "source": [
        "X.MiscFeature"
      ],
      "metadata": {
        "colab": {
          "base_uri": "https://localhost:8080/"
        },
        "id": "pv1UNzR9GzFw",
        "outputId": "69f5e9c5-0a0c-419d-f42d-5ccb2ad45913"
      },
      "execution_count": null,
      "outputs": [
        {
          "output_type": "execute_result",
          "data": {
            "text/plain": [
              "0        NaN\n",
              "1        NaN\n",
              "2        NaN\n",
              "3        NaN\n",
              "4        NaN\n",
              "        ... \n",
              "1455     NaN\n",
              "1456     NaN\n",
              "1457    Shed\n",
              "1458     NaN\n",
              "1459     NaN\n",
              "Name: MiscFeature, Length: 1412, dtype: object"
            ]
          },
          "metadata": {},
          "execution_count": 252
        }
      ]
    },
    {
      "cell_type": "code",
      "source": [
        "sum(X.MiscFeature.isna())"
      ],
      "metadata": {
        "colab": {
          "base_uri": "https://localhost:8080/"
        },
        "id": "4X9s9Ax8GzJX",
        "outputId": "e99b8f5c-8a54-4373-bb5d-85d5afe0876e"
      },
      "execution_count": null,
      "outputs": [
        {
          "output_type": "execute_result",
          "data": {
            "text/plain": [
              "1361"
            ]
          },
          "metadata": {},
          "execution_count": 253
        }
      ]
    },
    {
      "cell_type": "code",
      "source": [
        "X.MiscFeature.unique()"
      ],
      "metadata": {
        "colab": {
          "base_uri": "https://localhost:8080/"
        },
        "id": "zjjaAGucGzM6",
        "outputId": "116de11d-ab61-4bd9-fe22-5eb625ffc313"
      },
      "execution_count": null,
      "outputs": [
        {
          "output_type": "execute_result",
          "data": {
            "text/plain": [
              "array([nan, 'Shed', 'Gar2', 'Othr', 'TenC'], dtype=object)"
            ]
          },
          "metadata": {},
          "execution_count": 254
        }
      ]
    },
    {
      "cell_type": "code",
      "source": [
        "X.MiscFeature.fillna('None', inplace=True)"
      ],
      "metadata": {
        "id": "jegt9hRfGzQe"
      },
      "execution_count": null,
      "outputs": []
    },
    {
      "cell_type": "code",
      "source": [
        "X['MiscFeature'] = X['MiscFeature'].astype(str)\n",
        "X = pd.get_dummies(X, columns=['MiscFeature'])"
      ],
      "metadata": {
        "id": "rYI1xP1nGzT3"
      },
      "execution_count": null,
      "outputs": []
    },
    {
      "cell_type": "code",
      "source": [],
      "metadata": {
        "id": "FiLlJnZXGzXz"
      },
      "execution_count": null,
      "outputs": []
    },
    {
      "cell_type": "markdown",
      "source": [
        "***Processing MiscVal variable***"
      ],
      "metadata": {
        "id": "ZstwXGj9IJti"
      }
    },
    {
      "cell_type": "code",
      "source": [
        "X.MiscVal"
      ],
      "metadata": {
        "colab": {
          "base_uri": "https://localhost:8080/"
        },
        "id": "YK2PVnzKGze2",
        "outputId": "8b7768b8-0464-41ce-e8b7-99778740a17f"
      },
      "execution_count": null,
      "outputs": [
        {
          "output_type": "execute_result",
          "data": {
            "text/plain": [
              "0          0\n",
              "1          0\n",
              "2          0\n",
              "3          0\n",
              "4          0\n",
              "        ... \n",
              "1455       0\n",
              "1456       0\n",
              "1457    2500\n",
              "1458       0\n",
              "1459       0\n",
              "Name: MiscVal, Length: 1412, dtype: int64"
            ]
          },
          "metadata": {},
          "execution_count": 257
        }
      ]
    },
    {
      "cell_type": "code",
      "source": [
        "sum(X.MiscVal.isna())"
      ],
      "metadata": {
        "colab": {
          "base_uri": "https://localhost:8080/"
        },
        "id": "X8IIpn2-GzbL",
        "outputId": "b14bfa3e-8640-4613-9a94-e33afe5b78e9"
      },
      "execution_count": null,
      "outputs": [
        {
          "output_type": "execute_result",
          "data": {
            "text/plain": [
              "0"
            ]
          },
          "metadata": {},
          "execution_count": 258
        }
      ]
    },
    {
      "cell_type": "markdown",
      "source": [
        "***Processing MoSold variable***"
      ],
      "metadata": {
        "id": "ppnhSGAOIh_x"
      }
    },
    {
      "cell_type": "code",
      "source": [
        "X.MoSold"
      ],
      "metadata": {
        "colab": {
          "base_uri": "https://localhost:8080/"
        },
        "id": "wZ_N6OjgGzlO",
        "outputId": "417e1279-a7d3-4749-bcd7-56477858fbc9"
      },
      "execution_count": null,
      "outputs": [
        {
          "output_type": "execute_result",
          "data": {
            "text/plain": [
              "0        2\n",
              "1        5\n",
              "2        9\n",
              "3        2\n",
              "4       12\n",
              "        ..\n",
              "1455     8\n",
              "1456     2\n",
              "1457     5\n",
              "1458     4\n",
              "1459     6\n",
              "Name: MoSold, Length: 1412, dtype: int64"
            ]
          },
          "metadata": {},
          "execution_count": 259
        }
      ]
    },
    {
      "cell_type": "code",
      "source": [
        "sum(X.MoSold.isna())"
      ],
      "metadata": {
        "colab": {
          "base_uri": "https://localhost:8080/"
        },
        "id": "HRluXQTPGziB",
        "outputId": "bc69bce8-bead-4809-8a6b-73952f549d0e"
      },
      "execution_count": null,
      "outputs": [
        {
          "output_type": "execute_result",
          "data": {
            "text/plain": [
              "0"
            ]
          },
          "metadata": {},
          "execution_count": 260
        }
      ]
    },
    {
      "cell_type": "code",
      "source": [],
      "metadata": {
        "id": "seXB8pSrGzo9"
      },
      "execution_count": null,
      "outputs": []
    },
    {
      "cell_type": "code",
      "source": [],
      "metadata": {
        "id": "ZHZ3qtP4IwSx"
      },
      "execution_count": null,
      "outputs": []
    },
    {
      "cell_type": "markdown",
      "source": [
        "***Processing YrSold variable***"
      ],
      "metadata": {
        "id": "p7718t2AI-xH"
      }
    },
    {
      "cell_type": "code",
      "source": [
        "X.YrSold"
      ],
      "metadata": {
        "colab": {
          "base_uri": "https://localhost:8080/"
        },
        "id": "bbsobNccIwYp",
        "outputId": "5b7707f0-6aeb-476c-9a65-9cb48c3cec40"
      },
      "execution_count": null,
      "outputs": [
        {
          "output_type": "execute_result",
          "data": {
            "text/plain": [
              "0       2008\n",
              "1       2007\n",
              "2       2008\n",
              "3       2006\n",
              "4       2008\n",
              "        ... \n",
              "1455    2007\n",
              "1456    2010\n",
              "1457    2010\n",
              "1458    2010\n",
              "1459    2008\n",
              "Name: YrSold, Length: 1412, dtype: int64"
            ]
          },
          "metadata": {},
          "execution_count": 261
        }
      ]
    },
    {
      "cell_type": "code",
      "source": [
        "sum(X.YrSold.isna())"
      ],
      "metadata": {
        "colab": {
          "base_uri": "https://localhost:8080/"
        },
        "id": "Wqk6twTtIwcq",
        "outputId": "af097939-2b4b-4d48-dd6f-539f3e532e9a"
      },
      "execution_count": null,
      "outputs": [
        {
          "output_type": "execute_result",
          "data": {
            "text/plain": [
              "0"
            ]
          },
          "metadata": {},
          "execution_count": 262
        }
      ]
    },
    {
      "cell_type": "code",
      "source": [],
      "metadata": {
        "id": "5Jp2rCtzIwgH"
      },
      "execution_count": null,
      "outputs": []
    },
    {
      "cell_type": "code",
      "source": [],
      "metadata": {
        "id": "CKcrV2NAJKv7"
      },
      "execution_count": null,
      "outputs": []
    },
    {
      "cell_type": "markdown",
      "source": [
        "***Processing SaleType variable***"
      ],
      "metadata": {
        "id": "el0EnxSvJLyk"
      }
    },
    {
      "cell_type": "code",
      "source": [
        "X.SaleType"
      ],
      "metadata": {
        "colab": {
          "base_uri": "https://localhost:8080/"
        },
        "id": "R4nEnkKqIwnM",
        "outputId": "4ad2fcfb-f719-44ae-f065-32230996dfd6"
      },
      "execution_count": null,
      "outputs": [
        {
          "output_type": "execute_result",
          "data": {
            "text/plain": [
              "0       WD\n",
              "1       WD\n",
              "2       WD\n",
              "3       WD\n",
              "4       WD\n",
              "        ..\n",
              "1455    WD\n",
              "1456    WD\n",
              "1457    WD\n",
              "1458    WD\n",
              "1459    WD\n",
              "Name: SaleType, Length: 1412, dtype: object"
            ]
          },
          "metadata": {},
          "execution_count": 263
        }
      ]
    },
    {
      "cell_type": "code",
      "source": [
        "sum(X.SaleType.isna())"
      ],
      "metadata": {
        "colab": {
          "base_uri": "https://localhost:8080/"
        },
        "id": "gd6Jy5NjIwjo",
        "outputId": "24d6b317-3df1-401e-bff6-8f27dec8b013"
      },
      "execution_count": null,
      "outputs": [
        {
          "output_type": "execute_result",
          "data": {
            "text/plain": [
              "0"
            ]
          },
          "metadata": {},
          "execution_count": 264
        }
      ]
    },
    {
      "cell_type": "code",
      "source": [
        "X.SaleType.unique()"
      ],
      "metadata": {
        "colab": {
          "base_uri": "https://localhost:8080/"
        },
        "id": "t40ILZS_IwrM",
        "outputId": "dd217fc1-e2fd-416c-b2b8-03d6de88c265"
      },
      "execution_count": null,
      "outputs": [
        {
          "output_type": "execute_result",
          "data": {
            "text/plain": [
              "array(['WD', 'New', 'COD', 'ConLD', 'ConLI', 'CWD', 'ConLw', 'Con', 'Oth'],\n",
              "      dtype=object)"
            ]
          },
          "metadata": {},
          "execution_count": 265
        }
      ]
    },
    {
      "cell_type": "code",
      "source": [
        "X['SaleType'] = X['SaleType'].astype(str)\n",
        "X = pd.get_dummies(X, columns=['SaleType'])"
      ],
      "metadata": {
        "id": "MO5BJy0MIwut"
      },
      "execution_count": null,
      "outputs": []
    },
    {
      "cell_type": "code",
      "source": [],
      "metadata": {
        "id": "2CkOsj8bGzsF"
      },
      "execution_count": null,
      "outputs": []
    },
    {
      "cell_type": "code",
      "source": [],
      "metadata": {
        "id": "CU7QMS23Jb9X"
      },
      "execution_count": null,
      "outputs": []
    },
    {
      "cell_type": "markdown",
      "source": [
        "***Processing SaleCondition variable***"
      ],
      "metadata": {
        "id": "wUwBaf6BJvc1"
      }
    },
    {
      "cell_type": "code",
      "source": [
        "X.SaleCondition"
      ],
      "metadata": {
        "colab": {
          "base_uri": "https://localhost:8080/"
        },
        "id": "1YgWKM_VJcDJ",
        "outputId": "efb52e19-5cc5-4adb-a574-8687a07d730c"
      },
      "execution_count": null,
      "outputs": [
        {
          "output_type": "execute_result",
          "data": {
            "text/plain": [
              "0        Normal\n",
              "1        Normal\n",
              "2        Normal\n",
              "3       Abnorml\n",
              "4        Normal\n",
              "         ...   \n",
              "1455     Normal\n",
              "1456     Normal\n",
              "1457     Normal\n",
              "1458     Normal\n",
              "1459     Normal\n",
              "Name: SaleCondition, Length: 1412, dtype: object"
            ]
          },
          "metadata": {},
          "execution_count": 267
        }
      ]
    },
    {
      "cell_type": "code",
      "source": [
        "sum(X.SaleCondition.isna())"
      ],
      "metadata": {
        "colab": {
          "base_uri": "https://localhost:8080/"
        },
        "id": "iQrtSJ4AJcIA",
        "outputId": "adfa3084-648b-4c7d-db08-502659aeb7bb"
      },
      "execution_count": null,
      "outputs": [
        {
          "output_type": "execute_result",
          "data": {
            "text/plain": [
              "0"
            ]
          },
          "metadata": {},
          "execution_count": 268
        }
      ]
    },
    {
      "cell_type": "code",
      "source": [
        "X.SaleCondition.unique()"
      ],
      "metadata": {
        "colab": {
          "base_uri": "https://localhost:8080/"
        },
        "id": "_GvloSl6JcLn",
        "outputId": "af2c65f2-f698-4a50-d98c-dbd3b1aefbe8"
      },
      "execution_count": null,
      "outputs": [
        {
          "output_type": "execute_result",
          "data": {
            "text/plain": [
              "array(['Normal', 'Abnorml', 'Partial', 'Family', 'Alloca', 'AdjLand'],\n",
              "      dtype=object)"
            ]
          },
          "metadata": {},
          "execution_count": 269
        }
      ]
    },
    {
      "cell_type": "code",
      "source": [
        "X['SaleCondition'] = X['SaleCondition'].astype(str)\n",
        "X = pd.get_dummies(X, columns=['SaleCondition'])"
      ],
      "metadata": {
        "id": "7_LuyM3oJ3nQ"
      },
      "execution_count": null,
      "outputs": []
    },
    {
      "cell_type": "code",
      "source": [
        "dataset = X"
      ],
      "metadata": {
        "id": "c1xpQCW68Q-s"
      },
      "execution_count": null,
      "outputs": []
    },
    {
      "cell_type": "code",
      "source": [
        "y = dataset['SalePrice']\n",
        "X = dataset.drop(['SalePrice'], axis=1)\n"
      ],
      "metadata": {
        "id": "iufI1jSU8RBv"
      },
      "execution_count": null,
      "outputs": []
    },
    {
      "cell_type": "code",
      "source": [
        "X"
      ],
      "metadata": {
        "colab": {
          "base_uri": "https://localhost:8080/",
          "height": 487
        },
        "id": "U-Mb6OmFfaLT",
        "outputId": "5b0177e5-20b0-43e3-d4f1-d85bd7179772"
      },
      "execution_count": null,
      "outputs": [
        {
          "output_type": "execute_result",
          "data": {
            "text/plain": [
              "      LotFrontage  LotArea  OverallQual  OverallCond  YearBuilt  YearRemodAdd  \\\n",
              "0              65     8450            7            5       2003          2003   \n",
              "1              80     9600            6            8       1976          1976   \n",
              "2              68    11250            7            5       2001          2002   \n",
              "3              60     9550            7            5       1915          1970   \n",
              "4              84    14260            8            5       2000          2000   \n",
              "...           ...      ...          ...          ...        ...           ...   \n",
              "1455           62     7917            6            5       1999          2000   \n",
              "1456           85    13175            6            6       1978          1988   \n",
              "1457           66     9042            7            9       1941          2006   \n",
              "1458           68     9717            5            6       1950          1996   \n",
              "1459           75     9937            5            6       1965          1965   \n",
              "\n",
              "      MasVnrArea  BsmtFinSF1  BsmtFinSF2  BsmtUnfSF  ...  SaleType_ConLw  \\\n",
              "0            196         706           0        150  ...               0   \n",
              "1              0         978           0        284  ...               0   \n",
              "2            162         486           0        434  ...               0   \n",
              "3              0         216           0        540  ...               0   \n",
              "4            350         655           0        490  ...               0   \n",
              "...          ...         ...         ...        ...  ...             ...   \n",
              "1455           0           0           0        953  ...               0   \n",
              "1456         119         790         163        589  ...               0   \n",
              "1457           0         275           0        877  ...               0   \n",
              "1458           0          49        1029          0  ...               0   \n",
              "1459           0         830         290        136  ...               0   \n",
              "\n",
              "      SaleType_New  SaleType_Oth  SaleType_WD  SaleCondition_Abnorml  \\\n",
              "0                0             0            1                      0   \n",
              "1                0             0            1                      0   \n",
              "2                0             0            1                      0   \n",
              "3                0             0            1                      1   \n",
              "4                0             0            1                      0   \n",
              "...            ...           ...          ...                    ...   \n",
              "1455             0             0            1                      0   \n",
              "1456             0             0            1                      0   \n",
              "1457             0             0            1                      0   \n",
              "1458             0             0            1                      0   \n",
              "1459             0             0            1                      0   \n",
              "\n",
              "      SaleCondition_AdjLand  SaleCondition_Alloca  SaleCondition_Family  \\\n",
              "0                         0                     0                     0   \n",
              "1                         0                     0                     0   \n",
              "2                         0                     0                     0   \n",
              "3                         0                     0                     0   \n",
              "4                         0                     0                     0   \n",
              "...                     ...                   ...                   ...   \n",
              "1455                      0                     0                     0   \n",
              "1456                      0                     0                     0   \n",
              "1457                      0                     0                     0   \n",
              "1458                      0                     0                     0   \n",
              "1459                      0                     0                     0   \n",
              "\n",
              "      SaleCondition_Normal  SaleCondition_Partial  \n",
              "0                        1                      0  \n",
              "1                        1                      0  \n",
              "2                        1                      0  \n",
              "3                        0                      0  \n",
              "4                        1                      0  \n",
              "...                    ...                    ...  \n",
              "1455                     1                      0  \n",
              "1456                     1                      0  \n",
              "1457                     1                      0  \n",
              "1458                     1                      0  \n",
              "1459                     1                      0  \n",
              "\n",
              "[1412 rows x 332 columns]"
            ],
            "text/html": [
              "\n",
              "  <div id=\"df-87e53477-942a-4de3-bf3e-4606adc6d6d5\">\n",
              "    <div class=\"colab-df-container\">\n",
              "      <div>\n",
              "<style scoped>\n",
              "    .dataframe tbody tr th:only-of-type {\n",
              "        vertical-align: middle;\n",
              "    }\n",
              "\n",
              "    .dataframe tbody tr th {\n",
              "        vertical-align: top;\n",
              "    }\n",
              "\n",
              "    .dataframe thead th {\n",
              "        text-align: right;\n",
              "    }\n",
              "</style>\n",
              "<table border=\"1\" class=\"dataframe\">\n",
              "  <thead>\n",
              "    <tr style=\"text-align: right;\">\n",
              "      <th></th>\n",
              "      <th>LotFrontage</th>\n",
              "      <th>LotArea</th>\n",
              "      <th>OverallQual</th>\n",
              "      <th>OverallCond</th>\n",
              "      <th>YearBuilt</th>\n",
              "      <th>YearRemodAdd</th>\n",
              "      <th>MasVnrArea</th>\n",
              "      <th>BsmtFinSF1</th>\n",
              "      <th>BsmtFinSF2</th>\n",
              "      <th>BsmtUnfSF</th>\n",
              "      <th>...</th>\n",
              "      <th>SaleType_ConLw</th>\n",
              "      <th>SaleType_New</th>\n",
              "      <th>SaleType_Oth</th>\n",
              "      <th>SaleType_WD</th>\n",
              "      <th>SaleCondition_Abnorml</th>\n",
              "      <th>SaleCondition_AdjLand</th>\n",
              "      <th>SaleCondition_Alloca</th>\n",
              "      <th>SaleCondition_Family</th>\n",
              "      <th>SaleCondition_Normal</th>\n",
              "      <th>SaleCondition_Partial</th>\n",
              "    </tr>\n",
              "  </thead>\n",
              "  <tbody>\n",
              "    <tr>\n",
              "      <th>0</th>\n",
              "      <td>65</td>\n",
              "      <td>8450</td>\n",
              "      <td>7</td>\n",
              "      <td>5</td>\n",
              "      <td>2003</td>\n",
              "      <td>2003</td>\n",
              "      <td>196</td>\n",
              "      <td>706</td>\n",
              "      <td>0</td>\n",
              "      <td>150</td>\n",
              "      <td>...</td>\n",
              "      <td>0</td>\n",
              "      <td>0</td>\n",
              "      <td>0</td>\n",
              "      <td>1</td>\n",
              "      <td>0</td>\n",
              "      <td>0</td>\n",
              "      <td>0</td>\n",
              "      <td>0</td>\n",
              "      <td>1</td>\n",
              "      <td>0</td>\n",
              "    </tr>\n",
              "    <tr>\n",
              "      <th>1</th>\n",
              "      <td>80</td>\n",
              "      <td>9600</td>\n",
              "      <td>6</td>\n",
              "      <td>8</td>\n",
              "      <td>1976</td>\n",
              "      <td>1976</td>\n",
              "      <td>0</td>\n",
              "      <td>978</td>\n",
              "      <td>0</td>\n",
              "      <td>284</td>\n",
              "      <td>...</td>\n",
              "      <td>0</td>\n",
              "      <td>0</td>\n",
              "      <td>0</td>\n",
              "      <td>1</td>\n",
              "      <td>0</td>\n",
              "      <td>0</td>\n",
              "      <td>0</td>\n",
              "      <td>0</td>\n",
              "      <td>1</td>\n",
              "      <td>0</td>\n",
              "    </tr>\n",
              "    <tr>\n",
              "      <th>2</th>\n",
              "      <td>68</td>\n",
              "      <td>11250</td>\n",
              "      <td>7</td>\n",
              "      <td>5</td>\n",
              "      <td>2001</td>\n",
              "      <td>2002</td>\n",
              "      <td>162</td>\n",
              "      <td>486</td>\n",
              "      <td>0</td>\n",
              "      <td>434</td>\n",
              "      <td>...</td>\n",
              "      <td>0</td>\n",
              "      <td>0</td>\n",
              "      <td>0</td>\n",
              "      <td>1</td>\n",
              "      <td>0</td>\n",
              "      <td>0</td>\n",
              "      <td>0</td>\n",
              "      <td>0</td>\n",
              "      <td>1</td>\n",
              "      <td>0</td>\n",
              "    </tr>\n",
              "    <tr>\n",
              "      <th>3</th>\n",
              "      <td>60</td>\n",
              "      <td>9550</td>\n",
              "      <td>7</td>\n",
              "      <td>5</td>\n",
              "      <td>1915</td>\n",
              "      <td>1970</td>\n",
              "      <td>0</td>\n",
              "      <td>216</td>\n",
              "      <td>0</td>\n",
              "      <td>540</td>\n",
              "      <td>...</td>\n",
              "      <td>0</td>\n",
              "      <td>0</td>\n",
              "      <td>0</td>\n",
              "      <td>1</td>\n",
              "      <td>1</td>\n",
              "      <td>0</td>\n",
              "      <td>0</td>\n",
              "      <td>0</td>\n",
              "      <td>0</td>\n",
              "      <td>0</td>\n",
              "    </tr>\n",
              "    <tr>\n",
              "      <th>4</th>\n",
              "      <td>84</td>\n",
              "      <td>14260</td>\n",
              "      <td>8</td>\n",
              "      <td>5</td>\n",
              "      <td>2000</td>\n",
              "      <td>2000</td>\n",
              "      <td>350</td>\n",
              "      <td>655</td>\n",
              "      <td>0</td>\n",
              "      <td>490</td>\n",
              "      <td>...</td>\n",
              "      <td>0</td>\n",
              "      <td>0</td>\n",
              "      <td>0</td>\n",
              "      <td>1</td>\n",
              "      <td>0</td>\n",
              "      <td>0</td>\n",
              "      <td>0</td>\n",
              "      <td>0</td>\n",
              "      <td>1</td>\n",
              "      <td>0</td>\n",
              "    </tr>\n",
              "    <tr>\n",
              "      <th>...</th>\n",
              "      <td>...</td>\n",
              "      <td>...</td>\n",
              "      <td>...</td>\n",
              "      <td>...</td>\n",
              "      <td>...</td>\n",
              "      <td>...</td>\n",
              "      <td>...</td>\n",
              "      <td>...</td>\n",
              "      <td>...</td>\n",
              "      <td>...</td>\n",
              "      <td>...</td>\n",
              "      <td>...</td>\n",
              "      <td>...</td>\n",
              "      <td>...</td>\n",
              "      <td>...</td>\n",
              "      <td>...</td>\n",
              "      <td>...</td>\n",
              "      <td>...</td>\n",
              "      <td>...</td>\n",
              "      <td>...</td>\n",
              "      <td>...</td>\n",
              "    </tr>\n",
              "    <tr>\n",
              "      <th>1455</th>\n",
              "      <td>62</td>\n",
              "      <td>7917</td>\n",
              "      <td>6</td>\n",
              "      <td>5</td>\n",
              "      <td>1999</td>\n",
              "      <td>2000</td>\n",
              "      <td>0</td>\n",
              "      <td>0</td>\n",
              "      <td>0</td>\n",
              "      <td>953</td>\n",
              "      <td>...</td>\n",
              "      <td>0</td>\n",
              "      <td>0</td>\n",
              "      <td>0</td>\n",
              "      <td>1</td>\n",
              "      <td>0</td>\n",
              "      <td>0</td>\n",
              "      <td>0</td>\n",
              "      <td>0</td>\n",
              "      <td>1</td>\n",
              "      <td>0</td>\n",
              "    </tr>\n",
              "    <tr>\n",
              "      <th>1456</th>\n",
              "      <td>85</td>\n",
              "      <td>13175</td>\n",
              "      <td>6</td>\n",
              "      <td>6</td>\n",
              "      <td>1978</td>\n",
              "      <td>1988</td>\n",
              "      <td>119</td>\n",
              "      <td>790</td>\n",
              "      <td>163</td>\n",
              "      <td>589</td>\n",
              "      <td>...</td>\n",
              "      <td>0</td>\n",
              "      <td>0</td>\n",
              "      <td>0</td>\n",
              "      <td>1</td>\n",
              "      <td>0</td>\n",
              "      <td>0</td>\n",
              "      <td>0</td>\n",
              "      <td>0</td>\n",
              "      <td>1</td>\n",
              "      <td>0</td>\n",
              "    </tr>\n",
              "    <tr>\n",
              "      <th>1457</th>\n",
              "      <td>66</td>\n",
              "      <td>9042</td>\n",
              "      <td>7</td>\n",
              "      <td>9</td>\n",
              "      <td>1941</td>\n",
              "      <td>2006</td>\n",
              "      <td>0</td>\n",
              "      <td>275</td>\n",
              "      <td>0</td>\n",
              "      <td>877</td>\n",
              "      <td>...</td>\n",
              "      <td>0</td>\n",
              "      <td>0</td>\n",
              "      <td>0</td>\n",
              "      <td>1</td>\n",
              "      <td>0</td>\n",
              "      <td>0</td>\n",
              "      <td>0</td>\n",
              "      <td>0</td>\n",
              "      <td>1</td>\n",
              "      <td>0</td>\n",
              "    </tr>\n",
              "    <tr>\n",
              "      <th>1458</th>\n",
              "      <td>68</td>\n",
              "      <td>9717</td>\n",
              "      <td>5</td>\n",
              "      <td>6</td>\n",
              "      <td>1950</td>\n",
              "      <td>1996</td>\n",
              "      <td>0</td>\n",
              "      <td>49</td>\n",
              "      <td>1029</td>\n",
              "      <td>0</td>\n",
              "      <td>...</td>\n",
              "      <td>0</td>\n",
              "      <td>0</td>\n",
              "      <td>0</td>\n",
              "      <td>1</td>\n",
              "      <td>0</td>\n",
              "      <td>0</td>\n",
              "      <td>0</td>\n",
              "      <td>0</td>\n",
              "      <td>1</td>\n",
              "      <td>0</td>\n",
              "    </tr>\n",
              "    <tr>\n",
              "      <th>1459</th>\n",
              "      <td>75</td>\n",
              "      <td>9937</td>\n",
              "      <td>5</td>\n",
              "      <td>6</td>\n",
              "      <td>1965</td>\n",
              "      <td>1965</td>\n",
              "      <td>0</td>\n",
              "      <td>830</td>\n",
              "      <td>290</td>\n",
              "      <td>136</td>\n",
              "      <td>...</td>\n",
              "      <td>0</td>\n",
              "      <td>0</td>\n",
              "      <td>0</td>\n",
              "      <td>1</td>\n",
              "      <td>0</td>\n",
              "      <td>0</td>\n",
              "      <td>0</td>\n",
              "      <td>0</td>\n",
              "      <td>1</td>\n",
              "      <td>0</td>\n",
              "    </tr>\n",
              "  </tbody>\n",
              "</table>\n",
              "<p>1412 rows × 332 columns</p>\n",
              "</div>\n",
              "      <button class=\"colab-df-convert\" onclick=\"convertToInteractive('df-87e53477-942a-4de3-bf3e-4606adc6d6d5')\"\n",
              "              title=\"Convert this dataframe to an interactive table.\"\n",
              "              style=\"display:none;\">\n",
              "        \n",
              "  <svg xmlns=\"http://www.w3.org/2000/svg\" height=\"24px\"viewBox=\"0 0 24 24\"\n",
              "       width=\"24px\">\n",
              "    <path d=\"M0 0h24v24H0V0z\" fill=\"none\"/>\n",
              "    <path d=\"M18.56 5.44l.94 2.06.94-2.06 2.06-.94-2.06-.94-.94-2.06-.94 2.06-2.06.94zm-11 1L8.5 8.5l.94-2.06 2.06-.94-2.06-.94L8.5 2.5l-.94 2.06-2.06.94zm10 10l.94 2.06.94-2.06 2.06-.94-2.06-.94-.94-2.06-.94 2.06-2.06.94z\"/><path d=\"M17.41 7.96l-1.37-1.37c-.4-.4-.92-.59-1.43-.59-.52 0-1.04.2-1.43.59L10.3 9.45l-7.72 7.72c-.78.78-.78 2.05 0 2.83L4 21.41c.39.39.9.59 1.41.59.51 0 1.02-.2 1.41-.59l7.78-7.78 2.81-2.81c.8-.78.8-2.07 0-2.86zM5.41 20L4 18.59l7.72-7.72 1.47 1.35L5.41 20z\"/>\n",
              "  </svg>\n",
              "      </button>\n",
              "      \n",
              "  <style>\n",
              "    .colab-df-container {\n",
              "      display:flex;\n",
              "      flex-wrap:wrap;\n",
              "      gap: 12px;\n",
              "    }\n",
              "\n",
              "    .colab-df-convert {\n",
              "      background-color: #E8F0FE;\n",
              "      border: none;\n",
              "      border-radius: 50%;\n",
              "      cursor: pointer;\n",
              "      display: none;\n",
              "      fill: #1967D2;\n",
              "      height: 32px;\n",
              "      padding: 0 0 0 0;\n",
              "      width: 32px;\n",
              "    }\n",
              "\n",
              "    .colab-df-convert:hover {\n",
              "      background-color: #E2EBFA;\n",
              "      box-shadow: 0px 1px 2px rgba(60, 64, 67, 0.3), 0px 1px 3px 1px rgba(60, 64, 67, 0.15);\n",
              "      fill: #174EA6;\n",
              "    }\n",
              "\n",
              "    [theme=dark] .colab-df-convert {\n",
              "      background-color: #3B4455;\n",
              "      fill: #D2E3FC;\n",
              "    }\n",
              "\n",
              "    [theme=dark] .colab-df-convert:hover {\n",
              "      background-color: #434B5C;\n",
              "      box-shadow: 0px 1px 3px 1px rgba(0, 0, 0, 0.15);\n",
              "      filter: drop-shadow(0px 1px 2px rgba(0, 0, 0, 0.3));\n",
              "      fill: #FFFFFF;\n",
              "    }\n",
              "  </style>\n",
              "\n",
              "      <script>\n",
              "        const buttonEl =\n",
              "          document.querySelector('#df-87e53477-942a-4de3-bf3e-4606adc6d6d5 button.colab-df-convert');\n",
              "        buttonEl.style.display =\n",
              "          google.colab.kernel.accessAllowed ? 'block' : 'none';\n",
              "\n",
              "        async function convertToInteractive(key) {\n",
              "          const element = document.querySelector('#df-87e53477-942a-4de3-bf3e-4606adc6d6d5');\n",
              "          const dataTable =\n",
              "            await google.colab.kernel.invokeFunction('convertToInteractive',\n",
              "                                                     [key], {});\n",
              "          if (!dataTable) return;\n",
              "\n",
              "          const docLinkHtml = 'Like what you see? Visit the ' +\n",
              "            '<a target=\"_blank\" href=https://colab.research.google.com/notebooks/data_table.ipynb>data table notebook</a>'\n",
              "            + ' to learn more about interactive tables.';\n",
              "          element.innerHTML = '';\n",
              "          dataTable['output_type'] = 'display_data';\n",
              "          await google.colab.output.renderOutput(dataTable, element);\n",
              "          const docLink = document.createElement('div');\n",
              "          docLink.innerHTML = docLinkHtml;\n",
              "          element.appendChild(docLink);\n",
              "        }\n",
              "      </script>\n",
              "    </div>\n",
              "  </div>\n",
              "  "
            ]
          },
          "metadata": {},
          "execution_count": 273
        }
      ]
    },
    {
      "cell_type": "code",
      "source": [
        "print(y)"
      ],
      "metadata": {
        "colab": {
          "base_uri": "https://localhost:8080/"
        },
        "id": "NZvjc-EqgJsH",
        "outputId": "d02f180a-0994-4908-8a1a-8f2247063b58"
      },
      "execution_count": null,
      "outputs": [
        {
          "output_type": "stream",
          "name": "stdout",
          "text": [
            "0       208500\n",
            "1       181500\n",
            "2       223500\n",
            "3       140000\n",
            "4       250000\n",
            "         ...  \n",
            "1455    175000\n",
            "1456    210000\n",
            "1457    266500\n",
            "1458    142125\n",
            "1459    147500\n",
            "Name: SalePrice, Length: 1412, dtype: int64\n"
          ]
        }
      ]
    },
    {
      "cell_type": "markdown",
      "source": [
        "![image.png](data:image/png;base64,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)"
      ],
      "metadata": {
        "id": "eRl5mcmHu9ce"
      }
    },
    {
      "cell_type": "markdown",
      "source": [
        "Implementing Multiple Regression"
      ],
      "metadata": {
        "id": "CCS6LR6IeqD3"
      }
    },
    {
      "cell_type": "code",
      "source": [
        "X = X.to_numpy()\n",
        "y = y.to_numpy()"
      ],
      "metadata": {
        "id": "rwyXBhl5h1tx"
      },
      "execution_count": null,
      "outputs": []
    },
    {
      "cell_type": "code",
      "source": [
        "from sklearn.model_selection import train_test_split\n",
        "X_train, X_test, y_train, y_test = train_test_split(X, y, test_size = 0.2, random_state = 0)"
      ],
      "metadata": {
        "id": "wDha2KH-Pqrd"
      },
      "execution_count": null,
      "outputs": []
    },
    {
      "cell_type": "code",
      "source": [
        "from sklearn.linear_model import LinearRegression\n",
        "regressor = LinearRegression()\n",
        "regressor.fit(X_train, y_train)"
      ],
      "metadata": {
        "colab": {
          "base_uri": "https://localhost:8080/",
          "height": 74
        },
        "id": "iJ5XVj7bPquP",
        "outputId": "16aacd0c-4f21-47b1-d662-2a5ea72a58fb"
      },
      "execution_count": null,
      "outputs": [
        {
          "output_type": "execute_result",
          "data": {
            "text/plain": [
              "LinearRegression()"
            ],
            "text/html": [
              "<style>#sk-container-id-1 {color: black;background-color: white;}#sk-container-id-1 pre{padding: 0;}#sk-container-id-1 div.sk-toggleable {background-color: white;}#sk-container-id-1 label.sk-toggleable__label {cursor: pointer;display: block;width: 100%;margin-bottom: 0;padding: 0.3em;box-sizing: border-box;text-align: center;}#sk-container-id-1 label.sk-toggleable__label-arrow:before {content: \"▸\";float: left;margin-right: 0.25em;color: #696969;}#sk-container-id-1 label.sk-toggleable__label-arrow:hover:before {color: black;}#sk-container-id-1 div.sk-estimator:hover label.sk-toggleable__label-arrow:before {color: black;}#sk-container-id-1 div.sk-toggleable__content {max-height: 0;max-width: 0;overflow: hidden;text-align: left;background-color: #f0f8ff;}#sk-container-id-1 div.sk-toggleable__content pre {margin: 0.2em;color: black;border-radius: 0.25em;background-color: #f0f8ff;}#sk-container-id-1 input.sk-toggleable__control:checked~div.sk-toggleable__content {max-height: 200px;max-width: 100%;overflow: auto;}#sk-container-id-1 input.sk-toggleable__control:checked~label.sk-toggleable__label-arrow:before {content: \"▾\";}#sk-container-id-1 div.sk-estimator input.sk-toggleable__control:checked~label.sk-toggleable__label {background-color: #d4ebff;}#sk-container-id-1 div.sk-label input.sk-toggleable__control:checked~label.sk-toggleable__label {background-color: #d4ebff;}#sk-container-id-1 input.sk-hidden--visually {border: 0;clip: rect(1px 1px 1px 1px);clip: rect(1px, 1px, 1px, 1px);height: 1px;margin: -1px;overflow: hidden;padding: 0;position: absolute;width: 1px;}#sk-container-id-1 div.sk-estimator {font-family: monospace;background-color: #f0f8ff;border: 1px dotted black;border-radius: 0.25em;box-sizing: border-box;margin-bottom: 0.5em;}#sk-container-id-1 div.sk-estimator:hover {background-color: #d4ebff;}#sk-container-id-1 div.sk-parallel-item::after {content: \"\";width: 100%;border-bottom: 1px solid gray;flex-grow: 1;}#sk-container-id-1 div.sk-label:hover label.sk-toggleable__label {background-color: #d4ebff;}#sk-container-id-1 div.sk-serial::before {content: \"\";position: absolute;border-left: 1px solid gray;box-sizing: border-box;top: 0;bottom: 0;left: 50%;z-index: 0;}#sk-container-id-1 div.sk-serial {display: flex;flex-direction: column;align-items: center;background-color: white;padding-right: 0.2em;padding-left: 0.2em;position: relative;}#sk-container-id-1 div.sk-item {position: relative;z-index: 1;}#sk-container-id-1 div.sk-parallel {display: flex;align-items: stretch;justify-content: center;background-color: white;position: relative;}#sk-container-id-1 div.sk-item::before, #sk-container-id-1 div.sk-parallel-item::before {content: \"\";position: absolute;border-left: 1px solid gray;box-sizing: border-box;top: 0;bottom: 0;left: 50%;z-index: -1;}#sk-container-id-1 div.sk-parallel-item {display: flex;flex-direction: column;z-index: 1;position: relative;background-color: white;}#sk-container-id-1 div.sk-parallel-item:first-child::after {align-self: flex-end;width: 50%;}#sk-container-id-1 div.sk-parallel-item:last-child::after {align-self: flex-start;width: 50%;}#sk-container-id-1 div.sk-parallel-item:only-child::after {width: 0;}#sk-container-id-1 div.sk-dashed-wrapped {border: 1px dashed gray;margin: 0 0.4em 0.5em 0.4em;box-sizing: border-box;padding-bottom: 0.4em;background-color: white;}#sk-container-id-1 div.sk-label label {font-family: monospace;font-weight: bold;display: inline-block;line-height: 1.2em;}#sk-container-id-1 div.sk-label-container {text-align: center;}#sk-container-id-1 div.sk-container {/* jupyter's `normalize.less` sets `[hidden] { display: none; }` but bootstrap.min.css set `[hidden] { display: none !important; }` so we also need the `!important` here to be able to override the default hidden behavior on the sphinx rendered scikit-learn.org. See: https://github.com/scikit-learn/scikit-learn/issues/21755 */display: inline-block !important;position: relative;}#sk-container-id-1 div.sk-text-repr-fallback {display: none;}</style><div id=\"sk-container-id-1\" class=\"sk-top-container\"><div class=\"sk-text-repr-fallback\"><pre>LinearRegression()</pre><b>In a Jupyter environment, please rerun this cell to show the HTML representation or trust the notebook. <br />On GitHub, the HTML representation is unable to render, please try loading this page with nbviewer.org.</b></div><div class=\"sk-container\" hidden><div class=\"sk-item\"><div class=\"sk-estimator sk-toggleable\"><input class=\"sk-toggleable__control sk-hidden--visually\" id=\"sk-estimator-id-1\" type=\"checkbox\" checked><label for=\"sk-estimator-id-1\" class=\"sk-toggleable__label sk-toggleable__label-arrow\">LinearRegression</label><div class=\"sk-toggleable__content\"><pre>LinearRegression()</pre></div></div></div></div></div>"
            ]
          },
          "metadata": {},
          "execution_count": 277
        }
      ]
    },
    {
      "cell_type": "code",
      "source": [
        "y_pred = regressor.predict(X_test)\n",
        "np.set_printoptions(precision=2)\n",
        "print(np.concatenate((y_pred.reshape(len(y_pred),1), y_test.reshape(len(y_test),1)),1))"
      ],
      "metadata": {
        "colab": {
          "base_uri": "https://localhost:8080/"
        },
        "id": "BFSnzNmTPq9m",
        "outputId": "59b29a2f-5722-4f7a-a4b7-26bdfdc41c79"
      },
      "execution_count": null,
      "outputs": [
        {
          "output_type": "stream",
          "name": "stdout",
          "text": [
            "[[ 80559.61  87000.  ]\n",
            " [201009.44 205000.  ]\n",
            " [175774.55 178000.  ]\n",
            " [145674.05 135000.  ]\n",
            " [152824.97 143000.  ]\n",
            " [227214.51 224000.  ]\n",
            " [342542.01 326000.  ]\n",
            " [203941.52 208300.  ]\n",
            " [119594.59 104000.  ]\n",
            " [168796.14 165000.  ]\n",
            " [122202.42  90350.  ]\n",
            " [184209.51 197900.  ]\n",
            " [219838.21 232000.  ]\n",
            " [154297.81 147500.  ]\n",
            " [316862.57 318000.  ]\n",
            " [174068.22 181000.  ]\n",
            " [211386.22 215000.  ]\n",
            " [121919.97 132000.  ]\n",
            " [140625.45  84500.  ]\n",
            " [189313.14 180000.  ]\n",
            " [146706.78 143000.  ]\n",
            " [125118.87 132500.  ]\n",
            " [194159.39 178000.  ]\n",
            " [143840.12 139500.  ]\n",
            " [146148.1   89471.  ]\n",
            " [288697.07 295493.  ]\n",
            " [142993.92 145000.  ]\n",
            " [117825.84 114504.  ]\n",
            " [247936.45 190000.  ]\n",
            " [138516.75 155000.  ]\n",
            " [198159.59 172500.  ]\n",
            " [ 86222.76  85500.  ]\n",
            " [202595.87 190000.  ]\n",
            " [ 78137.47 136905.  ]\n",
            " [153993.97 112000.  ]\n",
            " [ 88375.21  87000.  ]\n",
            " [137807.26 143000.  ]\n",
            " [139935.54 175000.  ]\n",
            " [136805.58 127500.  ]\n",
            " [211231.6  179900.  ]\n",
            " [114775.58 123000.  ]\n",
            " [193732.97 175000.  ]\n",
            " [323466.78 276000.  ]\n",
            " [105711.49 115000.  ]\n",
            " [177219.62 180000.  ]\n",
            " [132786.93 131400.  ]\n",
            " [159604.08 159000.  ]\n",
            " [114939.82  82500.  ]\n",
            " [247357.56 250000.  ]\n",
            " [215466.66 216000.  ]\n",
            " [283912.43 251000.  ]\n",
            " [155099.01 147000.  ]\n",
            " [158039.05 134900.  ]\n",
            " [278954.22 258000.  ]\n",
            " [294852.67 293077.  ]\n",
            " [240515.04 212000.  ]\n",
            " [133294.4  139000.  ]\n",
            " [167502.66 175000.  ]\n",
            " [140745.41 145000.  ]\n",
            " [227892.81 225000.  ]\n",
            " [127958.66 132500.  ]\n",
            " [245468.79 194201.  ]\n",
            " [176814.08 164500.  ]\n",
            " [350358.34 309000.  ]\n",
            " [127181.2  128500.  ]\n",
            " [287656.76 255500.  ]\n",
            " [163271.93 165500.  ]\n",
            " [105629.89  92000.  ]\n",
            " [132439.89 147000.  ]\n",
            " [108231.54 103000.  ]\n",
            " [143930.01 139000.  ]\n",
            " [237316.26 277000.  ]\n",
            " [170158.28 161500.  ]\n",
            " [ 75493.59 116050.  ]\n",
            " [164991.23 177500.  ]\n",
            " [118921.09  55993.  ]\n",
            " [105618.75 122000.  ]\n",
            " [170959.25 191000.  ]\n",
            " [164579.46 165600.  ]\n",
            " [256041.87 260000.  ]\n",
            " [139901.76 143000.  ]\n",
            " [197618.14 190000.  ]\n",
            " [354739.01 383970.  ]\n",
            " [148436.72 108959.  ]\n",
            " [136315.63 135000.  ]\n",
            " [241192.25 249700.  ]\n",
            " [105760.68 103600.  ]\n",
            " [190608.87 196500.  ]\n",
            " [183634.86 190000.  ]\n",
            " [208981.78 250000.  ]\n",
            " [186816.52 192000.  ]\n",
            " [ 78998.91  88000.  ]\n",
            " [254250.37 250000.  ]\n",
            " [140709.47 159950.  ]\n",
            " [220719.95 200000.  ]\n",
            " [221174.93 225000.  ]\n",
            " [ 99732.73 130000.  ]\n",
            " [207101.6  211000.  ]\n",
            " [127685.16 152000.  ]\n",
            " [196789.83 179540.  ]\n",
            " [139904.1  147000.  ]\n",
            " [196015.86 193000.  ]\n",
            " [ 91947.99 105000.  ]\n",
            " [111231.   105000.  ]\n",
            " [134897.47 126000.  ]\n",
            " [171244.72 151400.  ]\n",
            " [130233.5  137000.  ]\n",
            " [133752.26 148000.  ]\n",
            " [307671.43 266000.  ]\n",
            " [159101.79 171900.  ]\n",
            " [185283.25 170000.  ]\n",
            " [132162.03 145000.  ]\n",
            " [134583.86 120500.  ]\n",
            " [245742.69 242000.  ]\n",
            " [205671.75 199900.  ]\n",
            " [160546.25 149900.  ]\n",
            " [ 92487.73  91300.  ]\n",
            " [148868.21 149900.  ]\n",
            " [165433.88 180000.  ]\n",
            " [164586.33 145000.  ]\n",
            " [132726.9  120500.  ]\n",
            " [304280.22 250000.  ]\n",
            " [216882.22 207500.  ]\n",
            " [337717.96 318000.  ]\n",
            " [257315.46 262500.  ]\n",
            " [281728.69 269500.  ]\n",
            " [366683.99 423000.  ]\n",
            " [155708.46 143500.  ]\n",
            " [117468.55 130000.  ]\n",
            " [297702.26 297000.  ]\n",
            " [235034.07 219210.  ]\n",
            " [197842.75 153337.  ]\n",
            " [390675.56 342643.  ]\n",
            " [153816.54 138000.  ]\n",
            " [104139.5   91500.  ]\n",
            " [171362.61 171000.  ]\n",
            " [370547.11 325300.  ]\n",
            " [170683.78 178000.  ]\n",
            " [131710.31 139000.  ]\n",
            " [221369.62 194000.  ]\n",
            " [210420.63 200000.  ]\n",
            " [154892.33 160000.  ]\n",
            " [125792.6  139000.  ]\n",
            " [226169.49 235000.  ]\n",
            " [105879.7  119500.  ]\n",
            " [158884.12 180500.  ]\n",
            " [238879.09 325000.  ]\n",
            " [142196.28 127000.  ]\n",
            " [ 37100.39  61000.  ]\n",
            " [220637.01 214000.  ]\n",
            " [148867.97 141000.  ]\n",
            " [151378.59 160000.  ]\n",
            " [131198.95 134500.  ]\n",
            " [279436.85 269790.  ]\n",
            " [192647.48 205000.  ]\n",
            " [123743.36 133000.  ]\n",
            " [219382.7  200000.  ]\n",
            " [259414.64 248000.  ]\n",
            " [288970.06 228950.  ]\n",
            " [198273.15 170000.  ]\n",
            " [250335.53 271000.  ]\n",
            " [427851.7  446261.  ]\n",
            " [233278.75 255000.  ]\n",
            " [206081.65 223500.  ]\n",
            " [216665.33 181500.  ]\n",
            " [ 90059.02 118500.  ]\n",
            " [173304.55 146000.  ]\n",
            " [145967.28 169900.  ]\n",
            " [ 97773.76  87000.  ]\n",
            " [406743.17 415298.  ]\n",
            " [228786.35 236000.  ]\n",
            " [175290.21 158000.  ]\n",
            " [134455.89 140000.  ]\n",
            " [244740.56 315000.  ]\n",
            " [384812.31 337500.  ]\n",
            " [108131.07 108000.  ]\n",
            " [ 93147.79  88000.  ]\n",
            " [106155.75 107900.  ]\n",
            " [126439.59 130000.  ]\n",
            " [ 55846.17  52000.  ]\n",
            " [381267.68 253293.  ]\n",
            " [145259.47 140000.  ]\n",
            " [269233.93 238000.  ]\n",
            " [249804.14 248900.  ]\n",
            " [114568.53  91500.  ]\n",
            " [384889.61 381000.  ]\n",
            " [207633.76 214000.  ]\n",
            " [118728.41 143000.  ]\n",
            " [221676.23 222500.  ]\n",
            " [134565.9  151000.  ]\n",
            " [151209.69 157000.  ]\n",
            " [ 86692.8  107000.  ]\n",
            " [195503.52 191000.  ]\n",
            " [130917.43 132000.  ]\n",
            " [244185.55 233170.  ]\n",
            " [175014.76 175000.  ]\n",
            " [185946.39 185900.  ]\n",
            " [142223.14 139400.  ]\n",
            " [200173.12 207500.  ]\n",
            " [111001.77  89500.  ]\n",
            " [141907.85 155000.  ]\n",
            " [139781.09 155000.  ]\n",
            " [121618.48 110000.  ]\n",
            " [219844.74 217000.  ]\n",
            " [342675.16 369900.  ]\n",
            " [167639.06 149500.  ]\n",
            " [ 90753.27 118000.  ]\n",
            " [191778.88 201000.  ]\n",
            " [146101.82 145250.  ]\n",
            " [184691.14 159500.  ]\n",
            " [129639.84 119000.  ]\n",
            " [148320.07 148500.  ]\n",
            " [216113.03 210000.  ]\n",
            " [142177.31 128200.  ]\n",
            " [396429.38 361919.  ]\n",
            " [224246.6  245000.  ]\n",
            " [133936.97 145000.  ]\n",
            " [175153.47 197500.  ]\n",
            " [203555.34 201000.  ]\n",
            " [185099.33 173000.  ]\n",
            " [114569.33 125000.  ]\n",
            " [ 99882.86  98000.  ]\n",
            " [190325.71 179000.  ]\n",
            " [114217.74 110500.  ]\n",
            " [144747.24 135000.  ]\n",
            " [130273.4  140000.  ]\n",
            " [266315.19 227875.  ]\n",
            " [180342.92 169000.  ]\n",
            " [150573.12 127000.  ]\n",
            " [204552.18 185000.  ]\n",
            " [173122.05 175900.  ]\n",
            " [238876.13 224500.  ]\n",
            " [156965.21 162000.  ]\n",
            " [145336.42 144000.  ]\n",
            " [242939.01 230000.  ]\n",
            " [128124.54 127000.  ]\n",
            " [252329.41 282922.  ]\n",
            " [ 94366.01  99900.  ]\n",
            " [190779.03 176000.  ]\n",
            " [157465.27 125000.  ]\n",
            " [153010.47 137500.  ]\n",
            " [300284.66 320000.  ]\n",
            " [108545.1  139900.  ]\n",
            " [328454.8  325000.  ]\n",
            " [110223.57 109000.  ]\n",
            " [513020.63 745000.  ]\n",
            " [223858.95 222000.  ]\n",
            " [104352.67 123000.  ]\n",
            " [ 86075.03  83500.  ]\n",
            " [143601.82 144000.  ]\n",
            " [200177.21 192000.  ]\n",
            " [131538.44 142000.  ]\n",
            " [ 87573.18 105000.  ]\n",
            " [388877.14 412500.  ]\n",
            " [ 81089.96  40000.  ]\n",
            " [497903.8  438780.  ]\n",
            " [145984.99 129900.  ]\n",
            " [118227.99 171000.  ]\n",
            " [140873.72 125500.  ]\n",
            " [311509.74 222000.  ]\n",
            " [379013.13 380000.  ]\n",
            " [105014.38 110000.  ]\n",
            " [178673.68 176000.  ]\n",
            " [178883.14 210000.  ]\n",
            " [182097.75 196500.  ]\n",
            " [ 64481.51  91000.  ]\n",
            " [330058.83 260000.  ]\n",
            " [ 55242.04  34900.  ]\n",
            " [143163.63 119000.  ]\n",
            " [187110.89 172785.  ]\n",
            " [170897.47 190000.  ]\n",
            " [229838.24 229000.  ]\n",
            " [136759.87 134000.  ]\n",
            " [202563.81 208900.  ]\n",
            " [113018.68 111250.  ]\n",
            " [161119.94 168000.  ]\n",
            " [112285.25 126175.  ]\n",
            " [162145.97 129000.  ]\n",
            " [110428.82 134500.  ]\n",
            " [210067.19 167900.  ]\n",
            " [152969.9  132500.  ]\n",
            " [233716.34 196000.  ]\n",
            " [  7371.71  95000.  ]]\n"
          ]
        }
      ]
    },
    {
      "cell_type": "code",
      "source": [
        "#dataset.to_csv('HP_dataset.csv', index = False)"
      ],
      "metadata": {
        "id": "RJ3Y5bbahmQo"
      },
      "execution_count": null,
      "outputs": []
    },
    {
      "cell_type": "markdown",
      "source": [
        "After Model Building from R Studio"
      ],
      "metadata": {
        "id": "pbUWng3We-fy"
      }
    },
    {
      "cell_type": "code",
      "source": [
        "print(X)"
      ],
      "metadata": {
        "id": "XCE8VHjTsxwD",
        "outputId": "a926690e-801f-4217-d0c1-2f2146920e10",
        "colab": {
          "base_uri": "https://localhost:8080/"
        }
      },
      "execution_count": null,
      "outputs": [
        {
          "output_type": "stream",
          "name": "stdout",
          "text": [
            "[[   65  8450     7 ...     0     1     0]\n",
            " [   80  9600     6 ...     0     1     0]\n",
            " [   68 11250     7 ...     0     1     0]\n",
            " ...\n",
            " [   66  9042     7 ...     0     1     0]\n",
            " [   68  9717     5 ...     0     1     0]\n",
            " [   75  9937     5 ...     0     1     0]]\n"
          ]
        }
      ]
    },
    {
      "cell_type": "code",
      "source": [
        "X.shape"
      ],
      "metadata": {
        "id": "ShqrXp-KFEg2",
        "outputId": "4b2b48e2-a4cc-4e04-d82b-7924dd3eb32c",
        "colab": {
          "base_uri": "https://localhost:8080/"
        }
      },
      "execution_count": null,
      "outputs": [
        {
          "output_type": "execute_result",
          "data": {
            "text/plain": [
              "(1412, 332)"
            ]
          },
          "metadata": {},
          "execution_count": 281
        }
      ]
    },
    {
      "cell_type": "code",
      "source": [
        "y.shape"
      ],
      "metadata": {
        "id": "ZcK6gclVE0_E",
        "outputId": "e183bcdf-5514-48b1-e8aa-c9317f7ea78b",
        "colab": {
          "base_uri": "https://localhost:8080/"
        }
      },
      "execution_count": null,
      "outputs": [
        {
          "output_type": "execute_result",
          "data": {
            "text/plain": [
              "(1412,)"
            ]
          },
          "metadata": {},
          "execution_count": 282
        }
      ]
    },
    {
      "cell_type": "markdown",
      "source": [
        "![image.png](data:image/png;base64,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)"
      ],
      "metadata": {
        "id": "z5DQCqZ-ycTT"
      }
    },
    {
      "cell_type": "code",
      "source": [
        "import numpy as np\n",
        "import matplotlib.pyplot as plt\n",
        "import pandas as pd"
      ],
      "metadata": {
        "id": "LgBgpAwKe9o7"
      },
      "execution_count": null,
      "outputs": []
    },
    {
      "cell_type": "code",
      "source": [
        "Rout_HP_dataset = pd.read_csv('Rout_HP.csv')"
      ],
      "metadata": {
        "id": "hGnWkg96e9rh"
      },
      "execution_count": null,
      "outputs": []
    },
    {
      "cell_type": "code",
      "source": [
        "Rout_HP_dataset"
      ],
      "metadata": {
        "colab": {
          "base_uri": "https://localhost:8080/",
          "height": 487
        },
        "id": "6usglEQ-e9t2",
        "outputId": "741e7597-6417-4702-f893-bc07142bf8eb"
      },
      "execution_count": null,
      "outputs": [
        {
          "output_type": "execute_result",
          "data": {
            "text/plain": [
              "      LotArea  OverallQual  OverallCond  YearBuilt  YearRemodAdd  MasVnrArea  \\\n",
              "0        8450            7            5       2003          2003         196   \n",
              "1        9600            6            8       1976          1976           0   \n",
              "2       11250            7            5       2001          2002         162   \n",
              "3        9550            7            5       1915          1970           0   \n",
              "4       14260            8            5       2000          2000         350   \n",
              "...       ...          ...          ...        ...           ...         ...   \n",
              "1407     7917            6            5       1999          2000           0   \n",
              "1408    13175            6            6       1978          1988         119   \n",
              "1409     9042            7            9       1941          2006           0   \n",
              "1410     9717            5            6       1950          1996           0   \n",
              "1411     9937            5            6       1965          1965           0   \n",
              "\n",
              "      BsmtFinSF1  FirstFlrSF  SecondFlrSF  TotRmsAbvGrd  ...  \\\n",
              "0            706         856          854             8  ...   \n",
              "1            978        1262            0             6  ...   \n",
              "2            486         920          866             6  ...   \n",
              "3            216         961          756             7  ...   \n",
              "4            655        1145         1053             9  ...   \n",
              "...          ...         ...          ...           ...  ...   \n",
              "1407           0         953          694             7  ...   \n",
              "1408         790        2073            0             7  ...   \n",
              "1409         275        1188         1152             9  ...   \n",
              "1410          49        1078            0             5  ...   \n",
              "1411         830        1256            0             6  ...   \n",
              "\n",
              "      Exterior1st_BrkFace  ExterQual_Ex  Foundation_BrkTil  Foundation_CBlock  \\\n",
              "0                       0             0                  0                  0   \n",
              "1                       0             0                  0                  1   \n",
              "2                       0             0                  0                  0   \n",
              "3                       0             0                  1                  0   \n",
              "4                       0             0                  0                  0   \n",
              "...                   ...           ...                ...                ...   \n",
              "1407                    0             0                  0                  0   \n",
              "1408                    0             0                  0                  1   \n",
              "1409                    0             1                  0                  0   \n",
              "1410                    0             0                  0                  1   \n",
              "1411                    0             0                  0                  1   \n",
              "\n",
              "      Foundation_PConc  BsmtQual_Ex  BsmtExposure_Gd  BsmtFinType1_LwQ  \\\n",
              "0                    1            0                0                 0   \n",
              "1                    0            0                1                 0   \n",
              "2                    1            0                0                 0   \n",
              "3                    0            0                0                 0   \n",
              "4                    1            0                0                 0   \n",
              "...                ...          ...              ...               ...   \n",
              "1407                 1            0                0                 0   \n",
              "1408                 0            0                0                 0   \n",
              "1409                 0            0                0                 0   \n",
              "1410                 0            0                0                 0   \n",
              "1411                 0            0                0                 0   \n",
              "\n",
              "      FullBath_1  FullBath_2  \n",
              "0              0           1  \n",
              "1              0           1  \n",
              "2              0           1  \n",
              "3              1           0  \n",
              "4              0           1  \n",
              "...          ...         ...  \n",
              "1407           0           1  \n",
              "1408           0           1  \n",
              "1409           0           1  \n",
              "1410           1           0  \n",
              "1411           1           0  \n",
              "\n",
              "[1412 rows x 41 columns]"
            ],
            "text/html": [
              "\n",
              "  <div id=\"df-dc47a86b-0102-4f7b-8308-4946de62d0e2\">\n",
              "    <div class=\"colab-df-container\">\n",
              "      <div>\n",
              "<style scoped>\n",
              "    .dataframe tbody tr th:only-of-type {\n",
              "        vertical-align: middle;\n",
              "    }\n",
              "\n",
              "    .dataframe tbody tr th {\n",
              "        vertical-align: top;\n",
              "    }\n",
              "\n",
              "    .dataframe thead th {\n",
              "        text-align: right;\n",
              "    }\n",
              "</style>\n",
              "<table border=\"1\" class=\"dataframe\">\n",
              "  <thead>\n",
              "    <tr style=\"text-align: right;\">\n",
              "      <th></th>\n",
              "      <th>LotArea</th>\n",
              "      <th>OverallQual</th>\n",
              "      <th>OverallCond</th>\n",
              "      <th>YearBuilt</th>\n",
              "      <th>YearRemodAdd</th>\n",
              "      <th>MasVnrArea</th>\n",
              "      <th>BsmtFinSF1</th>\n",
              "      <th>FirstFlrSF</th>\n",
              "      <th>SecondFlrSF</th>\n",
              "      <th>TotRmsAbvGrd</th>\n",
              "      <th>...</th>\n",
              "      <th>Exterior1st_BrkFace</th>\n",
              "      <th>ExterQual_Ex</th>\n",
              "      <th>Foundation_BrkTil</th>\n",
              "      <th>Foundation_CBlock</th>\n",
              "      <th>Foundation_PConc</th>\n",
              "      <th>BsmtQual_Ex</th>\n",
              "      <th>BsmtExposure_Gd</th>\n",
              "      <th>BsmtFinType1_LwQ</th>\n",
              "      <th>FullBath_1</th>\n",
              "      <th>FullBath_2</th>\n",
              "    </tr>\n",
              "  </thead>\n",
              "  <tbody>\n",
              "    <tr>\n",
              "      <th>0</th>\n",
              "      <td>8450</td>\n",
              "      <td>7</td>\n",
              "      <td>5</td>\n",
              "      <td>2003</td>\n",
              "      <td>2003</td>\n",
              "      <td>196</td>\n",
              "      <td>706</td>\n",
              "      <td>856</td>\n",
              "      <td>854</td>\n",
              "      <td>8</td>\n",
              "      <td>...</td>\n",
              "      <td>0</td>\n",
              "      <td>0</td>\n",
              "      <td>0</td>\n",
              "      <td>0</td>\n",
              "      <td>1</td>\n",
              "      <td>0</td>\n",
              "      <td>0</td>\n",
              "      <td>0</td>\n",
              "      <td>0</td>\n",
              "      <td>1</td>\n",
              "    </tr>\n",
              "    <tr>\n",
              "      <th>1</th>\n",
              "      <td>9600</td>\n",
              "      <td>6</td>\n",
              "      <td>8</td>\n",
              "      <td>1976</td>\n",
              "      <td>1976</td>\n",
              "      <td>0</td>\n",
              "      <td>978</td>\n",
              "      <td>1262</td>\n",
              "      <td>0</td>\n",
              "      <td>6</td>\n",
              "      <td>...</td>\n",
              "      <td>0</td>\n",
              "      <td>0</td>\n",
              "      <td>0</td>\n",
              "      <td>1</td>\n",
              "      <td>0</td>\n",
              "      <td>0</td>\n",
              "      <td>1</td>\n",
              "      <td>0</td>\n",
              "      <td>0</td>\n",
              "      <td>1</td>\n",
              "    </tr>\n",
              "    <tr>\n",
              "      <th>2</th>\n",
              "      <td>11250</td>\n",
              "      <td>7</td>\n",
              "      <td>5</td>\n",
              "      <td>2001</td>\n",
              "      <td>2002</td>\n",
              "      <td>162</td>\n",
              "      <td>486</td>\n",
              "      <td>920</td>\n",
              "      <td>866</td>\n",
              "      <td>6</td>\n",
              "      <td>...</td>\n",
              "      <td>0</td>\n",
              "      <td>0</td>\n",
              "      <td>0</td>\n",
              "      <td>0</td>\n",
              "      <td>1</td>\n",
              "      <td>0</td>\n",
              "      <td>0</td>\n",
              "      <td>0</td>\n",
              "      <td>0</td>\n",
              "      <td>1</td>\n",
              "    </tr>\n",
              "    <tr>\n",
              "      <th>3</th>\n",
              "      <td>9550</td>\n",
              "      <td>7</td>\n",
              "      <td>5</td>\n",
              "      <td>1915</td>\n",
              "      <td>1970</td>\n",
              "      <td>0</td>\n",
              "      <td>216</td>\n",
              "      <td>961</td>\n",
              "      <td>756</td>\n",
              "      <td>7</td>\n",
              "      <td>...</td>\n",
              "      <td>0</td>\n",
              "      <td>0</td>\n",
              "      <td>1</td>\n",
              "      <td>0</td>\n",
              "      <td>0</td>\n",
              "      <td>0</td>\n",
              "      <td>0</td>\n",
              "      <td>0</td>\n",
              "      <td>1</td>\n",
              "      <td>0</td>\n",
              "    </tr>\n",
              "    <tr>\n",
              "      <th>4</th>\n",
              "      <td>14260</td>\n",
              "      <td>8</td>\n",
              "      <td>5</td>\n",
              "      <td>2000</td>\n",
              "      <td>2000</td>\n",
              "      <td>350</td>\n",
              "      <td>655</td>\n",
              "      <td>1145</td>\n",
              "      <td>1053</td>\n",
              "      <td>9</td>\n",
              "      <td>...</td>\n",
              "      <td>0</td>\n",
              "      <td>0</td>\n",
              "      <td>0</td>\n",
              "      <td>0</td>\n",
              "      <td>1</td>\n",
              "      <td>0</td>\n",
              "      <td>0</td>\n",
              "      <td>0</td>\n",
              "      <td>0</td>\n",
              "      <td>1</td>\n",
              "    </tr>\n",
              "    <tr>\n",
              "      <th>...</th>\n",
              "      <td>...</td>\n",
              "      <td>...</td>\n",
              "      <td>...</td>\n",
              "      <td>...</td>\n",
              "      <td>...</td>\n",
              "      <td>...</td>\n",
              "      <td>...</td>\n",
              "      <td>...</td>\n",
              "      <td>...</td>\n",
              "      <td>...</td>\n",
              "      <td>...</td>\n",
              "      <td>...</td>\n",
              "      <td>...</td>\n",
              "      <td>...</td>\n",
              "      <td>...</td>\n",
              "      <td>...</td>\n",
              "      <td>...</td>\n",
              "      <td>...</td>\n",
              "      <td>...</td>\n",
              "      <td>...</td>\n",
              "      <td>...</td>\n",
              "    </tr>\n",
              "    <tr>\n",
              "      <th>1407</th>\n",
              "      <td>7917</td>\n",
              "      <td>6</td>\n",
              "      <td>5</td>\n",
              "      <td>1999</td>\n",
              "      <td>2000</td>\n",
              "      <td>0</td>\n",
              "      <td>0</td>\n",
              "      <td>953</td>\n",
              "      <td>694</td>\n",
              "      <td>7</td>\n",
              "      <td>...</td>\n",
              "      <td>0</td>\n",
              "      <td>0</td>\n",
              "      <td>0</td>\n",
              "      <td>0</td>\n",
              "      <td>1</td>\n",
              "      <td>0</td>\n",
              "      <td>0</td>\n",
              "      <td>0</td>\n",
              "      <td>0</td>\n",
              "      <td>1</td>\n",
              "    </tr>\n",
              "    <tr>\n",
              "      <th>1408</th>\n",
              "      <td>13175</td>\n",
              "      <td>6</td>\n",
              "      <td>6</td>\n",
              "      <td>1978</td>\n",
              "      <td>1988</td>\n",
              "      <td>119</td>\n",
              "      <td>790</td>\n",
              "      <td>2073</td>\n",
              "      <td>0</td>\n",
              "      <td>7</td>\n",
              "      <td>...</td>\n",
              "      <td>0</td>\n",
              "      <td>0</td>\n",
              "      <td>0</td>\n",
              "      <td>1</td>\n",
              "      <td>0</td>\n",
              "      <td>0</td>\n",
              "      <td>0</td>\n",
              "      <td>0</td>\n",
              "      <td>0</td>\n",
              "      <td>1</td>\n",
              "    </tr>\n",
              "    <tr>\n",
              "      <th>1409</th>\n",
              "      <td>9042</td>\n",
              "      <td>7</td>\n",
              "      <td>9</td>\n",
              "      <td>1941</td>\n",
              "      <td>2006</td>\n",
              "      <td>0</td>\n",
              "      <td>275</td>\n",
              "      <td>1188</td>\n",
              "      <td>1152</td>\n",
              "      <td>9</td>\n",
              "      <td>...</td>\n",
              "      <td>0</td>\n",
              "      <td>1</td>\n",
              "      <td>0</td>\n",
              "      <td>0</td>\n",
              "      <td>0</td>\n",
              "      <td>0</td>\n",
              "      <td>0</td>\n",
              "      <td>0</td>\n",
              "      <td>0</td>\n",
              "      <td>1</td>\n",
              "    </tr>\n",
              "    <tr>\n",
              "      <th>1410</th>\n",
              "      <td>9717</td>\n",
              "      <td>5</td>\n",
              "      <td>6</td>\n",
              "      <td>1950</td>\n",
              "      <td>1996</td>\n",
              "      <td>0</td>\n",
              "      <td>49</td>\n",
              "      <td>1078</td>\n",
              "      <td>0</td>\n",
              "      <td>5</td>\n",
              "      <td>...</td>\n",
              "      <td>0</td>\n",
              "      <td>0</td>\n",
              "      <td>0</td>\n",
              "      <td>1</td>\n",
              "      <td>0</td>\n",
              "      <td>0</td>\n",
              "      <td>0</td>\n",
              "      <td>0</td>\n",
              "      <td>1</td>\n",
              "      <td>0</td>\n",
              "    </tr>\n",
              "    <tr>\n",
              "      <th>1411</th>\n",
              "      <td>9937</td>\n",
              "      <td>5</td>\n",
              "      <td>6</td>\n",
              "      <td>1965</td>\n",
              "      <td>1965</td>\n",
              "      <td>0</td>\n",
              "      <td>830</td>\n",
              "      <td>1256</td>\n",
              "      <td>0</td>\n",
              "      <td>6</td>\n",
              "      <td>...</td>\n",
              "      <td>0</td>\n",
              "      <td>0</td>\n",
              "      <td>0</td>\n",
              "      <td>1</td>\n",
              "      <td>0</td>\n",
              "      <td>0</td>\n",
              "      <td>0</td>\n",
              "      <td>0</td>\n",
              "      <td>1</td>\n",
              "      <td>0</td>\n",
              "    </tr>\n",
              "  </tbody>\n",
              "</table>\n",
              "<p>1412 rows × 41 columns</p>\n",
              "</div>\n",
              "      <button class=\"colab-df-convert\" onclick=\"convertToInteractive('df-dc47a86b-0102-4f7b-8308-4946de62d0e2')\"\n",
              "              title=\"Convert this dataframe to an interactive table.\"\n",
              "              style=\"display:none;\">\n",
              "        \n",
              "  <svg xmlns=\"http://www.w3.org/2000/svg\" height=\"24px\"viewBox=\"0 0 24 24\"\n",
              "       width=\"24px\">\n",
              "    <path d=\"M0 0h24v24H0V0z\" fill=\"none\"/>\n",
              "    <path d=\"M18.56 5.44l.94 2.06.94-2.06 2.06-.94-2.06-.94-.94-2.06-.94 2.06-2.06.94zm-11 1L8.5 8.5l.94-2.06 2.06-.94-2.06-.94L8.5 2.5l-.94 2.06-2.06.94zm10 10l.94 2.06.94-2.06 2.06-.94-2.06-.94-.94-2.06-.94 2.06-2.06.94z\"/><path d=\"M17.41 7.96l-1.37-1.37c-.4-.4-.92-.59-1.43-.59-.52 0-1.04.2-1.43.59L10.3 9.45l-7.72 7.72c-.78.78-.78 2.05 0 2.83L4 21.41c.39.39.9.59 1.41.59.51 0 1.02-.2 1.41-.59l7.78-7.78 2.81-2.81c.8-.78.8-2.07 0-2.86zM5.41 20L4 18.59l7.72-7.72 1.47 1.35L5.41 20z\"/>\n",
              "  </svg>\n",
              "      </button>\n",
              "      \n",
              "  <style>\n",
              "    .colab-df-container {\n",
              "      display:flex;\n",
              "      flex-wrap:wrap;\n",
              "      gap: 12px;\n",
              "    }\n",
              "\n",
              "    .colab-df-convert {\n",
              "      background-color: #E8F0FE;\n",
              "      border: none;\n",
              "      border-radius: 50%;\n",
              "      cursor: pointer;\n",
              "      display: none;\n",
              "      fill: #1967D2;\n",
              "      height: 32px;\n",
              "      padding: 0 0 0 0;\n",
              "      width: 32px;\n",
              "    }\n",
              "\n",
              "    .colab-df-convert:hover {\n",
              "      background-color: #E2EBFA;\n",
              "      box-shadow: 0px 1px 2px rgba(60, 64, 67, 0.3), 0px 1px 3px 1px rgba(60, 64, 67, 0.15);\n",
              "      fill: #174EA6;\n",
              "    }\n",
              "\n",
              "    [theme=dark] .colab-df-convert {\n",
              "      background-color: #3B4455;\n",
              "      fill: #D2E3FC;\n",
              "    }\n",
              "\n",
              "    [theme=dark] .colab-df-convert:hover {\n",
              "      background-color: #434B5C;\n",
              "      box-shadow: 0px 1px 3px 1px rgba(0, 0, 0, 0.15);\n",
              "      filter: drop-shadow(0px 1px 2px rgba(0, 0, 0, 0.3));\n",
              "      fill: #FFFFFF;\n",
              "    }\n",
              "  </style>\n",
              "\n",
              "      <script>\n",
              "        const buttonEl =\n",
              "          document.querySelector('#df-dc47a86b-0102-4f7b-8308-4946de62d0e2 button.colab-df-convert');\n",
              "        buttonEl.style.display =\n",
              "          google.colab.kernel.accessAllowed ? 'block' : 'none';\n",
              "\n",
              "        async function convertToInteractive(key) {\n",
              "          const element = document.querySelector('#df-dc47a86b-0102-4f7b-8308-4946de62d0e2');\n",
              "          const dataTable =\n",
              "            await google.colab.kernel.invokeFunction('convertToInteractive',\n",
              "                                                     [key], {});\n",
              "          if (!dataTable) return;\n",
              "\n",
              "          const docLinkHtml = 'Like what you see? Visit the ' +\n",
              "            '<a target=\"_blank\" href=https://colab.research.google.com/notebooks/data_table.ipynb>data table notebook</a>'\n",
              "            + ' to learn more about interactive tables.';\n",
              "          element.innerHTML = '';\n",
              "          dataTable['output_type'] = 'display_data';\n",
              "          await google.colab.output.renderOutput(dataTable, element);\n",
              "          const docLink = document.createElement('div');\n",
              "          docLink.innerHTML = docLinkHtml;\n",
              "          element.appendChild(docLink);\n",
              "        }\n",
              "      </script>\n",
              "    </div>\n",
              "  </div>\n",
              "  "
            ]
          },
          "metadata": {},
          "execution_count": 285
        }
      ]
    },
    {
      "cell_type": "code",
      "source": [
        "Rout_HP_dataset.columns"
      ],
      "metadata": {
        "id": "kA3qegKEiUx9",
        "outputId": "5fc32e58-afe3-4bc9-c440-dcaa7df58a5a",
        "colab": {
          "base_uri": "https://localhost:8080/"
        }
      },
      "execution_count": null,
      "outputs": [
        {
          "output_type": "execute_result",
          "data": {
            "text/plain": [
              "Index(['LotArea', 'OverallQual', 'OverallCond', 'YearBuilt', 'YearRemodAdd',\n",
              "       'MasVnrArea', 'BsmtFinSF1', 'FirstFlrSF', 'SecondFlrSF', 'TotRmsAbvGrd',\n",
              "       'GarageArea', 'WoodDeckSF', 'ThreeSsnPorch', 'ScreenPorch', 'MoSold',\n",
              "       'Street_Grvl', 'Utilities_AllPub', 'Neighborhood_Edwards',\n",
              "       'Neighborhood_Mitchel', 'Neighborhood_NAmes', 'Neighborhood_NWAmes',\n",
              "       'Neighborhood_NoRidge', 'Neighborhood_OldTown', 'Neighborhood_StoneBr',\n",
              "       'Condition1_RRAe', 'Condition2_PosN', 'RoofStyle_Flat',\n",
              "       'RoofStyle_Gable', 'RoofStyle_Gambrel', 'RoofStyle_Hip',\n",
              "       'RoofStyle_Mansard', 'Exterior1st_BrkFace', 'ExterQual_Ex',\n",
              "       'Foundation_BrkTil', 'Foundation_CBlock', 'Foundation_PConc',\n",
              "       'BsmtQual_Ex', 'BsmtExposure_Gd', 'BsmtFinType1_LwQ', 'FullBath_1',\n",
              "       'FullBath_2'],\n",
              "      dtype='object')"
            ]
          },
          "metadata": {},
          "execution_count": 286
        }
      ]
    },
    {
      "cell_type": "code",
      "source": [
        "Rout_HP_dataset.shape"
      ],
      "metadata": {
        "id": "dzZbyJJ5FB71",
        "outputId": "ab22ab75-a7fb-4217-f650-95162252261a",
        "colab": {
          "base_uri": "https://localhost:8080/"
        }
      },
      "execution_count": null,
      "outputs": [
        {
          "output_type": "execute_result",
          "data": {
            "text/plain": [
              "(1412, 41)"
            ]
          },
          "metadata": {},
          "execution_count": 287
        }
      ]
    },
    {
      "cell_type": "code",
      "source": [
        "#y = Rout_HP_dataset['SalePrice']\n",
        "#X = Rout_HP_dataset.drop(['SalePrice'], axis=1)\n",
        "#X = X.to_numpy()\n",
        "#y = y.to_numpy()"
      ],
      "metadata": {
        "id": "2c9tIqbchLkW"
      },
      "execution_count": null,
      "outputs": []
    },
    {
      "cell_type": "code",
      "source": [
        "plt.matshow(Rout_HP_dataset.corr())\n",
        "plt.show()"
      ],
      "metadata": {
        "id": "O0Yr1ySKF5yf",
        "outputId": "b446c844-3ec9-4d70-c70c-c1658982856a",
        "colab": {
          "base_uri": "https://localhost:8080/",
          "height": 437
        }
      },
      "execution_count": null,
      "outputs": [
        {
          "output_type": "display_data",
          "data": {
            "text/plain": [
              "<Figure size 480x480 with 1 Axes>"
            ],
            "image/png": "[encoded data removed]"
          },
          "metadata": {}
        }
      ]
    },
    {
      "cell_type": "markdown",
      "source": [
        "Applying PCA and trying to reduce the number of columns less than 41."
      ],
      "metadata": {
        "id": "WAN6B_rnFQVN"
      }
    },
    {
      "cell_type": "code",
      "source": [
        "#from sklearn.decomposition import PCA\n",
        "##pca = PCA(n_components = 1)\n",
        "#pca.fit(Rout_HP_dataset)\n",
        "#reduced = pca.transform(Rout_HP_dataset)"
      ],
      "metadata": {
        "id": "lJF-IzfGFZ0t"
      },
      "execution_count": null,
      "outputs": []
    },
    {
      "cell_type": "code",
      "source": [
        "#reduced.shape\n"
      ],
      "metadata": {
        "id": "R_AL9pL0FZ3v"
      },
      "execution_count": null,
      "outputs": []
    },
    {
      "cell_type": "code",
      "source": [
        "from statsmodels.stats.outliers_influence import variance_inflation_factor\n",
        "\n",
        "# calculate VIF for each feature\n",
        "\n",
        "vif = pd.DataFrame()\n",
        "\n",
        "vif[\"VIF Factor\"] = [variance_inflation_factor(Rout_HP_dataset.values, i) for i in range(Rout_HP_dataset.shape[1])]\n",
        "\n",
        "vif[\"features\"] = Rout_HP_dataset.columns\n",
        "\n",
        "# print VIF values\n",
        "\n",
        "print(vif)"
      ],
      "metadata": {
        "id": "kAnLqJquFZ_E",
        "outputId": "3a5939fb-1a2e-4c29-85ce-92876fceb47c",
        "colab": {
          "base_uri": "https://localhost:8080/"
        }
      },
      "execution_count": null,
      "outputs": [
        {
          "output_type": "stream",
          "name": "stdout",
          "text": [
            "      VIF Factor              features\n",
            "0       2.687004               LotArea\n",
            "1      66.647016           OverallQual\n",
            "2      43.287991           OverallCond\n",
            "3   15568.809147             YearBuilt\n",
            "4   16595.241600          YearRemodAdd\n",
            "5       2.156600            MasVnrArea\n",
            "6       3.079404            BsmtFinSF1\n",
            "7      43.838100            FirstFlrSF\n",
            "8       6.902650           SecondFlrSF\n",
            "9      62.082963          TotRmsAbvGrd\n",
            "10     11.000285            GarageArea\n",
            "11      1.883458            WoodDeckSF\n",
            "12      1.046463         ThreeSsnPorch\n",
            "13      1.162446           ScreenPorch\n",
            "14      6.626434                MoSold\n",
            "15      1.090910           Street_Grvl\n",
            "16   1395.886900      Utilities_AllPub\n",
            "17      1.240797  Neighborhood_Edwards\n",
            "18      1.129828  Neighborhood_Mitchel\n",
            "19      1.802212    Neighborhood_NAmes\n",
            "20      1.325711   Neighborhood_NWAmes\n",
            "21      1.328213  Neighborhood_NoRidge\n",
            "22      1.532537  Neighborhood_OldTown\n",
            "23      1.103155  Neighborhood_StoneBr\n",
            "24      1.036478       Condition1_RRAe\n",
            "25      1.088774       Condition2_PosN\n",
            "26      7.076350        RoofStyle_Flat\n",
            "27    555.486974       RoofStyle_Gable\n",
            "28      6.584181     RoofStyle_Gambrel\n",
            "29    140.765398         RoofStyle_Hip\n",
            "30      4.602373     RoofStyle_Mansard\n",
            "31      1.161827   Exterior1st_BrkFace\n",
            "32      1.663179          ExterQual_Ex\n",
            "33     17.622613     Foundation_BrkTil\n",
            "34     75.091081     Foundation_CBlock\n",
            "35     77.697214      Foundation_PConc\n",
            "36      1.948022           BsmtQual_Ex\n",
            "37      1.471087       BsmtExposure_Gd\n",
            "38      1.117811      BsmtFinType1_LwQ\n",
            "39     22.592661            FullBath_1\n",
            "40     22.589401            FullBath_2\n"
          ]
        }
      ]
    },
    {
      "cell_type": "code",
      "source": [
        "#VIF value below 5 is good and should be considered for further analysis\n",
        "#Thats why I am deleting the columns whos VIF value is greater than 3; but I am deleting it one by one."
      ],
      "metadata": {
        "id": "2Fl9vNJMFaCO"
      },
      "execution_count": null,
      "outputs": []
    },
    {
      "cell_type": "code",
      "source": [
        "#Dropping the below columns\n",
        "Rout_HP_dataset = Rout_HP_dataset.drop(['YearRemodAdd'], axis=1)"
      ],
      "metadata": {
        "id": "HNeV-gsKFaHB"
      },
      "execution_count": null,
      "outputs": []
    },
    {
      "cell_type": "code",
      "source": [
        "Rout_HP_dataset = Rout_HP_dataset.drop(['YearBuilt'], axis=1)"
      ],
      "metadata": {
        "id": "0kJnwwNvFaJo"
      },
      "execution_count": null,
      "outputs": []
    },
    {
      "cell_type": "code",
      "source": [
        "Rout_HP_dataset = Rout_HP_dataset.drop(['Utilities_AllPub'], axis=1)"
      ],
      "metadata": {
        "id": "jviqXRMdKzEB"
      },
      "execution_count": null,
      "outputs": []
    },
    {
      "cell_type": "code",
      "source": [
        "Rout_HP_dataset = Rout_HP_dataset.drop(['RoofStyle_Gable'], axis=1)"
      ],
      "metadata": {
        "id": "C2bcCw5nKzGn"
      },
      "execution_count": null,
      "outputs": []
    },
    {
      "cell_type": "code",
      "source": [
        "Rout_HP_dataset = Rout_HP_dataset.drop(['OverallQual'], axis=1)"
      ],
      "metadata": {
        "id": "RYZmiuHXKzJJ"
      },
      "execution_count": null,
      "outputs": []
    },
    {
      "cell_type": "code",
      "source": [
        "Rout_HP_dataset = Rout_HP_dataset.drop(['TotRmsAbvGrd'], axis=1)"
      ],
      "metadata": {
        "id": "2LS51pX-KzNi"
      },
      "execution_count": null,
      "outputs": []
    },
    {
      "cell_type": "code",
      "source": [
        "Rout_HP_dataset = Rout_HP_dataset.drop(['Foundation_PConc'], axis=1)"
      ],
      "metadata": {
        "id": "-vUN3iFIFaMS"
      },
      "execution_count": null,
      "outputs": []
    },
    {
      "cell_type": "code",
      "source": [
        "Rout_HP_dataset = Rout_HP_dataset.drop(['OverallCond'], axis=1)"
      ],
      "metadata": {
        "id": "A0EviPacs17P"
      },
      "execution_count": null,
      "outputs": []
    },
    {
      "cell_type": "code",
      "source": [
        "Rout_HP_dataset = Rout_HP_dataset.drop(['FirstFlrSF'], axis=1)"
      ],
      "metadata": {
        "id": "iKG-tmz2s196"
      },
      "execution_count": null,
      "outputs": []
    },
    {
      "cell_type": "code",
      "source": [
        "Rout_HP_dataset = Rout_HP_dataset.drop(['GarageArea'], axis=1)"
      ],
      "metadata": {
        "id": "UYhv3H-ys2Ah"
      },
      "execution_count": null,
      "outputs": []
    },
    {
      "cell_type": "code",
      "source": [
        "Rout_HP_dataset = Rout_HP_dataset.drop(['MoSold'], axis=1)"
      ],
      "metadata": {
        "id": "vwch6Fams2C8"
      },
      "execution_count": null,
      "outputs": []
    },
    {
      "cell_type": "code",
      "source": [
        "from statsmodels.stats.outliers_influence import variance_inflation_factor\n",
        "\n",
        "# calculate VIF for each feature\n",
        "\n",
        "vif = pd.DataFrame()\n",
        "\n",
        "vif[\"VIF Factor\"] = [variance_inflation_factor(Rout_HP_dataset.values, i) for i in range(Rout_HP_dataset.shape[1])]\n",
        "\n",
        "vif[\"features\"] = Rout_HP_dataset.columns\n",
        "\n",
        "# print VIF values\n",
        "\n",
        "print(vif)"
      ],
      "metadata": {
        "colab": {
          "base_uri": "https://localhost:8080/"
        },
        "id": "E1I3VIYFr5tZ",
        "outputId": "154349cf-bede-4f12-cc87-75db9e2c8e5e"
      },
      "execution_count": null,
      "outputs": [
        {
          "output_type": "stream",
          "name": "stdout",
          "text": [
            "    VIF Factor              features\n",
            "0     2.507353               LotArea\n",
            "1     2.020506            MasVnrArea\n",
            "2     2.772061            BsmtFinSF1\n",
            "3     2.079641           SecondFlrSF\n",
            "4     1.792639            WoodDeckSF\n",
            "5     1.031435         ThreeSsnPorch\n",
            "6     1.133318           ScreenPorch\n",
            "7     1.070843           Street_Grvl\n",
            "8     1.180975  Neighborhood_Edwards\n",
            "9     1.110674  Neighborhood_Mitchel\n",
            "10    1.724131    Neighborhood_NAmes\n",
            "11    1.285913   Neighborhood_NWAmes\n",
            "12    1.272257  Neighborhood_NoRidge\n",
            "13    1.368509  Neighborhood_OldTown\n",
            "14    1.061608  Neighborhood_StoneBr\n",
            "15    1.027652       Condition1_RRAe\n",
            "16    1.071623       Condition2_PosN\n",
            "17    1.107243        RoofStyle_Flat\n",
            "18    1.032263     RoofStyle_Gambrel\n",
            "19    1.531235         RoofStyle_Hip\n",
            "20    1.038949     RoofStyle_Mansard\n",
            "21    1.116645   Exterior1st_BrkFace\n",
            "22    1.588069          ExterQual_Ex\n",
            "23    1.646799     Foundation_BrkTil\n",
            "24    3.458386     Foundation_CBlock\n",
            "25    1.792300           BsmtQual_Ex\n",
            "26    1.448378       BsmtExposure_Gd\n",
            "27    1.106263      BsmtFinType1_LwQ\n",
            "28    3.516970            FullBath_1\n",
            "29    3.106048            FullBath_2\n"
          ]
        }
      ]
    },
    {
      "cell_type": "markdown",
      "source": [
        "After deleting the above attributes this will be dataset that will be used for further analysis."
      ],
      "metadata": {
        "id": "bBRqo7gSt0m3"
      }
    },
    {
      "cell_type": "code",
      "source": [
        "X = Rout_HP_dataset\n",
        "X"
      ],
      "metadata": {
        "id": "9rQQyZ5ks2FW",
        "outputId": "9cf77a6f-bab3-4077-88cf-d526cab4082c",
        "colab": {
          "base_uri": "https://localhost:8080/",
          "height": 487
        }
      },
      "execution_count": null,
      "outputs": [
        {
          "output_type": "execute_result",
          "data": {
            "text/plain": [
              "      LotArea  MasVnrArea  BsmtFinSF1  SecondFlrSF  WoodDeckSF  ThreeSsnPorch  \\\n",
              "0        8450         196         706          854           0              0   \n",
              "1        9600           0         978            0         298              0   \n",
              "2       11250         162         486          866           0              0   \n",
              "3        9550           0         216          756           0              0   \n",
              "4       14260         350         655         1053         192              0   \n",
              "...       ...         ...         ...          ...         ...            ...   \n",
              "1407     7917           0           0          694           0              0   \n",
              "1408    13175         119         790            0         349              0   \n",
              "1409     9042           0         275         1152           0              0   \n",
              "1410     9717           0          49            0         366              0   \n",
              "1411     9937           0         830            0         736              0   \n",
              "\n",
              "      ScreenPorch  Street_Grvl  Neighborhood_Edwards  Neighborhood_Mitchel  \\\n",
              "0               0            0                     0                     0   \n",
              "1               0            0                     0                     0   \n",
              "2               0            0                     0                     0   \n",
              "3               0            0                     0                     0   \n",
              "4               0            0                     0                     0   \n",
              "...           ...          ...                   ...                   ...   \n",
              "1407            0            0                     0                     0   \n",
              "1408            0            0                     0                     0   \n",
              "1409            0            0                     0                     0   \n",
              "1410            0            0                     0                     0   \n",
              "1411            0            0                     1                     0   \n",
              "\n",
              "      ...  RoofStyle_Mansard  Exterior1st_BrkFace  ExterQual_Ex  \\\n",
              "0     ...                  0                    0             0   \n",
              "1     ...                  0                    0             0   \n",
              "2     ...                  0                    0             0   \n",
              "3     ...                  0                    0             0   \n",
              "4     ...                  0                    0             0   \n",
              "...   ...                ...                  ...           ...   \n",
              "1407  ...                  0                    0             0   \n",
              "1408  ...                  0                    0             0   \n",
              "1409  ...                  0                    0             1   \n",
              "1410  ...                  0                    0             0   \n",
              "1411  ...                  0                    0             0   \n",
              "\n",
              "      Foundation_BrkTil  Foundation_CBlock  BsmtQual_Ex  BsmtExposure_Gd  \\\n",
              "0                     0                  0            0                0   \n",
              "1                     0                  1            0                1   \n",
              "2                     0                  0            0                0   \n",
              "3                     1                  0            0                0   \n",
              "4                     0                  0            0                0   \n",
              "...                 ...                ...          ...              ...   \n",
              "1407                  0                  0            0                0   \n",
              "1408                  0                  1            0                0   \n",
              "1409                  0                  0            0                0   \n",
              "1410                  0                  1            0                0   \n",
              "1411                  0                  1            0                0   \n",
              "\n",
              "      BsmtFinType1_LwQ  FullBath_1  FullBath_2  \n",
              "0                    0           0           1  \n",
              "1                    0           0           1  \n",
              "2                    0           0           1  \n",
              "3                    0           1           0  \n",
              "4                    0           0           1  \n",
              "...                ...         ...         ...  \n",
              "1407                 0           0           1  \n",
              "1408                 0           0           1  \n",
              "1409                 0           0           1  \n",
              "1410                 0           1           0  \n",
              "1411                 0           1           0  \n",
              "\n",
              "[1412 rows x 30 columns]"
            ],
            "text/html": [
              "\n",
              "  <div id=\"df-750181ef-d4a4-48dd-ae01-e13c60b6f2e6\">\n",
              "    <div class=\"colab-df-container\">\n",
              "      <div>\n",
              "<style scoped>\n",
              "    .dataframe tbody tr th:only-of-type {\n",
              "        vertical-align: middle;\n",
              "    }\n",
              "\n",
              "    .dataframe tbody tr th {\n",
              "        vertical-align: top;\n",
              "    }\n",
              "\n",
              "    .dataframe thead th {\n",
              "        text-align: right;\n",
              "    }\n",
              "</style>\n",
              "<table border=\"1\" class=\"dataframe\">\n",
              "  <thead>\n",
              "    <tr style=\"text-align: right;\">\n",
              "      <th></th>\n",
              "      <th>LotArea</th>\n",
              "      <th>MasVnrArea</th>\n",
              "      <th>BsmtFinSF1</th>\n",
              "      <th>SecondFlrSF</th>\n",
              "      <th>WoodDeckSF</th>\n",
              "      <th>ThreeSsnPorch</th>\n",
              "      <th>ScreenPorch</th>\n",
              "      <th>Street_Grvl</th>\n",
              "      <th>Neighborhood_Edwards</th>\n",
              "      <th>Neighborhood_Mitchel</th>\n",
              "      <th>...</th>\n",
              "      <th>RoofStyle_Mansard</th>\n",
              "      <th>Exterior1st_BrkFace</th>\n",
              "      <th>ExterQual_Ex</th>\n",
              "      <th>Foundation_BrkTil</th>\n",
              "      <th>Foundation_CBlock</th>\n",
              "      <th>BsmtQual_Ex</th>\n",
              "      <th>BsmtExposure_Gd</th>\n",
              "      <th>BsmtFinType1_LwQ</th>\n",
              "      <th>FullBath_1</th>\n",
              "      <th>FullBath_2</th>\n",
              "    </tr>\n",
              "  </thead>\n",
              "  <tbody>\n",
              "    <tr>\n",
              "      <th>0</th>\n",
              "      <td>8450</td>\n",
              "      <td>196</td>\n",
              "      <td>706</td>\n",
              "      <td>854</td>\n",
              "      <td>0</td>\n",
              "      <td>0</td>\n",
              "      <td>0</td>\n",
              "      <td>0</td>\n",
              "      <td>0</td>\n",
              "      <td>0</td>\n",
              "      <td>...</td>\n",
              "      <td>0</td>\n",
              "      <td>0</td>\n",
              "      <td>0</td>\n",
              "      <td>0</td>\n",
              "      <td>0</td>\n",
              "      <td>0</td>\n",
              "      <td>0</td>\n",
              "      <td>0</td>\n",
              "      <td>0</td>\n",
              "      <td>1</td>\n",
              "    </tr>\n",
              "    <tr>\n",
              "      <th>1</th>\n",
              "      <td>9600</td>\n",
              "      <td>0</td>\n",
              "      <td>978</td>\n",
              "      <td>0</td>\n",
              "      <td>298</td>\n",
              "      <td>0</td>\n",
              "      <td>0</td>\n",
              "      <td>0</td>\n",
              "      <td>0</td>\n",
              "      <td>0</td>\n",
              "      <td>...</td>\n",
              "      <td>0</td>\n",
              "      <td>0</td>\n",
              "      <td>0</td>\n",
              "      <td>0</td>\n",
              "      <td>1</td>\n",
              "      <td>0</td>\n",
              "      <td>1</td>\n",
              "      <td>0</td>\n",
              "      <td>0</td>\n",
              "      <td>1</td>\n",
              "    </tr>\n",
              "    <tr>\n",
              "      <th>2</th>\n",
              "      <td>11250</td>\n",
              "      <td>162</td>\n",
              "      <td>486</td>\n",
              "      <td>866</td>\n",
              "      <td>0</td>\n",
              "      <td>0</td>\n",
              "      <td>0</td>\n",
              "      <td>0</td>\n",
              "      <td>0</td>\n",
              "      <td>0</td>\n",
              "      <td>...</td>\n",
              "      <td>0</td>\n",
              "      <td>0</td>\n",
              "      <td>0</td>\n",
              "      <td>0</td>\n",
              "      <td>0</td>\n",
              "      <td>0</td>\n",
              "      <td>0</td>\n",
              "      <td>0</td>\n",
              "      <td>0</td>\n",
              "      <td>1</td>\n",
              "    </tr>\n",
              "    <tr>\n",
              "      <th>3</th>\n",
              "      <td>9550</td>\n",
              "      <td>0</td>\n",
              "      <td>216</td>\n",
              "      <td>756</td>\n",
              "      <td>0</td>\n",
              "      <td>0</td>\n",
              "      <td>0</td>\n",
              "      <td>0</td>\n",
              "      <td>0</td>\n",
              "      <td>0</td>\n",
              "      <td>...</td>\n",
              "      <td>0</td>\n",
              "      <td>0</td>\n",
              "      <td>0</td>\n",
              "      <td>1</td>\n",
              "      <td>0</td>\n",
              "      <td>0</td>\n",
              "      <td>0</td>\n",
              "      <td>0</td>\n",
              "      <td>1</td>\n",
              "      <td>0</td>\n",
              "    </tr>\n",
              "    <tr>\n",
              "      <th>4</th>\n",
              "      <td>14260</td>\n",
              "      <td>350</td>\n",
              "      <td>655</td>\n",
              "      <td>1053</td>\n",
              "      <td>192</td>\n",
              "      <td>0</td>\n",
              "      <td>0</td>\n",
              "      <td>0</td>\n",
              "      <td>0</td>\n",
              "      <td>0</td>\n",
              "      <td>...</td>\n",
              "      <td>0</td>\n",
              "      <td>0</td>\n",
              "      <td>0</td>\n",
              "      <td>0</td>\n",
              "      <td>0</td>\n",
              "      <td>0</td>\n",
              "      <td>0</td>\n",
              "      <td>0</td>\n",
              "      <td>0</td>\n",
              "      <td>1</td>\n",
              "    </tr>\n",
              "    <tr>\n",
              "      <th>...</th>\n",
              "      <td>...</td>\n",
              "      <td>...</td>\n",
              "      <td>...</td>\n",
              "      <td>...</td>\n",
              "      <td>...</td>\n",
              "      <td>...</td>\n",
              "      <td>...</td>\n",
              "      <td>...</td>\n",
              "      <td>...</td>\n",
              "      <td>...</td>\n",
              "      <td>...</td>\n",
              "      <td>...</td>\n",
              "      <td>...</td>\n",
              "      <td>...</td>\n",
              "      <td>...</td>\n",
              "      <td>...</td>\n",
              "      <td>...</td>\n",
              "      <td>...</td>\n",
              "      <td>...</td>\n",
              "      <td>...</td>\n",
              "      <td>...</td>\n",
              "    </tr>\n",
              "    <tr>\n",
              "      <th>1407</th>\n",
              "      <td>7917</td>\n",
              "      <td>0</td>\n",
              "      <td>0</td>\n",
              "      <td>694</td>\n",
              "      <td>0</td>\n",
              "      <td>0</td>\n",
              "      <td>0</td>\n",
              "      <td>0</td>\n",
              "      <td>0</td>\n",
              "      <td>0</td>\n",
              "      <td>...</td>\n",
              "      <td>0</td>\n",
              "      <td>0</td>\n",
              "      <td>0</td>\n",
              "      <td>0</td>\n",
              "      <td>0</td>\n",
              "      <td>0</td>\n",
              "      <td>0</td>\n",
              "      <td>0</td>\n",
              "      <td>0</td>\n",
              "      <td>1</td>\n",
              "    </tr>\n",
              "    <tr>\n",
              "      <th>1408</th>\n",
              "      <td>13175</td>\n",
              "      <td>119</td>\n",
              "      <td>790</td>\n",
              "      <td>0</td>\n",
              "      <td>349</td>\n",
              "      <td>0</td>\n",
              "      <td>0</td>\n",
              "      <td>0</td>\n",
              "      <td>0</td>\n",
              "      <td>0</td>\n",
              "      <td>...</td>\n",
              "      <td>0</td>\n",
              "      <td>0</td>\n",
              "      <td>0</td>\n",
              "      <td>0</td>\n",
              "      <td>1</td>\n",
              "      <td>0</td>\n",
              "      <td>0</td>\n",
              "      <td>0</td>\n",
              "      <td>0</td>\n",
              "      <td>1</td>\n",
              "    </tr>\n",
              "    <tr>\n",
              "      <th>1409</th>\n",
              "      <td>9042</td>\n",
              "      <td>0</td>\n",
              "      <td>275</td>\n",
              "      <td>1152</td>\n",
              "      <td>0</td>\n",
              "      <td>0</td>\n",
              "      <td>0</td>\n",
              "      <td>0</td>\n",
              "      <td>0</td>\n",
              "      <td>0</td>\n",
              "      <td>...</td>\n",
              "      <td>0</td>\n",
              "      <td>0</td>\n",
              "      <td>1</td>\n",
              "      <td>0</td>\n",
              "      <td>0</td>\n",
              "      <td>0</td>\n",
              "      <td>0</td>\n",
              "      <td>0</td>\n",
              "      <td>0</td>\n",
              "      <td>1</td>\n",
              "    </tr>\n",
              "    <tr>\n",
              "      <th>1410</th>\n",
              "      <td>9717</td>\n",
              "      <td>0</td>\n",
              "      <td>49</td>\n",
              "      <td>0</td>\n",
              "      <td>366</td>\n",
              "      <td>0</td>\n",
              "      <td>0</td>\n",
              "      <td>0</td>\n",
              "      <td>0</td>\n",
              "      <td>0</td>\n",
              "      <td>...</td>\n",
              "      <td>0</td>\n",
              "      <td>0</td>\n",
              "      <td>0</td>\n",
              "      <td>0</td>\n",
              "      <td>1</td>\n",
              "      <td>0</td>\n",
              "      <td>0</td>\n",
              "      <td>0</td>\n",
              "      <td>1</td>\n",
              "      <td>0</td>\n",
              "    </tr>\n",
              "    <tr>\n",
              "      <th>1411</th>\n",
              "      <td>9937</td>\n",
              "      <td>0</td>\n",
              "      <td>830</td>\n",
              "      <td>0</td>\n",
              "      <td>736</td>\n",
              "      <td>0</td>\n",
              "      <td>0</td>\n",
              "      <td>0</td>\n",
              "      <td>1</td>\n",
              "      <td>0</td>\n",
              "      <td>...</td>\n",
              "      <td>0</td>\n",
              "      <td>0</td>\n",
              "      <td>0</td>\n",
              "      <td>0</td>\n",
              "      <td>1</td>\n",
              "      <td>0</td>\n",
              "      <td>0</td>\n",
              "      <td>0</td>\n",
              "      <td>1</td>\n",
              "      <td>0</td>\n",
              "    </tr>\n",
              "  </tbody>\n",
              "</table>\n",
              "<p>1412 rows × 30 columns</p>\n",
              "</div>\n",
              "      <button class=\"colab-df-convert\" onclick=\"convertToInteractive('df-750181ef-d4a4-48dd-ae01-e13c60b6f2e6')\"\n",
              "              title=\"Convert this dataframe to an interactive table.\"\n",
              "              style=\"display:none;\">\n",
              "        \n",
              "  <svg xmlns=\"http://www.w3.org/2000/svg\" height=\"24px\"viewBox=\"0 0 24 24\"\n",
              "       width=\"24px\">\n",
              "    <path d=\"M0 0h24v24H0V0z\" fill=\"none\"/>\n",
              "    <path d=\"M18.56 5.44l.94 2.06.94-2.06 2.06-.94-2.06-.94-.94-2.06-.94 2.06-2.06.94zm-11 1L8.5 8.5l.94-2.06 2.06-.94-2.06-.94L8.5 2.5l-.94 2.06-2.06.94zm10 10l.94 2.06.94-2.06 2.06-.94-2.06-.94-.94-2.06-.94 2.06-2.06.94z\"/><path d=\"M17.41 7.96l-1.37-1.37c-.4-.4-.92-.59-1.43-.59-.52 0-1.04.2-1.43.59L10.3 9.45l-7.72 7.72c-.78.78-.78 2.05 0 2.83L4 21.41c.39.39.9.59 1.41.59.51 0 1.02-.2 1.41-.59l7.78-7.78 2.81-2.81c.8-.78.8-2.07 0-2.86zM5.41 20L4 18.59l7.72-7.72 1.47 1.35L5.41 20z\"/>\n",
              "  </svg>\n",
              "      </button>\n",
              "      \n",
              "  <style>\n",
              "    .colab-df-container {\n",
              "      display:flex;\n",
              "      flex-wrap:wrap;\n",
              "      gap: 12px;\n",
              "    }\n",
              "\n",
              "    .colab-df-convert {\n",
              "      background-color: #E8F0FE;\n",
              "      border: none;\n",
              "      border-radius: 50%;\n",
              "      cursor: pointer;\n",
              "      display: none;\n",
              "      fill: #1967D2;\n",
              "      height: 32px;\n",
              "      padding: 0 0 0 0;\n",
              "      width: 32px;\n",
              "    }\n",
              "\n",
              "    .colab-df-convert:hover {\n",
              "      background-color: #E2EBFA;\n",
              "      box-shadow: 0px 1px 2px rgba(60, 64, 67, 0.3), 0px 1px 3px 1px rgba(60, 64, 67, 0.15);\n",
              "      fill: #174EA6;\n",
              "    }\n",
              "\n",
              "    [theme=dark] .colab-df-convert {\n",
              "      background-color: #3B4455;\n",
              "      fill: #D2E3FC;\n",
              "    }\n",
              "\n",
              "    [theme=dark] .colab-df-convert:hover {\n",
              "      background-color: #434B5C;\n",
              "      box-shadow: 0px 1px 3px 1px rgba(0, 0, 0, 0.15);\n",
              "      filter: drop-shadow(0px 1px 2px rgba(0, 0, 0, 0.3));\n",
              "      fill: #FFFFFF;\n",
              "    }\n",
              "  </style>\n",
              "\n",
              "      <script>\n",
              "        const buttonEl =\n",
              "          document.querySelector('#df-750181ef-d4a4-48dd-ae01-e13c60b6f2e6 button.colab-df-convert');\n",
              "        buttonEl.style.display =\n",
              "          google.colab.kernel.accessAllowed ? 'block' : 'none';\n",
              "\n",
              "        async function convertToInteractive(key) {\n",
              "          const element = document.querySelector('#df-750181ef-d4a4-48dd-ae01-e13c60b6f2e6');\n",
              "          const dataTable =\n",
              "            await google.colab.kernel.invokeFunction('convertToInteractive',\n",
              "                                                     [key], {});\n",
              "          if (!dataTable) return;\n",
              "\n",
              "          const docLinkHtml = 'Like what you see? Visit the ' +\n",
              "            '<a target=\"_blank\" href=https://colab.research.google.com/notebooks/data_table.ipynb>data table notebook</a>'\n",
              "            + ' to learn more about interactive tables.';\n",
              "          element.innerHTML = '';\n",
              "          dataTable['output_type'] = 'display_data';\n",
              "          await google.colab.output.renderOutput(dataTable, element);\n",
              "          const docLink = document.createElement('div');\n",
              "          docLink.innerHTML = docLinkHtml;\n",
              "          element.appendChild(docLink);\n",
              "        }\n",
              "      </script>\n",
              "    </div>\n",
              "  </div>\n",
              "  "
            ]
          },
          "metadata": {},
          "execution_count": 306
        }
      ]
    },
    {
      "cell_type": "code",
      "source": [
        "y"
      ],
      "metadata": {
        "id": "oHdrAkbVs2Hz",
        "outputId": "b2fef4ea-8224-46ad-be17-0d7d2c248cf6",
        "colab": {
          "base_uri": "https://localhost:8080/"
        }
      },
      "execution_count": null,
      "outputs": [
        {
          "output_type": "execute_result",
          "data": {
            "text/plain": [
              "array([208500, 181500, 223500, ..., 266500, 142125, 147500])"
            ]
          },
          "metadata": {},
          "execution_count": 307
        }
      ]
    },
    {
      "cell_type": "code",
      "source": [],
      "metadata": {
        "id": "5DRQg9Bns2KC"
      },
      "execution_count": null,
      "outputs": []
    },
    {
      "cell_type": "markdown",
      "source": [
        "Applying Regression Again"
      ],
      "metadata": {
        "id": "I9EdKLLewn87"
      }
    },
    {
      "cell_type": "code",
      "source": [
        "from sklearn.model_selection import train_test_split\n",
        "X_train, X_test, y_train, y_test = train_test_split(X, y, test_size = 0.2, random_state = 0)"
      ],
      "metadata": {
        "id": "dbUOjfyae9wP"
      },
      "execution_count": null,
      "outputs": []
    },
    {
      "cell_type": "code",
      "source": [
        "from sklearn.linear_model import LinearRegression\n",
        "regressor = LinearRegression()\n",
        "regressor.fit(X_train, y_train)"
      ],
      "metadata": {
        "colab": {
          "base_uri": "https://localhost:8080/",
          "height": 74
        },
        "id": "sL4JPuq-e9yf",
        "outputId": "6aaddb53-b660-4095-831b-f5107e7393a9"
      },
      "execution_count": null,
      "outputs": [
        {
          "output_type": "execute_result",
          "data": {
            "text/plain": [
              "LinearRegression()"
            ],
            "text/html": [
              "<style>#sk-container-id-2 {color: black;background-color: white;}#sk-container-id-2 pre{padding: 0;}#sk-container-id-2 div.sk-toggleable {background-color: white;}#sk-container-id-2 label.sk-toggleable__label {cursor: pointer;display: block;width: 100%;margin-bottom: 0;padding: 0.3em;box-sizing: border-box;text-align: center;}#sk-container-id-2 label.sk-toggleable__label-arrow:before {content: \"▸\";float: left;margin-right: 0.25em;color: #696969;}#sk-container-id-2 label.sk-toggleable__label-arrow:hover:before {color: black;}#sk-container-id-2 div.sk-estimator:hover label.sk-toggleable__label-arrow:before {color: black;}#sk-container-id-2 div.sk-toggleable__content {max-height: 0;max-width: 0;overflow: hidden;text-align: left;background-color: #f0f8ff;}#sk-container-id-2 div.sk-toggleable__content pre {margin: 0.2em;color: black;border-radius: 0.25em;background-color: #f0f8ff;}#sk-container-id-2 input.sk-toggleable__control:checked~div.sk-toggleable__content {max-height: 200px;max-width: 100%;overflow: auto;}#sk-container-id-2 input.sk-toggleable__control:checked~label.sk-toggleable__label-arrow:before {content: \"▾\";}#sk-container-id-2 div.sk-estimator input.sk-toggleable__control:checked~label.sk-toggleable__label {background-color: #d4ebff;}#sk-container-id-2 div.sk-label input.sk-toggleable__control:checked~label.sk-toggleable__label {background-color: #d4ebff;}#sk-container-id-2 input.sk-hidden--visually {border: 0;clip: rect(1px 1px 1px 1px);clip: rect(1px, 1px, 1px, 1px);height: 1px;margin: -1px;overflow: hidden;padding: 0;position: absolute;width: 1px;}#sk-container-id-2 div.sk-estimator {font-family: monospace;background-color: #f0f8ff;border: 1px dotted black;border-radius: 0.25em;box-sizing: border-box;margin-bottom: 0.5em;}#sk-container-id-2 div.sk-estimator:hover {background-color: #d4ebff;}#sk-container-id-2 div.sk-parallel-item::after {content: \"\";width: 100%;border-bottom: 1px solid gray;flex-grow: 1;}#sk-container-id-2 div.sk-label:hover label.sk-toggleable__label {background-color: #d4ebff;}#sk-container-id-2 div.sk-serial::before {content: \"\";position: absolute;border-left: 1px solid gray;box-sizing: border-box;top: 0;bottom: 0;left: 50%;z-index: 0;}#sk-container-id-2 div.sk-serial {display: flex;flex-direction: column;align-items: center;background-color: white;padding-right: 0.2em;padding-left: 0.2em;position: relative;}#sk-container-id-2 div.sk-item {position: relative;z-index: 1;}#sk-container-id-2 div.sk-parallel {display: flex;align-items: stretch;justify-content: center;background-color: white;position: relative;}#sk-container-id-2 div.sk-item::before, #sk-container-id-2 div.sk-parallel-item::before {content: \"\";position: absolute;border-left: 1px solid gray;box-sizing: border-box;top: 0;bottom: 0;left: 50%;z-index: -1;}#sk-container-id-2 div.sk-parallel-item {display: flex;flex-direction: column;z-index: 1;position: relative;background-color: white;}#sk-container-id-2 div.sk-parallel-item:first-child::after {align-self: flex-end;width: 50%;}#sk-container-id-2 div.sk-parallel-item:last-child::after {align-self: flex-start;width: 50%;}#sk-container-id-2 div.sk-parallel-item:only-child::after {width: 0;}#sk-container-id-2 div.sk-dashed-wrapped {border: 1px dashed gray;margin: 0 0.4em 0.5em 0.4em;box-sizing: border-box;padding-bottom: 0.4em;background-color: white;}#sk-container-id-2 div.sk-label label {font-family: monospace;font-weight: bold;display: inline-block;line-height: 1.2em;}#sk-container-id-2 div.sk-label-container {text-align: center;}#sk-container-id-2 div.sk-container {/* jupyter's `normalize.less` sets `[hidden] { display: none; }` but bootstrap.min.css set `[hidden] { display: none !important; }` so we also need the `!important` here to be able to override the default hidden behavior on the sphinx rendered scikit-learn.org. See: https://github.com/scikit-learn/scikit-learn/issues/21755 */display: inline-block !important;position: relative;}#sk-container-id-2 div.sk-text-repr-fallback {display: none;}</style><div id=\"sk-container-id-2\" class=\"sk-top-container\"><div class=\"sk-text-repr-fallback\"><pre>LinearRegression()</pre><b>In a Jupyter environment, please rerun this cell to show the HTML representation or trust the notebook. <br />On GitHub, the HTML representation is unable to render, please try loading this page with nbviewer.org.</b></div><div class=\"sk-container\" hidden><div class=\"sk-item\"><div class=\"sk-estimator sk-toggleable\"><input class=\"sk-toggleable__control sk-hidden--visually\" id=\"sk-estimator-id-2\" type=\"checkbox\" checked><label for=\"sk-estimator-id-2\" class=\"sk-toggleable__label sk-toggleable__label-arrow\">LinearRegression</label><div class=\"sk-toggleable__content\"><pre>LinearRegression()</pre></div></div></div></div></div>"
            ]
          },
          "metadata": {},
          "execution_count": 309
        }
      ]
    },
    {
      "cell_type": "code",
      "source": [
        "y_pred = regressor.predict(X_test)\n",
        "np.set_printoptions(precision=2)\n",
        "print(np.concatenate((y_pred.reshape(len(y_pred),1), y_test.reshape(len(y_test),1)),1))"
      ],
      "metadata": {
        "colab": {
          "base_uri": "https://localhost:8080/"
        },
        "id": "JFbjIYXSe90-",
        "outputId": "9a86cba3-f727-4715-a6de-900f25c6b941"
      },
      "execution_count": null,
      "outputs": [
        {
          "output_type": "stream",
          "name": "stdout",
          "text": [
            "[[102117.    87000.  ]\n",
            " [194343.09 205000.  ]\n",
            " [190246.04 178000.  ]\n",
            " [197349.14 135000.  ]\n",
            " [151489.24 143000.  ]\n",
            " [197302.33 224000.  ]\n",
            " [338088.37 326000.  ]\n",
            " [171668.17 208300.  ]\n",
            " [109557.93 104000.  ]\n",
            " [146426.61 165000.  ]\n",
            " [140108.58  90350.  ]\n",
            " [144792.3  197900.  ]\n",
            " [191781.09 232000.  ]\n",
            " [133970.47 147500.  ]\n",
            " [336325.59 318000.  ]\n",
            " [175585.62 181000.  ]\n",
            " [188785.96 215000.  ]\n",
            " [141126.23 132000.  ]\n",
            " [123506.27  84500.  ]\n",
            " [204798.84 180000.  ]\n",
            " [171473.99 143000.  ]\n",
            " [135040.73 132500.  ]\n",
            " [255060.31 178000.  ]\n",
            " [174372.57 139500.  ]\n",
            " [118582.26  89471.  ]\n",
            " [279319.86 295493.  ]\n",
            " [161509.79 145000.  ]\n",
            " [102142.65 114504.  ]\n",
            " [286174.71 190000.  ]\n",
            " [161044.65 155000.  ]\n",
            " [219286.58 172500.  ]\n",
            " [139049.83  85500.  ]\n",
            " [166601.68 190000.  ]\n",
            " [152060.54 136905.  ]\n",
            " [159521.43 112000.  ]\n",
            " [137379.38  87000.  ]\n",
            " [129360.68 143000.  ]\n",
            " [181100.64 175000.  ]\n",
            " [162610.   127500.  ]\n",
            " [235698.97 179900.  ]\n",
            " [147393.26 123000.  ]\n",
            " [164373.9  175000.  ]\n",
            " [270439.48 276000.  ]\n",
            " [109059.91 115000.  ]\n",
            " [187307.74 180000.  ]\n",
            " [143706.55 131400.  ]\n",
            " [146264.75 159000.  ]\n",
            " [130185.59  82500.  ]\n",
            " [202892.39 250000.  ]\n",
            " [199739.68 216000.  ]\n",
            " [258354.11 251000.  ]\n",
            " [130132.86 147000.  ]\n",
            " [130570.48 134900.  ]\n",
            " [313422.12 258000.  ]\n",
            " [246951.42 293077.  ]\n",
            " [207503.97 212000.  ]\n",
            " [174819.95 139000.  ]\n",
            " [150367.32 175000.  ]\n",
            " [135559.29 145000.  ]\n",
            " [203190.37 225000.  ]\n",
            " [123424.11 132500.  ]\n",
            " [283655.85 194201.  ]\n",
            " [184685.78 164500.  ]\n",
            " [324922.69 309000.  ]\n",
            " [130984.12 128500.  ]\n",
            " [254536.54 255500.  ]\n",
            " [149905.36 165500.  ]\n",
            " [116988.81  92000.  ]\n",
            " [118711.95 147000.  ]\n",
            " [114507.21 103000.  ]\n",
            " [152972.45 139000.  ]\n",
            " [236473.08 277000.  ]\n",
            " [209659.72 161500.  ]\n",
            " [108046.86 116050.  ]\n",
            " [161551.93 177500.  ]\n",
            " [ 98959.36  55993.  ]\n",
            " [123567.42 122000.  ]\n",
            " [175503.56 191000.  ]\n",
            " [212510.73 165600.  ]\n",
            " [212016.15 260000.  ]\n",
            " [167351.11 143000.  ]\n",
            " [218444.34 190000.  ]\n",
            " [315630.24 383970.  ]\n",
            " [220725.25 108959.  ]\n",
            " [168940.49 135000.  ]\n",
            " [174647.31 249700.  ]\n",
            " [160842.95 103600.  ]\n",
            " [194462.48 196500.  ]\n",
            " [186455.64 190000.  ]\n",
            " [218370.27 250000.  ]\n",
            " [185782.56 192000.  ]\n",
            " [137287.22  88000.  ]\n",
            " [292276.8  250000.  ]\n",
            " [163668.77 159950.  ]\n",
            " [206238.07 200000.  ]\n",
            " [192778.56 225000.  ]\n",
            " [112567.85 130000.  ]\n",
            " [205854.48 211000.  ]\n",
            " [131246.71 152000.  ]\n",
            " [203788.18 179540.  ]\n",
            " [166707.24 147000.  ]\n",
            " [205564.84 193000.  ]\n",
            " [143088.88 105000.  ]\n",
            " [117198.47 105000.  ]\n",
            " [150252.57 126000.  ]\n",
            " [219225.92 151400.  ]\n",
            " [160532.43 137000.  ]\n",
            " [126308.38 148000.  ]\n",
            " [365104.33 266000.  ]\n",
            " [181927.23 171900.  ]\n",
            " [168657.08 170000.  ]\n",
            " [141699.21 145000.  ]\n",
            " [120227.02 120500.  ]\n",
            " [199045.2  242000.  ]\n",
            " [200133.58 199900.  ]\n",
            " [123647.3  149900.  ]\n",
            " [ 95156.49  91300.  ]\n",
            " [170930.29 149900.  ]\n",
            " [181473.25 180000.  ]\n",
            " [153976.09 145000.  ]\n",
            " [119440.11 120500.  ]\n",
            " [305994.16 250000.  ]\n",
            " [175667.29 207500.  ]\n",
            " [277176.05 318000.  ]\n",
            " [199510.29 262500.  ]\n",
            " [267408.91 269500.  ]\n",
            " [253837.47 423000.  ]\n",
            " [126732.84 143500.  ]\n",
            " [152566.48 130000.  ]\n",
            " [316150.9  297000.  ]\n",
            " [204585.39 219210.  ]\n",
            " [224571.49 153337.  ]\n",
            " [344348.66 342643.  ]\n",
            " [125774.47 138000.  ]\n",
            " [ 90937.26  91500.  ]\n",
            " [157979.44 171000.  ]\n",
            " [339886.48 325300.  ]\n",
            " [208039.16 178000.  ]\n",
            " [117643.68 139000.  ]\n",
            " [191254.65 194000.  ]\n",
            " [190212.8  200000.  ]\n",
            " [161358.98 160000.  ]\n",
            " [163313.12 139000.  ]\n",
            " [217440.57 235000.  ]\n",
            " [115508.19 119500.  ]\n",
            " [185418.41 180500.  ]\n",
            " [276199.12 325000.  ]\n",
            " [126417.16 127000.  ]\n",
            " [188885.24  61000.  ]\n",
            " [180295.58 214000.  ]\n",
            " [187839.1  141000.  ]\n",
            " [200656.42 160000.  ]\n",
            " [118696.3  134500.  ]\n",
            " [286693.28 269790.  ]\n",
            " [208024.41 205000.  ]\n",
            " [154092.21 133000.  ]\n",
            " [253260.52 200000.  ]\n",
            " [299936.61 248000.  ]\n",
            " [349254.56 228950.  ]\n",
            " [163184.85 170000.  ]\n",
            " [192643.43 271000.  ]\n",
            " [388741.02 446261.  ]\n",
            " [186106.03 255000.  ]\n",
            " [209230.7  223500.  ]\n",
            " [201812.16 181500.  ]\n",
            " [157557.98 118500.  ]\n",
            " [135894.95 146000.  ]\n",
            " [112652.67 169900.  ]\n",
            " [101509.81  87000.  ]\n",
            " [367772.88 415298.  ]\n",
            " [224302.86 236000.  ]\n",
            " [151336.32 158000.  ]\n",
            " [163458.76 140000.  ]\n",
            " [230355.88 315000.  ]\n",
            " [382970.54 337500.  ]\n",
            " [149318.12 108000.  ]\n",
            " [117449.99  88000.  ]\n",
            " [ 88712.91 107900.  ]\n",
            " [118690.94 130000.  ]\n",
            " [109917.14  52000.  ]\n",
            " [330652.26 253293.  ]\n",
            " [169481.96 140000.  ]\n",
            " [269936.71 238000.  ]\n",
            " [194709.15 248900.  ]\n",
            " [139916.34  91500.  ]\n",
            " [274136.42 381000.  ]\n",
            " [232353.65 214000.  ]\n",
            " [131833.39 143000.  ]\n",
            " [216913.27 222500.  ]\n",
            " [139237.34 151000.  ]\n",
            " [140603.75 157000.  ]\n",
            " [104247.15 107000.  ]\n",
            " [183785.02 191000.  ]\n",
            " [118467.31 132000.  ]\n",
            " [183773.94 233170.  ]\n",
            " [198883.1  175000.  ]\n",
            " [198668.74 185900.  ]\n",
            " [135790.56 139400.  ]\n",
            " [180623.76 207500.  ]\n",
            " [121973.09  89500.  ]\n",
            " [126254.26 155000.  ]\n",
            " [151323.47 155000.  ]\n",
            " [100964.17 110000.  ]\n",
            " [226231.04 217000.  ]\n",
            " [320537.8  369900.  ]\n",
            " [152390.47 149500.  ]\n",
            " [127040.94 118000.  ]\n",
            " [223129.31 201000.  ]\n",
            " [136835.13 145250.  ]\n",
            " [115042.15 159500.  ]\n",
            " [110667.   119000.  ]\n",
            " [124832.49 148500.  ]\n",
            " [212653.84 210000.  ]\n",
            " [133792.51 128200.  ]\n",
            " [447459.55 361919.  ]\n",
            " [200403.73 245000.  ]\n",
            " [141446.4  145000.  ]\n",
            " [139680.09 197500.  ]\n",
            " [211027.99 201000.  ]\n",
            " [199816.16 173000.  ]\n",
            " [101494.76 125000.  ]\n",
            " [ 86718.41  98000.  ]\n",
            " [210841.35 179000.  ]\n",
            " [103287.93 110500.  ]\n",
            " [101888.76 135000.  ]\n",
            " [141595.11 140000.  ]\n",
            " [246620.91 227875.  ]\n",
            " [192759.66 169000.  ]\n",
            " [123837.64 127000.  ]\n",
            " [281924.45 185000.  ]\n",
            " [195369.13 175900.  ]\n",
            " [267516.41 224500.  ]\n",
            " [186227.86 162000.  ]\n",
            " [139544.88 144000.  ]\n",
            " [151836.32 230000.  ]\n",
            " [124796.86 127000.  ]\n",
            " [230661.09 282922.  ]\n",
            " [104701.05  99900.  ]\n",
            " [172773.56 176000.  ]\n",
            " [170963.   125000.  ]\n",
            " [185220.27 137500.  ]\n",
            " [329519.13 320000.  ]\n",
            " [120638.31 139900.  ]\n",
            " [296953.08 325000.  ]\n",
            " [ 99440.82 109000.  ]\n",
            " [456774.77 745000.  ]\n",
            " [216211.13 222000.  ]\n",
            " [107054.43 123000.  ]\n",
            " [132180.9   83500.  ]\n",
            " [110853.73 144000.  ]\n",
            " [181912.21 192000.  ]\n",
            " [145042.22 142000.  ]\n",
            " [123854.92 105000.  ]\n",
            " [328095.54 412500.  ]\n",
            " [190148.77  40000.  ]\n",
            " [540250.9  438780.  ]\n",
            " [182502.19 129900.  ]\n",
            " [106517.46 171000.  ]\n",
            " [125561.91 125500.  ]\n",
            " [328187.82 222000.  ]\n",
            " [323144.03 380000.  ]\n",
            " [123844.38 110000.  ]\n",
            " [187524.59 176000.  ]\n",
            " [186945.85 210000.  ]\n",
            " [181093.31 196500.  ]\n",
            " [124420.86  91000.  ]\n",
            " [340931.97 260000.  ]\n",
            " [121938.95  34900.  ]\n",
            " [151473.34 119000.  ]\n",
            " [195122.5  172785.  ]\n",
            " [230150.08 190000.  ]\n",
            " [217997.62 229000.  ]\n",
            " [125975.79 134000.  ]\n",
            " [229308.61 208900.  ]\n",
            " [142169.51 111250.  ]\n",
            " [121709.82 168000.  ]\n",
            " [100077.18 126175.  ]\n",
            " [183571.9  129000.  ]\n",
            " [129855.8  134500.  ]\n",
            " [213207.72 167900.  ]\n",
            " [178427.4  132500.  ]\n",
            " [209950.31 196000.  ]\n",
            " [146618.26  95000.  ]]\n"
          ]
        }
      ]
    },
    {
      "cell_type": "code",
      "source": [
        "regressor.coef_"
      ],
      "metadata": {
        "id": "MinCr8u9e93I",
        "colab": {
          "base_uri": "https://localhost:8080/"
        },
        "outputId": "cbaf1b9f-326b-436e-a69c-a1bb0cfde905"
      },
      "execution_count": null,
      "outputs": [
        {
          "output_type": "execute_result",
          "data": {
            "text/plain": [
              "array([ 9.37e-01,  4.10e+01,  1.72e+01,  2.29e+01,  5.02e+01,  6.56e+01,\n",
              "        9.86e+01, -2.50e+04, -3.26e+04, -2.80e+04, -6.76e+03, -1.81e+03,\n",
              "        6.94e+04, -2.30e+04,  6.41e+04, -1.06e+04, -1.59e+05,  1.16e+04,\n",
              "        1.92e+04,  9.79e+03,  1.82e+04,  4.22e+04,  7.11e+04, -2.81e+04,\n",
              "       -2.75e+04,  6.15e+04,  2.47e+04, -3.70e+03, -7.60e+04, -4.57e+04])"
            ]
          },
          "metadata": {},
          "execution_count": 311
        }
      ]
    },
    {
      "cell_type": "code",
      "source": [
        " regressor.score(X_train, y_train)"
      ],
      "metadata": {
        "colab": {
          "base_uri": "https://localhost:8080/"
        },
        "id": "qpsrOd9RVodZ",
        "outputId": "aa148fd9-f4ae-4016-b78d-96526664a156"
      },
      "execution_count": null,
      "outputs": [
        {
          "output_type": "execute_result",
          "data": {
            "text/plain": [
              "0.7535706654845011"
            ]
          },
          "metadata": {},
          "execution_count": 312
        }
      ]
    },
    {
      "cell_type": "markdown",
      "source": [
        "1.   Lets apply Deep Learning Model.\n",
        "2.   We will be used ANN (Artificial Neural Network) technique here\n",
        "\n"
      ],
      "metadata": {
        "id": "0EKUqdywXa2P"
      }
    },
    {
      "cell_type": "code",
      "source": [
        "import tensorflow as tf"
      ],
      "metadata": {
        "id": "jeof_KjwXcri"
      },
      "execution_count": null,
      "outputs": []
    },
    {
      "cell_type": "code",
      "source": [
        "tf.__version__"
      ],
      "metadata": {
        "colab": {
          "base_uri": "https://localhost:8080/",
          "height": 36
        },
        "id": "36MuMA-HXcuO",
        "outputId": "c3728f35-2b30-4f36-9cf3-3ab23e0728ca"
      },
      "execution_count": null,
      "outputs": [
        {
          "output_type": "execute_result",
          "data": {
            "text/plain": [
              "'2.12.0'"
            ],
            "application/vnd.google.colaboratory.intrinsic+json": {
              "type": "string"
            }
          },
          "metadata": {},
          "execution_count": 314
        }
      ]
    },
    {
      "cell_type": "code",
      "source": [
        "ann = tf.keras.models.Sequential()"
      ],
      "metadata": {
        "id": "rC8NbEykXco5"
      },
      "execution_count": null,
      "outputs": []
    },
    {
      "cell_type": "code",
      "source": [
        "ann.add(tf.keras.layers.Dense(units=6, activation='relu'))"
      ],
      "metadata": {
        "id": "vgvYue6vXcxB"
      },
      "execution_count": null,
      "outputs": []
    },
    {
      "cell_type": "code",
      "source": [
        "ann.add(tf.keras.layers.Dense(units=6, activation='relu'))"
      ],
      "metadata": {
        "id": "N-06kYC1Xczk"
      },
      "execution_count": null,
      "outputs": []
    },
    {
      "cell_type": "code",
      "source": [
        "ann.add(tf.keras.layers.Dense(units=1))"
      ],
      "metadata": {
        "id": "v3Hr9eHWXc2A"
      },
      "execution_count": null,
      "outputs": []
    },
    {
      "cell_type": "code",
      "source": [
        "ann.compile(optimizer = 'adam', loss = 'mean_squared_error')"
      ],
      "metadata": {
        "id": "XR9QIF8sXc4h"
      },
      "execution_count": null,
      "outputs": []
    },
    {
      "cell_type": "code",
      "source": [
        "ann.fit(X_train, y_train, batch_size = 32, epochs = 500)"
      ],
      "metadata": {
        "colab": {
          "base_uri": "https://localhost:8080/"
        },
        "id": "vJO7ILi_Xc7R",
        "outputId": "c8d2085e-70f7-4a23-ef79-8c13b719bfb3"
      },
      "execution_count": null,
      "outputs": [
        {
          "output_type": "stream",
          "name": "stdout",
          "text": [
            "Epoch 1/500\n",
            "36/36 [==============================] - 3s 7ms/step - loss: 39399235584.0000\n",
            "Epoch 2/500\n",
            "36/36 [==============================] - 0s 5ms/step - loss: 39094730752.0000\n",
            "Epoch 3/500\n",
            "36/36 [==============================] - 0s 4ms/step - loss: 38726062080.0000\n",
            "Epoch 4/500\n",
            "36/36 [==============================] - 0s 4ms/step - loss: 38278582272.0000\n",
            "Epoch 5/500\n",
            "36/36 [==============================] - 0s 3ms/step - loss: 37729660928.0000\n",
            "Epoch 6/500\n",
            "36/36 [==============================] - 0s 7ms/step - loss: 37055086592.0000\n",
            "Epoch 7/500\n",
            "36/36 [==============================] - 0s 6ms/step - loss: 36206927872.0000\n",
            "Epoch 8/500\n",
            "36/36 [==============================] - 0s 8ms/step - loss: 35186196480.0000\n",
            "Epoch 9/500\n",
            "36/36 [==============================] - 0s 7ms/step - loss: 33970499584.0000\n",
            "Epoch 10/500\n",
            "36/36 [==============================] - 0s 5ms/step - loss: 32557436928.0000\n",
            "Epoch 11/500\n",
            "36/36 [==============================] - 0s 5ms/step - loss: 30975791104.0000\n",
            "Epoch 12/500\n",
            "36/36 [==============================] - 0s 5ms/step - loss: 29246914560.0000\n",
            "Epoch 13/500\n",
            "36/36 [==============================] - 0s 3ms/step - loss: 27448881152.0000\n",
            "Epoch 14/500\n",
            "36/36 [==============================] - 0s 4ms/step - loss: 25630367744.0000\n",
            "Epoch 15/500\n",
            "36/36 [==============================] - 0s 5ms/step - loss: 23889399808.0000\n",
            "Epoch 16/500\n",
            "36/36 [==============================] - 0s 4ms/step - loss: 22340372480.0000\n",
            "Epoch 17/500\n",
            "36/36 [==============================] - 0s 4ms/step - loss: 20939894784.0000\n",
            "Epoch 18/500\n",
            "36/36 [==============================] - 0s 4ms/step - loss: 19776808960.0000\n",
            "Epoch 19/500\n",
            "36/36 [==============================] - 0s 4ms/step - loss: 18864826368.0000\n",
            "Epoch 20/500\n",
            "36/36 [==============================] - 0s 4ms/step - loss: 18190383104.0000\n",
            "Epoch 21/500\n",
            "36/36 [==============================] - 0s 4ms/step - loss: 17698136064.0000\n",
            "Epoch 22/500\n",
            "36/36 [==============================] - 0s 5ms/step - loss: 17275795456.0000\n",
            "Epoch 23/500\n",
            "36/36 [==============================] - 0s 6ms/step - loss: 16948738048.0000\n",
            "Epoch 24/500\n",
            "36/36 [==============================] - 0s 4ms/step - loss: 16747627520.0000\n",
            "Epoch 25/500\n",
            "36/36 [==============================] - 0s 6ms/step - loss: 16554373120.0000\n",
            "Epoch 26/500\n",
            "36/36 [==============================] - 0s 7ms/step - loss: 16412692480.0000\n",
            "Epoch 27/500\n",
            "36/36 [==============================] - 0s 5ms/step - loss: 16330071040.0000\n",
            "Epoch 28/500\n",
            "36/36 [==============================] - 0s 6ms/step - loss: 16211131392.0000\n",
            "Epoch 29/500\n",
            "36/36 [==============================] - 0s 7ms/step - loss: 16130156544.0000\n",
            "Epoch 30/500\n",
            "36/36 [==============================] - 0s 4ms/step - loss: 16059444224.0000\n",
            "Epoch 31/500\n",
            "36/36 [==============================] - 0s 3ms/step - loss: 16105668608.0000\n",
            "Epoch 32/500\n",
            "36/36 [==============================] - 0s 4ms/step - loss: 15966058496.0000\n",
            "Epoch 33/500\n",
            "36/36 [==============================] - 0s 3ms/step - loss: 15925437440.0000\n",
            "Epoch 34/500\n",
            "36/36 [==============================] - 0s 3ms/step - loss: 15873930240.0000\n",
            "Epoch 35/500\n",
            "36/36 [==============================] - 0s 4ms/step - loss: 15799484416.0000\n",
            "Epoch 36/500\n",
            "36/36 [==============================] - 0s 12ms/step - loss: 15758013440.0000\n",
            "Epoch 37/500\n",
            "36/36 [==============================] - 0s 11ms/step - loss: 15751133184.0000\n",
            "Epoch 38/500\n",
            "36/36 [==============================] - 0s 12ms/step - loss: 15663373312.0000\n",
            "Epoch 39/500\n",
            "36/36 [==============================] - 0s 6ms/step - loss: 15620375552.0000\n",
            "Epoch 40/500\n",
            "36/36 [==============================] - 0s 5ms/step - loss: 15634526208.0000\n",
            "Epoch 41/500\n",
            "36/36 [==============================] - 0s 4ms/step - loss: 15582017536.0000\n",
            "Epoch 42/500\n",
            "36/36 [==============================] - 0s 4ms/step - loss: 15490290688.0000\n",
            "Epoch 43/500\n",
            "36/36 [==============================] - 0s 6ms/step - loss: 15524491264.0000\n",
            "Epoch 44/500\n",
            "36/36 [==============================] - 0s 7ms/step - loss: 15449973760.0000\n",
            "Epoch 45/500\n",
            "36/36 [==============================] - 0s 8ms/step - loss: 15378720768.0000\n",
            "Epoch 46/500\n",
            "36/36 [==============================] - 0s 7ms/step - loss: 15366651904.0000\n",
            "Epoch 47/500\n",
            "36/36 [==============================] - 0s 8ms/step - loss: 15334991872.0000\n",
            "Epoch 48/500\n",
            "36/36 [==============================] - 0s 9ms/step - loss: 15263626240.0000\n",
            "Epoch 49/500\n",
            "36/36 [==============================] - 0s 7ms/step - loss: 15225517056.0000\n",
            "Epoch 50/500\n",
            "36/36 [==============================] - 0s 8ms/step - loss: 15185952768.0000\n",
            "Epoch 51/500\n",
            "36/36 [==============================] - 0s 10ms/step - loss: 15174611968.0000\n",
            "Epoch 52/500\n",
            "36/36 [==============================] - 0s 6ms/step - loss: 15126614016.0000\n",
            "Epoch 53/500\n",
            "36/36 [==============================] - 0s 6ms/step - loss: 15090859008.0000\n",
            "Epoch 54/500\n",
            "36/36 [==============================] - 0s 6ms/step - loss: 15042996224.0000\n",
            "Epoch 55/500\n",
            "36/36 [==============================] - 0s 6ms/step - loss: 15044323328.0000\n",
            "Epoch 56/500\n",
            "36/36 [==============================] - 0s 5ms/step - loss: 14970745856.0000\n",
            "Epoch 57/500\n",
            "36/36 [==============================] - 0s 7ms/step - loss: 14950921216.0000\n",
            "Epoch 58/500\n",
            "36/36 [==============================] - 0s 7ms/step - loss: 14898007040.0000\n",
            "Epoch 59/500\n",
            "36/36 [==============================] - 0s 5ms/step - loss: 14880406528.0000\n",
            "Epoch 60/500\n",
            "36/36 [==============================] - 0s 4ms/step - loss: 14820717568.0000\n",
            "Epoch 61/500\n",
            "36/36 [==============================] - 0s 5ms/step - loss: 14803989504.0000\n",
            "Epoch 62/500\n",
            "36/36 [==============================] - 0s 5ms/step - loss: 14763071488.0000\n",
            "Epoch 63/500\n",
            "36/36 [==============================] - 0s 6ms/step - loss: 14718080000.0000\n",
            "Epoch 64/500\n",
            "36/36 [==============================] - 0s 5ms/step - loss: 14700611584.0000\n",
            "Epoch 65/500\n",
            "36/36 [==============================] - 0s 8ms/step - loss: 14670503936.0000\n",
            "Epoch 66/500\n",
            "36/36 [==============================] - 0s 4ms/step - loss: 14630414336.0000\n",
            "Epoch 67/500\n",
            "36/36 [==============================] - 0s 4ms/step - loss: 14567241728.0000\n",
            "Epoch 68/500\n",
            "36/36 [==============================] - 0s 5ms/step - loss: 14560491520.0000\n",
            "Epoch 69/500\n",
            "36/36 [==============================] - 0s 5ms/step - loss: 14580824064.0000\n",
            "Epoch 70/500\n",
            "36/36 [==============================] - 0s 6ms/step - loss: 14466117632.0000\n",
            "Epoch 71/500\n",
            "36/36 [==============================] - 0s 5ms/step - loss: 14451032064.0000\n",
            "Epoch 72/500\n",
            "36/36 [==============================] - 0s 6ms/step - loss: 14407801856.0000\n",
            "Epoch 73/500\n",
            "36/36 [==============================] - 0s 4ms/step - loss: 14386023424.0000\n",
            "Epoch 74/500\n",
            "36/36 [==============================] - 0s 5ms/step - loss: 14331949056.0000\n",
            "Epoch 75/500\n",
            "36/36 [==============================] - 0s 5ms/step - loss: 14289953792.0000\n",
            "Epoch 76/500\n",
            "36/36 [==============================] - 0s 4ms/step - loss: 14285388800.0000\n",
            "Epoch 77/500\n",
            "36/36 [==============================] - 0s 8ms/step - loss: 14228752384.0000\n",
            "Epoch 78/500\n",
            "36/36 [==============================] - 0s 6ms/step - loss: 14201294848.0000\n",
            "Epoch 79/500\n",
            "36/36 [==============================] - 0s 5ms/step - loss: 14178046976.0000\n",
            "Epoch 80/500\n",
            "36/36 [==============================] - 0s 4ms/step - loss: 14148694016.0000\n",
            "Epoch 81/500\n",
            "36/36 [==============================] - 0s 3ms/step - loss: 14094810112.0000\n",
            "Epoch 82/500\n",
            "36/36 [==============================] - 0s 2ms/step - loss: 14057068544.0000\n",
            "Epoch 83/500\n",
            "36/36 [==============================] - 0s 2ms/step - loss: 14027242496.0000\n",
            "Epoch 84/500\n",
            "36/36 [==============================] - 0s 2ms/step - loss: 13997596672.0000\n",
            "Epoch 85/500\n",
            "36/36 [==============================] - 0s 2ms/step - loss: 13953954816.0000\n",
            "Epoch 86/500\n",
            "36/36 [==============================] - 0s 2ms/step - loss: 13952373760.0000\n",
            "Epoch 87/500\n",
            "36/36 [==============================] - 0s 2ms/step - loss: 13910647808.0000\n",
            "Epoch 88/500\n",
            "36/36 [==============================] - 0s 2ms/step - loss: 13913963520.0000\n",
            "Epoch 89/500\n",
            "36/36 [==============================] - 0s 2ms/step - loss: 13812440064.0000\n",
            "Epoch 90/500\n",
            "36/36 [==============================] - 0s 2ms/step - loss: 13780586496.0000\n",
            "Epoch 91/500\n",
            "36/36 [==============================] - 0s 2ms/step - loss: 13766128640.0000\n",
            "Epoch 92/500\n",
            "36/36 [==============================] - 0s 2ms/step - loss: 13712530432.0000\n",
            "Epoch 93/500\n",
            "36/36 [==============================] - 0s 2ms/step - loss: 13676101632.0000\n",
            "Epoch 94/500\n",
            "36/36 [==============================] - 0s 2ms/step - loss: 13665959936.0000\n",
            "Epoch 95/500\n",
            "36/36 [==============================] - 0s 2ms/step - loss: 13605899264.0000\n",
            "Epoch 96/500\n",
            "36/36 [==============================] - 0s 2ms/step - loss: 13573092352.0000\n",
            "Epoch 97/500\n",
            "36/36 [==============================] - 0s 2ms/step - loss: 13541082112.0000\n",
            "Epoch 98/500\n",
            "36/36 [==============================] - 0s 2ms/step - loss: 13509682176.0000\n",
            "Epoch 99/500\n",
            "36/36 [==============================] - 0s 3ms/step - loss: 13483746304.0000\n",
            "Epoch 100/500\n",
            "36/36 [==============================] - 0s 2ms/step - loss: 13462868992.0000\n",
            "Epoch 101/500\n",
            "36/36 [==============================] - 0s 3ms/step - loss: 13419656192.0000\n",
            "Epoch 102/500\n",
            "36/36 [==============================] - 0s 3ms/step - loss: 13377992704.0000\n",
            "Epoch 103/500\n",
            "36/36 [==============================] - 0s 3ms/step - loss: 13358546944.0000\n",
            "Epoch 104/500\n",
            "36/36 [==============================] - 0s 2ms/step - loss: 13324794880.0000\n",
            "Epoch 105/500\n",
            "36/36 [==============================] - 0s 3ms/step - loss: 13281086464.0000\n",
            "Epoch 106/500\n",
            "36/36 [==============================] - 0s 2ms/step - loss: 13249765376.0000\n",
            "Epoch 107/500\n",
            "36/36 [==============================] - 0s 2ms/step - loss: 13213731840.0000\n",
            "Epoch 108/500\n",
            "36/36 [==============================] - 0s 2ms/step - loss: 13191471104.0000\n",
            "Epoch 109/500\n",
            "36/36 [==============================] - 0s 3ms/step - loss: 13153282048.0000\n",
            "Epoch 110/500\n",
            "36/36 [==============================] - 0s 2ms/step - loss: 13123038208.0000\n",
            "Epoch 111/500\n",
            "36/36 [==============================] - 0s 2ms/step - loss: 13080016896.0000\n",
            "Epoch 112/500\n",
            "36/36 [==============================] - 0s 3ms/step - loss: 13058554880.0000\n",
            "Epoch 113/500\n",
            "36/36 [==============================] - 0s 2ms/step - loss: 13020884992.0000\n",
            "Epoch 114/500\n",
            "36/36 [==============================] - 0s 2ms/step - loss: 13030139904.0000\n",
            "Epoch 115/500\n",
            "36/36 [==============================] - 0s 2ms/step - loss: 12970056704.0000\n",
            "Epoch 116/500\n",
            "36/36 [==============================] - 0s 2ms/step - loss: 12968921088.0000\n",
            "Epoch 117/500\n",
            "36/36 [==============================] - 0s 3ms/step - loss: 12894848000.0000\n",
            "Epoch 118/500\n",
            "36/36 [==============================] - 0s 2ms/step - loss: 12858858496.0000\n",
            "Epoch 119/500\n",
            "36/36 [==============================] - 0s 2ms/step - loss: 12857911296.0000\n",
            "Epoch 120/500\n",
            "36/36 [==============================] - 0s 2ms/step - loss: 12811944960.0000\n",
            "Epoch 121/500\n",
            "36/36 [==============================] - 0s 2ms/step - loss: 12753575936.0000\n",
            "Epoch 122/500\n",
            "36/36 [==============================] - 0s 2ms/step - loss: 12753786880.0000\n",
            "Epoch 123/500\n",
            "36/36 [==============================] - 0s 3ms/step - loss: 12695724032.0000\n",
            "Epoch 124/500\n",
            "36/36 [==============================] - 0s 2ms/step - loss: 12698294272.0000\n",
            "Epoch 125/500\n",
            "36/36 [==============================] - 0s 2ms/step - loss: 12635233280.0000\n",
            "Epoch 126/500\n",
            "36/36 [==============================] - 0s 2ms/step - loss: 12601736192.0000\n",
            "Epoch 127/500\n",
            "36/36 [==============================] - 0s 2ms/step - loss: 12573333504.0000\n",
            "Epoch 128/500\n",
            "36/36 [==============================] - 0s 2ms/step - loss: 12545103872.0000\n",
            "Epoch 129/500\n",
            "36/36 [==============================] - 0s 2ms/step - loss: 12518348800.0000\n",
            "Epoch 130/500\n",
            "36/36 [==============================] - 0s 2ms/step - loss: 12476597248.0000\n",
            "Epoch 131/500\n",
            "36/36 [==============================] - 0s 2ms/step - loss: 12482075648.0000\n",
            "Epoch 132/500\n",
            "36/36 [==============================] - 0s 2ms/step - loss: 12393492480.0000\n",
            "Epoch 133/500\n",
            "36/36 [==============================] - 0s 2ms/step - loss: 12432658432.0000\n",
            "Epoch 134/500\n",
            "36/36 [==============================] - 0s 2ms/step - loss: 12355222528.0000\n",
            "Epoch 135/500\n",
            "36/36 [==============================] - 0s 2ms/step - loss: 12311147520.0000\n",
            "Epoch 136/500\n",
            "36/36 [==============================] - 0s 2ms/step - loss: 12276296704.0000\n",
            "Epoch 137/500\n",
            "36/36 [==============================] - 0s 2ms/step - loss: 12245620736.0000\n",
            "Epoch 138/500\n",
            "36/36 [==============================] - 0s 2ms/step - loss: 12213060608.0000\n",
            "Epoch 139/500\n",
            "36/36 [==============================] - 0s 2ms/step - loss: 12173957120.0000\n",
            "Epoch 140/500\n",
            "36/36 [==============================] - 0s 2ms/step - loss: 12148088832.0000\n",
            "Epoch 141/500\n",
            "36/36 [==============================] - 0s 2ms/step - loss: 12126845952.0000\n",
            "Epoch 142/500\n",
            "36/36 [==============================] - 0s 2ms/step - loss: 12080603136.0000\n",
            "Epoch 143/500\n",
            "36/36 [==============================] - 0s 2ms/step - loss: 12050263040.0000\n",
            "Epoch 144/500\n",
            "36/36 [==============================] - 0s 4ms/step - loss: 12048942080.0000\n",
            "Epoch 145/500\n",
            "36/36 [==============================] - 0s 4ms/step - loss: 11984289792.0000\n",
            "Epoch 146/500\n",
            "36/36 [==============================] - 0s 3ms/step - loss: 11964063744.0000\n",
            "Epoch 147/500\n",
            "36/36 [==============================] - 0s 3ms/step - loss: 11916925952.0000\n",
            "Epoch 148/500\n",
            "36/36 [==============================] - 0s 3ms/step - loss: 11890726912.0000\n",
            "Epoch 149/500\n",
            "36/36 [==============================] - 0s 3ms/step - loss: 11871204352.0000\n",
            "Epoch 150/500\n",
            "36/36 [==============================] - 0s 3ms/step - loss: 11822569472.0000\n",
            "Epoch 151/500\n",
            "36/36 [==============================] - 0s 3ms/step - loss: 11813422080.0000\n",
            "Epoch 152/500\n",
            "36/36 [==============================] - 0s 3ms/step - loss: 11796915200.0000\n",
            "Epoch 153/500\n",
            "36/36 [==============================] - 0s 3ms/step - loss: 11755620352.0000\n",
            "Epoch 154/500\n",
            "36/36 [==============================] - 0s 4ms/step - loss: 11696589824.0000\n",
            "Epoch 155/500\n",
            "36/36 [==============================] - 0s 4ms/step - loss: 11675913216.0000\n",
            "Epoch 156/500\n",
            "36/36 [==============================] - 0s 3ms/step - loss: 11664385024.0000\n",
            "Epoch 157/500\n",
            "36/36 [==============================] - 0s 3ms/step - loss: 11603134464.0000\n",
            "Epoch 158/500\n",
            "36/36 [==============================] - 0s 3ms/step - loss: 11577217024.0000\n",
            "Epoch 159/500\n",
            "36/36 [==============================] - 0s 3ms/step - loss: 11527537664.0000\n",
            "Epoch 160/500\n",
            "36/36 [==============================] - 0s 3ms/step - loss: 11500923904.0000\n",
            "Epoch 161/500\n",
            "36/36 [==============================] - 0s 4ms/step - loss: 11487803392.0000\n",
            "Epoch 162/500\n",
            "36/36 [==============================] - 0s 4ms/step - loss: 11450357760.0000\n",
            "Epoch 163/500\n",
            "36/36 [==============================] - 0s 4ms/step - loss: 11412517888.0000\n",
            "Epoch 164/500\n",
            "36/36 [==============================] - 0s 4ms/step - loss: 11378393088.0000\n",
            "Epoch 165/500\n",
            "36/36 [==============================] - 0s 3ms/step - loss: 11356295168.0000\n",
            "Epoch 166/500\n",
            "36/36 [==============================] - 0s 4ms/step - loss: 11335498752.0000\n",
            "Epoch 167/500\n",
            "36/36 [==============================] - 0s 3ms/step - loss: 11322678272.0000\n",
            "Epoch 168/500\n",
            "36/36 [==============================] - 0s 4ms/step - loss: 11254057984.0000\n",
            "Epoch 169/500\n",
            "36/36 [==============================] - 0s 3ms/step - loss: 11233297408.0000\n",
            "Epoch 170/500\n",
            "36/36 [==============================] - 0s 4ms/step - loss: 11194562560.0000\n",
            "Epoch 171/500\n",
            "36/36 [==============================] - 0s 3ms/step - loss: 11168090112.0000\n",
            "Epoch 172/500\n",
            "36/36 [==============================] - 0s 3ms/step - loss: 11102974976.0000\n",
            "Epoch 173/500\n",
            "36/36 [==============================] - 0s 3ms/step - loss: 11104129024.0000\n",
            "Epoch 174/500\n",
            "36/36 [==============================] - 0s 3ms/step - loss: 11068405760.0000\n",
            "Epoch 175/500\n",
            "36/36 [==============================] - 0s 3ms/step - loss: 11043202048.0000\n",
            "Epoch 176/500\n",
            "36/36 [==============================] - 0s 3ms/step - loss: 11026071552.0000\n",
            "Epoch 177/500\n",
            "36/36 [==============================] - 0s 4ms/step - loss: 10989908992.0000\n",
            "Epoch 178/500\n",
            "36/36 [==============================] - 0s 4ms/step - loss: 10937920512.0000\n",
            "Epoch 179/500\n",
            "36/36 [==============================] - 0s 4ms/step - loss: 10904452096.0000\n",
            "Epoch 180/500\n",
            "36/36 [==============================] - 0s 5ms/step - loss: 10866154496.0000\n",
            "Epoch 181/500\n",
            "36/36 [==============================] - 0s 4ms/step - loss: 10862155776.0000\n",
            "Epoch 182/500\n",
            "36/36 [==============================] - 0s 4ms/step - loss: 10813272064.0000\n",
            "Epoch 183/500\n",
            "36/36 [==============================] - 0s 3ms/step - loss: 10790012928.0000\n",
            "Epoch 184/500\n",
            "36/36 [==============================] - 0s 4ms/step - loss: 10766512128.0000\n",
            "Epoch 185/500\n",
            "36/36 [==============================] - 0s 4ms/step - loss: 10728378368.0000\n",
            "Epoch 186/500\n",
            "36/36 [==============================] - 0s 3ms/step - loss: 10702154752.0000\n",
            "Epoch 187/500\n",
            "36/36 [==============================] - 0s 3ms/step - loss: 10652471296.0000\n",
            "Epoch 188/500\n",
            "36/36 [==============================] - 0s 4ms/step - loss: 10648887296.0000\n",
            "Epoch 189/500\n",
            "36/36 [==============================] - 0s 4ms/step - loss: 10598009856.0000\n",
            "Epoch 190/500\n",
            "36/36 [==============================] - 0s 4ms/step - loss: 10568173568.0000\n",
            "Epoch 191/500\n",
            "36/36 [==============================] - 0s 4ms/step - loss: 10526755840.0000\n",
            "Epoch 192/500\n",
            "36/36 [==============================] - 0s 4ms/step - loss: 10512891904.0000\n",
            "Epoch 193/500\n",
            "36/36 [==============================] - 0s 4ms/step - loss: 10477606912.0000\n",
            "Epoch 194/500\n",
            "36/36 [==============================] - 0s 4ms/step - loss: 10441567232.0000\n",
            "Epoch 195/500\n",
            "36/36 [==============================] - 0s 4ms/step - loss: 10420442112.0000\n",
            "Epoch 196/500\n",
            "36/36 [==============================] - 0s 4ms/step - loss: 10378294272.0000\n",
            "Epoch 197/500\n",
            "36/36 [==============================] - 0s 4ms/step - loss: 10380268544.0000\n",
            "Epoch 198/500\n",
            "36/36 [==============================] - 0s 4ms/step - loss: 10327278592.0000\n",
            "Epoch 199/500\n",
            "36/36 [==============================] - 0s 4ms/step - loss: 10303954944.0000\n",
            "Epoch 200/500\n",
            "36/36 [==============================] - 0s 5ms/step - loss: 10273742848.0000\n",
            "Epoch 201/500\n",
            "36/36 [==============================] - 0s 4ms/step - loss: 10252071936.0000\n",
            "Epoch 202/500\n",
            "36/36 [==============================] - 0s 4ms/step - loss: 10211336192.0000\n",
            "Epoch 203/500\n",
            "36/36 [==============================] - 0s 2ms/step - loss: 10186145792.0000\n",
            "Epoch 204/500\n",
            "36/36 [==============================] - 0s 3ms/step - loss: 10163028992.0000\n",
            "Epoch 205/500\n",
            "36/36 [==============================] - 0s 3ms/step - loss: 10127466496.0000\n",
            "Epoch 206/500\n",
            "36/36 [==============================] - 0s 3ms/step - loss: 10093698048.0000\n",
            "Epoch 207/500\n",
            "36/36 [==============================] - 0s 2ms/step - loss: 10080531456.0000\n",
            "Epoch 208/500\n",
            "36/36 [==============================] - 0s 2ms/step - loss: 10034129920.0000\n",
            "Epoch 209/500\n",
            "36/36 [==============================] - 0s 2ms/step - loss: 10002755584.0000\n",
            "Epoch 210/500\n",
            "36/36 [==============================] - 0s 2ms/step - loss: 9973044224.0000\n",
            "Epoch 211/500\n",
            "36/36 [==============================] - 0s 2ms/step - loss: 9962086400.0000\n",
            "Epoch 212/500\n",
            "36/36 [==============================] - 0s 2ms/step - loss: 9919025152.0000\n",
            "Epoch 213/500\n",
            "36/36 [==============================] - 0s 3ms/step - loss: 9883514880.0000\n",
            "Epoch 214/500\n",
            "36/36 [==============================] - 0s 3ms/step - loss: 9877221376.0000\n",
            "Epoch 215/500\n",
            "36/36 [==============================] - 0s 2ms/step - loss: 9842294784.0000\n",
            "Epoch 216/500\n",
            "36/36 [==============================] - 0s 3ms/step - loss: 9797245952.0000\n",
            "Epoch 217/500\n",
            "36/36 [==============================] - 0s 3ms/step - loss: 9784887296.0000\n",
            "Epoch 218/500\n",
            "36/36 [==============================] - 0s 2ms/step - loss: 9752923136.0000\n",
            "Epoch 219/500\n",
            "36/36 [==============================] - 0s 2ms/step - loss: 9714681856.0000\n",
            "Epoch 220/500\n",
            "36/36 [==============================] - 0s 2ms/step - loss: 9696087040.0000\n",
            "Epoch 221/500\n",
            "36/36 [==============================] - 0s 2ms/step - loss: 9665548288.0000\n",
            "Epoch 222/500\n",
            "36/36 [==============================] - 0s 2ms/step - loss: 9647404032.0000\n",
            "Epoch 223/500\n",
            "36/36 [==============================] - 0s 3ms/step - loss: 9608548352.0000\n",
            "Epoch 224/500\n",
            "36/36 [==============================] - 0s 3ms/step - loss: 9586848768.0000\n",
            "Epoch 225/500\n",
            "36/36 [==============================] - 0s 3ms/step - loss: 9545489408.0000\n",
            "Epoch 226/500\n",
            "36/36 [==============================] - 0s 3ms/step - loss: 9524051968.0000\n",
            "Epoch 227/500\n",
            "36/36 [==============================] - 0s 2ms/step - loss: 9484459008.0000\n",
            "Epoch 228/500\n",
            "36/36 [==============================] - 0s 2ms/step - loss: 9453641728.0000\n",
            "Epoch 229/500\n",
            "36/36 [==============================] - 0s 2ms/step - loss: 9428945920.0000\n",
            "Epoch 230/500\n",
            "36/36 [==============================] - 0s 2ms/step - loss: 9402336256.0000\n",
            "Epoch 231/500\n",
            "36/36 [==============================] - 0s 2ms/step - loss: 9376513024.0000\n",
            "Epoch 232/500\n",
            "36/36 [==============================] - 0s 2ms/step - loss: 9348763648.0000\n",
            "Epoch 233/500\n",
            "36/36 [==============================] - 0s 2ms/step - loss: 9310066688.0000\n",
            "Epoch 234/500\n",
            "36/36 [==============================] - 0s 2ms/step - loss: 9292164096.0000\n",
            "Epoch 235/500\n",
            "36/36 [==============================] - 0s 2ms/step - loss: 9268875264.0000\n",
            "Epoch 236/500\n",
            "36/36 [==============================] - 0s 2ms/step - loss: 9231889408.0000\n",
            "Epoch 237/500\n",
            "36/36 [==============================] - 0s 2ms/step - loss: 9218895872.0000\n",
            "Epoch 238/500\n",
            "36/36 [==============================] - 0s 2ms/step - loss: 9175612416.0000\n",
            "Epoch 239/500\n",
            "36/36 [==============================] - 0s 2ms/step - loss: 9156170752.0000\n",
            "Epoch 240/500\n",
            "36/36 [==============================] - 0s 3ms/step - loss: 9127525376.0000\n",
            "Epoch 241/500\n",
            "36/36 [==============================] - 0s 2ms/step - loss: 9091866624.0000\n",
            "Epoch 242/500\n",
            "36/36 [==============================] - 0s 2ms/step - loss: 9065123840.0000\n",
            "Epoch 243/500\n",
            "36/36 [==============================] - 0s 2ms/step - loss: 9040571392.0000\n",
            "Epoch 244/500\n",
            "36/36 [==============================] - 0s 2ms/step - loss: 9017113600.0000\n",
            "Epoch 245/500\n",
            "36/36 [==============================] - 0s 2ms/step - loss: 8988368896.0000\n",
            "Epoch 246/500\n",
            "36/36 [==============================] - 0s 2ms/step - loss: 8968867840.0000\n",
            "Epoch 247/500\n",
            "36/36 [==============================] - 0s 2ms/step - loss: 8930692096.0000\n",
            "Epoch 248/500\n",
            "36/36 [==============================] - 0s 2ms/step - loss: 8904287232.0000\n",
            "Epoch 249/500\n",
            "36/36 [==============================] - 0s 3ms/step - loss: 8912613376.0000\n",
            "Epoch 250/500\n",
            "36/36 [==============================] - 0s 3ms/step - loss: 8850252800.0000\n",
            "Epoch 251/500\n",
            "36/36 [==============================] - 0s 2ms/step - loss: 8816850944.0000\n",
            "Epoch 252/500\n",
            "36/36 [==============================] - 0s 3ms/step - loss: 8791723008.0000\n",
            "Epoch 253/500\n",
            "36/36 [==============================] - 0s 2ms/step - loss: 8770807808.0000\n",
            "Epoch 254/500\n",
            "36/36 [==============================] - 0s 2ms/step - loss: 8758621184.0000\n",
            "Epoch 255/500\n",
            "36/36 [==============================] - 0s 2ms/step - loss: 8715851776.0000\n",
            "Epoch 256/500\n",
            "36/36 [==============================] - 0s 3ms/step - loss: 8713142272.0000\n",
            "Epoch 257/500\n",
            "36/36 [==============================] - 0s 2ms/step - loss: 8661669888.0000\n",
            "Epoch 258/500\n",
            "36/36 [==============================] - 0s 2ms/step - loss: 8640070656.0000\n",
            "Epoch 259/500\n",
            "36/36 [==============================] - 0s 2ms/step - loss: 8620593152.0000\n",
            "Epoch 260/500\n",
            "36/36 [==============================] - 0s 3ms/step - loss: 8613233664.0000\n",
            "Epoch 261/500\n",
            "36/36 [==============================] - 0s 2ms/step - loss: 8569702400.0000\n",
            "Epoch 262/500\n",
            "36/36 [==============================] - 0s 2ms/step - loss: 8558669312.0000\n",
            "Epoch 263/500\n",
            "36/36 [==============================] - 0s 3ms/step - loss: 8517598720.0000\n",
            "Epoch 264/500\n",
            "36/36 [==============================] - 0s 3ms/step - loss: 8507217920.0000\n",
            "Epoch 265/500\n",
            "36/36 [==============================] - 0s 2ms/step - loss: 8480630272.0000\n",
            "Epoch 266/500\n",
            "36/36 [==============================] - 0s 3ms/step - loss: 8446914048.0000\n",
            "Epoch 267/500\n",
            "36/36 [==============================] - 0s 3ms/step - loss: 8442437632.0000\n",
            "Epoch 268/500\n",
            "36/36 [==============================] - 0s 3ms/step - loss: 8407963648.0000\n",
            "Epoch 269/500\n",
            "36/36 [==============================] - 0s 2ms/step - loss: 8393200640.0000\n",
            "Epoch 270/500\n",
            "36/36 [==============================] - 0s 2ms/step - loss: 8348733440.0000\n",
            "Epoch 271/500\n",
            "36/36 [==============================] - 0s 3ms/step - loss: 8319283200.0000\n",
            "Epoch 272/500\n",
            "36/36 [==============================] - 0s 2ms/step - loss: 8303114240.0000\n",
            "Epoch 273/500\n",
            "36/36 [==============================] - 0s 2ms/step - loss: 8276578304.0000\n",
            "Epoch 274/500\n",
            "36/36 [==============================] - 0s 3ms/step - loss: 8251247104.0000\n",
            "Epoch 275/500\n",
            "36/36 [==============================] - 0s 2ms/step - loss: 8230730752.0000\n",
            "Epoch 276/500\n",
            "36/36 [==============================] - 0s 3ms/step - loss: 8213575680.0000\n",
            "Epoch 277/500\n",
            "36/36 [==============================] - 0s 2ms/step - loss: 8186868224.0000\n",
            "Epoch 278/500\n",
            "36/36 [==============================] - 0s 2ms/step - loss: 8159212032.0000\n",
            "Epoch 279/500\n",
            "36/36 [==============================] - 0s 2ms/step - loss: 8154267648.0000\n",
            "Epoch 280/500\n",
            "36/36 [==============================] - 0s 2ms/step - loss: 8131601920.0000\n",
            "Epoch 281/500\n",
            "36/36 [==============================] - 0s 2ms/step - loss: 8100037632.0000\n",
            "Epoch 282/500\n",
            "36/36 [==============================] - 0s 2ms/step - loss: 8086931968.0000\n",
            "Epoch 283/500\n",
            "36/36 [==============================] - 0s 2ms/step - loss: 8070552576.0000\n",
            "Epoch 284/500\n",
            "36/36 [==============================] - 0s 3ms/step - loss: 8032953856.0000\n",
            "Epoch 285/500\n",
            "36/36 [==============================] - 0s 3ms/step - loss: 8010189312.0000\n",
            "Epoch 286/500\n",
            "36/36 [==============================] - 0s 2ms/step - loss: 7988530176.0000\n",
            "Epoch 287/500\n",
            "36/36 [==============================] - 0s 3ms/step - loss: 7969947648.0000\n",
            "Epoch 288/500\n",
            "36/36 [==============================] - 0s 2ms/step - loss: 7955030528.0000\n",
            "Epoch 289/500\n",
            "36/36 [==============================] - 0s 2ms/step - loss: 7927059968.0000\n",
            "Epoch 290/500\n",
            "36/36 [==============================] - 0s 2ms/step - loss: 7905729024.0000\n",
            "Epoch 291/500\n",
            "36/36 [==============================] - 0s 2ms/step - loss: 7881484288.0000\n",
            "Epoch 292/500\n",
            "36/36 [==============================] - 0s 2ms/step - loss: 7860193280.0000\n",
            "Epoch 293/500\n",
            "36/36 [==============================] - 0s 3ms/step - loss: 7851697152.0000\n",
            "Epoch 294/500\n",
            "36/36 [==============================] - 0s 3ms/step - loss: 7816507904.0000\n",
            "Epoch 295/500\n",
            "36/36 [==============================] - 0s 3ms/step - loss: 7810750464.0000\n",
            "Epoch 296/500\n",
            "36/36 [==============================] - 0s 4ms/step - loss: 7791186944.0000\n",
            "Epoch 297/500\n",
            "36/36 [==============================] - 0s 4ms/step - loss: 7763630080.0000\n",
            "Epoch 298/500\n",
            "36/36 [==============================] - 0s 4ms/step - loss: 7745527808.0000\n",
            "Epoch 299/500\n",
            "36/36 [==============================] - 0s 4ms/step - loss: 7721478656.0000\n",
            "Epoch 300/500\n",
            "36/36 [==============================] - 0s 4ms/step - loss: 7704881664.0000\n",
            "Epoch 301/500\n",
            "36/36 [==============================] - 0s 3ms/step - loss: 7686137856.0000\n",
            "Epoch 302/500\n",
            "36/36 [==============================] - 0s 3ms/step - loss: 7665326080.0000\n",
            "Epoch 303/500\n",
            "36/36 [==============================] - 0s 3ms/step - loss: 7666445312.0000\n",
            "Epoch 304/500\n",
            "36/36 [==============================] - 0s 3ms/step - loss: 7636320768.0000\n",
            "Epoch 305/500\n",
            "36/36 [==============================] - 0s 3ms/step - loss: 7617223168.0000\n",
            "Epoch 306/500\n",
            "36/36 [==============================] - 0s 4ms/step - loss: 7603897344.0000\n",
            "Epoch 307/500\n",
            "36/36 [==============================] - 0s 4ms/step - loss: 7614192128.0000\n",
            "Epoch 308/500\n",
            "36/36 [==============================] - 0s 4ms/step - loss: 7565713408.0000\n",
            "Epoch 309/500\n",
            "36/36 [==============================] - 0s 4ms/step - loss: 7547207168.0000\n",
            "Epoch 310/500\n",
            "36/36 [==============================] - 0s 4ms/step - loss: 7528400896.0000\n",
            "Epoch 311/500\n",
            "36/36 [==============================] - 0s 3ms/step - loss: 7514022912.0000\n",
            "Epoch 312/500\n",
            "36/36 [==============================] - 0s 3ms/step - loss: 7500407808.0000\n",
            "Epoch 313/500\n",
            "36/36 [==============================] - 0s 3ms/step - loss: 7488462848.0000\n",
            "Epoch 314/500\n",
            "36/36 [==============================] - 0s 4ms/step - loss: 7465565696.0000\n",
            "Epoch 315/500\n",
            "36/36 [==============================] - 0s 3ms/step - loss: 7450718208.0000\n",
            "Epoch 316/500\n",
            "36/36 [==============================] - 0s 3ms/step - loss: 7436028928.0000\n",
            "Epoch 317/500\n",
            "36/36 [==============================] - 0s 3ms/step - loss: 7429752832.0000\n",
            "Epoch 318/500\n",
            "36/36 [==============================] - 0s 4ms/step - loss: 7404231168.0000\n",
            "Epoch 319/500\n",
            "36/36 [==============================] - 0s 4ms/step - loss: 7394354688.0000\n",
            "Epoch 320/500\n",
            "36/36 [==============================] - 0s 4ms/step - loss: 7382231552.0000\n",
            "Epoch 321/500\n",
            "36/36 [==============================] - 0s 4ms/step - loss: 7364241408.0000\n",
            "Epoch 322/500\n",
            "36/36 [==============================] - 0s 4ms/step - loss: 7341349888.0000\n",
            "Epoch 323/500\n",
            "36/36 [==============================] - 0s 3ms/step - loss: 7342635520.0000\n",
            "Epoch 324/500\n",
            "36/36 [==============================] - 0s 3ms/step - loss: 7324921344.0000\n",
            "Epoch 325/500\n",
            "36/36 [==============================] - 0s 3ms/step - loss: 7325765632.0000\n",
            "Epoch 326/500\n",
            "36/36 [==============================] - 0s 3ms/step - loss: 7297803264.0000\n",
            "Epoch 327/500\n",
            "36/36 [==============================] - 0s 2ms/step - loss: 7280001024.0000\n",
            "Epoch 328/500\n",
            "36/36 [==============================] - 0s 3ms/step - loss: 7282860544.0000\n",
            "Epoch 329/500\n",
            "36/36 [==============================] - 0s 3ms/step - loss: 7260074496.0000\n",
            "Epoch 330/500\n",
            "36/36 [==============================] - 0s 2ms/step - loss: 7239965184.0000\n",
            "Epoch 331/500\n",
            "36/36 [==============================] - 0s 3ms/step - loss: 7234899968.0000\n",
            "Epoch 332/500\n",
            "36/36 [==============================] - 0s 2ms/step - loss: 7220293120.0000\n",
            "Epoch 333/500\n",
            "36/36 [==============================] - 0s 3ms/step - loss: 7227597312.0000\n",
            "Epoch 334/500\n",
            "36/36 [==============================] - 0s 2ms/step - loss: 7197611520.0000\n",
            "Epoch 335/500\n",
            "36/36 [==============================] - 0s 2ms/step - loss: 7198237184.0000\n",
            "Epoch 336/500\n",
            "36/36 [==============================] - 0s 2ms/step - loss: 7176209920.0000\n",
            "Epoch 337/500\n",
            "36/36 [==============================] - 0s 3ms/step - loss: 7166801920.0000\n",
            "Epoch 338/500\n",
            "36/36 [==============================] - 0s 2ms/step - loss: 7172014080.0000\n",
            "Epoch 339/500\n",
            "36/36 [==============================] - 0s 3ms/step - loss: 7152369664.0000\n",
            "Epoch 340/500\n",
            "36/36 [==============================] - 0s 3ms/step - loss: 7142243840.0000\n",
            "Epoch 341/500\n",
            "36/36 [==============================] - 0s 3ms/step - loss: 7123902976.0000\n",
            "Epoch 342/500\n",
            "36/36 [==============================] - 0s 3ms/step - loss: 7120817152.0000\n",
            "Epoch 343/500\n",
            "36/36 [==============================] - 0s 3ms/step - loss: 7125595648.0000\n",
            "Epoch 344/500\n",
            "36/36 [==============================] - 0s 2ms/step - loss: 7098777600.0000\n",
            "Epoch 345/500\n",
            "36/36 [==============================] - 0s 2ms/step - loss: 7085726208.0000\n",
            "Epoch 346/500\n",
            "36/36 [==============================] - 0s 2ms/step - loss: 7077866496.0000\n",
            "Epoch 347/500\n",
            "36/36 [==============================] - 0s 2ms/step - loss: 7077804032.0000\n",
            "Epoch 348/500\n",
            "36/36 [==============================] - 0s 3ms/step - loss: 7073639936.0000\n",
            "Epoch 349/500\n",
            "36/36 [==============================] - 0s 2ms/step - loss: 7063790592.0000\n",
            "Epoch 350/500\n",
            "36/36 [==============================] - 0s 2ms/step - loss: 7060487168.0000\n",
            "Epoch 351/500\n",
            "36/36 [==============================] - 0s 3ms/step - loss: 7026840576.0000\n",
            "Epoch 352/500\n",
            "36/36 [==============================] - 0s 3ms/step - loss: 7027722240.0000\n",
            "Epoch 353/500\n",
            "36/36 [==============================] - 0s 2ms/step - loss: 7034977280.0000\n",
            "Epoch 354/500\n",
            "36/36 [==============================] - 0s 2ms/step - loss: 7012410368.0000\n",
            "Epoch 355/500\n",
            "36/36 [==============================] - 0s 2ms/step - loss: 7005284352.0000\n",
            "Epoch 356/500\n",
            "36/36 [==============================] - 0s 3ms/step - loss: 7001738752.0000\n",
            "Epoch 357/500\n",
            "36/36 [==============================] - 0s 3ms/step - loss: 6988986368.0000\n",
            "Epoch 358/500\n",
            "36/36 [==============================] - 0s 3ms/step - loss: 6991254528.0000\n",
            "Epoch 359/500\n",
            "36/36 [==============================] - 0s 3ms/step - loss: 6982533120.0000\n",
            "Epoch 360/500\n",
            "36/36 [==============================] - 0s 3ms/step - loss: 6968315392.0000\n",
            "Epoch 361/500\n",
            "36/36 [==============================] - 0s 2ms/step - loss: 6958606336.0000\n",
            "Epoch 362/500\n",
            "36/36 [==============================] - 0s 3ms/step - loss: 6949993984.0000\n",
            "Epoch 363/500\n",
            "36/36 [==============================] - 0s 3ms/step - loss: 6946560512.0000\n",
            "Epoch 364/500\n",
            "36/36 [==============================] - 0s 2ms/step - loss: 6957713920.0000\n",
            "Epoch 365/500\n",
            "36/36 [==============================] - 0s 2ms/step - loss: 6929068032.0000\n",
            "Epoch 366/500\n",
            "36/36 [==============================] - 0s 3ms/step - loss: 6921950208.0000\n",
            "Epoch 367/500\n",
            "36/36 [==============================] - 0s 2ms/step - loss: 6925955072.0000\n",
            "Epoch 368/500\n",
            "36/36 [==============================] - 0s 2ms/step - loss: 6920565248.0000\n",
            "Epoch 369/500\n",
            "36/36 [==============================] - 0s 2ms/step - loss: 6904306688.0000\n",
            "Epoch 370/500\n",
            "36/36 [==============================] - 0s 2ms/step - loss: 6904731648.0000\n",
            "Epoch 371/500\n",
            "36/36 [==============================] - 0s 2ms/step - loss: 6895198208.0000\n",
            "Epoch 372/500\n",
            "36/36 [==============================] - 0s 2ms/step - loss: 6897936896.0000\n",
            "Epoch 373/500\n",
            "36/36 [==============================] - 0s 3ms/step - loss: 6885536768.0000\n",
            "Epoch 374/500\n",
            "36/36 [==============================] - 0s 2ms/step - loss: 6883716096.0000\n",
            "Epoch 375/500\n",
            "36/36 [==============================] - 0s 2ms/step - loss: 6876358144.0000\n",
            "Epoch 376/500\n",
            "36/36 [==============================] - 0s 2ms/step - loss: 6875489280.0000\n",
            "Epoch 377/500\n",
            "36/36 [==============================] - 0s 2ms/step - loss: 6892229632.0000\n",
            "Epoch 378/500\n",
            "36/36 [==============================] - 0s 2ms/step - loss: 6858597888.0000\n",
            "Epoch 379/500\n",
            "36/36 [==============================] - 0s 3ms/step - loss: 6844399616.0000\n",
            "Epoch 380/500\n",
            "36/36 [==============================] - 0s 3ms/step - loss: 6856089088.0000\n",
            "Epoch 381/500\n",
            "36/36 [==============================] - 0s 3ms/step - loss: 6849611264.0000\n",
            "Epoch 382/500\n",
            "36/36 [==============================] - 0s 2ms/step - loss: 6836244480.0000\n",
            "Epoch 383/500\n",
            "36/36 [==============================] - 0s 3ms/step - loss: 6840985088.0000\n",
            "Epoch 384/500\n",
            "36/36 [==============================] - 0s 3ms/step - loss: 6828484096.0000\n",
            "Epoch 385/500\n",
            "36/36 [==============================] - 0s 3ms/step - loss: 6827153920.0000\n",
            "Epoch 386/500\n",
            "36/36 [==============================] - 0s 2ms/step - loss: 6818407936.0000\n",
            "Epoch 387/500\n",
            "36/36 [==============================] - 0s 3ms/step - loss: 6817112576.0000\n",
            "Epoch 388/500\n",
            "36/36 [==============================] - 0s 2ms/step - loss: 6815591936.0000\n",
            "Epoch 389/500\n",
            "36/36 [==============================] - 0s 2ms/step - loss: 6822341632.0000\n",
            "Epoch 390/500\n",
            "36/36 [==============================] - 0s 2ms/step - loss: 6802906624.0000\n",
            "Epoch 391/500\n",
            "36/36 [==============================] - 0s 2ms/step - loss: 6803075072.0000\n",
            "Epoch 392/500\n",
            "36/36 [==============================] - 0s 2ms/step - loss: 6811742208.0000\n",
            "Epoch 393/500\n",
            "36/36 [==============================] - 0s 3ms/step - loss: 6796905472.0000\n",
            "Epoch 394/500\n",
            "36/36 [==============================] - 0s 3ms/step - loss: 6790022144.0000\n",
            "Epoch 395/500\n",
            "36/36 [==============================] - 0s 2ms/step - loss: 6795264000.0000\n",
            "Epoch 396/500\n",
            "36/36 [==============================] - 0s 3ms/step - loss: 6795775488.0000\n",
            "Epoch 397/500\n",
            "36/36 [==============================] - 0s 2ms/step - loss: 6786333184.0000\n",
            "Epoch 398/500\n",
            "36/36 [==============================] - 0s 2ms/step - loss: 6785147392.0000\n",
            "Epoch 399/500\n",
            "36/36 [==============================] - 0s 3ms/step - loss: 6776414720.0000\n",
            "Epoch 400/500\n",
            "36/36 [==============================] - 0s 2ms/step - loss: 6777562624.0000\n",
            "Epoch 401/500\n",
            "36/36 [==============================] - 0s 2ms/step - loss: 6772633088.0000\n",
            "Epoch 402/500\n",
            "36/36 [==============================] - 0s 3ms/step - loss: 6772278784.0000\n",
            "Epoch 403/500\n",
            "36/36 [==============================] - 0s 2ms/step - loss: 6768534528.0000\n",
            "Epoch 404/500\n",
            "36/36 [==============================] - 0s 3ms/step - loss: 6776897024.0000\n",
            "Epoch 405/500\n",
            "36/36 [==============================] - 0s 3ms/step - loss: 6764578304.0000\n",
            "Epoch 406/500\n",
            "36/36 [==============================] - 0s 3ms/step - loss: 6758793728.0000\n",
            "Epoch 407/500\n",
            "36/36 [==============================] - 0s 3ms/step - loss: 6779164672.0000\n",
            "Epoch 408/500\n",
            "36/36 [==============================] - 0s 3ms/step - loss: 6758318080.0000\n",
            "Epoch 409/500\n",
            "36/36 [==============================] - 0s 2ms/step - loss: 6752991232.0000\n",
            "Epoch 410/500\n",
            "36/36 [==============================] - 0s 3ms/step - loss: 6757012992.0000\n",
            "Epoch 411/500\n",
            "36/36 [==============================] - 0s 2ms/step - loss: 6755698176.0000\n",
            "Epoch 412/500\n",
            "36/36 [==============================] - 0s 3ms/step - loss: 6758015488.0000\n",
            "Epoch 413/500\n",
            "36/36 [==============================] - 0s 2ms/step - loss: 6743346688.0000\n",
            "Epoch 414/500\n",
            "36/36 [==============================] - 0s 3ms/step - loss: 6741923328.0000\n",
            "Epoch 415/500\n",
            "36/36 [==============================] - 0s 3ms/step - loss: 6749437440.0000\n",
            "Epoch 416/500\n",
            "36/36 [==============================] - 0s 3ms/step - loss: 6750608384.0000\n",
            "Epoch 417/500\n",
            "36/36 [==============================] - 0s 3ms/step - loss: 6746630656.0000\n",
            "Epoch 418/500\n",
            "36/36 [==============================] - 0s 3ms/step - loss: 6738719232.0000\n",
            "Epoch 419/500\n",
            "36/36 [==============================] - 0s 4ms/step - loss: 6736112640.0000\n",
            "Epoch 420/500\n",
            "36/36 [==============================] - 0s 3ms/step - loss: 6733886976.0000\n",
            "Epoch 421/500\n",
            "36/36 [==============================] - 0s 3ms/step - loss: 6735335936.0000\n",
            "Epoch 422/500\n",
            "36/36 [==============================] - 0s 3ms/step - loss: 6727001088.0000\n",
            "Epoch 423/500\n",
            "36/36 [==============================] - 0s 3ms/step - loss: 6730432512.0000\n",
            "Epoch 424/500\n",
            "36/36 [==============================] - 0s 3ms/step - loss: 6722887168.0000\n",
            "Epoch 425/500\n",
            "36/36 [==============================] - 0s 3ms/step - loss: 6723883008.0000\n",
            "Epoch 426/500\n",
            "36/36 [==============================] - 0s 3ms/step - loss: 6722228224.0000\n",
            "Epoch 427/500\n",
            "36/36 [==============================] - 0s 2ms/step - loss: 6722468352.0000\n",
            "Epoch 428/500\n",
            "36/36 [==============================] - 0s 3ms/step - loss: 6714446336.0000\n",
            "Epoch 429/500\n",
            "36/36 [==============================] - 0s 3ms/step - loss: 6717922816.0000\n",
            "Epoch 430/500\n",
            "36/36 [==============================] - 0s 3ms/step - loss: 6724384768.0000\n",
            "Epoch 431/500\n",
            "36/36 [==============================] - 0s 3ms/step - loss: 6716527104.0000\n",
            "Epoch 432/500\n",
            "36/36 [==============================] - 0s 4ms/step - loss: 6716710400.0000\n",
            "Epoch 433/500\n",
            "36/36 [==============================] - 0s 3ms/step - loss: 6707683840.0000\n",
            "Epoch 434/500\n",
            "36/36 [==============================] - 0s 3ms/step - loss: 6711281152.0000\n",
            "Epoch 435/500\n",
            "36/36 [==============================] - 0s 3ms/step - loss: 6719170560.0000\n",
            "Epoch 436/500\n",
            "36/36 [==============================] - 0s 3ms/step - loss: 6706885632.0000\n",
            "Epoch 437/500\n",
            "36/36 [==============================] - 0s 4ms/step - loss: 6707728896.0000\n",
            "Epoch 438/500\n",
            "36/36 [==============================] - 0s 3ms/step - loss: 6711249920.0000\n",
            "Epoch 439/500\n",
            "36/36 [==============================] - 0s 4ms/step - loss: 6713465344.0000\n",
            "Epoch 440/500\n",
            "36/36 [==============================] - 0s 3ms/step - loss: 6700532736.0000\n",
            "Epoch 441/500\n",
            "36/36 [==============================] - 0s 3ms/step - loss: 6701100544.0000\n",
            "Epoch 442/500\n",
            "36/36 [==============================] - 0s 3ms/step - loss: 6714832384.0000\n",
            "Epoch 443/500\n",
            "36/36 [==============================] - 0s 4ms/step - loss: 6700571136.0000\n",
            "Epoch 444/500\n",
            "36/36 [==============================] - 0s 3ms/step - loss: 6698966016.0000\n",
            "Epoch 445/500\n",
            "36/36 [==============================] - 0s 3ms/step - loss: 6696641024.0000\n",
            "Epoch 446/500\n",
            "36/36 [==============================] - 0s 3ms/step - loss: 6696155648.0000\n",
            "Epoch 447/500\n",
            "36/36 [==============================] - 0s 4ms/step - loss: 6703472640.0000\n",
            "Epoch 448/500\n",
            "36/36 [==============================] - 0s 3ms/step - loss: 6695636480.0000\n",
            "Epoch 449/500\n",
            "36/36 [==============================] - 0s 3ms/step - loss: 6695213056.0000\n",
            "Epoch 450/500\n",
            "36/36 [==============================] - 0s 3ms/step - loss: 6691984896.0000\n",
            "Epoch 451/500\n",
            "36/36 [==============================] - 0s 3ms/step - loss: 6694106624.0000\n",
            "Epoch 452/500\n",
            "36/36 [==============================] - 0s 3ms/step - loss: 6709628928.0000\n",
            "Epoch 453/500\n",
            "36/36 [==============================] - 0s 3ms/step - loss: 6686722560.0000\n",
            "Epoch 454/500\n",
            "36/36 [==============================] - 0s 3ms/step - loss: 6688752128.0000\n",
            "Epoch 455/500\n",
            "36/36 [==============================] - 0s 4ms/step - loss: 6691410432.0000\n",
            "Epoch 456/500\n",
            "36/36 [==============================] - 0s 4ms/step - loss: 6687965184.0000\n",
            "Epoch 457/500\n",
            "36/36 [==============================] - 0s 3ms/step - loss: 6684659712.0000\n",
            "Epoch 458/500\n",
            "36/36 [==============================] - 0s 4ms/step - loss: 6687530496.0000\n",
            "Epoch 459/500\n",
            "36/36 [==============================] - 0s 3ms/step - loss: 6686248448.0000\n",
            "Epoch 460/500\n",
            "36/36 [==============================] - 0s 3ms/step - loss: 6679153152.0000\n",
            "Epoch 461/500\n",
            "36/36 [==============================] - 0s 4ms/step - loss: 6677026304.0000\n",
            "Epoch 462/500\n",
            "36/36 [==============================] - 0s 3ms/step - loss: 6678994944.0000\n",
            "Epoch 463/500\n",
            "36/36 [==============================] - 0s 2ms/step - loss: 6673824256.0000\n",
            "Epoch 464/500\n",
            "36/36 [==============================] - 0s 3ms/step - loss: 6676712448.0000\n",
            "Epoch 465/500\n",
            "36/36 [==============================] - 0s 3ms/step - loss: 6677010432.0000\n",
            "Epoch 466/500\n",
            "36/36 [==============================] - 0s 3ms/step - loss: 6675482112.0000\n",
            "Epoch 467/500\n",
            "36/36 [==============================] - 0s 3ms/step - loss: 6673214976.0000\n",
            "Epoch 468/500\n",
            "36/36 [==============================] - 0s 3ms/step - loss: 6673437696.0000\n",
            "Epoch 469/500\n",
            "36/36 [==============================] - 0s 3ms/step - loss: 6668680192.0000\n",
            "Epoch 470/500\n",
            "36/36 [==============================] - 0s 2ms/step - loss: 6668739072.0000\n",
            "Epoch 471/500\n",
            "36/36 [==============================] - 0s 3ms/step - loss: 6669935104.0000\n",
            "Epoch 472/500\n",
            "36/36 [==============================] - 0s 4ms/step - loss: 6671665664.0000\n",
            "Epoch 473/500\n",
            "36/36 [==============================] - 0s 4ms/step - loss: 6666461184.0000\n",
            "Epoch 474/500\n",
            "36/36 [==============================] - 0s 4ms/step - loss: 6671642112.0000\n",
            "Epoch 475/500\n",
            "36/36 [==============================] - 0s 4ms/step - loss: 6665461760.0000\n",
            "Epoch 476/500\n",
            "36/36 [==============================] - 0s 3ms/step - loss: 6663430144.0000\n",
            "Epoch 477/500\n",
            "36/36 [==============================] - 0s 3ms/step - loss: 6673575936.0000\n",
            "Epoch 478/500\n",
            "36/36 [==============================] - 0s 4ms/step - loss: 6668291584.0000\n",
            "Epoch 479/500\n",
            "36/36 [==============================] - 0s 4ms/step - loss: 6664663552.0000\n",
            "Epoch 480/500\n",
            "36/36 [==============================] - 0s 4ms/step - loss: 6664761344.0000\n",
            "Epoch 481/500\n",
            "36/36 [==============================] - 0s 4ms/step - loss: 6678596608.0000\n",
            "Epoch 482/500\n",
            "36/36 [==============================] - 0s 4ms/step - loss: 6665763840.0000\n",
            "Epoch 483/500\n",
            "36/36 [==============================] - 0s 4ms/step - loss: 6663480320.0000\n",
            "Epoch 484/500\n",
            "36/36 [==============================] - 0s 2ms/step - loss: 6665356800.0000\n",
            "Epoch 485/500\n",
            "36/36 [==============================] - 0s 2ms/step - loss: 6666776064.0000\n",
            "Epoch 486/500\n",
            "36/36 [==============================] - 0s 3ms/step - loss: 6656359424.0000\n",
            "Epoch 487/500\n",
            "36/36 [==============================] - 0s 4ms/step - loss: 6665283072.0000\n",
            "Epoch 488/500\n",
            "36/36 [==============================] - 0s 3ms/step - loss: 6663470080.0000\n",
            "Epoch 489/500\n",
            "36/36 [==============================] - 0s 3ms/step - loss: 6664292352.0000\n",
            "Epoch 490/500\n",
            "36/36 [==============================] - 0s 3ms/step - loss: 6662256640.0000\n",
            "Epoch 491/500\n",
            "36/36 [==============================] - 0s 2ms/step - loss: 6657154560.0000\n",
            "Epoch 492/500\n",
            "36/36 [==============================] - 0s 2ms/step - loss: 6653727232.0000\n",
            "Epoch 493/500\n",
            "36/36 [==============================] - 0s 2ms/step - loss: 6658575872.0000\n",
            "Epoch 494/500\n",
            "36/36 [==============================] - 0s 3ms/step - loss: 6653934080.0000\n",
            "Epoch 495/500\n",
            "36/36 [==============================] - 0s 3ms/step - loss: 6654255616.0000\n",
            "Epoch 496/500\n",
            "36/36 [==============================] - 0s 2ms/step - loss: 6648960000.0000\n",
            "Epoch 497/500\n",
            "36/36 [==============================] - 0s 4ms/step - loss: 6655199744.0000\n",
            "Epoch 498/500\n",
            "36/36 [==============================] - 0s 3ms/step - loss: 6663280128.0000\n",
            "Epoch 499/500\n",
            "36/36 [==============================] - 0s 3ms/step - loss: 6652914176.0000\n",
            "Epoch 500/500\n",
            "36/36 [==============================] - 0s 3ms/step - loss: 6650662400.0000\n"
          ]
        },
        {
          "output_type": "execute_result",
          "data": {
            "text/plain": [
              "<keras.callbacks.History at 0x7f80e7f9fdf0>"
            ]
          },
          "metadata": {},
          "execution_count": 320
        }
      ]
    },
    {
      "cell_type": "code",
      "source": [
        "y_pred = ann.predict(X_test)\n",
        "np.set_printoptions(precision=2)\n",
        "print(np.concatenate((y_pred.reshape(len(y_pred),1), y_test.reshape(len(y_test),1)),1))"
      ],
      "metadata": {
        "colab": {
          "base_uri": "https://localhost:8080/"
        },
        "id": "nDH1q4v2Xc9a",
        "outputId": "0dfa07aa-e008-4478-dee9-ab444210646c"
      },
      "execution_count": null,
      "outputs": [
        {
          "output_type": "stream",
          "name": "stdout",
          "text": [
            "9/9 [==============================] - 0s 4ms/step\n",
            "[[ 29283.79  87000.  ]\n",
            " [231488.97 205000.  ]\n",
            " [ 89117.06 178000.  ]\n",
            " [305100.31 135000.  ]\n",
            " [149330.3  143000.  ]\n",
            " [145371.36 224000.  ]\n",
            " [317803.69 326000.  ]\n",
            " [ 29348.76 208300.  ]\n",
            " [125607.81 104000.  ]\n",
            " [209966.45 165000.  ]\n",
            " [ 52710.25  90350.  ]\n",
            " [160029.83 197900.  ]\n",
            " [ 92223.64 232000.  ]\n",
            " [240589.2  147500.  ]\n",
            " [100465.75 318000.  ]\n",
            " [ 40365.04 181000.  ]\n",
            " [240453.48 215000.  ]\n",
            " [127034.09 132000.  ]\n",
            " [ 63498.52  84500.  ]\n",
            " [169326.17 180000.  ]\n",
            " [174064.77 143000.  ]\n",
            " [125081.27 132500.  ]\n",
            " [128175.33 178000.  ]\n",
            " [150969.27 139500.  ]\n",
            " [ 92959.56  89471.  ]\n",
            " [ 96933.92 295493.  ]\n",
            " [143630.58 145000.  ]\n",
            " [ 91160.9  114504.  ]\n",
            " [242551.3  190000.  ]\n",
            " [155402.89 155000.  ]\n",
            " [239770.22 172500.  ]\n",
            " [ 20060.09  85500.  ]\n",
            " [172378.48 190000.  ]\n",
            " [ 59539.17 136905.  ]\n",
            " [ 84534.42 112000.  ]\n",
            " [110462.09  87000.  ]\n",
            " [135777.05 143000.  ]\n",
            " [151980.55 175000.  ]\n",
            " [ 72848.81 127500.  ]\n",
            " [ 37273.21 179900.  ]\n",
            " [ 91171.58 123000.  ]\n",
            " [142865.45 175000.  ]\n",
            " [191738.7  276000.  ]\n",
            " [ 35387.66 115000.  ]\n",
            " [107087.91 180000.  ]\n",
            " [122672.64 131400.  ]\n",
            " [186565.23 159000.  ]\n",
            " [ 74605.7   82500.  ]\n",
            " [167855.98 250000.  ]\n",
            " [179275.23 216000.  ]\n",
            " [158186.8  251000.  ]\n",
            " [129830.83 147000.  ]\n",
            " [ 99764.66 134900.  ]\n",
            " [272420.38 258000.  ]\n",
            " [263291.72 293077.  ]\n",
            " [197366.45 212000.  ]\n",
            " [186396.89 139000.  ]\n",
            " [205620.66 175000.  ]\n",
            " [165398.17 145000.  ]\n",
            " [298344.69 225000.  ]\n",
            " [ 87358.44 132500.  ]\n",
            " [ 42267.27 194201.  ]\n",
            " [ 93376.98 164500.  ]\n",
            " [231475.05 309000.  ]\n",
            " [ 69832.53 128500.  ]\n",
            " [ 96908.91 255500.  ]\n",
            " [142171.42 165500.  ]\n",
            " [ 63129.13  92000.  ]\n",
            " [ 95617.58 147000.  ]\n",
            " [ 37091.19 103000.  ]\n",
            " [ 97263.96 139000.  ]\n",
            " [305930.44 277000.  ]\n",
            " [ 84901.23 161500.  ]\n",
            " [ 31810.85 116050.  ]\n",
            " [196336.92 177500.  ]\n",
            " [ 29635.51  55993.  ]\n",
            " [140541.23 122000.  ]\n",
            " [ 40112.59 191000.  ]\n",
            " [217254.36 165600.  ]\n",
            " [335626.62 260000.  ]\n",
            " [228776.31 143000.  ]\n",
            " [311679.56 190000.  ]\n",
            " [367257.69 383970.  ]\n",
            " [187155.73 108959.  ]\n",
            " [134279.95 135000.  ]\n",
            " [ 39738.1  249700.  ]\n",
            " [181104.42 103600.  ]\n",
            " [137679.89 196500.  ]\n",
            " [227488.83 190000.  ]\n",
            " [222697.91 250000.  ]\n",
            " [ 73640.72 192000.  ]\n",
            " [138037.88  88000.  ]\n",
            " [377813.56 250000.  ]\n",
            " [230904.73 159950.  ]\n",
            " [191078.36 200000.  ]\n",
            " [208506.64 225000.  ]\n",
            " [ 64316.97 130000.  ]\n",
            " [210140.06 211000.  ]\n",
            " [110784.48 152000.  ]\n",
            " [130448.12 179540.  ]\n",
            " [131228.25 147000.  ]\n",
            " [203849.92 193000.  ]\n",
            " [130233.75 105000.  ]\n",
            " [ 50520.02 105000.  ]\n",
            " [ 80939.91 126000.  ]\n",
            " [361258.16 151400.  ]\n",
            " [ 89166.84 137000.  ]\n",
            " [ 57789.7  148000.  ]\n",
            " [192249.8  266000.  ]\n",
            " [ 85493.02 171900.  ]\n",
            " [132445.86 170000.  ]\n",
            " [ 79629.38 145000.  ]\n",
            " [ 76015.78 120500.  ]\n",
            " [136489.98 242000.  ]\n",
            " [158899.11 199900.  ]\n",
            " [118514.53 149900.  ]\n",
            " [ 43632.5   91300.  ]\n",
            " [167784.94 149900.  ]\n",
            " [149970.58 180000.  ]\n",
            " [102315.44 145000.  ]\n",
            " [ 65321.71 120500.  ]\n",
            " [312256.   250000.  ]\n",
            " [234739.58 207500.  ]\n",
            " [186461.16 318000.  ]\n",
            " [170374.67 262500.  ]\n",
            " [187948.02 269500.  ]\n",
            " [279987.62 423000.  ]\n",
            " [ 69141.25 143500.  ]\n",
            " [ 99948.3  130000.  ]\n",
            " [246367.3  297000.  ]\n",
            " [176295.03 219210.  ]\n",
            " [190782.64 153337.  ]\n",
            " [294872.88 342643.  ]\n",
            " [107133.62 138000.  ]\n",
            " [ 77846.58  91500.  ]\n",
            " [218687.33 171000.  ]\n",
            " [274579.62 325300.  ]\n",
            " [178606.58 178000.  ]\n",
            " [104040.58 139000.  ]\n",
            " [123867.31 194000.  ]\n",
            " [286464.84 200000.  ]\n",
            " [238814.7  160000.  ]\n",
            " [ 78551.56 139000.  ]\n",
            " [242693.67 235000.  ]\n",
            " [ 75904.88 119500.  ]\n",
            " [162977.09 180500.  ]\n",
            " [206444.94 325000.  ]\n",
            " [105465.55 127000.  ]\n",
            " [ 70014.72  61000.  ]\n",
            " [ 55600.18 214000.  ]\n",
            " [130592.27 141000.  ]\n",
            " [149574.23 160000.  ]\n",
            " [ 97113.3  134500.  ]\n",
            " [254077.16 269790.  ]\n",
            " [260066.89 205000.  ]\n",
            " [117443.77 133000.  ]\n",
            " [279993.   200000.  ]\n",
            " [288984.09 248000.  ]\n",
            " [804321.44 228950.  ]\n",
            " [157005.39 170000.  ]\n",
            " [214388.66 271000.  ]\n",
            " [384851.97 446261.  ]\n",
            " [ 77997.54 255000.  ]\n",
            " [207942.33 223500.  ]\n",
            " [182918.27 181500.  ]\n",
            " [112228.21 118500.  ]\n",
            " [121121.84 146000.  ]\n",
            " [139759.64 169900.  ]\n",
            " [104331.8   87000.  ]\n",
            " [127283.8  415298.  ]\n",
            " [269631.22 236000.  ]\n",
            " [141471.3  158000.  ]\n",
            " [130749.81 140000.  ]\n",
            " [201779.52 315000.  ]\n",
            " [228402.39 337500.  ]\n",
            " [ 54389.68 108000.  ]\n",
            " [ 91463.49  88000.  ]\n",
            " [ 20668.08 107900.  ]\n",
            " [ 56461.27 130000.  ]\n",
            " [ 14336.32  52000.  ]\n",
            " [ 81665.16 253293.  ]\n",
            " [ 98048.88 140000.  ]\n",
            " [200272.92 238000.  ]\n",
            " [101913.65 248900.  ]\n",
            " [131642.98  91500.  ]\n",
            " [367966.88 381000.  ]\n",
            " [284116.19 214000.  ]\n",
            " [ 83465.59 143000.  ]\n",
            " [222130.77 222500.  ]\n",
            " [134976.33 151000.  ]\n",
            " [139991.61 157000.  ]\n",
            " [ 92991.06 107000.  ]\n",
            " [ 67064.64 191000.  ]\n",
            " [ 97898.83 132000.  ]\n",
            " [ 65930.53 233170.  ]\n",
            " [161466.39 175000.  ]\n",
            " [172022.12 185900.  ]\n",
            " [145338.89 139400.  ]\n",
            " [182416.77 207500.  ]\n",
            " [ 69419.05  89500.  ]\n",
            " [ 92240.27 155000.  ]\n",
            " [222456.3  155000.  ]\n",
            " [109580.2  110000.  ]\n",
            " [183265.55 217000.  ]\n",
            " [270108.   369900.  ]\n",
            " [176115.77 149500.  ]\n",
            " [113558.8  118000.  ]\n",
            " [265547.22 201000.  ]\n",
            " [120137.63 145250.  ]\n",
            " [148723.88 159500.  ]\n",
            " [114672.22 119000.  ]\n",
            " [125331.69 148500.  ]\n",
            " [231561.69 210000.  ]\n",
            " [114882.02 128200.  ]\n",
            " [304783.56 361919.  ]\n",
            " [120452.56 245000.  ]\n",
            " [133075.02 145000.  ]\n",
            " [133838.02 197500.  ]\n",
            " [ 47646.87 201000.  ]\n",
            " [179100.95 173000.  ]\n",
            " [144611.73 125000.  ]\n",
            " [ 67797.06  98000.  ]\n",
            " [180485.08 179000.  ]\n",
            " [ 89158.13 110500.  ]\n",
            " [ 90197.   135000.  ]\n",
            " [129541.64 140000.  ]\n",
            " [159447.67 227875.  ]\n",
            " [124420.41 169000.  ]\n",
            " [ 91877.35 127000.  ]\n",
            " [202411.11 185000.  ]\n",
            " [155293.55 175900.  ]\n",
            " [175429.66 224500.  ]\n",
            " [101858.2  162000.  ]\n",
            " [147983.81 144000.  ]\n",
            " [ 77958.33 230000.  ]\n",
            " [ 88534.38 127000.  ]\n",
            " [185665.25 282922.  ]\n",
            " [ 13990.3   99900.  ]\n",
            " [ 31590.72 176000.  ]\n",
            " [211442.66 125000.  ]\n",
            " [148479.27 137500.  ]\n",
            " [ 77738.95 320000.  ]\n",
            " [ 41872.45 139900.  ]\n",
            " [249569.73 325000.  ]\n",
            " [ 68632.85 109000.  ]\n",
            " [534848.88 745000.  ]\n",
            " [222075.52 222000.  ]\n",
            " [ 28306.83 123000.  ]\n",
            " [124182.12  83500.  ]\n",
            " [130460.75 144000.  ]\n",
            " [ 88480.77 192000.  ]\n",
            " [167762.36 142000.  ]\n",
            " [117243.92 105000.  ]\n",
            " [426628.94 412500.  ]\n",
            " [105566.91  40000.  ]\n",
            " [382101.12 438780.  ]\n",
            " [122168.14 129900.  ]\n",
            " [120953.64 171000.  ]\n",
            " [ 88365.25 125500.  ]\n",
            " [129911.53 222000.  ]\n",
            " [277397.75 380000.  ]\n",
            " [ 89221.82 110000.  ]\n",
            " [234904.19 176000.  ]\n",
            " [158676.77 210000.  ]\n",
            " [203072.61 196500.  ]\n",
            " [ 33249.27  91000.  ]\n",
            " [370119.94 260000.  ]\n",
            " [ 78108.03  34900.  ]\n",
            " [ 76224.13 119000.  ]\n",
            " [135557.02 172785.  ]\n",
            " [292054.31 190000.  ]\n",
            " [265309.06 229000.  ]\n",
            " [ 85593.34 134000.  ]\n",
            " [ 14710.49 208900.  ]\n",
            " [140914.36 111250.  ]\n",
            " [176443.58 168000.  ]\n",
            " [ 69961.91 126175.  ]\n",
            " [200619.17 129000.  ]\n",
            " [140624.83 134500.  ]\n",
            " [320260.62 167900.  ]\n",
            " [146474.36 132500.  ]\n",
            " [239126.7  196000.  ]\n",
            " [160141.33  95000.  ]]\n"
          ]
        }
      ]
    },
    {
      "cell_type": "markdown",
      "source": [
        "As you can see the regressor score is 75% which means that R-square value is .75. Thats why we can say that this model is statistically significant and can be used for further analysis."
      ],
      "metadata": {
        "id": "gTa5xFoXWnXo"
      }
    }
  ]
}